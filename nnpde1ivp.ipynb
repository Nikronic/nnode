{
 "cells": [
  {
   "cell_type": "markdown",
   "metadata": {},
   "source": [
    "# Solving a 1st-order PDE BVP with a neural network"
   ]
  },
  {
   "cell_type": "markdown",
   "metadata": {},
   "source": [
    "## Setup"
   ]
  },
  {
   "cell_type": "code",
   "execution_count": 1,
   "metadata": {},
   "outputs": [
    {
     "data": {
      "application/javascript": [
       "MathJax.Hub.Config({\n",
       "      TeX: { equationNumbers: { autoNumber: \"AMS\" } }\n",
       "    });MathJax.Hub.Queue(\n",
       "  [\"resetEquationNumbers\", MathJax.InputJax.TeX],\n",
       "  [\"PreProcess\", MathJax.Hub],\n",
       "  [\"Reprocess\", MathJax.Hub]\n",
       ");\n",
       "MathJax.Hub.Queue(\n",
       "  [\"resetEquationNumbers\", MathJax.InputJax.TeX],\n",
       "  [\"PreProcess\", MathJax.Hub],\n",
       "  [\"Reprocess\", MathJax.Hub]\n",
       ");"
      ],
      "text/plain": [
       "<IPython.core.display.Javascript object>"
      ]
     },
     "metadata": {},
     "output_type": "display_data"
    }
   ],
   "source": [
    "%%javascript\n",
    "MathJax.Hub.Config({\n",
    "      TeX: { equationNumbers: { autoNumber: \"AMS\" } }\n",
    "    });MathJax.Hub.Queue(\n",
    "  [\"resetEquationNumbers\", MathJax.InputJax.TeX],\n",
    "  [\"PreProcess\", MathJax.Hub],\n",
    "  [\"Reprocess\", MathJax.Hub]\n",
    ");\n",
    "MathJax.Hub.Queue(\n",
    "  [\"resetEquationNumbers\", MathJax.InputJax.TeX],\n",
    "  [\"PreProcess\", MathJax.Hub],\n",
    "  [\"Reprocess\", MathJax.Hub]\n",
    ");"
   ]
  },
  {
   "cell_type": "code",
   "execution_count": 2,
   "metadata": {},
   "outputs": [],
   "source": [
    "from math import exp\n",
    "from mpl_toolkits.mplot3d import Axes3D\n",
    "import matplotlib.pyplot as plt\n",
    "%matplotlib inline\n",
    "import numpy as np"
   ]
  },
  {
   "cell_type": "markdown",
   "metadata": {},
   "source": [
    "# Introduction"
   ]
  },
  {
   "cell_type": "markdown",
   "metadata": {},
   "source": [
    "This notebook will demonstrate how to use the code in the `nnpde1ivp.py` module. The module allows the user to solve 1st-order partial differential equation (PDE) initial value problems (IVPs) with two variables using a single-hidden layer neural network."
   ]
  },
  {
   "cell_type": "markdown",
   "metadata": {},
   "source": [
    "This work is based on the paper [\"Artificial Neural Networks for Solving Ordinary and Partial Differential Equations\", by Lagaris et al, *IEEE Transactions on Neural Networks, Volume 9, No. 5*, September 1998](http://ieeexplore.ieee.org/document/712178/). Note that the notation used in this notebook and the associated Python code differs slightly from that used in the Lagaris paper."
   ]
  },
  {
   "cell_type": "markdown",
   "metadata": {},
   "source": [
    "## The algorithm"
   ]
  },
  {
   "cell_type": "markdown",
   "metadata": {},
   "source": [
    "Consider an $m$-dimensional space containing vectors $\\vec x = (x_1,x_2,...,x_m)$. Any 1st-order PDE for the scalar function $\\psi(\\vec x)$ can be written in the form:"
   ]
  },
  {
   "cell_type": "markdown",
   "metadata": {},
   "source": [
    "\\begin{equation}\n",
    "G(\\vec x,\\psi,\\vec \\nabla \\psi) = 0\n",
    "\\end{equation}"
   ]
  },
  {
   "cell_type": "markdown",
   "metadata": {},
   "source": [
    "The problem is to find a solution $\\psi (\\vec x)$ to the PDE using a neural network, subject to the initial conditions:"
   ]
  },
  {
   "cell_type": "markdown",
   "metadata": {},
   "source": [
    "\\begin{equation}\n",
    "\\psi(0,x_2,x_3,...)=A_1(\\vec x)\n",
    "\\end{equation}"
   ]
  },
  {
   "cell_type": "markdown",
   "metadata": {},
   "source": [
    "\\begin{equation}\n",
    "\\psi(x_1,0,x_3,...)=A_2(\\vec x), etc.\n",
    "\\end{equation}"
   ]
  },
  {
   "cell_type": "markdown",
   "metadata": {},
   "source": [
    "The network is trained using a set of $n$ training points $\\vec x_i$ ($1 \\le i \\le n$), defined over the domain of interest. This work assumes that the vectors $\\vec x_i$ have been scaled so that each component $x_{ij} \\in [0,1]$, $1 \\leq j \\leq m$. The training points need not be evenly-spaced. Note that only the independent variable vectors $\\vec x_i$  of the training points are needed - the estimated value of the solution at the training points is obtained using a trial solution $\\psi_t$ of the form:"
   ]
  },
  {
   "cell_type": "markdown",
   "metadata": {},
   "source": [
    "\\begin{equation}\n",
    "\\psi_t(\\vec x_i,\\vec p) = A(\\vec x_i) + P(\\vec x_i) N(\\vec x_i,\\vec p)\n",
    "\\end{equation}"
   ]
  },
  {
   "cell_type": "markdown",
   "metadata": {},
   "source": [
    "or:"
   ]
  },
  {
   "cell_type": "markdown",
   "metadata": {},
   "source": [
    "\\begin{equation}\n",
    "\\psi_{ti} = A_i + P_i N_i\n",
    "\\end{equation}"
   ]
  },
  {
   "cell_type": "markdown",
   "metadata": {},
   "source": [
    "where $\\psi_{ti}$ is the value of the trial solution at the current training point $\\vec x_i$, $A_i$ is a function which yields the initial conditions at the origin of each dimension, $P_i$ is a function which vanishes at the origin of each dimension, and $N_i$ is the floating-point single-valued output from an unspecified neural network with network parameters $\\vec p$. Note that this trial solution satisfies the boundary conditions by construction - wherever any coordinate is 0, the second term vanishes, leaving $\\psi_t(\\vec x_i, \\vec p_i)=A(\\vec x_i)$, which is just the specified initial condition for that coordinate. The PDE is assumed to have been preprocessed so that all boundary conditions lie at the origin. For a 2-variable PDE with independent variables $x$ and $y$, this condition is represented by:"
   ]
  },
  {
   "cell_type": "markdown",
   "metadata": {},
   "source": [
    "\\begin{equation}\n",
    "\\psi_t(0,y,\\vec p) = f_0(y)\n",
    "\\end{equation}"
   ]
  },
  {
   "cell_type": "markdown",
   "metadata": {},
   "source": [
    "\\begin{equation}\n",
    "\\psi_t(x,0,\\vec p) = g_0(x)\n",
    "\\end{equation}"
   ]
  },
  {
   "cell_type": "markdown",
   "metadata": {},
   "source": [
    "The analytical forms of $A(\\vec x_i)$ and $P(\\vec x_i)$ are constructed to meet these requirements, and noting that, by continuity at the origin, $f_0(0)=g_0(0)$. For a 2-variable PDE, we have:"
   ]
  },
  {
   "cell_type": "markdown",
   "metadata": {},
   "source": [
    "\\begin{equation}\n",
    "A(x,y) = (1-x)f_0(y) + (1-y)(g_0(x) - (1-x)g_0(0))\n",
    "\\end{equation}"
   ]
  },
  {
   "cell_type": "markdown",
   "metadata": {},
   "source": [
    "\\begin{equation}\n",
    "P(x,y) = xy\n",
    "\\end{equation}"
   ]
  },
  {
   "cell_type": "markdown",
   "metadata": {},
   "source": [
    "These functions rapidly become more complex as the number of problem dimensions is increased, so this example will utilize a 2-variable PDE. Training is done in a set of *epochs*. A training epoch consists of presenting the neural network with each of the $n$ training points $\\vec x_i$, one at a time. For each input point $\\vec x_i$, the network output $N_i$ is computed. Once all $n$ points have been presented, the epoch is complete, and the error function $E$ is computed. The problem definition provides an analytical form for the error function, as the sum of squared errors (SSE) for each of the training points:"
   ]
  },
  {
   "cell_type": "markdown",
   "metadata": {},
   "source": [
    "\\begin{equation}\n",
    "E = \\sum_{i=1}^{n} \\left( G(\\vec x_i,\\psi_{ti}, \\vec \\nabla \\psi_{ti}) \\right)^2 =\n",
    "\\sum_{i=1}^{n} G_i^2\n",
    "\\end{equation}"
   ]
  },
  {
   "cell_type": "markdown",
   "metadata": {},
   "source": [
    "Once this error function is computed, the parameters in the neural network are adjusted to reduce the error. Eventually, a minimum of $E$ is attained, and the resulting final form of $\\psi_t(x)$ is used as the solution to the original PDE."
   ]
  },
  {
   "cell_type": "markdown",
   "metadata": {},
   "source": [
    "## Computing the network output $N_i$"
   ]
  },
  {
   "cell_type": "markdown",
   "metadata": {},
   "source": [
    "The neural network used in this work has a simple structure. One input node for each component of $\\vec x_i$ is used (for a total of $m$ input nodes) to provide the training data. Each input node is fully-connected to each of a set of $H$ hidden nodes, each using a sigmoid transfer function. Each hidden node is connected to the single output node, which uses a linear transfer function with a weight for the signal from each hidden node."
   ]
  },
  {
   "cell_type": "markdown",
   "metadata": {},
   "source": [
    "During each step of a training epoch, the input to the network is just the training point $\\vec x_i$. Each input node $j$ receives one component $x_{ij}$, and emits that value as output. These outputs are sent to each of the $H$ hidden nodes. At each hidden node $k$, the input values $x_{ij}$ are combined and scaled by the equation:"
   ]
  },
  {
   "cell_type": "markdown",
   "metadata": {},
   "source": [
    "\\begin{equation}\n",
    "z_{ik} = \\sum_{j=1}^m w_{jk} x_{ij} + u_k\n",
    "\\end{equation}"
   ]
  },
  {
   "cell_type": "markdown",
   "metadata": {},
   "source": [
    "where  $w_{jk}$ is the weight for input node $j$ at hidden node $k$, and $u_k$ is the bias at hidden node $k$. This combined value is then used as the input to a sigmoidal transfer function:"
   ]
  },
  {
   "cell_type": "markdown",
   "metadata": {},
   "source": [
    "\\begin{equation}\n",
    "\\sigma_{ik} = \\sigma(z_{ik})\n",
    "\\end{equation}"
   ]
  },
  {
   "cell_type": "markdown",
   "metadata": {},
   "source": [
    "where:"
   ]
  },
  {
   "cell_type": "markdown",
   "metadata": {},
   "source": [
    "\\begin{equation}\n",
    "\\sigma(z) = \\frac {1}{1+e^{-z}}\n",
    "\\end{equation}"
   ]
  },
  {
   "cell_type": "markdown",
   "metadata": {},
   "source": [
    "A plot of this transfer function and its first three derivatives is provided below."
   ]
  },
  {
   "cell_type": "code",
   "execution_count": 3,
   "metadata": {},
   "outputs": [
    {
     "data": {
      "image/png": "[encoded data removed]",
      "text/plain": [
       "<Figure size 432x288 with 1 Axes>"
      ]
     },
     "metadata": {},
     "output_type": "display_data"
    }
   ],
   "source": [
    "def sigma(z):\n",
    "    return 1 / (1 + exp(-z))\n",
    "\n",
    "def dsigma_dz(z):\n",
    "    return exp(-z) / (1 + exp(-z))**2\n",
    "\n",
    "def d2sigma_dz2(z):\n",
    "    return (\n",
    "        2 * exp(-2 * z) / (1 + exp(-z))**3 - exp(-z) / (1 + exp(-z))**2\n",
    "    )\n",
    "\n",
    "def d3sigma_dz3(z):\n",
    "    return (\n",
    "        6 * exp(-3 * z) / (1 + exp(-z))**4\n",
    "        - 6 * exp(-2 * z) / (1 + exp(-z))**3\n",
    "        + exp(-z) / (1 + exp(-z))**2\n",
    "    )\n",
    "\n",
    "z = np.arange(-5, 5, 0.01)\n",
    "n = len(z)\n",
    "s = np.zeros(n)\n",
    "ds_dz = np.zeros(n)\n",
    "d2s_dz2 = np.zeros(n)\n",
    "d3s_dz3 = np.zeros(n)\n",
    "for i in range(n):\n",
    "    s[i] = sigma(z[i])\n",
    "    ds_dz[i] = dsigma_dz(z[i])\n",
    "    d2s_dz2[i] = d2sigma_dz2(z[i])\n",
    "    d3s_dz3[i] = d3sigma_dz3(z[i])\n",
    "plt.plot(z,s,label = \"$\\sigma(z)$\")\n",
    "plt.plot(z,ds_dz,label = \"$d\\sigma/dz$\")\n",
    "plt.plot(z,d2s_dz2, label = \"$d^2\\sigma/dz^2$\")\n",
    "plt.plot(z,d3s_dz3, label = \"$d^3\\sigma/dz^3$\");\n",
    "plt.xlabel(\"z\")\n",
    "plt.ylabel(\"$\\sigma(z)$ or derivative\")\n",
    "plt.title(\"Figure 1: The $\\sigma$-function and its first three derivatives\")\n",
    "plt.legend();"
   ]
  },
  {
   "cell_type": "markdown",
   "metadata": {},
   "source": [
    "Once the $\\sigma_{ik}$ are computed, they are all passed to the single output node, where they are processed by a linear transfer function to create the network output for the current input point $\\vec x_i$:"
   ]
  },
  {
   "cell_type": "markdown",
   "metadata": {},
   "source": [
    "\\begin{equation}\n",
    "N_i = \\sum_{k=1}^{H}v_k\\sigma_{ik}\n",
    "\\end{equation}"
   ]
  },
  {
   "cell_type": "markdown",
   "metadata": {},
   "source": [
    "where $v_k$ is the weight applied to the output from hidden node $k$ at the output node. Once $N_i$ has been computed, the trial function $\\psi_{ti}$ is computed. To compute the value of $G_i$ (and thus $E$), we also need the gradient of the trial function $\\vec \\nabla \\psi_{ti}$."
   ]
  },
  {
   "cell_type": "markdown",
   "metadata": {},
   "source": [
    "\\begin{equation}\n",
    "\\vec \\nabla \\psi_{ti} = \\vec \\nabla (A_i + P_i N_i)\n",
    "\\end{equation}"
   ]
  },
  {
   "cell_type": "markdown",
   "metadata": {},
   "source": [
    "Each component $j$ of this gradient may be written as:"
   ]
  },
  {
   "cell_type": "markdown",
   "metadata": {},
   "source": [
    "\\begin{equation}\n",
    "\\frac {\\partial \\psi_{ti}}{\\partial x_{ij}} =\n",
    "\\frac {\\partial A_i}{\\partial x_{ij}} + P_i \\frac {\\partial N_i}{\\partial x_{ij}} + \\frac {\\partial P_i}{\\partial x_{ij}} N_i\n",
    "\\end{equation}"
   ]
  },
  {
   "cell_type": "markdown",
   "metadata": {},
   "source": [
    "The functional forms of the derivatives of $A_i$ and $P_i$ with respect to $x_{ij}$ are computed $\\it a \\ priori$ from their known analytical forms, which may vary based on the problem under investigation. The values of the network output derivatives $\\frac {\\partial N_i}{\\partial x_{ij}}$ are computed analytically using the known form of the network and its weights and biases."
   ]
  },
  {
   "cell_type": "markdown",
   "metadata": {},
   "source": [
    "\\begin{equation}\n",
    "\\frac {\\partial N_i}{\\partial x_{ij}} =\n",
    "\\frac {\\partial}{\\partial x_{ij}} \\sum_{k=1}^{H} v_k \\sigma_{ik} =\n",
    "\\sum_{k=1}^{H} v_k \\frac {\\partial \\sigma_{ik}}{\\partial x_{ij}} =\n",
    "\\sum_{k=1}^{H} v_k \\frac {\\partial \\sigma_{ik}}{\\partial z_{ik}} \\frac {\\partial z_{ik}}{\\partial x_{ij}} = \\sum_{k=1}^{H} v_k \\sigma_{ik}^{(1)} w_{jk}\n",
    "\\end{equation}"
   ]
  },
  {
   "cell_type": "markdown",
   "metadata": {},
   "source": [
    "where the derivatives of $\\sigma$ are given by:"
   ]
  },
  {
   "cell_type": "markdown",
   "metadata": {},
   "source": [
    "\\begin{equation}\n",
    "\\sigma^{(k)} = \\frac {d^k \\sigma}{dz^k}\n",
    "\\end{equation}"
   ]
  },
  {
   "cell_type": "markdown",
   "metadata": {},
   "source": [
    "With the values of $\\psi_{ti}$ and $\\vec \\nabla \\psi_{ti}$, we can now compute the values of $G_i$, and then the error function $E$ for the current epoch."
   ]
  },
  {
   "cell_type": "markdown",
   "metadata": {},
   "source": [
    "## Updating the network parameters"
   ]
  },
  {
   "cell_type": "markdown",
   "metadata": {},
   "source": [
    "The network parameters are the weights and biases of the hidden and output nodes. For an $m$-dimensional input point $\\vec x_i$, and a set of $H$ hidden nodes, we have a total of $N_p = (m+2)H$ parameters in total: a weight for each $x_{ij}$ for each hidden node, a bias for each hidden node, and an output weight for each hidden node."
   ]
  },
  {
   "cell_type": "markdown",
   "metadata": {},
   "source": [
    "Since the objective function to minimize is the error $E$, the value of each network parameter $p$ (where $p$ represents $v_k$, $u_k$, or $w_{jk}$) is updated using a scaled Newton's method:"
   ]
  },
  {
   "cell_type": "markdown",
   "metadata": {},
   "source": [
    "\\begin{equation}\n",
    "p_{new}=p - \\eta \\frac {\\partial E} {\\partial p}\n",
    "\\end{equation}"
   ]
  },
  {
   "cell_type": "markdown",
   "metadata": {},
   "source": [
    "where $\\eta$ is the *learning rate*. The learning rate is used to control the rate of convergence. The derivatives of $E$ are computed using the known form of $G_i$, the network, and the network parameters."
   ]
  },
  {
   "cell_type": "markdown",
   "metadata": {},
   "source": [
    "This process of parameter updates is repeated until the specified maximum number of training epochs has been applied. Note that the same set of training points is presented during each epoch."
   ]
  },
  {
   "cell_type": "markdown",
   "metadata": {},
   "source": [
    "## Computing the derivatives of $E$"
   ]
  },
  {
   "cell_type": "markdown",
   "metadata": {},
   "source": [
    "The partial derivatives of $E$ with respect to any network parameter $p$ are given by:"
   ]
  },
  {
   "cell_type": "markdown",
   "metadata": {},
   "source": [
    "\\begin{equation}\n",
    "\\frac {\\partial E}{\\partial p} =\n",
    "2 \\sum_{i=1}^n G_i \\frac {\\partial G_i}{\\partial p}\n",
    "\\end{equation}"
   ]
  },
  {
   "cell_type": "markdown",
   "metadata": {},
   "source": [
    "## Computing the derivatives of $G_i$"
   ]
  },
  {
   "cell_type": "markdown",
   "metadata": {},
   "source": [
    "The partial derivatives of $G_i$ with respect to $x_{ij}$, $\\psi_{ti}$, and $\\frac {\\partial \\psi_{ti}} {\\partial x_{ij}}$ are determined $\\it a\\ priori$ from the analytical form of $G$ using the chain rule. Note also that $\\frac {\\partial x_{ij}} {\\partial p_{hk}} = 0$. The remaining partial derivatives of $G_i$ are:"
   ]
  },
  {
   "cell_type": "markdown",
   "metadata": {},
   "source": [
    "\\begin{equation}\n",
    "\\frac {\\partial G_i}{\\partial p} =\n",
    "\\frac {\\partial G_i}{\\partial \\psi_{ti}} \\frac {\\partial \\psi_{ti}}{\\partial p} +\n",
    "\\sum_{j=1}^m \\frac {\\partial G_i}{\\partial \\left(\\frac {\\partial \\psi_{ti}}{\\partial x_{ij}}\\right)}\n",
    "\\frac {\\partial^2 \\psi_{ti}}{\\partial p \\partial x_{ij}}\n",
    "\\end{equation}"
   ]
  },
  {
   "cell_type": "markdown",
   "metadata": {},
   "source": [
    "Note that the partials of $G_i$ by $\\psi$ and $\\vec \\nabla \\psi$ must be supplied in anaytical form, since the analytical form of $G_i(\\vec x,\\psi,\\vec \\nabla \\psi)$ is known. Partials of these partials by parameters $p$ are found using the chain rule."
   ]
  },
  {
   "cell_type": "markdown",
   "metadata": {},
   "source": [
    "## Computing the derivatives of $\\psi_{ti}$"
   ]
  },
  {
   "cell_type": "markdown",
   "metadata": {},
   "source": [
    " The derivatives of the trial solution $\\psi_{t}$ are given by:"
   ]
  },
  {
   "cell_type": "markdown",
   "metadata": {},
   "source": [
    "\\begin{equation}\n",
    "\\frac {\\partial \\psi_{ti}} {\\partial p} = \\\n",
    "P_i \\frac {\\partial N_i} {\\partial p}\n",
    "\\end{equation}"
   ]
  },
  {
   "cell_type": "markdown",
   "metadata": {},
   "source": [
    "\\begin{equation}\n",
    "\\frac {\\partial^2 \\psi_{ti}} {\\partial p \\partial x_{ij}} = \\\n",
    "P_i \\frac {\\partial^2 N_i} {\\partial p \\partial x_{ij}} + \\\n",
    "\\frac {\\partial P_i} {\\partial x_{ij}} \\frac {\\partial N_i} {\\partial p}\n",
    "\\end{equation}"
   ]
  },
  {
   "cell_type": "markdown",
   "metadata": {},
   "source": [
    "Note that $A_i$ and $P_i$ are independent of the network parameters $p$."
   ]
  },
  {
   "cell_type": "markdown",
   "metadata": {},
   "source": [
    "## Computing the derivatives of $N_i$"
   ]
  },
  {
   "cell_type": "markdown",
   "metadata": {},
   "source": [
    "The partial derivatives of $N_i$ are:"
   ]
  },
  {
   "cell_type": "markdown",
   "metadata": {},
   "source": [
    "\\begin{equation}\n",
    "\\frac {\\partial N_i} {\\partial x_{ij}} = \\sum_{k=1}^H v_k \\sigma_{ik}^{(1)} w_{jk}\n",
    "\\end{equation}"
   ]
  },
  {
   "cell_type": "markdown",
   "metadata": {},
   "source": [
    "\\begin{equation}\n",
    "\\frac {\\partial N_i} {\\partial p} =\n",
    "\\sum_{k=1}^H \\left ( v_k \\sigma_{ik}^{(1)} \\frac {\\partial z_{ik}} {\\partial p} +\n",
    "\\frac {\\partial v_k} {\\partial p} \\sigma_{ik} \\right )\n",
    "\\end{equation}"
   ]
  },
  {
   "cell_type": "markdown",
   "metadata": {},
   "source": [
    "\\begin{equation}\n",
    "\\frac {\\partial^2 N_i}{\\partial p \\partial x_{ij}} =\n",
    "\\sum_{k=1}^{H} \\left(\n",
    "v_k \\sigma_{ik}^{(1)} \\frac {\\partial w_{jk}} {\\partial p} + \\\n",
    "v_k \\sigma_{ik}^{(2)} \\frac {\\partial z_{ik}} {\\partial p} w_{jk} + \\\n",
    "\\frac {\\partial v_k} {\\partial p} \\sigma_{ik}^{(1)} w_{jk}\n",
    "\\right)\n",
    "\\end{equation}"
   ]
  },
  {
   "cell_type": "markdown",
   "metadata": {},
   "source": [
    "Most of these expressions can now be simplified using the following relations between the network parameters ($*$ means any index or combination of indices):"
   ]
  },
  {
   "cell_type": "markdown",
   "metadata": {},
   "source": [
    "\\begin{equation}\n",
    "\\frac {\\partial v_k}{\\partial v_l} = \\delta_{kl},\n",
    "\\frac {\\partial v_k}{\\partial w_*} = \\frac {\\partial v_k}{\\partial u_*} = 0\n",
    "\\end{equation}\n"
   ]
  },
  {
   "cell_type": "markdown",
   "metadata": {},
   "source": [
    "\\begin{equation}\n",
    "\\frac {\\partial u_k}{\\partial u_l} = \\delta_{kl},\n",
    "\\frac {\\partial u_k}{\\partial v_*} = \\frac {\\partial u_k}{\\partial w_*} = 0\n",
    "\\end{equation}"
   ]
  },
  {
   "cell_type": "markdown",
   "metadata": {},
   "source": [
    "\\begin{equation}\n",
    "\\frac {\\partial w_{jk}}{\\partial w_{hl}} = \\delta_{jh} \\delta_{kl},\n",
    "\\frac {\\partial w_{jk}}{\\partial v_*} = \\frac {\\partial w_{jk}}{\\partial u_*} = 0\n",
    "\\end{equation}"
   ]
  },
  {
   "cell_type": "markdown",
   "metadata": {},
   "source": [
    "\\begin{equation}\n",
    "\\frac {\\partial z_{ik}}{\\partial v_*} = 0,\n",
    "\\frac {\\partial z_{ik}}{\\partial w_{jl}} = x_{ij} \\delta_{kl},\n",
    "\\frac {\\partial z_{ik}}{\\partial u_l} = \\delta_{kl},\n",
    "\\end{equation}"
   ]
  },
  {
   "cell_type": "markdown",
   "metadata": {},
   "source": [
    "# Walking through an example problem"
   ]
  },
  {
   "cell_type": "markdown",
   "metadata": {},
   "source": [
    "Consider the simple 1st-order partial differential equation:"
   ]
  },
  {
   "cell_type": "markdown",
   "metadata": {},
   "source": [
    "\\begin{equation}\n",
    "G(\\vec x, \\psi, \\vec \\nabla \\psi) = xy - \\psi = 0\n",
    "\\end{equation}"
   ]
  },
  {
   "cell_type": "markdown",
   "metadata": {},
   "source": [
    "In Python form:"
   ]
  },
  {
   "cell_type": "code",
   "execution_count": 4,
   "metadata": {},
   "outputs": [],
   "source": [
    "def Gf(xy, psi, del_psi):\n",
    "    (x, y) = xy\n",
    "    return x * y - psi"
   ]
  },
  {
   "cell_type": "markdown",
   "metadata": {},
   "source": [
    "The analytical solution to this PDE is:"
   ]
  },
  {
   "cell_type": "markdown",
   "metadata": {},
   "source": [
    "\\begin{equation}\n",
    "\\psi(x,y) = xy\n",
    "\\end{equation}"
   ]
  },
  {
   "cell_type": "markdown",
   "metadata": {},
   "source": [
    "This function is plotted in the following figure:"
   ]
  },
  {
   "cell_type": "code",
   "execution_count": 5,
   "metadata": {},
   "outputs": [
    {
     "data": {
      "image/png": "[encoded data removed]",
      "text/plain": [
       "<Figure size 432x288 with 1 Axes>"
      ]
     },
     "metadata": {},
     "output_type": "display_data"
    }
   ],
   "source": [
    "fig = plt.figure()\n",
    "ax = fig.gca(projection = '3d')\n",
    "x = np.linspace(0,1,101)\n",
    "y = np.linspace(0,1,101)\n",
    "x,y = np.meshgrid(x,y)\n",
    "psi = x*y\n",
    "z = psi.reshape(x.shape)\n",
    "surf = ax.plot_surface(x, y, z)\n",
    "ax.set_xlabel('$x$')\n",
    "ax.set_ylabel('$y$')\n",
    "ax.set_zlabel('$\\psi(x,y)$');"
   ]
  },
  {
   "cell_type": "markdown",
   "metadata": {},
   "source": [
    "We need to specify quite a few derivatives, but most of them vanish. To begin, the first partials of $G(\\vec x,\\psi,\\vec \\nabla \\psi)$:"
   ]
  },
  {
   "cell_type": "markdown",
   "metadata": {},
   "source": [
    "\\begin{equation}\n",
    "\\frac {\\partial G} {\\partial x} = y\n",
    "\\end{equation}"
   ]
  },
  {
   "cell_type": "markdown",
   "metadata": {},
   "source": [
    "\\begin{equation}\n",
    "\\frac {\\partial G} {\\partial y} = x\n",
    "\\end{equation}"
   ]
  },
  {
   "cell_type": "markdown",
   "metadata": {},
   "source": [
    "In Python form, these equations are (unused arguments are ignored):"
   ]
  },
  {
   "cell_type": "code",
   "execution_count": 6,
   "metadata": {},
   "outputs": [],
   "source": [
    "def dG_dxf(xy,psi,del_psi):\n",
    "    (x,y) = xy\n",
    "    return y"
   ]
  },
  {
   "cell_type": "code",
   "execution_count": 7,
   "metadata": {},
   "outputs": [],
   "source": [
    "def dG_dyf(xy, psi, del_psi):\n",
    "    (x, y) = xy\n",
    "    return x"
   ]
  },
  {
   "cell_type": "code",
   "execution_count": 8,
   "metadata": {},
   "outputs": [],
   "source": [
    "del_Gf = (dG_dxf,dG_dyf)"
   ]
  },
  {
   "cell_type": "markdown",
   "metadata": {},
   "source": [
    "\\begin{equation}\n",
    "\\frac {\\partial G} {\\partial \\psi} = -1\n",
    "\\end{equation}"
   ]
  },
  {
   "cell_type": "markdown",
   "metadata": {},
   "source": [
    "In Python form:"
   ]
  },
  {
   "cell_type": "code",
   "execution_count": 9,
   "metadata": {},
   "outputs": [],
   "source": [
    "def dG_dpsif(xy, psi, del_psi):\n",
    "    return -1"
   ]
  },
  {
   "cell_type": "markdown",
   "metadata": {},
   "source": [
    "\\begin{equation}\n",
    "\\frac {\\partial G} {\\partial \\left ( \\frac {\\partial \\psi} {\\partial x} \\right )} = 0\n",
    "\\end{equation}"
   ]
  },
  {
   "cell_type": "markdown",
   "metadata": {},
   "source": [
    "\\begin{equation}\n",
    "\\frac {\\partial G} {\\partial \\left ( \\frac {\\partial \\psi} {\\partial y} \\right )} = 0\n",
    "\\end{equation}"
   ]
  },
  {
   "cell_type": "markdown",
   "metadata": {},
   "source": [
    "In Python form:"
   ]
  },
  {
   "cell_type": "code",
   "execution_count": 10,
   "metadata": {},
   "outputs": [],
   "source": [
    "def dG_dpsi_dxf(xy, psi, del_psi):\n",
    "    return 0"
   ]
  },
  {
   "cell_type": "code",
   "execution_count": 11,
   "metadata": {},
   "outputs": [],
   "source": [
    "def dG_dpsi_dyf(xy, psi, del_psi):\n",
    "    return 0"
   ]
  },
  {
   "cell_type": "code",
   "execution_count": 12,
   "metadata": {},
   "outputs": [],
   "source": [
    "dG_ddel_psif = (dG_dpsi_dxf,dG_dpsi_dyf)"
   ]
  },
  {
   "cell_type": "markdown",
   "metadata": {},
   "source": [
    "The boundary condition functions and their required derivatives are:"
   ]
  },
  {
   "cell_type": "markdown",
   "metadata": {},
   "source": [
    "\\begin{equation}\n",
    "f_0(y)=0\n",
    "\\end{equation}"
   ]
  },
  {
   "cell_type": "markdown",
   "metadata": {},
   "source": [
    "\\begin{equation}\n",
    "g_0(x)=0\n",
    "\\end{equation}"
   ]
  },
  {
   "cell_type": "code",
   "execution_count": 13,
   "metadata": {},
   "outputs": [],
   "source": [
    "def f0f(y):\n",
    "    return 0"
   ]
  },
  {
   "cell_type": "code",
   "execution_count": 14,
   "metadata": {},
   "outputs": [],
   "source": [
    "def g0f(x):\n",
    "    return 0"
   ]
  },
  {
   "cell_type": "code",
   "execution_count": 15,
   "metadata": {},
   "outputs": [],
   "source": [
    "bcf = (f0f,g0f)"
   ]
  },
  {
   "cell_type": "markdown",
   "metadata": {},
   "source": [
    "\\begin{equation}\n",
    "\\frac {\\partial f_0} {\\partial y} = 0\n",
    "\\end{equation}"
   ]
  },
  {
   "cell_type": "markdown",
   "metadata": {},
   "source": [
    "\\begin{equation}\n",
    "\\frac {\\partial g_0} {\\partial x} = 0\n",
    "\\end{equation}"
   ]
  },
  {
   "cell_type": "code",
   "execution_count": 16,
   "metadata": {},
   "outputs": [],
   "source": [
    "def df0_dyf(y):\n",
    "    return 0"
   ]
  },
  {
   "cell_type": "code",
   "execution_count": 17,
   "metadata": {},
   "outputs": [],
   "source": [
    "def dg0_dxf(x):\n",
    "    return 0"
   ]
  },
  {
   "cell_type": "code",
   "execution_count": 18,
   "metadata": {},
   "outputs": [],
   "source": [
    "bcdf = (df0_dyf, dg0_dxf)"
   ]
  },
  {
   "cell_type": "markdown",
   "metadata": {},
   "source": [
    "Now that we have the forms for all of these derivatives and boundary conditions, we can create the training points. Use an evenly-spaced grid of 25 points."
   ]
  },
  {
   "cell_type": "code",
   "execution_count": 19,
   "metadata": {},
   "outputs": [],
   "source": [
    "nxy = 5\n",
    "dxy = 1 / nxy\n",
    "x = np.zeros((nxy**2, 2))\n",
    "for j in range(nxy):\n",
    "    for i in range(nxy):\n",
    "        k = j * nxy + i\n",
    "        x[k][0] = i * dxy\n",
    "        x[k][1] = j * dxy"
   ]
  },
  {
   "cell_type": "markdown",
   "metadata": {},
   "source": [
    "Call the function which solves the ODE. Use 10 nodes in the hidden layer, and 1000 training epochs, a learning rate of 0.01, and activate verbose output."
   ]
  },
  {
   "cell_type": "code",
   "execution_count": 20,
   "metadata": {},
   "outputs": [
    {
     "name": "stdout",
     "output_type": "stream",
     "text": [
      "0 0.026102683822766152\n",
      "1 0.023764413782468186\n",
      "2 0.021770135548417103\n",
      "3 0.020080109347449516\n",
      "4 0.018657900446516454\n",
      "5 0.01746991194267333\n",
      "6 0.01648511241146616\n",
      "7 0.015674934412945443\n",
      "8 0.015013293660753487\n",
      "9 0.014476663165053172\n",
      "10 0.014044138076528797\n",
      "11 0.01369744384837252\n",
      "12 0.013420865066974041\n",
      "13 0.013201095809121741\n",
      "14 0.013027028513574767\n",
      "15 0.0128895054218687\n",
      "16 0.012781056351981181\n",
      "17 0.012695641976438249\n",
      "18 0.012628415689703498\n",
      "19 0.012575511415973746\n",
      "20 0.012533860200197394\n",
      "21 0.012501035329732279\n",
      "22 0.012475123875691167\n",
      "23 0.012454621616418212\n",
      "24 0.012438348007319865\n",
      "25 0.01242537794532737\n",
      "26 0.012414987365351099\n",
      "27 0.012406610083403592\n",
      "28 0.012399803695675822\n",
      "29 0.012394222715553734\n",
      "30 0.012389597462616435\n",
      "31 0.012385717502682846\n",
      "32 0.01238241867651374\n",
      "33 0.01237957295087139\n",
      "34 0.012377080484761278\n",
      "35 0.012374863431561477\n",
      "36 0.012372861099787484\n",
      "37 0.01237102617621583\n",
      "38 0.012369321779086478\n",
      "39 0.012367719159520065\n",
      "40 0.012366195908904412\n",
      "41 0.01236473456108464\n",
      "42 0.01236332150253122\n",
      "43 0.012361946122706009\n",
      "44 0.012360600151732484\n",
      "45 0.012359277144106305\n",
      "46 0.012357972076261535\n",
      "47 0.012356681032894409\n",
      "48 0.012355400962474613\n",
      "49 0.012354129486687477\n",
      "50 0.012352864751912282\n",
      "51 0.012351605313465179\n",
      "52 0.0123503500453794\n",
      "53 0.012349098070089331\n",
      "54 0.012347848703627606\n",
      "55 0.012346601412912854\n",
      "56 0.012345355782460833\n",
      "57 0.012344111488439752\n",
      "58 0.012342868278449775\n",
      "59 0.012341625955763477\n",
      "60 0.012340384367043534\n",
      "61 0.012339143392769758\n",
      "62 0.012337902939778642\n",
      "63 0.012336662935448545\n",
      "64 0.012335423323167758\n",
      "65 0.01233418405880261\n",
      "66 0.01233294510794456\n",
      "67 0.012331706443764806\n",
      "68 0.012330468045342081\n",
      "69 0.012329229896359475\n",
      "70 0.012327991984088623\n",
      "71 0.012326754298598136\n",
      "72 0.01232551683213657\n",
      "73 0.012324279578651613\n",
      "74 0.012323042533415141\n",
      "75 0.012321805692731294\n",
      "76 0.01232056905370859\n",
      "77 0.012319332614082683\n",
      "78 0.012318096372077956\n",
      "79 0.012316860326299722\n",
      "80 0.01231562447565024\n",
      "81 0.012314388819263195\n",
      "82 0.012313153356452703\n",
      "83 0.012311918086673515\n",
      "84 0.012310683009489972\n",
      "85 0.0123094481245519\n",
      "86 0.012308213431575718\n",
      "87 0.012306978930329804\n",
      "88 0.012305744620622994\n",
      "89 0.012304510502295715\n",
      "90 0.012303276575213023\n",
      "91 0.012302042839259108\n",
      "92 0.012300809294333177\n",
      "93 0.012299575940346107\n",
      "94 0.012298342777217875\n",
      "95 0.012297109804875545\n",
      "96 0.012295877023251753\n",
      "97 0.012294644432283449\n",
      "98 0.012293412031910962\n",
      "99 0.01229217982207725\n",
      "100 0.01229094780272738\n",
      "101 0.012289715973807932\n",
      "102 0.01228848433526688\n",
      "103 0.012287252887053055\n",
      "104 0.012286021629116189\n",
      "105 0.012284790561406553\n",
      "106 0.012283559683874868\n",
      "107 0.012282328996472294\n",
      "108 0.012281098499150283\n",
      "109 0.012279868191860468\n",
      "110 0.012278638074554732\n",
      "111 0.012277408147185071\n",
      "112 0.012276178409703652\n",
      "113 0.01227494886206269\n",
      "114 0.012273719504214502\n",
      "115 0.012272490336111488\n",
      "116 0.012271261357706023\n",
      "117 0.012270032568950663\n",
      "118 0.01226880396979787\n",
      "119 0.012267575560200257\n",
      "120 0.012266347340110402\n",
      "121 0.012265119309480953\n",
      "122 0.012263891468264489\n",
      "123 0.012262663816413697\n",
      "124 0.012261436353881336\n",
      "125 0.012260209080620066\n",
      "126 0.012258981996582633\n",
      "127 0.012257755101721756\n",
      "128 0.012256528395990245\n",
      "129 0.01225530187934089\n",
      "130 0.012254075551726456\n",
      "131 0.01225284941309983\n",
      "132 0.0122516234634138\n",
      "133 0.01225039770262124\n",
      "134 0.01224917213067503\n",
      "135 0.012247946747528077\n",
      "136 0.012246721553133246\n",
      "137 0.0122454965474435\n",
      "138 0.012244271730411751\n",
      "139 0.01224304710199097\n",
      "140 0.012241822662134144\n",
      "141 0.012240598410794229\n",
      "142 0.012239374347924267\n",
      "143 0.012238150473477243\n",
      "144 0.01223692678740621\n",
      "145 0.012235703289664215\n",
      "146 0.012234479980204367\n",
      "147 0.012233256858979708\n",
      "148 0.01223203392594335\n",
      "149 0.012230811181048415\n",
      "150 0.01222958862424803\n",
      "151 0.012228366255495355\n",
      "152 0.012227144074743542\n",
      "153 0.012225922081945803\n",
      "154 0.012224700277055306\n",
      "155 0.012223478660025267\n",
      "156 0.012222257230808912\n",
      "157 0.012221035989359504\n",
      "158 0.012219814935630317\n",
      "159 0.012218594069574588\n",
      "160 0.01221737339114564\n",
      "161 0.012216152900296757\n",
      "162 0.012214932596981306\n",
      "163 0.012213712481152566\n",
      "164 0.012212492552763944\n",
      "165 0.012211272811768818\n",
      "166 0.012210053258120529\n",
      "167 0.012208833891772526\n",
      "168 0.012207614712678214\n",
      "169 0.012206395720791014\n",
      "170 0.012205176916064394\n",
      "171 0.012203958298451802\n",
      "172 0.012202739867906787\n",
      "173 0.012201521624382768\n",
      "174 0.012200303567833288\n",
      "175 0.012199085698211893\n",
      "176 0.012197868015472102\n",
      "177 0.012196650519567519\n",
      "178 0.01219543321045167\n",
      "179 0.012194216088078231\n",
      "180 0.012192999152400694\n",
      "181 0.012191782403372781\n",
      "182 0.012190565840948091\n",
      "183 0.012189349465080306\n",
      "184 0.012188133275723049\n",
      "185 0.012186917272830066\n",
      "186 0.012185701456355039\n",
      "187 0.012184485826251703\n",
      "188 0.01218327038247374\n",
      "189 0.01218205512497494\n",
      "190 0.012180840053709115\n",
      "191 0.012179625168629951\n",
      "192 0.01217841046969132\n",
      "193 0.012177195956847017\n",
      "194 0.012175981630050872\n",
      "195 0.012174767489256702\n",
      "196 0.012173553534418414\n",
      "197 0.012172339765489874\n",
      "198 0.012171126182424937\n",
      "199 0.012169912785177563\n",
      "200 0.012168699573701636\n",
      "201 0.012167486547951115\n",
      "202 0.012166273707879947\n",
      "203 0.012165061053442117\n",
      "204 0.012163848584591583\n",
      "205 0.012162636301282339\n",
      "206 0.012161424203468477\n",
      "207 0.01216021229110394\n",
      "208 0.012159000564142836\n",
      "209 0.012157789022539202\n",
      "210 0.012156577666247084\n",
      "211 0.012155366495220674\n",
      "212 0.012154155509414032\n",
      "213 0.012152944708781234\n",
      "214 0.012151734093276481\n",
      "215 0.012150523662853931\n",
      "216 0.012149313417467717\n",
      "217 0.012148103357072042\n",
      "218 0.012146893481621143\n",
      "219 0.012145683791069192\n",
      "220 0.012144474285370483\n",
      "221 0.01214326496447921\n",
      "222 0.012142055828349652\n",
      "223 0.012140846876936097\n",
      "224 0.012139638110192823\n",
      "225 0.012138429528074177\n",
      "226 0.012137221130534462\n",
      "227 0.01213601291752803\n",
      "228 0.012134804889009225\n",
      "229 0.01213359704493247\n",
      "230 0.0121323893852521\n",
      "231 0.01213118190992253\n",
      "232 0.012129974618898174\n",
      "233 0.012128767512133517\n",
      "234 0.012127560589582932\n",
      "235 0.012126353851200967\n",
      "236 0.012125147296942043\n",
      "237 0.012123940926760677\n",
      "238 0.012122734740611374\n",
      "239 0.012121528738448684\n",
      "240 0.01212032292022713\n",
      "241 0.012119117285901254\n",
      "242 0.012117911835425705\n",
      "243 0.012116706568754977\n",
      "244 0.01211550148584375\n",
      "245 0.012114296586646579\n",
      "246 0.012113091871118135\n",
      "247 0.01211188733921308\n",
      "248 0.012110682990886046\n",
      "249 0.012109478826091735\n",
      "250 0.01210827484478486\n",
      "251 0.01210707104692008\n",
      "252 0.01210586743245216\n",
      "253 0.012104664001335893\n",
      "254 0.01210346075352594\n",
      "255 0.012102257688977108\n",
      "256 0.0121010548076442\n",
      "257 0.012099852109482015\n",
      "258 0.012098649594445359\n",
      "259 0.01209744726248909\n",
      "260 0.012096245113568006\n",
      "261 0.01209504314763704\n",
      "262 0.01209384136465102\n",
      "263 0.012092639764564856\n",
      "264 0.012091438347333465\n",
      "265 0.01209023711291179\n",
      "266 0.01208903606125473\n",
      "267 0.012087835192317252\n",
      "268 0.012086634506054331\n",
      "269 0.012085434002420932\n",
      "270 0.01208423368137214\n",
      "271 0.012083033542862864\n",
      "272 0.012081833586848199\n",
      "273 0.012080633813283177\n",
      "274 0.012079434222122846\n",
      "275 0.012078234813322286\n",
      "276 0.012077035586836603\n",
      "277 0.012075836542620897\n",
      "278 0.012074637680630277\n",
      "279 0.012073439000819907\n",
      "280 0.012072240503144894\n",
      "281 0.012071042187560485\n",
      "282 0.012069844054021783\n",
      "283 0.01206864610248401\n",
      "284 0.012067448332902395\n",
      "285 0.01206625074523215\n",
      "286 0.0120650533394285\n",
      "287 0.012063856115446765\n",
      "288 0.012062659073242136\n",
      "289 0.012061462212769974\n",
      "290 0.01206026553398553\n",
      "291 0.012059069036844155\n",
      "292 0.012057872721301143\n",
      "293 0.012056676587311898\n",
      "294 0.012055480634831733\n",
      "295 0.01205428486381604\n",
      "296 0.01205308927422025\n",
      "297 0.012051893865999698\n",
      "298 0.012050698639109849\n",
      "299 0.012049503593506131\n",
      "300 0.012048308729144036\n",
      "301 0.01204711404597899\n",
      "302 0.012045919543966476\n",
      "303 0.012044725223061995\n",
      "304 0.012043531083221062\n",
      "305 0.012042337124399234\n",
      "306 0.012041143346552024\n",
      "307 0.012039949749634953\n",
      "308 0.012038756333603646\n",
      "309 0.012037563098413705\n",
      "310 0.012036370044020717\n",
      "311 0.012035177170380235\n",
      "312 0.012033984477447978\n",
      "313 0.012032791965179526\n",
      "314 0.012031599633530586\n",
      "315 0.012030407482456843\n",
      "316 0.012029215511913941\n",
      "317 0.012028023721857618\n",
      "318 0.01202683211224357\n",
      "319 0.012025640683027581\n",
      "320 0.012024449434165347\n",
      "321 0.012023258365612683\n",
      "322 0.012022067477325302\n",
      "323 0.012020876769259089\n",
      "324 0.012019686241369796\n",
      "325 0.01201849589361323\n",
      "326 0.012017305725945285\n",
      "327 0.012016115738321799\n",
      "328 0.012014925930698628\n",
      "329 0.012013736303031652\n",
      "330 0.012012546855276777\n",
      "331 0.012011357587389932\n",
      "332 0.012010168499327017\n",
      "333 0.01200897959104399\n",
      "334 0.012007790862496833\n",
      "335 0.012006602313641482\n",
      "336 0.012005413944433939\n",
      "337 0.012004225754830195\n",
      "338 0.012003037744786279\n",
      "339 0.012001849914258239\n",
      "340 0.012000662263202072\n",
      "341 0.011999474791573884\n",
      "342 0.01199828749932974\n",
      "343 0.01199710038642574\n",
      "344 0.01199591345281797\n",
      "345 0.01199472669846254\n",
      "346 0.011993540123315619\n",
      "347 0.011992353727333318\n",
      "348 0.011991167510471837\n",
      "349 0.011989981472687355\n",
      "350 0.011988795613936017\n",
      "351 0.011987609934174087\n",
      "352 0.011986424433357751\n",
      "353 0.01198523911144325\n",
      "354 0.011984053968386846\n",
      "355 0.011982869004144818\n",
      "356 0.011981684218673433\n",
      "357 0.01198049961192898\n",
      "358 0.01197931518386777\n"
     ]
    },
    {
     "name": "stdout",
     "output_type": "stream",
     "text": [
      "359 0.011978130934446139\n",
      "360 0.011976946863620429\n",
      "361 0.011975762971346986\n",
      "362 0.011974579257582173\n",
      "363 0.011973395722282367\n",
      "364 0.011972212365404026\n",
      "365 0.011971029186903468\n",
      "366 0.011969846186737165\n",
      "367 0.01196866336486156\n",
      "368 0.01196748072123312\n",
      "369 0.011966298255808298\n",
      "370 0.01196511596854359\n",
      "371 0.011963933859395495\n",
      "372 0.011962751928320515\n",
      "373 0.011961570175275204\n",
      "374 0.011960388600216063\n",
      "375 0.011959207203099674\n",
      "376 0.011958025983882617\n",
      "377 0.011956844942521474\n",
      "378 0.011955664078972823\n",
      "379 0.011954483393193301\n",
      "380 0.011953302885139584\n",
      "381 0.011952122554768218\n",
      "382 0.011950942402035947\n",
      "383 0.011949762426899397\n",
      "384 0.011948582629315264\n",
      "385 0.011947403009240246\n",
      "386 0.011946223566631086\n",
      "387 0.011945044301444482\n",
      "388 0.011943865213637224\n",
      "389 0.01194268630316602\n",
      "390 0.01194150756998768\n",
      "391 0.011940329014058969\n",
      "392 0.011939150635336706\n",
      "393 0.011937972433777718\n",
      "394 0.011936794409338817\n",
      "395 0.011935616561976857\n",
      "396 0.011934438891648686\n",
      "397 0.01193326139831121\n",
      "398 0.011932084081921273\n",
      "399 0.011930906942435813\n",
      "400 0.01192972997981173\n",
      "401 0.011928553194006028\n",
      "402 0.011927376584975547\n",
      "403 0.011926200152677284\n",
      "404 0.011925023897068248\n",
      "405 0.011923847818105418\n",
      "406 0.011922671915745722\n",
      "407 0.01192149618994632\n",
      "408 0.011920320640664108\n",
      "409 0.01191914526785623\n",
      "410 0.0119179700714797\n",
      "411 0.01191679505149159\n",
      "412 0.011915620207849005\n",
      "413 0.011914445540509057\n",
      "414 0.011913271049428836\n",
      "415 0.011912096734565523\n",
      "416 0.011910922595876193\n",
      "417 0.011909748633318087\n",
      "418 0.011908574846848326\n",
      "419 0.011907401236424146\n",
      "420 0.011906227802002681\n",
      "421 0.011905054543541203\n",
      "422 0.01190388146099695\n",
      "423 0.011902708554327117\n",
      "424 0.011901535823489004\n",
      "425 0.011900363268439884\n",
      "426 0.011899190889137056\n",
      "427 0.01189801868553778\n",
      "428 0.011896846657599424\n",
      "429 0.011895674805279298\n",
      "430 0.011894503128534736\n",
      "431 0.011893331627323117\n",
      "432 0.01189216030160179\n",
      "433 0.011890989151328177\n",
      "434 0.011889818176459675\n",
      "435 0.011888647376953656\n",
      "436 0.011887476752767622\n",
      "437 0.011886306303858995\n",
      "438 0.011885136030185178\n",
      "439 0.011883965931703686\n",
      "440 0.011882796008372023\n",
      "441 0.01188162626014767\n",
      "442 0.011880456686988144\n",
      "443 0.011879287288850985\n",
      "444 0.01187811806569372\n",
      "445 0.011876949017473933\n",
      "446 0.011875780144149145\n",
      "447 0.011874611445676978\n",
      "448 0.011873442922015061\n",
      "449 0.011872274573120942\n",
      "450 0.01187110639895229\n",
      "451 0.01186993839946677\n",
      "452 0.011868770574621984\n",
      "453 0.011867602924375598\n",
      "454 0.011866435448685365\n",
      "455 0.01186526814750892\n",
      "456 0.011864101020804003\n",
      "457 0.011862934068528348\n",
      "458 0.011861767290639633\n",
      "459 0.011860600687095718\n",
      "460 0.011859434257854297\n",
      "461 0.01185826800287315\n",
      "462 0.011857101922110093\n",
      "463 0.011855936015522957\n",
      "464 0.011854770283069546\n",
      "465 0.011853604724707667\n",
      "466 0.011852439340395243\n",
      "467 0.011851274130090081\n",
      "468 0.011850109093750064\n",
      "469 0.011848944231333114\n",
      "470 0.011847779542797116\n",
      "471 0.011846615028100005\n",
      "472 0.01184545068719972\n",
      "473 0.011844286520054188\n",
      "474 0.011843122526621397\n",
      "475 0.011841958706859303\n",
      "476 0.011840795060725932\n",
      "477 0.011839631588179257\n",
      "478 0.011838468289177277\n",
      "479 0.011837305163678084\n",
      "480 0.011836142211639701\n",
      "481 0.011834979433020167\n",
      "482 0.011833816827777576\n",
      "483 0.011832654395870027\n",
      "484 0.011831492137255597\n",
      "485 0.011830330051892391\n",
      "486 0.01182916813973859\n",
      "487 0.01182800640075229\n",
      "488 0.011826844834891676\n",
      "489 0.011825683442114914\n",
      "490 0.011824522222380179\n",
      "491 0.011823361175645678\n",
      "492 0.011822200301869625\n",
      "493 0.011821039601010254\n",
      "494 0.011819879073025796\n",
      "495 0.011818718717874486\n",
      "496 0.011817558535514635\n",
      "497 0.01181639852590448\n",
      "498 0.01181523868900233\n",
      "499 0.011814079024766515\n",
      "500 0.011812919533155355\n",
      "501 0.011811760214127177\n",
      "502 0.011810601067640324\n",
      "503 0.011809442093653146\n",
      "504 0.01180828329212408\n",
      "505 0.01180712466301148\n",
      "506 0.01180596620627372\n",
      "507 0.01180480792186927\n",
      "508 0.011803649809756539\n",
      "509 0.011802491869893982\n",
      "510 0.011801334102240048\n",
      "511 0.011800176506753246\n",
      "512 0.01179901908339202\n",
      "513 0.011797861832114887\n",
      "514 0.011796704752880366\n",
      "515 0.011795547845647002\n",
      "516 0.011794391110373297\n",
      "517 0.01179323454701781\n",
      "518 0.011792078155539157\n",
      "519 0.011790921935895914\n",
      "520 0.011789765888046644\n",
      "521 0.01178861001194994\n",
      "522 0.011787454307564494\n",
      "523 0.011786298774848925\n",
      "524 0.011785143413761814\n",
      "525 0.0117839882242619\n",
      "526 0.011782833206307883\n",
      "527 0.011781678359858366\n",
      "528 0.01178052368487214\n",
      "529 0.011779369181307862\n",
      "530 0.011778214849124315\n",
      "531 0.011777060688280203\n",
      "532 0.011775906698734325\n",
      "533 0.011774752880445424\n",
      "534 0.011773599233372302\n",
      "535 0.01177244575747376\n",
      "536 0.011771292452708618\n",
      "537 0.011770139319035656\n",
      "538 0.011768986356413803\n",
      "539 0.011767833564801851\n",
      "540 0.011766680944158685\n",
      "541 0.011765528494443196\n",
      "542 0.011764376215614242\n",
      "543 0.011763224107630815\n",
      "544 0.01176207217045175\n",
      "545 0.011760920404036009\n",
      "546 0.011759768808342575\n",
      "547 0.011758617383330386\n",
      "548 0.01175746612895842\n",
      "549 0.01175631504518567\n",
      "550 0.011755164131971151\n",
      "551 0.011754013389273826\n",
      "552 0.011752862817052795\n",
      "553 0.011751712415267075\n",
      "554 0.011750562183875707\n",
      "555 0.011749412122837777\n",
      "556 0.011748262232112387\n",
      "557 0.011747112511658615\n",
      "558 0.011745962961435576\n",
      "559 0.011744813581402391\n",
      "560 0.011743664371518225\n",
      "561 0.011742515331742183\n",
      "562 0.011741366462033455\n",
      "563 0.011740217762351209\n",
      "564 0.011739069232654668\n",
      "565 0.011737920872903002\n",
      "566 0.011736772683055438\n",
      "567 0.011735624663071247\n",
      "568 0.01173447681290962\n",
      "569 0.011733329132529852\n",
      "570 0.011732181621891163\n",
      "571 0.011731034280952913\n",
      "572 0.011729887109674344\n",
      "573 0.011728740108014777\n",
      "574 0.011727593275933595\n",
      "575 0.011726446613390047\n",
      "576 0.011725300120343542\n",
      "577 0.011724153796753414\n",
      "578 0.011723007642579095\n",
      "579 0.011721861657779924\n",
      "580 0.011720715842315326\n",
      "581 0.011719570196144728\n",
      "582 0.01171842471922754\n",
      "583 0.011717279411523226\n",
      "584 0.01171613427299128\n",
      "585 0.011714989303591054\n",
      "586 0.01171384450328217\n",
      "587 0.011712699872024047\n",
      "588 0.01171155540977621\n",
      "589 0.011710411116498213\n",
      "590 0.011709266992149569\n",
      "591 0.011708123036689822\n",
      "592 0.011706979250078579\n",
      "593 0.011705835632275365\n",
      "594 0.011704692183239787\n",
      "595 0.011703548902931475\n",
      "596 0.011702405791310055\n",
      "597 0.011701262848335083\n",
      "598 0.011700120073966277\n",
      "599 0.011698977468163271\n",
      "600 0.011697835030885754\n",
      "601 0.01169669276209337\n",
      "602 0.011695550661745822\n",
      "603 0.01169440872980285\n",
      "604 0.011693266966224167\n",
      "605 0.01169212537096948\n",
      "606 0.011690983943998595\n",
      "607 0.011689842685271234\n",
      "608 0.011688701594747159\n",
      "609 0.011687560672386188\n",
      "610 0.011686419918148143\n",
      "611 0.011685279331992775\n",
      "612 0.011684138913879998\n",
      "613 0.011682998663769576\n",
      "614 0.011681858581621416\n",
      "615 0.01168071866739535\n",
      "616 0.011679578921051273\n",
      "617 0.011678439342549104\n",
      "618 0.011677299931848685\n",
      "619 0.011676160688910017\n",
      "620 0.011675021613692963\n",
      "621 0.011673882706157495\n",
      "622 0.011672743966263627\n",
      "623 0.01167160539397125\n",
      "624 0.01167046698924038\n",
      "625 0.011669328752031019\n",
      "626 0.011668190682303207\n",
      "627 0.011667052780016897\n",
      "628 0.0116659150451322\n",
      "629 0.011664777477609129\n",
      "630 0.011663640077407752\n",
      "631 0.011662502844488165\n",
      "632 0.011661365778810433\n",
      "633 0.01166022888033468\n",
      "634 0.011659092149020991\n",
      "635 0.01165795558482952\n",
      "636 0.011656819187720411\n",
      "637 0.011655682957653799\n",
      "638 0.011654546894589888\n",
      "639 0.011653410998488834\n",
      "640 0.011652275269310846\n",
      "641 0.011651139707016112\n",
      "642 0.011650004311564861\n",
      "643 0.011648869082917332\n",
      "644 0.011647734021033725\n",
      "645 0.011646599125874376\n",
      "646 0.011645464397399528\n",
      "647 0.011644329835569445\n",
      "648 0.011643195440344421\n",
      "649 0.011642061211684783\n",
      "650 0.011640927149550853\n",
      "651 0.011639793253902998\n",
      "652 0.011638659524701523\n",
      "653 0.0116375259619068\n",
      "654 0.011636392565479218\n",
      "655 0.011635259335379169\n",
      "656 0.011634126271567036\n",
      "657 0.011632993374003206\n",
      "658 0.011631860642648194\n",
      "659 0.011630728077462356\n",
      "660 0.01162959567840616\n",
      "661 0.011628463445440126\n",
      "662 0.011627331378524666\n",
      "663 0.011626199477620315\n",
      "664 0.011625067742687541\n",
      "665 0.011623936173686858\n",
      "666 0.011622804770578877\n",
      "667 0.011621673533324063\n",
      "668 0.011620542461882984\n",
      "669 0.011619411556216201\n",
      "670 0.011618280816284313\n",
      "671 0.01161715024204792\n",
      "672 0.011616019833467613\n",
      "673 0.011614889590504022\n",
      "674 0.011613759513117758\n",
      "675 0.011612629601269511\n",
      "676 0.011611499854919891\n",
      "677 0.011610370274029582\n",
      "678 0.011609240858559298\n",
      "679 0.011608111608469722\n",
      "680 0.011606982523721531\n",
      "681 0.011605853604275454\n",
      "682 0.011604724850092266\n",
      "683 0.011603596261132684\n",
      "684 0.011602467837357466\n",
      "685 0.0116013395787274\n",
      "686 0.011600211485203248\n",
      "687 0.011599083556745843\n",
      "688 0.011597955793315972\n",
      "689 0.011596828194874466\n",
      "690 0.011595700761382157\n",
      "691 0.011594573492799905\n",
      "692 0.011593446389088545\n",
      "693 0.011592319450209006\n",
      "694 0.011591192676122117\n",
      "695 0.01159006606678881\n",
      "696 0.011588939622169973\n",
      "697 0.011587813342226543\n",
      "698 0.011586687226919481\n",
      "699 0.01158556127620973\n",
      "700 0.011584435490058224\n",
      "701 0.011583309868425977\n",
      "702 0.011582184411273944\n",
      "703 0.01158105911856314\n",
      "704 0.011579933990254587\n"
     ]
    },
    {
     "name": "stdout",
     "output_type": "stream",
     "text": [
      "705 0.011578809026309304\n",
      "706 0.011577684226688343\n",
      "707 0.011576559591352748\n",
      "708 0.011575435120263556\n",
      "709 0.011574310813381897\n",
      "710 0.011573186670668808\n",
      "711 0.01157206269208544\n",
      "712 0.011570938877592878\n",
      "713 0.011569815227152237\n",
      "714 0.011568691740724717\n",
      "715 0.011567568418271406\n",
      "716 0.011566445259753472\n",
      "717 0.011565322265132159\n",
      "718 0.011564199434368599\n",
      "719 0.011563076767423994\n",
      "720 0.011561954264259596\n",
      "721 0.011560831924836605\n",
      "722 0.011559709749116265\n",
      "723 0.011558587737059842\n",
      "724 0.0115574658886286\n",
      "725 0.011556344203783793\n",
      "726 0.011555222682486745\n",
      "727 0.011554101324698763\n",
      "728 0.011552980130381104\n",
      "729 0.011551859099495194\n",
      "730 0.011550738232002294\n",
      "731 0.011549617527863765\n",
      "732 0.011548496987040996\n",
      "733 0.011547376609495367\n",
      "734 0.011546256395188257\n",
      "735 0.011545136344081105\n",
      "736 0.011544016456135264\n",
      "737 0.011542896731312225\n",
      "738 0.011541777169573362\n",
      "739 0.01154065777088022\n",
      "740 0.011539538535194164\n",
      "741 0.011538419462476756\n",
      "742 0.01153730055268942\n",
      "743 0.01153618180579371\n",
      "744 0.01153506322175109\n",
      "745 0.011533944800523157\n",
      "746 0.011532826542071389\n",
      "747 0.011531708446357399\n",
      "748 0.011530590513342697\n",
      "749 0.011529472742988905\n",
      "750 0.011528355135257563\n",
      "751 0.011527237690110295\n",
      "752 0.011526120407508746\n",
      "753 0.011525003287414522\n",
      "754 0.011523886329789247\n",
      "755 0.011522769534594626\n",
      "756 0.011521652901792226\n",
      "757 0.011520536431343818\n",
      "758 0.011519420123211048\n",
      "759 0.01151830397735564\n",
      "760 0.011517187993739304\n",
      "761 0.011516072172323732\n",
      "762 0.011514956513070693\n",
      "763 0.01151384101594195\n",
      "764 0.011512725680899243\n",
      "765 0.011511610507904349\n",
      "766 0.011510495496919081\n",
      "767 0.011509380647905217\n",
      "768 0.011508265960824585\n",
      "769 0.011507151435638966\n",
      "770 0.011506037072310257\n",
      "771 0.011504922870800273\n",
      "772 0.011503808831070895\n",
      "773 0.011502694953083974\n",
      "774 0.0115015812368014\n",
      "775 0.011500467682185107\n",
      "776 0.011499354289196965\n",
      "777 0.01149824105779893\n",
      "778 0.011497127987952929\n",
      "779 0.011496015079620888\n",
      "780 0.011494902332764805\n",
      "781 0.011493789747346593\n",
      "782 0.011492677323328303\n",
      "783 0.011491565060671897\n",
      "784 0.011490452959339401\n",
      "785 0.011489341019292805\n",
      "786 0.011488229240494165\n",
      "787 0.011487117622905533\n",
      "788 0.011486006166488982\n",
      "789 0.011484894871206524\n",
      "790 0.0114837837370203\n",
      "791 0.011482672763892397\n",
      "792 0.011481561951784916\n",
      "793 0.011480451300659942\n",
      "794 0.011479340810479641\n",
      "795 0.011478230481206145\n",
      "796 0.011477120312801608\n",
      "797 0.011476010305228244\n",
      "798 0.011474900458448156\n",
      "799 0.011473790772423595\n",
      "800 0.011472681247116744\n",
      "801 0.01147157188248981\n",
      "802 0.01147046267850502\n",
      "803 0.01146935363512468\n",
      "804 0.011468244752310935\n",
      "805 0.01146713603002613\n",
      "806 0.011466027468232519\n",
      "807 0.011464919066892364\n",
      "808 0.011463810825968047\n",
      "809 0.011462702745421806\n",
      "810 0.011461594825215983\n",
      "811 0.011460487065312917\n",
      "812 0.011459379465674964\n",
      "813 0.0114582720262645\n",
      "814 0.011457164747043886\n",
      "815 0.011456057627975495\n",
      "816 0.01145495066902176\n",
      "817 0.011453843870145038\n",
      "818 0.011452737231307812\n",
      "819 0.011451630752472498\n",
      "820 0.01145052443360151\n",
      "821 0.011449418274657338\n",
      "822 0.01144831227560243\n",
      "823 0.0114472064363993\n",
      "824 0.01144610075701043\n",
      "825 0.01144499523739831\n",
      "826 0.011443889877525499\n",
      "827 0.011442784677354474\n",
      "828 0.011441679636847824\n",
      "829 0.011440574755968071\n",
      "830 0.01143947003467782\n",
      "831 0.011438365472939584\n",
      "832 0.011437261070716055\n",
      "833 0.01143615682796975\n",
      "834 0.011435052744663316\n",
      "835 0.011433948820759378\n",
      "836 0.011432845056220572\n",
      "837 0.011431741451009555\n",
      "838 0.011430638005088999\n",
      "839 0.01142953471842156\n",
      "840 0.011428431590969925\n",
      "841 0.011427328622696797\n",
      "842 0.011426225813564884\n",
      "843 0.011425123163536943\n",
      "844 0.011424020672575662\n",
      "845 0.011422918340643837\n",
      "846 0.01142181616770417\n",
      "847 0.011420714153719456\n",
      "848 0.011419612298652487\n",
      "849 0.011418510602466039\n",
      "850 0.01141740906512295\n",
      "851 0.011416307686585993\n",
      "852 0.011415206466818038\n",
      "853 0.011414105405781937\n",
      "854 0.011413004503440486\n",
      "855 0.01141190375975661\n",
      "856 0.011410803174693137\n",
      "857 0.011409702748213011\n",
      "858 0.011408602480279082\n",
      "859 0.01140750237085428\n",
      "860 0.011406402419901556\n",
      "861 0.011405302627383818\n",
      "862 0.011404202993264018\n",
      "863 0.011403103517505144\n",
      "864 0.011402004200070138\n",
      "865 0.01140090504092199\n",
      "866 0.011399806040023702\n",
      "867 0.011398707197338279\n",
      "868 0.011397608512828762\n",
      "869 0.011396509986458156\n",
      "870 0.011395411618189515\n",
      "871 0.011394313407985879\n",
      "872 0.011393215355810365\n",
      "873 0.01139211746162598\n",
      "874 0.011391019725395876\n",
      "875 0.01138992214708311\n",
      "876 0.011388824726650855\n",
      "877 0.011387727464062176\n",
      "878 0.011386630359280238\n",
      "879 0.01138553341226819\n",
      "880 0.011384436622989198\n",
      "881 0.011383339991406434\n",
      "882 0.011382243517483072\n",
      "883 0.011381147201182329\n",
      "884 0.011380051042467398\n",
      "885 0.011378955041301486\n",
      "886 0.011377859197647871\n",
      "887 0.011376763511469757\n",
      "888 0.011375667982730417\n",
      "889 0.01137457261139311\n",
      "890 0.011373477397421136\n",
      "891 0.01137238234077776\n",
      "892 0.011371287441426282\n",
      "893 0.011370192699330052\n",
      "894 0.011369098114452358\n",
      "895 0.01136800368675655\n",
      "896 0.011366909416205976\n",
      "897 0.011365815302763997\n",
      "898 0.011364721346394024\n",
      "899 0.011363627547059364\n",
      "900 0.011362533904723493\n",
      "901 0.011361440419349776\n",
      "902 0.011360347090901656\n",
      "903 0.011359253919342512\n",
      "904 0.011358160904635836\n",
      "905 0.011357068046745092\n",
      "906 0.011355975345633703\n",
      "907 0.011354882801265181\n",
      "908 0.011353790413602993\n",
      "909 0.011352698182610645\n",
      "910 0.01135160610825167\n",
      "911 0.011350514190489575\n",
      "912 0.01134942242928791\n",
      "913 0.011348330824610177\n",
      "914 0.011347239376420005\n",
      "915 0.011346148084680926\n",
      "916 0.011345056949356518\n",
      "917 0.011343965970410388\n",
      "918 0.011342875147806105\n",
      "919 0.011341784481507374\n",
      "920 0.011340693971477748\n",
      "921 0.01133960361768087\n",
      "922 0.01133851342008045\n",
      "923 0.011337423378640084\n",
      "924 0.01133633349332348\n",
      "925 0.011335243764094305\n",
      "926 0.011334154190916317\n",
      "927 0.011333064773753135\n",
      "928 0.01133197551256856\n",
      "929 0.011330886407326289\n",
      "930 0.011329797457990058\n",
      "931 0.011328708664523627\n",
      "932 0.011327620026890785\n",
      "933 0.011326531545055318\n",
      "934 0.011325443218980972\n",
      "935 0.011324355048631593\n",
      "936 0.011323267033970949\n",
      "937 0.011322179174962919\n",
      "938 0.011321091471571286\n",
      "939 0.01132000392375995\n",
      "940 0.011318916531492735\n",
      "941 0.011317829294733534\n",
      "942 0.011316742213446205\n",
      "943 0.01131565528759468\n",
      "944 0.011314568517142826\n",
      "945 0.01131348190205457\n",
      "946 0.011312395442293843\n",
      "947 0.011311309137824601\n",
      "948 0.011310222988610777\n",
      "949 0.011309136994616355\n",
      "950 0.011308051155805276\n",
      "951 0.011306965472141559\n",
      "952 0.011305879943589175\n",
      "953 0.011304794570112143\n",
      "954 0.011303709351674487\n",
      "955 0.011302624288240243\n",
      "956 0.011301539379773419\n",
      "957 0.011300454626238141\n",
      "958 0.011299370027598407\n",
      "959 0.011298285583818325\n",
      "960 0.011297201294861954\n",
      "961 0.011296117160693467\n",
      "962 0.011295033181276887\n",
      "963 0.01129394935657639\n",
      "964 0.01129286568655609\n",
      "965 0.011291782171180143\n",
      "966 0.01129069881041272\n",
      "967 0.011289615604217934\n",
      "968 0.011288532552560047\n",
      "969 0.011287449655403183\n",
      "970 0.011286366912711565\n",
      "971 0.01128528432444939\n",
      "972 0.011284201890580948\n",
      "973 0.01128311961107039\n",
      "974 0.011282037485882036\n",
      "975 0.011280955514980097\n",
      "976 0.011279873698328863\n",
      "977 0.011278792035892611\n",
      "978 0.011277710527635642\n",
      "979 0.011276629173522235\n",
      "980 0.01127554797351673\n",
      "981 0.011274466927583483\n",
      "982 0.011273386035686757\n",
      "983 0.011272305297790958\n",
      "984 0.01127122471386042\n",
      "985 0.011270144283859567\n",
      "986 0.011269064007752707\n",
      "987 0.011267983885504276\n",
      "988 0.011266903917078661\n",
      "989 0.011265824102440343\n",
      "990 0.01126474444155365\n",
      "991 0.011263664934383131\n",
      "992 0.011262585580893129\n",
      "993 0.011261506381048168\n",
      "994 0.011260427334812726\n",
      "995 0.011259348442151268\n",
      "996 0.011258269703028278\n",
      "997 0.011257191117408288\n",
      "998 0.011256112685255842\n",
      "999 0.011255034406535427\n"
     ]
    }
   ],
   "source": [
    "np.random.seed(0)\n",
    "from nnpde1 import nnpde1\n",
    "(psit,del_psit) = nnpde1(\n",
    "        Gf,             # 2-variable, 1st-order PDE IVP to solve\n",
    "        bcf,            # BC functions\n",
    "        bcdf,           # BC function derivatives\n",
    "        dG_dpsif,       # Partial of G wrt psi\n",
    "        del_Gf,         # Gradient of G\n",
    "        dG_ddel_psif,   # Partials of G wrt del psi\n",
    "        x,              # Training points as pairs\n",
    "        nhid = 10,      # Node count in hidden layer\n",
    "        maxepochs = 1000, # Max training epochs\n",
    "        eta = 0.01,     # Learning rate\n",
    "        debug = False,\n",
    "        verbose = True\n",
    "    )"
   ]
  },
  {
   "cell_type": "markdown",
   "metadata": {},
   "source": [
    "Compare the computed values with the analytical values."
   ]
  },
  {
   "cell_type": "code",
   "execution_count": 21,
   "metadata": {},
   "outputs": [],
   "source": [
    "def psiaf(xy):\n",
    "    (x, y) = xy\n",
    "    return x * y"
   ]
  },
  {
   "cell_type": "code",
   "execution_count": 22,
   "metadata": {},
   "outputs": [],
   "source": [
    "def dpsia_dxf(xy):\n",
    "    (x, y) = xy\n",
    "    return y"
   ]
  },
  {
   "cell_type": "code",
   "execution_count": 23,
   "metadata": {},
   "outputs": [],
   "source": [
    "def dpsia_dyf(xy):\n",
    "    (x, y) = xy\n",
    "    return x"
   ]
  },
  {
   "cell_type": "code",
   "execution_count": 24,
   "metadata": {},
   "outputs": [],
   "source": [
    "del_psiaf = ( dpsia_dxf, dpsia_dyf )"
   ]
  },
  {
   "cell_type": "code",
   "execution_count": 25,
   "metadata": {},
   "outputs": [],
   "source": [
    "psia = np.zeros(len(x))\n",
    "for i in range(len(x)):\n",
    "    psia[i] = psiaf(x[i])"
   ]
  },
  {
   "cell_type": "code",
   "execution_count": 26,
   "metadata": {},
   "outputs": [],
   "source": [
    "del_psia = np.zeros((len(x), len(x[1])))\n",
    "for i in range(len(x)):\n",
    "    for j in range(len(x[0])):\n",
    "        del_psia[i][j] = del_psiaf[j](x[i])"
   ]
  },
  {
   "cell_type": "markdown",
   "metadata": {},
   "source": [
    "Compute the RMS error of the computed solution and its partial derivatives."
   ]
  },
  {
   "cell_type": "code",
   "execution_count": 27,
   "metadata": {},
   "outputs": [],
   "source": [
    "from math import sqrt\n",
    "psi_err = psit - psia\n",
    "rmse_psi = sqrt(sum(psi_err**2) / len(x))"
   ]
  },
  {
   "cell_type": "code",
   "execution_count": 28,
   "metadata": {},
   "outputs": [],
   "source": [
    "del_psi_err = del_psit - del_psia\n",
    "rmse_del_psi = np.zeros(len(x[0]))\n",
    "e2sum = np.zeros(len(x[0]))\n",
    "for j in range(len(x[0])):\n",
    "    for i in range(len(x)):\n",
    "        e2sum[j] += del_psi_err[i][j]**2\n",
    "    rmse_del_psi[j] = sqrt(e2sum[j] / len(x))"
   ]
  },
  {
   "cell_type": "markdown",
   "metadata": {},
   "source": [
    "Compare the results."
   ]
  },
  {
   "cell_type": "code",
   "execution_count": 29,
   "metadata": {},
   "outputs": [
    {
     "name": "stdout",
     "output_type": "stream",
     "text": [
      "    x        y      psia     psit   dpsia_dx dpsia_dy dpsit_dx dpsit_dy\n",
      "0.000000 0.000000 0.000000 0.000000 0.000000 0.000000 0.000000 0.000000\n",
      "0.200000 0.000000 0.000000 0.000000 0.000000 0.000000 0.200000 0.150098\n",
      "0.400000 0.000000 0.000000 0.000000 0.000000 0.000000 0.400000 0.321541\n",
      "0.600000 0.000000 0.000000 0.000000 0.000000 0.000000 0.600000 0.513012\n",
      "0.800000 0.000000 0.000000 0.000000 0.000000 0.000000 0.800000 0.722798\n",
      "0.000000 0.200000 0.000000 0.000000 0.200000 0.148384 0.000000 0.000000\n",
      "0.200000 0.200000 0.040000 0.031836 0.200000 0.169795 0.200000 0.168062\n",
      "0.400000 0.200000 0.080000 0.067832 0.200000 0.189916 0.400000 0.356343\n",
      "0.600000 0.200000 0.120000 0.107689 0.200000 0.208348 0.600000 0.563174\n",
      "0.800000 0.200000 0.160000 0.151040 0.200000 0.224814 0.800000 0.786610\n",
      "0.000000 0.400000 0.000000 0.000000 0.400000 0.314610 0.000000 0.000000\n",
      "0.200000 0.400000 0.080000 0.067141 0.400000 0.356374 0.200000 0.184763\n",
      "0.400000 0.400000 0.160000 0.142353 0.400000 0.395193 0.400000 0.388384\n",
      "0.600000 0.400000 0.240000 0.224975 0.400000 0.430385 0.600000 0.608929\n",
      "0.800000 0.400000 0.320000 0.314236 0.400000 0.461519 0.800000 0.844307\n",
      "0.000000 0.600000 0.000000 0.000000 0.600000 0.497471 0.000000 0.000000\n",
      "0.200000 0.600000 0.120000 0.105648 0.600000 0.558285 0.200000 0.200071\n",
      "0.400000 0.600000 0.240000 0.222988 0.600000 0.614216 0.400000 0.417460\n",
      "0.600000 0.600000 0.360000 0.350952 0.600000 0.664421 0.600000 0.650055\n",
      "0.800000 0.600000 0.480000 0.488342 0.600000 0.708431 0.800000 0.895705\n",
      "0.000000 0.800000 0.000000 0.000000 0.800000 0.695638 0.000000 0.000000\n",
      "0.200000 0.800000 0.160000 0.147071 0.800000 0.774007 0.200000 0.213919\n",
      "0.400000 0.800000 0.320000 0.309134 0.800000 0.845358 0.400000 0.443497\n",
      "0.600000 0.800000 0.480000 0.484687 0.800000 0.908805 0.600000 0.686525\n",
      "0.800000 0.800000 0.640000 0.672102 0.800000 0.963954 0.800000 0.940869\n",
      "RMSE      0.011255          0.062927     0.053078\n"
     ]
    }
   ],
   "source": [
    "print('    x        y      psia     psit   dpsia_dx dpsia_dy dpsit_dx dpsit_dy')\n",
    "for i in range(len(psia)):\n",
    "    print('%.6f %.6f %.6f %.6f %.6f %.6f %.6f %.6f' %\n",
    "          (x[i][0], x[i][1],\n",
    "           psia[i], psit[i],\n",
    "           del_psia[i][0], del_psit[i][0],\n",
    "           del_psia[i][1], del_psit[i][1])\n",
    "        )\n",
    "print('RMSE      %f          %f     %f' % \n",
    "      (rmse_psi, rmse_del_psi[0], rmse_del_psi[1]))"
   ]
  },
  {
   "cell_type": "code",
   "execution_count": null,
   "metadata": {},
   "outputs": [],
   "source": []
  }
 ],
 "metadata": {
  "kernelspec": {
   "display_name": "Python 3",
   "language": "python",
   "name": "python3"
  },
  "language_info": {
   "codemirror_mode": {
    "name": "ipython",
    "version": 3
   },
   "file_extension": ".py",
   "mimetype": "text/x-python",
   "name": "python",
   "nbconvert_exporter": "python",
   "pygments_lexer": "ipython3",
   "version": "3.6.5"
  }
 },
 "nbformat": 4,
 "nbformat_minor": 2
}

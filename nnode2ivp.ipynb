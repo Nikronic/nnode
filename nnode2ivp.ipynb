{
 "cells": [
  {
   "cell_type": "markdown",
   "metadata": {},
   "source": [
    "# Solving a 2nd-order ODE IVP with a neural network"
   ]
  },
  {
   "cell_type": "markdown",
   "metadata": {},
   "source": [
    "## Setup"
   ]
  },
  {
   "cell_type": "code",
   "execution_count": 38,
   "metadata": {},
   "outputs": [
    {
     "data": {
      "application/javascript": [
       "MathJax.Hub.Config({\n",
       "      TeX: { equationNumbers: { autoNumber: \"AMS\" } }\n",
       "    });MathJax.Hub.Queue(\n",
       "  [\"resetEquationNumbers\", MathJax.InputJax.TeX],\n",
       "  [\"PreProcess\", MathJax.Hub],\n",
       "  [\"Reprocess\", MathJax.Hub]\n",
       ");\n",
       "MathJax.Hub.Queue(\n",
       "  [\"resetEquationNumbers\", MathJax.InputJax.TeX],\n",
       "  [\"PreProcess\", MathJax.Hub],\n",
       "  [\"Reprocess\", MathJax.Hub]\n",
       ");"
      ],
      "text/plain": [
       "<IPython.core.display.Javascript object>"
      ]
     },
     "metadata": {},
     "output_type": "display_data"
    }
   ],
   "source": [
    "%%javascript\n",
    "MathJax.Hub.Config({\n",
    "      TeX: { equationNumbers: { autoNumber: \"AMS\" } }\n",
    "    });MathJax.Hub.Queue(\n",
    "  [\"resetEquationNumbers\", MathJax.InputJax.TeX],\n",
    "  [\"PreProcess\", MathJax.Hub],\n",
    "  [\"Reprocess\", MathJax.Hub]\n",
    ");\n",
    "MathJax.Hub.Queue(\n",
    "  [\"resetEquationNumbers\", MathJax.InputJax.TeX],\n",
    "  [\"PreProcess\", MathJax.Hub],\n",
    "  [\"Reprocess\", MathJax.Hub]\n",
    ");"
   ]
  },
  {
   "cell_type": "code",
   "execution_count": 39,
   "metadata": {},
   "outputs": [],
   "source": [
    "from math import exp, cos, sin\n",
    "import matplotlib.pyplot as plt\n",
    "%matplotlib inline\n",
    "import numpy as np"
   ]
  },
  {
   "cell_type": "markdown",
   "metadata": {},
   "source": [
    "# Introduction"
   ]
  },
  {
   "cell_type": "markdown",
   "metadata": {},
   "source": [
    "This notebook will demonstrate how to use the code in the `nnode2ivp.py` module. The module allows the user to solve 2nd-order ordinary differential equation (ODE) initial value problems (IVPs) using a single-hidden layer neural network."
   ]
  },
  {
   "cell_type": "markdown",
   "metadata": {},
   "source": [
    "This work is based on the paper \"Artificial Neural Networks for Solving Ordinary and Partial Differential Equations\", by Lagaris et al, *IEEE Transactions on Neural Networks, Volume 9, No. 5*, September 1998. Note that the notation used in this notebook and the associated Python code is slightly different from that used in the Lagaris paper."
   ]
  },
  {
   "cell_type": "markdown",
   "metadata": {},
   "source": [
    "## The algorithm"
   ]
  },
  {
   "cell_type": "markdown",
   "metadata": {},
   "source": [
    "Any 2nd-order ODE can be written in the form:"
   ]
  },
  {
   "cell_type": "markdown",
   "metadata": {},
   "source": [
    "\\begin{equation}\n",
    "G\\left(x,y,\\frac {dy}{dx},\\frac {d^2y}{dx^2}\\right) = 0\n",
    "\\end{equation}"
   ]
  },
  {
   "cell_type": "markdown",
   "metadata": {},
   "source": [
    "The problem is to find a solution $y(x)$ to the ODE using a neural network, subject to the initial conditions:"
   ]
  },
  {
   "cell_type": "markdown",
   "metadata": {},
   "source": [
    "\\begin{equation}\n",
    "y(0) = A\n",
    "\\end{equation}"
   ]
  },
  {
   "cell_type": "markdown",
   "metadata": {},
   "source": [
    "\\begin{equation}\n",
    "\\frac {dy}{dx}(0) = A'\n",
    "\\end{equation}"
   ]
  },
  {
   "cell_type": "markdown",
   "metadata": {},
   "source": [
    "The network is trained using a set of *training points*, defined on the domain of interest. The training points need not be evenly-spaced. Note that only the independent variable values $x_i$ of the training points are needed - the estimated value of the solution at those training points is obtained using a trial solution. For 2nd-order ODE IVP, the trial solution has the form:"
   ]
  },
  {
   "cell_type": "markdown",
   "metadata": {},
   "source": [
    "\\begin{equation}\n",
    "y_t(x_i) = A(x_i) + P_1(x_i) A'(x_i) + P_2(x_i) N(x_i)\n",
    "\\end{equation}"
   ]
  },
  {
   "cell_type": "markdown",
   "metadata": {},
   "source": [
    "The coefficient functions for this case are:"
   ]
  },
  {
   "cell_type": "markdown",
   "metadata": {},
   "source": [
    "\\begin{equation}\n",
    "A(x_i) = A\n",
    "\\end{equation}"
   ]
  },
  {
   "cell_type": "markdown",
   "metadata": {},
   "source": [
    "\\begin{equation}\n",
    "P_1(x_i) = x_i\n",
    "\\end{equation}"
   ]
  },
  {
   "cell_type": "markdown",
   "metadata": {},
   "source": [
    "\\begin{equation}\n",
    "A'(x_i) = A'\n",
    "\\end{equation}"
   ]
  },
  {
   "cell_type": "markdown",
   "metadata": {},
   "source": [
    "\\begin{equation}\n",
    "P_2(x_i) = x_i^2\n",
    "\\end{equation}"
   ]
  },
  {
   "cell_type": "markdown",
   "metadata": {},
   "source": [
    "The trial solution can be written more compactly as:"
   ]
  },
  {
   "cell_type": "markdown",
   "metadata": {},
   "source": [
    "\\begin{equation}\n",
    "y_{ti} = A + x_i A' + x_i^2 N_i\n",
    "\\end{equation}"
   ]
  },
  {
   "cell_type": "markdown",
   "metadata": {},
   "source": [
    "where $y_{ti}=y_t(x_i,\\vec p)$ is the value of the trial solution at the current training point $x_i$, and $N_i=N(x_i,\\vec p)$ is the single-valued floating-point output from an unspecified neural network with parameters $\\vec p$. Note that this trial solution satisfies the initial conditions by construction - at $x=0$, the second and third terms vanish, leaving $y_t(0)=A$. The derivative of $y_{ti}$ becomes $A'$ at $x=0$ in a similar fashion."
   ]
  },
  {
   "cell_type": "markdown",
   "metadata": {},
   "source": [
    "Training is done in a set of *epochs*. A training epoch consists of presenting the neural network with each of the $n$ training points $x_i$, one at a time. For each input value $x_i$, the network output $N_i$ is computed, and used to compute the value of the trial solution $y_{ti}$. Once all $n$ points have been presented, the epoch is complete, and the error function $E$ is computed. The ODE definition (1) should vanish at convergence, and so an appropriate form for the error function is:"
   ]
  },
  {
   "cell_type": "markdown",
   "metadata": {},
   "source": [
    "\\begin{equation}\n",
    "E = \\sum_{j=1}^{n}G_i^2\n",
    "\\end{equation}"
   ]
  },
  {
   "cell_type": "markdown",
   "metadata": {},
   "source": [
    "where $G_i$ is:"
   ]
  },
  {
   "cell_type": "markdown",
   "metadata": {},
   "source": [
    "\\begin{equation}\n",
    "G_i = G\\left(x_i,y_{ti},\\frac {\\partial y_{ti}}{\\partial x_i},\\frac {\\partial^2 y_{ti}}{\\partial x_i^2}\\right)\n",
    "\\end{equation}"
   ]
  },
  {
   "cell_type": "markdown",
   "metadata": {},
   "source": [
    "## Computing the network output $N_i$"
   ]
  },
  {
   "cell_type": "markdown",
   "metadata": {},
   "source": [
    "The neural network used in this work has a simple structure. A single input node is used to provide the training data. The input node is fully-connected to a set of $H$ hidden nodes. Each hidden node is connected to a single output node."
   ]
  },
  {
   "cell_type": "markdown",
   "metadata": {},
   "source": [
    "During each step of a training epoch, the input to the network, and thus the output of the single input node, is just the training point $x_i$. This single output is then sent to each of the $H$ hidden nodes. At each hidden node $k$, the input value $x_i$ is transformed by the equation:"
   ]
  },
  {
   "cell_type": "markdown",
   "metadata": {},
   "source": [
    "\\begin{equation}\n",
    "z_{ik} = w_k x_i + u_k\n",
    "\\end{equation}"
   ]
  },
  {
   "cell_type": "markdown",
   "metadata": {},
   "source": [
    "where $z_{ik}$ is the transformed input at hidden node $k$, $w_k$ is the weight at node $k$, and $u_k$ is the bias at node $k$. This transformed value is then used as the input to a sigmoidal transfer function:"
   ]
  },
  {
   "cell_type": "markdown",
   "metadata": {},
   "source": [
    "\\begin{equation}\n",
    "\\sigma_{ik} = \\sigma(z_{ik})\n",
    "\\end{equation}"
   ]
  },
  {
   "cell_type": "markdown",
   "metadata": {},
   "source": [
    "where:"
   ]
  },
  {
   "cell_type": "markdown",
   "metadata": {},
   "source": [
    "\\begin{equation}\n",
    "\\sigma(z) = \\frac {1}{1+e^{-z}}\n",
    "\\end{equation}"
   ]
  },
  {
   "cell_type": "markdown",
   "metadata": {},
   "source": [
    "A plot of this transfer function and its first several derivatives is provided below."
   ]
  },
  {
   "cell_type": "code",
   "execution_count": 40,
   "metadata": {},
   "outputs": [
    {
     "data": {
      "image/png": "[encoded data removed]",
      "text/plain": [
       "<Figure size 432x288 with 1 Axes>"
      ]
     },
     "metadata": {},
     "output_type": "display_data"
    }
   ],
   "source": [
    "def sigma(z):\n",
    "    return 1 / (1 + exp(-z))\n",
    "\n",
    "def dsigma_dz(z):\n",
    "    return exp(-z) / (1 + exp(-z))**2\n",
    "\n",
    "def d2sigma_dz2(z):\n",
    "    return (\n",
    "        2 * exp(-2 * z) / (1 + exp(-z))**3 - exp(-z) / (1 + exp(-z))**2\n",
    "    )\n",
    "\n",
    "def d3sigma_dz3(z):\n",
    "    return (\n",
    "        6 * exp(-3 * z) / (1 + exp(-z))**4\n",
    "        - 6 * exp(-2 * z) / (1 + exp(-z))**3\n",
    "        + exp(-z) / (1 + exp(-z))**2\n",
    "    )\n",
    "\n",
    "z = np.linspace(-5, 5, 1001)\n",
    "n = len(z)\n",
    "s = np.zeros(n)\n",
    "ds_dz = np.zeros(n)\n",
    "d2s_dz2 = np.zeros(n)\n",
    "d3s_dz3 = np.zeros(n)\n",
    "for i in range(n):\n",
    "    s[i] = sigma(z[i])\n",
    "    ds_dz[i] = dsigma_dz(z[i])\n",
    "    d2s_dz2[i] = d2sigma_dz2(z[i])\n",
    "    d3s_dz3[i] = d3sigma_dz3(z[i])\n",
    "plt.plot(z,s,label = \"$\\sigma(z)$\")\n",
    "plt.plot(z,ds_dz,label = \"$d\\sigma/dz$\")\n",
    "plt.plot(z,d2s_dz2, label = \"$d^2\\sigma/dz^2$\")\n",
    "plt.plot(z,d3s_dz3, label = \"$d^3\\sigma/dz^3$\");\n",
    "plt.xlabel(\"z\")\n",
    "plt.ylabel(\"s(z) or derivative\")\n",
    "plt.title(\"Figure 1: The $\\sigma$-function and its first three derivatives\")\n",
    "plt.legend();"
   ]
  },
  {
   "cell_type": "markdown",
   "metadata": {},
   "source": [
    "Once the $\\sigma_{ij}$ are computed, they are all passed to the single output node, where they are summed by a linear transfer function to create the network output for the current value of $x_i$:"
   ]
  },
  {
   "cell_type": "markdown",
   "metadata": {},
   "source": [
    "\\begin{equation}\n",
    "N_i = \\sum_{k=1}^{H} v_k \\sigma_{ik}\n",
    "\\end{equation}"
   ]
  },
  {
   "cell_type": "markdown",
   "metadata": {},
   "source": [
    "where $v_k$ is the weight applied to signal from hidden node $k$ at the output node. Once $N_i$ has been computed, the trial function $y_{ti}$ and its derivatives $\\frac {\\partial y_{ti}}{\\partial x_i}$ and $\\frac {\\partial^2 y_{ti}}{\\partial x_i^2}$ are computed, and then the value of the ODE $G_i$ is computed, and finally the error function $E$."
   ]
  },
  {
   "cell_type": "markdown",
   "metadata": {},
   "source": [
    "## Updating the network parameters"
   ]
  },
  {
   "cell_type": "markdown",
   "metadata": {},
   "source": [
    "The network parameters are the weights and biases of the hidden and output nodes. For a set of $H$ hidden nodes, we have a total of $N_p = 3H$ parameters in total: a weight and bias for each hidden node, and an output weight for each hidden node."
   ]
  },
  {
   "cell_type": "markdown",
   "metadata": {},
   "source": [
    "Since the objective function to minimize is the error $E$, the value of each network parameter $p$ (where $p$ represents $v_k$, $u_k$, or $w_k$) is updated using a scaled, simplified Newton's method:"
   ]
  },
  {
   "cell_type": "markdown",
   "metadata": {},
   "source": [
    "\\begin{equation}\n",
    "p_{new} = p - \\eta \\frac {\\partial E}{\\partial p_j}\n",
    "\\end{equation}"
   ]
  },
  {
   "cell_type": "markdown",
   "metadata": {},
   "source": [
    "where $\\eta$ is the *learning rate* (usually $\\eta < 1$). This simplified method (ignoring the usual 2nd derivative in the denominator of the correction term) is appropriate when the problem is scaled to the domain $[0,1]$.The learning rate is used to reduce the chance of solution instability due to large values of the correction term. The derivatives of $E$ are computed using the known form of the network and internal parameters."
   ]
  },
  {
   "cell_type": "markdown",
   "metadata": {},
   "source": [
    "This process of parameter updates is repeated until convergence is achieved (an error minimum is reached), or until the specified maximum number of training epochs have been applied. Note that the same set of training points is presented during each epoch."
   ]
  },
  {
   "cell_type": "markdown",
   "metadata": {},
   "source": [
    "## Computing the derivatives of $E$"
   ]
  },
  {
   "cell_type": "markdown",
   "metadata": {},
   "source": [
    "The partial derivative of $E$ with respect to any network parameter $p$ is given by:"
   ]
  },
  {
   "cell_type": "markdown",
   "metadata": {},
   "source": [
    "\\begin{equation}\n",
    "\\frac {\\partial E}{\\partial p} =\n",
    "\\frac {\\partial}{\\partial p} \\sum_{i=1}^{n}G_i^2 =\n",
    "2 \\sum_{i=1}^n G_i \\frac {\\partial G_i}{\\partial p}\n",
    "\\end{equation}"
   ]
  },
  {
   "cell_type": "markdown",
   "metadata": {},
   "source": [
    "## Computing the derivatives of $G_i$"
   ]
  },
  {
   "cell_type": "markdown",
   "metadata": {},
   "source": [
    "The partial derivative of $G_i$ with respect to any network parameter $p$ is computed using the chain rule:"
   ]
  },
  {
   "cell_type": "markdown",
   "metadata": {},
   "source": [
    "\\begin{equation}\n",
    "\\frac {\\partial G_i}{\\partial p} =\n",
    "\\frac {\\partial}{\\partial p} G\\left(x_i,y_{ti},\\frac {\\partial y_{ti}}{\\partial x_i},\\frac {\\partial^2y_{ti}}{\\partial x_i^2}\\right) =\n",
    "\\sum_{i=1}^n \\left ( \\frac {\\partial G_i}{\\partial x_i} \\frac {\\partial x_i}{\\partial p} \\right ) +\n",
    "\\frac {\\partial G_i}{\\partial y_{ti}} \\frac {\\partial y_{ti}}{\\partial x_i} +\n",
    "\\sum_{i=1}^n \\frac {\\partial G_i}{\\partial \\frac {\\partial y_{ti}}{\\partial x_i}} \\frac {\\partial^2 y_{ti}}{\\partial p \\partial x_i} +\n",
    "\\sum_{i=1}^n \\frac {\\partial G_i}{\\partial \\frac {\\partial^2 y_{ti}}{\\partial x_i^2}} \\frac {\\partial^3 y_{ti}}{\\partial p \\partial x_i^2}\n",
    "\\end{equation}"
   ]
  },
  {
   "cell_type": "markdown",
   "metadata": {},
   "source": [
    "Since the training points $x_i$ are independent of the network parameters $\\vec p$, this equation simplifies to:"
   ]
  },
  {
   "cell_type": "markdown",
   "metadata": {},
   "source": [
    "\\begin{equation}\n",
    "\\frac {\\partial G_i}{\\partial p} =\n",
    "\\frac {\\partial G_i}{\\partial y_{ti}} \\frac {\\partial y_{ti}}{\\partial x_i} +\n",
    "\\sum_{i=1}^n \\frac {\\partial G_i}{\\partial \\frac {\\partial y_{ti}}{\\partial x_i}} \\frac {\\partial^2 y_{ti}}{\\partial p \\partial x_i} +\n",
    "\\sum_{i=1}^n \\frac {\\partial G_i}{\\partial \\frac {\\partial^2 y_{ti}}{\\partial x_i^2}} \\frac {\\partial^3 y_{ti}}{\\partial p \\partial x_i^2}\n",
    "\\end{equation}"
   ]
  },
  {
   "cell_type": "markdown",
   "metadata": {},
   "source": [
    "The analytical forms of $\\frac {\\partial G_i}{\\partial y_{ti}}$, $\\frac {\\partial G_i}{\\partial \\frac {\\partial y_{ti}}{\\partial x_i}}$, and $\\frac {\\partial G_i}{\\partial \\frac {\\partial^2 y_{ti}}{\\partial x_i^2}}$ are determined from the analytical form of the original ODE."
   ]
  },
  {
   "cell_type": "markdown",
   "metadata": {},
   "source": [
    "## Computing the derivatives of $y_{ti}$"
   ]
  },
  {
   "cell_type": "markdown",
   "metadata": {},
   "source": [
    "The generic form of the first derivative of $y_{ti}$ is:"
   ]
  },
  {
   "cell_type": "markdown",
   "metadata": {},
   "source": [
    "\\begin{equation}\n",
    "\\frac {\\partial y_{ti}}{\\partial x_i} = A' + x_i^2 \\frac {\\partial N_i}{\\partial x_i} + 2 x_i N_i\n",
    "\\end{equation}"
   ]
  },
  {
   "cell_type": "markdown",
   "metadata": {},
   "source": [
    "The cross-partial of $y_{ti}$ is then:"
   ]
  },
  {
   "cell_type": "markdown",
   "metadata": {},
   "source": [
    "\\begin{equation}\n",
    "\\frac {\\partial^2 y_{ti}}{\\partial p \\partial x_i} =\n",
    "x_i^2 \\frac {\\partial^2 N_i}{\\partial p \\partial x_i} +\n",
    "2 x_i \\frac {\\partial N_i}{\\partial p}\n",
    "\\end{equation}"
   ]
  },
  {
   "cell_type": "markdown",
   "metadata": {},
   "source": [
    "The generic form of the second derivative of $y_{ti}$ is:"
   ]
  },
  {
   "cell_type": "markdown",
   "metadata": {},
   "source": [
    "\\begin{equation}\n",
    "\\frac {\\partial^2 y_{ti}}{\\partial x_i^2} =\n",
    "x_i^2 \\frac {\\partial^2 N_i}{\\partial x_i^2} +\n",
    "2 x_i \\frac {\\partial N_i}{\\partial x_i} +\n",
    "2 x_i \\frac {\\partial N_i}{\\partial x_i} +\n",
    "2 N_i =\n",
    "x_i^2 \\frac {\\partial^2 N_i}{\\partial x_i^2} +\n",
    "4 x_i \\frac {\\partial N_i}{\\partial x_i} +\n",
    "2 N_i\n",
    "\\end{equation}"
   ]
  },
  {
   "cell_type": "markdown",
   "metadata": {},
   "source": [
    "The cross-partial is then:"
   ]
  },
  {
   "cell_type": "markdown",
   "metadata": {},
   "source": [
    "\\begin{equation}\n",
    "\\frac {\\partial^3 y_{ti}}{\\partial p \\partial x_i^2} =\n",
    "x_i^2 \\frac {\\partial^3 N_i}{\\partial p \\partial x_i^2} +\n",
    "4 x_i \\frac {\\partial^2 N_i}{\\partial p \\partial x_i} +\n",
    "2 \\frac {\\partial N_i}{\\partial p}\n",
    "\\end{equation}"
   ]
  },
  {
   "cell_type": "markdown",
   "metadata": {},
   "source": [
    "## Computing the derivatives of $N_i$"
   ]
  },
  {
   "cell_type": "markdown",
   "metadata": {},
   "source": [
    "The generic form of the first derivative of $N_i$ with respect to $x_i$ is:"
   ]
  },
  {
   "cell_type": "markdown",
   "metadata": {},
   "source": [
    "\\begin{equation}\n",
    "\\frac {\\partial N_i}{\\partial x_i} =\n",
    "\\frac {\\partial}{\\partial x_i} \\sum_{k=1}^H v_k \\sigma_{ik} =\n",
    "\\sum_{k=1}^H v_k \\frac {\\partial \\sigma_{ik}}{\\partial x_i} =\n",
    "\\sum_{k=1}^H v_k \\frac {\\partial \\sigma_{ik}}{\\partial z_{ik}} \\frac {\\partial z_{ik}}{\\partial x_i} =\n",
    "\\sum_{k=1}^H v_k \\sigma_{ik}^{(1)} \\frac {\\partial z_{ik}}{\\partial x_i} =\n",
    "\\sum_{k=1}^H v_k \\sigma_{ik}^{(1)} w_k\n",
    "\\end{equation}"
   ]
  },
  {
   "cell_type": "markdown",
   "metadata": {},
   "source": [
    "where the transfer function derivatives are defined by:"
   ]
  },
  {
   "cell_type": "markdown",
   "metadata": {},
   "source": [
    "\\begin{equation}\n",
    "\\sigma^{(n)} = \\frac {\\partial^n \\sigma}{\\partial z^n}\n",
    "\\end{equation}"
   ]
  },
  {
   "cell_type": "markdown",
   "metadata": {},
   "source": [
    "For the parameter derivatives:"
   ]
  },
  {
   "cell_type": "markdown",
   "metadata": {},
   "source": [
    "\\begin{equation}\n",
    "\\frac {\\partial N_i}{\\partial p} =\n",
    "\\frac {\\partial}{\\partial p} \\sum_{k=1}^H v_k \\sigma_{ik} =\n",
    "\\sum_{k=1}^H \\left ( v_k \\frac {\\partial \\sigma_{ik}}{\\partial p} + \\frac {\\partial v_k}{\\partial p} \\sigma_{ik}  \\right ) =\n",
    "\\sum_{k=1}^H \\left ( v_k \\sigma_{ik}^{(1)} \\frac {\\partial z_{ik}}{\\partial p} + \\frac {\\partial v_k}{\\partial p} \\sigma_{ik}  \\right )\n",
    "\\end{equation}"
   ]
  },
  {
   "cell_type": "markdown",
   "metadata": {},
   "source": [
    "For the cross-partials:"
   ]
  },
  {
   "cell_type": "markdown",
   "metadata": {},
   "source": [
    "\\begin{equation}\n",
    "\\frac {\\partial^2 N_i}{\\partial p \\partial x_i} =\n",
    "\\frac {\\partial}{\\partial p} \\sum_{k=1}^H v_k \\sigma_{ik}^{(1)} w_k =\n",
    "\\sum_{k=1}^H \\left ( v_k \\sigma_{ik}^{(1)} \\frac {\\partial w_k}{\\partial p} +\n",
    "v_k \\frac {\\partial \\sigma_{ik}^{(1)}}{\\partial p}  w_k +\n",
    "\\frac {\\partial v_k}{\\partial p} \\sigma_{ik}^{(1)} w_k \\right ) =\n",
    "\\sum_{k=1}^H \\left ( v_k \\sigma_{ik}^{(1)} \\frac {\\partial w_k}{\\partial p} +\n",
    "v_k \\sigma_{ik}^{(2)} \\frac {\\partial z_{ik}}{\\partial p}  w_k +\n",
    "\\frac {\\partial v_k}{\\partial p} \\sigma_{ik}^{(1)} w_k \\right )\n",
    "\\end{equation}"
   ]
  },
  {
   "cell_type": "markdown",
   "metadata": {},
   "source": [
    "The generic form of the second derivative of $N_i$ with respect to $x_i$ is:"
   ]
  },
  {
   "cell_type": "markdown",
   "metadata": {},
   "source": [
    "\\begin{equation}\n",
    "\\frac {\\partial^2 N_i}{\\partial x_i^2} =\n",
    "\\frac {\\partial}{\\partial x_i} \\sum_{k=1}^H v_k \\sigma_{ik}^{(1)} w_k =\n",
    "\\sum_{k=1}^H v_k \\sigma_{ik}^{(2)} w_k^2\n",
    "\\end{equation}"
   ]
  },
  {
   "cell_type": "markdown",
   "metadata": {},
   "source": [
    "For the cross-partials:"
   ]
  },
  {
   "cell_type": "markdown",
   "metadata": {},
   "source": [
    "\\begin{equation}\n",
    "\\frac {\\partial^3 N_i}{\\partial p \\partial x_i^2} =\n",
    "\\frac {\\partial}{\\partial p} \\sum_{k=1}^H v_k \\sigma_{ik}^{(2)} w_k^2 =\n",
    "\\sum_{k=1}^H \\left(\n",
    "v_k \\sigma_{ik}^{(2)} 2 w_k \\frac {\\partial w_k}{\\partial p} +\n",
    "v_k \\sigma_{ik}^{(3)} \\frac {\\partial z_{ik}}{\\partial p} w_k^2 +\n",
    "\\frac {\\partial v_k}{\\partial p} \\sigma_{ik}^{(2)} w_k^2\n",
    "\\right)\n",
    "\\end{equation}"
   ]
  },
  {
   "cell_type": "markdown",
   "metadata": {},
   "source": [
    "## Computing the derivatives of $z_{ik}$"
   ]
  },
  {
   "cell_type": "markdown",
   "metadata": {},
   "source": [
    "The derivatives of $z_k$ with respect to the network parameter $p$ are parameter-specific:"
   ]
  },
  {
   "cell_type": "markdown",
   "metadata": {},
   "source": [
    "\\begin{equation}\n",
    "\\frac {\\partial z_{il}}{\\partial v_k} = 0\n",
    "\\end{equation}"
   ]
  },
  {
   "cell_type": "markdown",
   "metadata": {},
   "source": [
    "\\begin{equation}\n",
    "\\frac {\\partial z_{il}}{\\partial u_k} = \\delta_{kl}\n",
    "\\end{equation}"
   ]
  },
  {
   "cell_type": "markdown",
   "metadata": {},
   "source": [
    "\\begin{equation}\n",
    "\\frac {\\partial z_{il}}{\\partial w_k} = x_i \\delta_{kl}\n",
    "\\end{equation}"
   ]
  },
  {
   "cell_type": "markdown",
   "metadata": {},
   "source": [
    "## Computing the derivatives of the parameters $\\vec p$"
   ]
  },
  {
   "cell_type": "markdown",
   "metadata": {},
   "source": [
    "At this lowest level, the parameter derivatives are simple in form:"
   ]
  },
  {
   "cell_type": "markdown",
   "metadata": {},
   "source": [
    "\\begin{equation}\n",
    "\\frac {\\partial v_l}{\\partial v_k} = \\delta_{kl}, \\frac {\\partial v_l}{\\partial u_k} = 0, \\frac {\\partial v_l}{\\partial w_k} = 0\n",
    "\\end{equation}"
   ]
  },
  {
   "cell_type": "markdown",
   "metadata": {},
   "source": [
    "\\begin{equation}\n",
    "\\frac {\\partial u_l}{\\partial v_k} = 0, \\frac {\\partial u_l}{\\partial u_k} = \\delta_{kl}, \\frac {\\partial u_l}{\\partial w_k} = 0\n",
    "\\end{equation}"
   ]
  },
  {
   "cell_type": "markdown",
   "metadata": {},
   "source": [
    "\\begin{equation}\n",
    "\\frac {\\partial w_l}{\\partial v_k} = 0, \\frac {\\partial w_l}{\\partial u_k} = 0, \\frac {\\partial w_l}{\\partial w_k} = \\delta_{kl}\n",
    "\\end{equation}"
   ]
  },
  {
   "cell_type": "markdown",
   "metadata": {},
   "source": [
    "Or, more succinctly:"
   ]
  },
  {
   "cell_type": "markdown",
   "metadata": {},
   "source": [
    "\\begin{equation}\n",
    "\\frac {\\partial p_l}{\\partial p_k} = \\delta_{kl}\n",
    "\\end{equation}"
   ]
  },
  {
   "cell_type": "markdown",
   "metadata": {},
   "source": [
    "# Walking through an example problem"
   ]
  },
  {
   "cell_type": "markdown",
   "metadata": {},
   "source": [
    "We will now walk through a complete problem which will illustrate how to use the `nnode2ivp` code to solve a 2nd-order ODE IVP."
   ]
  },
  {
   "cell_type": "markdown",
   "metadata": {
    "collapsed": true
   },
   "source": [
    "## Define the ODE to solve, and the boundaary conditions"
   ]
  },
  {
   "cell_type": "markdown",
   "metadata": {},
   "source": [
    "Consider the simple 2nd-order ODE IVP, defined on the domain $[0, 1]$:"
   ]
  },
  {
   "cell_type": "markdown",
   "metadata": {},
   "source": [
    "\\begin{equation}\n",
    "G\\left(x,y,\\frac {dy}{dx} \\frac {d^2y}{dx^2}\\right) = \\frac {d^2y}{dx^2} - \\frac {dy}{dx} + 2x - 1 = 0\n",
    "\\end{equation}"
   ]
  },
  {
   "cell_type": "markdown",
   "metadata": {},
   "source": [
    "The analytical solution is:"
   ]
  },
  {
   "cell_type": "markdown",
   "metadata": {},
   "source": [
    "\\begin{equation}\n",
    "y(x) = x^2 + x + 1\n",
    "\\end{equation}"
   ]
  },
  {
   "cell_type": "markdown",
   "metadata": {},
   "source": [
    "The analytical solution and its derivative are shown in the figure below."
   ]
  },
  {
   "cell_type": "code",
   "execution_count": 41,
   "metadata": {},
   "outputs": [],
   "source": [
    "def ya(x):\n",
    "    return x**2 + x + 1\n",
    "\n",
    "def dya_dx(x):\n",
    "    return 2*x + 1\n",
    "\n",
    "def d2ya_dx2(x):\n",
    "    return 2"
   ]
  },
  {
   "cell_type": "code",
   "execution_count": 42,
   "metadata": {},
   "outputs": [
    {
     "data": {
      "image/png": "[encoded data removed]",
      "text/plain": [
       "<Figure size 432x288 with 1 Axes>"
      ]
     },
     "metadata": {},
     "output_type": "display_data"
    }
   ],
   "source": [
    "xmin = 0\n",
    "xmax = 1\n",
    "n = 100\n",
    "x = np.linspace(xmin, xmax, n)\n",
    "y = np.zeros(n)\n",
    "dy_dx = np.zeros(n)\n",
    "d2y_dx2 = np.zeros(n)\n",
    "for i in range(n):\n",
    "    y[i] = ya(x[i])\n",
    "    dy_dx[i] = dya_dx(x[i])\n",
    "    d2y_dx2[i] = d2ya_dx2(x[i])\n",
    "plt.xlabel('x')\n",
    "plt.ylabel('$d^ky/dx^k$')\n",
    "plt.plot(x, y, label = 'y(x)')\n",
    "plt.plot(x, dy_dx, label = \"$dy/dx$\")\n",
    "plt.plot(x, d2y_dx2, label = \"$d^2y/dx^2$\")\n",
    "plt.legend()\n",
    "plt.title(\"Figure 2: Analytical solution and derivatives for $G(x,y,dy/dx,d^2y/dx^2)=d^2y/dx^2-dy/dx+2x-1$\");"
   ]
  },
  {
   "cell_type": "markdown",
   "metadata": {},
   "source": [
    "Define the differential equation itself, and its derivatives."
   ]
  },
  {
   "cell_type": "code",
   "execution_count": 43,
   "metadata": {},
   "outputs": [],
   "source": [
    "# Define the original differential equation:\n",
    "def G(x, y, dy_dx, d2y_dx2):\n",
    "    return d2y_dx2 - dy_dx + 2*x - 1\n",
    "\n",
    "# Define the y-partial derivative of the differential equation.\n",
    "def dG_dy(x, y, dy_dx, d2y_dx2):\n",
    "    return 0\n",
    "\n",
    "# Define the dy/dx-partial derivative of the differential equation.\n",
    "def dG_dydx(x, y, dy_dx, d2y_dx2):\n",
    "    return -1\n",
    "\n",
    "# Define the d2y/dx2-partial derivative of the differential equation.\n",
    "def dG_d2ydx2(x, y, dy_dx, d2y_dx2):\n",
    "    return 1"
   ]
  },
  {
   "cell_type": "markdown",
   "metadata": {},
   "source": [
    "The initial conditions are:"
   ]
  },
  {
   "cell_type": "code",
   "execution_count": 44,
   "metadata": {},
   "outputs": [],
   "source": [
    "A = 1\n",
    "Ap = 1"
   ]
  },
  {
   "cell_type": "markdown",
   "metadata": {},
   "source": [
    "## Create the training data"
   ]
  },
  {
   "cell_type": "markdown",
   "metadata": {},
   "source": [
    "For the purposes of this example, an evenly-spaced set of training points will be used to train the neural network."
   ]
  },
  {
   "cell_type": "code",
   "execution_count": 45,
   "metadata": {},
   "outputs": [],
   "source": [
    "nt = 10\n",
    "xt = np.linspace(xmin, xmax, num = nt)"
   ]
  },
  {
   "cell_type": "markdown",
   "metadata": {},
   "source": [
    "Note that repeated runs of the same ODE will usually result in slightly different solutions, due to the random number generator. To ensure repeatable results, seed the random number generator with a fixed value before each run."
   ]
  },
  {
   "cell_type": "markdown",
   "metadata": {},
   "source": [
    "## Train the model to solve the ODE"
   ]
  },
  {
   "cell_type": "markdown",
   "metadata": {},
   "source": [
    "We can now train the network. The call below shows the minimum arguments required to call the `nnode2ivp()` function. All tunable parameters (learning rate `eta`, hidden layer size `H`, number of training epochs `max_epochs`) are given default values (`0.01`, `10`, `1000`, respectively). The training function returns the estimated values of $y$, $\\frac {dy}{dx}$, and $\\frac {d^2y}{dx^2}$ at the training points. When the `verbose` option is set to `True`, the function prints out the epoch number and current value of the mean-squared error of $G_i$."
   ]
  },
  {
   "cell_type": "code",
   "execution_count": 46,
   "metadata": {},
   "outputs": [
    {
     "name": "stdout",
     "output_type": "stream",
     "text": [
      "0 9.755207292389036\n",
      "1 2.883228136957397\n",
      "2 1.0519024825515224\n",
      "3 0.773574201945924\n",
      "4 0.5949479668482202\n",
      "5 0.45885057158846093\n",
      "6 0.3497418568147228\n",
      "7 0.26181790902236746\n",
      "8 0.19221225088653024\n",
      "9 0.1384760095801059\n",
      "10 0.09821334437348855\n",
      "11 0.06884933172629643\n",
      "12 0.047990932543861935\n",
      "13 0.03347106893821171\n",
      "14 0.023546897885725233\n",
      "15 0.01684237940760996\n",
      "16 0.012355248175078042\n",
      "17 0.009360605106232\n",
      "18 0.007360568590165239\n",
      "19 0.0060149507451356995\n",
      "20 0.005096964706793596\n",
      "21 0.004458123584880989\n",
      "22 0.003999972876924757\n",
      "23 0.0036608307976438454\n",
      "24 0.0033987560572818036\n",
      "25 0.0031891931751649384\n",
      "26 0.003014056649061969\n",
      "27 0.0028641039123989084\n",
      "28 0.002731083174738829\n",
      "29 0.0026119098717372093\n",
      "30 0.0025023500451281846\n",
      "31 0.0024017447603359434\n",
      "32 0.002307517243231574\n",
      "33 0.0022199427133529643\n",
      "34 0.002137155714963197\n",
      "35 0.002059778290489025\n",
      "36 0.001986279101801113\n",
      "37 0.0019173981736476018\n",
      "38 0.0018517867488398142\n",
      "39 0.001790214204644877\n",
      "40 0.0017314516310164701\n",
      "41 0.0016762633811081228\n",
      "42 0.001623512498499657\n",
      "43 0.0015739447940076347\n",
      "44 0.0015265011313717299\n",
      "45 0.0014819033048892498\n",
      "46 0.00143916144421285\n",
      "47 0.0013989710327701132\n",
      "48 0.0013604053225531923\n",
      "49 0.0013241325365760343\n",
      "50 0.001289284079346426\n",
      "51 0.0012565006111649292\n",
      "52 0.001224967395986768\n",
      "53 0.001195297599662738\n",
      "54 0.00116672651552708\n",
      "55 0.0011398401312149033\n",
      "56 0.001113920298342901\n",
      "57 0.0010895263247505612\n",
      "58 0.0010659834483973019\n",
      "59 0.0010438249343471132\n",
      "60 0.0010224164937447278\n",
      "61 0.0010022660910977538\n",
      "62 0.0009827772258645625\n",
      "63 0.0009644333820527959\n",
      "64 0.0009466733663075731\n",
      "65 0.0009299570571735241\n",
      "66 0.0009137562706923415\n",
      "67 0.0008985081908868533\n",
      "68 0.0008837155114561266\n",
      "69 0.0008697936529593128\n",
      "70 0.0008562742062375869\n",
      "71 0.0008435517666403827\n",
      "72 0.0008311849800044185\n",
      "73 0.000819548551474451\n",
      "74 0.000808226466847004\n",
      "75 0.0007975744644927858\n",
      "76 0.0007872002722879517\n",
      "77 0.0007774415671562159\n",
      "78 0.000767928329444399\n",
      "79 0.000758981056834624\n",
      "80 0.0007502505928123533\n",
      "81 0.0007420411111452714\n",
      "82 0.0007340230221549817\n",
      "83 0.0007264850014333072\n",
      "84 0.0007191158162535442\n",
      "85 0.0007121894383331495\n",
      "86 0.000705411862367353\n",
      "87 0.0006990431179192088\n",
      "88 0.0006928053723464439\n",
      "89 0.0006869454416237981\n",
      "90 0.0006812006806208083\n",
      "91 0.0006758053870224564\n",
      "92 0.0006705111828870588\n",
      "93 0.0006655405098909199\n",
      "94 0.0006606583973468785\n",
      "95 0.0006560760607234723\n",
      "96 0.0006515711329156057\n",
      "97 0.0006473442012610096\n",
      "98 0.0006431847509865725\n",
      "99 0.0006392833085749286\n",
      "100 0.00063544050918185\n",
      "101 0.0006318373559521634\n",
      "102 0.0006282849770847916\n",
      "103 0.0006249553612730814\n",
      "104 0.0006216695152882704\n",
      "105 0.0006185908948088817\n",
      "106 0.0006155498102330081\n",
      "107 0.0006127016394227236\n",
      "108 0.0006098854582907405\n",
      "109 0.0006072489970646607\n",
      "110 0.000604639593385882\n",
      "111 0.0006021977362301129\n",
      "112 0.0005997785531728631\n",
      "113 0.0005975156757214773\n",
      "114 0.0005952715794092041\n",
      "115 0.00059317340063299\n",
      "116 0.0005910905487028312\n",
      "117 0.0005891440069786934\n",
      "118 0.0005872097302787056\n",
      "119 0.0005854028718172574\n",
      "120 0.0005836055678132892\n",
      "121 0.0005819274461052735\n",
      "122 0.0005802564827375517\n",
      "123 0.0005786970678368756\n",
      "124 0.0005771426967141881\n",
      "125 0.0005756927933140851\n",
      "126 0.0005742460712624564\n",
      "127 0.0005728972446409263\n",
      "128 0.0005715499627359293\n",
      "129 0.0005702944717530632\n",
      "130 0.0005690390910634583\n",
      "131 0.0005678698274845574\n",
      "132 0.0005666994208420583\n",
      "133 0.0005656098543419878\n",
      "134 0.0005645180535268283\n",
      "135 0.0005635021818021026\n",
      "136 0.0005624831296021705\n",
      "137 0.0005615354330801499\n",
      "138 0.0005605837397393816\n",
      "139 0.0005596991404285998\n",
      "140 0.0005588098440525984\n",
      "141 0.0005579836681282438\n",
      "142 0.0005571521986613443\n",
      "143 0.0005563801424214574\n",
      "144 0.0005556022888496284\n",
      "145 0.0005548803877172188\n",
      "146 0.0005541522681873274\n",
      "147 0.0005534768684666399\n",
      "148 0.0005527949030450203\n",
      "149 0.0005521626361702005\n",
      "150 0.0005515235219911983\n",
      "151 0.0005509312810329597\n",
      "152 0.0005503319696136906\n",
      "153 0.0005497768878327066\n",
      "154 0.0005492145643528366\n",
      "155 0.0005486939956099683\n",
      "156 0.0005481660599754979\n",
      "157 0.0005476775608279943\n",
      "158 0.0005471816103554305\n",
      "159 0.000546722923684828\n",
      "160 0.0005462567372584565\n",
      "161 0.0005458257772912502\n",
      "162 0.0005453873008608905\n",
      "163 0.000544982139456478\n",
      "164 0.0005445694727551925\n",
      "165 0.000544188326847296\n",
      "166 0.0005437997112204785\n",
      "167 0.0005434409313098156\n",
      "168 0.0005430747385575353\n",
      "169 0.0005427367981625949\n",
      "170 0.000542391520305715\n",
      "171 0.0005420730062873983\n",
      "172 0.0005417472461771692\n",
      "173 0.0005414468498613068\n",
      "174 0.0005411393125587301\n",
      "175 0.0005408558215868633\n",
      "176 0.0005405653064457666\n",
      "177 0.0005402975972914755\n",
      "178 0.0005400229906846821\n",
      "179 0.0005397700217784731\n",
      "180 0.0005395102904120307\n",
      "181 0.0005392710958226932\n",
      "182 0.0005390252805884334\n",
      "183 0.0005387989642137215\n",
      "184 0.0005385661745345101\n",
      "185 0.0005383519047581013\n",
      "186 0.0005381313133845976\n",
      "187 0.0005379283181599829\n",
      "188 0.0005377191563808966\n",
      "189 0.0005375267187069908\n",
      "190 0.0005373282719386259\n",
      "191 0.0005371457256937962\n",
      "192 0.0005369573294173349\n",
      "193 0.0005367840555230119\n",
      "194 0.0005366050915409522\n",
      "195 0.0005364405144268113\n",
      "196 0.0005362704074124097\n",
      "197 0.0005361139917590678\n",
      "198 0.000535952206074686\n",
      "199 0.0005358034538107189\n",
      "200 0.0005356494905736352\n",
      "201 0.0005355079381065748\n",
      "202 0.0005353613324814571\n",
      "203 0.0005352265481437094\n",
      "204 0.0005350868668443068\n",
      "205 0.000534958448536553\n",
      "206 0.0005348252875192073\n",
      "207 0.0005347028605354397\n",
      "208 0.0005345758428694773\n",
      "209 0.0005344590578893538\n",
      "210 0.0005343378317898285\n",
      "211 0.0005342263630245252\n",
      "212 0.0005341106000348453\n",
      "213 0.0005340041435148568\n",
      "214 0.0005338935368271813\n",
      "215 0.0005337918088200706\n",
      "216 0.0005336860717226784\n",
      "217 0.000533588807271246\n",
      "218 0.0005334876717129465\n",
      "219 0.000533394623283799\n",
      "220 0.0005332978385461833\n",
      "221 0.0005332087747803145\n",
      "222 0.0005331161062494103\n",
      "223 0.0005330308108067483\n",
      "224 0.0005329420388364061\n",
      "225 0.000532860309327115\n",
      "226 0.000532775228186972\n",
      "227 0.000532696875182521\n",
      "228 0.000532615292084004\n",
      "229 0.00053254013820204\n",
      "230 0.0005324618723964455\n",
      "231 0.0005323897514538371\n",
      "232 0.0005323146333968746\n",
      "233 0.0005322453896252816\n",
      "234 0.0005321732602030946\n",
      "235 0.0005321067475228202\n",
      "236 0.0005320374573346534\n",
      "237 0.0005319735386817687\n",
      "238 0.0005319069473751307\n",
      "239 0.0005318454940782951\n",
      "240 0.000531781469732434\n",
      "241 0.0005317223609352786\n",
      "242 0.0005316607794895608\n",
      "243 0.0005316039016152552\n",
      "244 0.0005315446463387995\n",
      "245 0.0005314898925936499\n",
      "246 0.0005314328535933945\n",
      "247 0.0005313801235066419\n",
      "248 0.0005313251972704962\n",
      "249 0.0005312743962673625\n",
      "250 0.0005312214852404634\n",
      "251 0.0005311725242459635\n",
      "252 0.0005311215364370242\n",
      "253 0.0005310743315084373\n",
      "254 0.0005310251801240851\n",
      "255 0.0005309796521098903\n",
      "256 0.0005309322552151635\n",
      "257 0.000530888329438064\n",
      "258 0.0005308426096407234\n",
      "259 0.0005308002156036809\n",
      "260 0.0005307560997609079\n",
      "261 0.0005307151708738571\n",
      "262 0.0005306725898195638\n",
      "263 0.0005306330631455483\n",
      "264 0.0005305919514366591\n",
      "265 0.000530553767455947\n",
      "266 0.0005305140631364966\n",
      "267 0.0005304771655272405\n",
      "268 0.0005304388099088937\n",
      "269 0.0005304031453433268\n",
      "270 0.0005303660828009577\n",
      "271 0.0005303316007556565\n",
      "272 0.000530295778537129\n",
      "273 0.0005302624311166452\n",
      "274 0.0005302277991656942\n",
      "275 0.0005301955409383681\n",
      "276 0.0005301620517294331\n",
      "277 0.0005301308395746\n",
      "278 0.0005300984479590979\n",
      "279 0.0005300682409248084\n",
      "280 0.000530036903987831\n",
      "281 0.00053000766315831\n",
      "282 0.0005299773400847897\n",
      "283 0.0005299490284570038\n",
      "284 0.000529919680407159\n",
      "285 0.0005298922627757531\n",
      "286 0.0005298638527686577\n",
      "287 0.0005298372956187087\n",
      "288 0.000529809788423758\n",
      "289 0.0005297840598307557\n",
      "290 0.0005297574218662353\n",
      "291 0.000529732491402831\n",
      "292 0.0005297066906412505\n",
      "293 0.0005296825292900966\n",
      "294 0.0005296575351697351\n",
      "295 0.000529634115242271\n",
      "296 0.0005296098985844451\n",
      "297 0.0005295871936449918\n",
      "298 0.0005295637265767383\n",
      "299 0.0005295417113716968\n",
      "300 0.0005295189672534022\n",
      "301 0.0005294976176449193\n",
      "302 0.0005294755710026901\n",
      "303 0.0005294548639066877\n",
      "304 0.0005294334903690177\n",
      "305 0.0005294134036973792\n",
      "306 0.0005293926799356946\n",
      "307 0.0005293731925420573\n",
      "308 0.0005293530962152725\n",
      "309 0.000529334187844243\n",
      "310 0.0005293146975465202\n",
      "311 0.0005292963487863029\n",
      "312 0.0005292774439982947\n",
      "313 0.0005292596362360619\n",
      "314 0.000529241297279036\n",
      "315 0.0005292240126593751\n",
      "316 0.0005292062206522037\n",
      "317 0.0005291894420379372\n",
      "318 0.00052917217885667\n",
      "319 0.0005291558897922757\n",
      "320 0.0005291391380322823\n",
      "321 0.0005291233227093803\n",
      "322 0.0005291070656496138\n",
      "323 0.0005290917088747373\n",
      "324 0.0005290759304442616\n",
      "325 0.0005290610176085415\n",
      "326 0.0005290457023549217\n",
      "327 0.0005290312194054459\n",
      "328 0.0005290163524651691\n",
      "329 0.0005290022858783195\n",
      "330 0.0005289878529487073\n",
      "331 0.0005289741897047792\n",
      "332 0.0005289601770178399\n",
      "333 0.0005289469045773952\n",
      "334 0.0005289332988747854\n",
      "335 0.0005289204051562932\n",
      "336 0.0005289071936660601\n",
      "337 0.0005288946670247751\n",
      "338 0.0005288818374392053\n",
      "339 0.00052886966664735\n",
      "340 0.0005288572071021721\n",
      "341 0.0005288453813301235\n",
      "342 0.0005288332803846836\n",
      "343 0.0005288217891834127\n",
      "344 0.0005288100358021878\n",
      "345 0.0005287988690864457\n",
      "346 0.0005287874526214082\n",
      "347 0.0005287766006540134\n",
      "348 0.0005287655108279154\n",
      "349 0.000528754964204769\n",
      "350 0.0005287441910954335\n",
      "351 0.0005287339407315245\n",
      "352 0.0005287234747569236\n",
      "353 0.0005287135118728179\n",
      "354 0.0005287033437768603\n",
      "355 0.0005286936598861934\n",
      "356 0.000528683780725401\n",
      "357 0.0005286743676227788\n",
      "358 0.0005286647687533956\n",
      "359 0.0005286556185031262\n",
      "360 0.0005286462915692254\n",
      "361 0.0005286373964944665\n",
      "362 0.0005286283334163526\n",
      "363 0.0005286196860889193\n",
      "364 0.0005286108790522316\n",
      "365 0.0005286024722828339\n",
      "366 0.0005285939137282278\n",
      "367 0.0005285857405572495\n",
      "368 0.0005285774231704847\n",
      "369 0.0005285694768592408\n"
     ]
    },
    {
     "name": "stdout",
     "output_type": "stream",
     "text": [
      "370 0.0005285613935618184\n",
      "371 0.0005285536675841094\n",
      "372 0.000528545811524282\n",
      "373 0.0005285382995585365\n",
      "374 0.0005285306641029156\n",
      "375 0.0005285233600244287\n",
      "376 0.0005285159387496746\n",
      "377 0.0005285088366236153\n",
      "378 0.0005285016233088328\n",
      "379 0.0005284947173832164\n",
      "380 0.0005284877060024852\n",
      "381 0.0005284809907016031\n",
      "382 0.000528474175416928\n",
      "383 0.0005284676453350591\n",
      "384 0.000528461020489689\n",
      "385 0.0005284546703851166\n",
      "386 0.000528448230497002\n",
      "387 0.0005284420552863255\n",
      "388 0.0005284357950419807\n",
      "389 0.0005284297897945634\n",
      "390 0.0005284237040431867\n",
      "391 0.0005284178639759436\n",
      "392 0.0005284119477237611\n",
      "393 0.0005284062681960925\n",
      "394 0.0005284005166009354\n",
      "395 0.0005283949931099598\n",
      "396 0.0005283894014760791\n",
      "397 0.0005283840296520158\n",
      "398 0.00052837859342519\n",
      "399 0.0005283733690269041\n",
      "400 0.0005283680837894866\n",
      "401 0.0005283630027002988\n",
      "402 0.0005283578641668364\n",
      "403 0.0005283529223903867\n",
      "404 0.0005283479264031436\n",
      "405 0.0005283431200595332\n",
      "406 0.0005283382625842902\n",
      "407 0.0005283335879063105\n",
      "408 0.000528328865028327\n",
      "409 0.0005283243183577794\n",
      "410 0.0005283197262778901\n",
      "411 0.0005283153040622638\n",
      "412 0.0005283108390931258\n",
      "413 0.0005283065378821076\n",
      "414 0.0005283021964445848\n",
      "415 0.0005282980128869806\n",
      "416 0.0005282937915067343\n",
      "417 0.0005282897223472325\n",
      "418 0.0005282856176513824\n",
      "419 0.0005282816597276848\n",
      "420 0.000528277668441528\n",
      "421 0.0005282738186814374\n",
      "422 0.000528269937625445\n",
      "423 0.0005282661930440935\n",
      "424 0.00052826241913088\n",
      "425 0.0005282587768280659\n",
      "426 0.000528255107059512\n",
      "427 0.0005282515642171572\n",
      "428 0.000528247995681672\n",
      "429 0.0005282445495612604\n",
      "430 0.0005282410794310891\n",
      "431 0.0005282377273713756\n",
      "432 0.0005282343529000456\n",
      "433 0.0005282310923146691\n",
      "434 0.0005282278108344474\n",
      "435 0.0005282246392096728\n",
      "436 0.0005282214481292463\n",
      "437 0.0005282183630218982\n",
      "438 0.000528215259823999\n",
      "439 0.0005282122588592991\n",
      "440 0.0005282092410984744\n",
      "441 0.0005282063219680467\n",
      "442 0.0005282033872685162\n",
      "443 0.0005282005477284419\n",
      "444 0.0005281976937819925\n",
      "445 0.0005281949316509075\n",
      "446 0.0005281921562148463\n",
      "447 0.0005281894693721668\n",
      "448 0.0005281867702674007\n",
      "449 0.0005281841566515055\n",
      "450 0.000528181531760681\n",
      "451 0.0005281789893671656\n",
      "452 0.0005281764366327228\n",
      "453 0.000528173963512868\n",
      "454 0.0005281714809354964\n",
      "455 0.0005281690751945658\n",
      "456 0.0005281666608312047\n",
      "457 0.0005281643206269008\n",
      "458 0.0005281619725893029\n",
      "459 0.0005281596961303678\n",
      "460 0.0005281574125834002\n",
      "461 0.0005281551981279596\n",
      "462 0.0005281529772881321\n",
      "463 0.0005281508231424903\n",
      "464 0.0005281486632763284\n",
      "465 0.0005281465677934885\n",
      "466 0.0005281444672161527\n",
      "467 0.0005281424287944905\n",
      "468 0.0005281403858683963\n",
      "469 0.0005281384029504547\n",
      "470 0.0005281364160838675\n",
      "471 0.000528134487154983\n",
      "472 0.0005281325548006396\n",
      "473 0.0005281306783879043\n",
      "474 0.000528128799041835\n",
      "475 0.0005281269737127375\n",
      "476 0.0005281251459130092\n",
      "477 0.0005281233702743793\n",
      "478 0.0005281215925997886\n",
      "479 0.0005281198652967758\n",
      "480 0.0005281181363657509\n",
      "481 0.0005281164560806671\n",
      "482 0.0005281147745501577\n",
      "483 0.0005281131400014019\n",
      "484 0.0005281115045657276\n",
      "485 0.0005281099145068379\n",
      "486 0.0005281083238967133\n",
      "487 0.0005281067771153817\n",
      "488 0.000528105230096727\n",
      "489 0.0005281037254138393\n",
      "490 0.0005281022207869609\n",
      "491 0.0005281007570556524\n",
      "492 0.0005280992936540741\n",
      "493 0.0005280978697589047\n",
      "494 0.0005280964464486061\n",
      "495 0.000528095061304624\n",
      "496 0.0005280936769829947\n",
      "497 0.0005280923295348785\n",
      "498 0.0005280909831299177\n",
      "499 0.0005280896723512001\n",
      "500 0.0005280883628206181\n",
      "501 0.0005280870877129118\n",
      "502 0.0005280858140432401\n",
      "503 0.0005280845736353502\n",
      "504 0.0005280833348411904\n",
      "505 0.0005280821281885274\n",
      "506 0.0005280809233118122\n",
      "507 0.0005280797494954752\n",
      "508 0.0005280785776045721\n",
      "509 0.0005280774357308352\n",
      "510 0.0005280762959198482\n",
      "511 0.0005280751851192971\n",
      "512 0.0005280740765074176\n",
      "513 0.0005280729959343429\n",
      "514 0.000528071917665157\n",
      "515 0.0005280708664969474\n",
      "516 0.0005280698177375564\n",
      "517 0.0005280687951740077\n",
      "518 0.0005280677751145932\n",
      "519 0.000528066780377349\n",
      "520 0.0005280657882303748\n",
      "521 0.0005280648205622558\n",
      "522 0.0005280638555619622\n",
      "523 0.0005280629142264469\n",
      "524 0.0005280619756281973\n",
      "525 0.0005280610599087667\n",
      "526 0.0005280601469884281\n",
      "527 0.0005280592561881498\n",
      "528 0.0005280583682415681\n",
      "529 0.0005280575016824655\n",
      "530 0.0005280566380248503\n",
      "531 0.0005280557950474104\n",
      "532 0.000528054955012891\n",
      "533 0.000528054134975562\n",
      "534 0.0005280533179165236\n",
      "535 0.0005280525201951918\n",
      "536 0.0005280517254819565\n",
      "537 0.0005280509494695187\n",
      "538 0.0005280501764896402\n",
      "539 0.0005280494215955435\n",
      "540 0.0005280486697534772\n",
      "541 0.0005280479354032293\n",
      "542 0.0005280472041197828\n",
      "543 0.0005280464897545048\n",
      "544 0.0005280457784664388\n",
      "545 0.0005280450835424976\n",
      "546 0.0005280443917020629\n",
      "547 0.0005280437156905146\n",
      "548 0.0005280430427650252\n",
      "549 0.0005280423851514397\n",
      "550 0.0005280417306228524\n",
      "551 0.0005280410909067369\n",
      "552 0.0005280404542712034\n",
      "553 0.0005280398319657131\n",
      "554 0.0005280392127332628\n",
      "555 0.0005280386073647375\n",
      "556 0.000528038005058888\n",
      "557 0.0005280374161666295\n",
      "558 0.0005280368303239128\n",
      "559 0.000528036257459712\n",
      "560 0.0005280356876293988\n",
      "561 0.0005280351303572257\n",
      "562 0.0005280345761010457\n",
      "563 0.0005280340339967563\n",
      "564 0.000528033494888374\n",
      "565 0.0005280329675393426\n",
      "566 0.0005280324431641851\n",
      "567 0.00052803193016897\n",
      "568 0.0005280314201238526\n",
      "569 0.0005280309210920262\n",
      "570 0.0005280304249847452\n",
      "571 0.0005280299395364216\n",
      "572 0.0005280294569855945\n",
      "573 0.0005280289847512341\n",
      "574 0.0005280285153859389\n",
      "575 0.000528028056006093\n",
      "576 0.0005280275994655483\n",
      "577 0.0005280271525904662\n",
      "578 0.0005280267085238223\n",
      "579 0.0005280262738133253\n",
      "580 0.0005280258418793447\n",
      "581 0.0005280254190024808\n",
      "582 0.0005280249988692541\n",
      "583 0.000528024587504088\n",
      "584 0.0005280241788488616\n",
      "585 0.0005280237786821544\n",
      "586 0.0005280233811909449\n",
      "587 0.0005280229919180577\n",
      "588 0.0005280226052855827\n",
      "589 0.0005280222266101055\n",
      "590 0.0005280218505393202\n",
      "591 0.0005280214821729605\n",
      "592 0.0005280211163750866\n",
      "593 0.0005280207580372711\n",
      "594 0.0005280204022313917\n",
      "595 0.0005280200536493313\n",
      "596 0.0005280197075621894\n",
      "597 0.000528019368470401\n",
      "598 0.0005280190318362774\n",
      "599 0.0005280187019765693\n",
      "600 0.0005280183745369685\n",
      "601 0.0005280180536581144\n",
      "602 0.0005280177351617024\n",
      "603 0.0005280174230193058\n",
      "604 0.0005280171132215805\n",
      "605 0.0005280168095779195\n",
      "606 0.000528016508241079\n",
      "607 0.0005280162128649235\n",
      "608 0.0005280159197576402\n",
      "609 0.0005280156324239994\n",
      "610 0.0005280153473213584\n",
      "611 0.0005280150678113571\n",
      "612 0.0005280147904945583\n",
      "613 0.0005280145185952966\n",
      "614 0.0005280142488515301\n",
      "615 0.0005280139843558805\n",
      "616 0.0005280137219781522\n",
      "617 0.0005280134646846636\n",
      "618 0.0005280132094716555\n",
      "619 0.0005280129591843062\n",
      "620 0.0005280127109401929\n",
      "621 0.0005280124674683224\n",
      "622 0.0005280122260026811\n",
      "623 0.0005280119891607918\n",
      "624 0.0005280117542883833\n",
      "625 0.0005280115238960154\n",
      "626 0.0005280112954366477\n",
      "627 0.0005280110713183361\n",
      "628 0.0005280108490967811\n",
      "629 0.0005280106310816828\n",
      "630 0.0005280104149275091\n",
      "631 0.0005280102028495337\n",
      "632 0.0005280099925969469\n",
      "633 0.0005280097862945109\n",
      "634 0.000528009581782279\n",
      "635 0.0005280093810981544\n",
      "636 0.000528009182169425\n",
      "637 0.0005280089869507035\n",
      "638 0.0005280087934529561\n",
      "639 0.0005280086035508618\n",
      "640 0.000528008415335697\n",
      "641 0.0005280082306055097\n",
      "642 0.0005280080475286153\n",
      "643 0.0005280078678295771\n",
      "644 0.0005280076897505808\n",
      "645 0.0005280075149456972\n",
      "646 0.0005280073417281234\n",
      "647 0.0005280071716841674\n",
      "648 0.0005280070031951476\n",
      "649 0.0005280068377825583\n",
      "650 0.0005280066738929582\n",
      "651 0.0005280065129856198\n",
      "652 0.0005280063535698138\n",
      "653 0.0005280061970450784\n",
      "654 0.000528006041980852\n",
      "655 0.0005280058897194334\n",
      "656 0.0005280057388879524\n",
      "657 0.0005280055907737591\n",
      "658 0.0005280054440594059\n",
      "659 0.0005280052999795458\n",
      "660 0.0005280051572698407\n",
      "661 0.0005280050171144966\n",
      "662 0.0005280048783000961\n",
      "663 0.0005280047419623884\n",
      "664 0.0005280046069369342\n",
      "665 0.0005280044743129282\n",
      "666 0.0005280043429728724\n",
      "667 0.000528004213961502\n",
      "668 0.0005280040862062569\n",
      "669 0.0005280039607090664\n",
      "670 0.0005280038364407506\n",
      "671 0.0005280037143621144\n",
      "672 0.0005280035934854625\n",
      "673 0.0005280034747323172\n",
      "674 0.0005280033571547489\n",
      "675 0.0005280032416365031\n",
      "676 0.0005280031272679055\n",
      "677 0.0005280030148965091\n",
      "678 0.0005280029036492545\n",
      "679 0.0005280027943389967\n",
      "680 0.0005280026861278884\n",
      "681 0.000528002579795418\n",
      "682 0.0005280024745375115\n",
      "683 0.0005280023711017766\n",
      "684 0.0005280022687164636\n",
      "685 0.0005280021680985394\n",
      "686 0.0005280020685073729\n",
      "687 0.0005280019706305557\n",
      "688 0.0005280018737572603\n",
      "689 0.0005280017785468955\n",
      "690 0.0005280016843172556\n",
      "691 0.0005280015917006974\n",
      "692 0.0005280015000425472\n",
      "693 0.0005280014099492083\n",
      "694 0.0005280013207923533\n",
      "695 0.0005280012331534856\n",
      "696 0.0005280011464296092\n",
      "697 0.0005280010611784002\n",
      "698 0.0005280009768210882\n",
      "699 0.0005280008938924842\n",
      "700 0.0005280008118371167\n",
      "701 0.000528000731167904\n",
      "702 0.0005280006513516515\n",
      "703 0.0005280005728802551\n",
      "704 0.0005280004952420091\n",
      "705 0.000528000418908605\n",
      "706 0.0005280003433888722\n",
      "707 0.0005280002691351918\n",
      "708 0.0005280001956762001\n",
      "709 0.0005280001234456233\n",
      "710 0.0005280000519910437\n",
      "711 0.0005279999817284783\n",
      "712 0.0005279999122236463\n",
      "713 0.0005279998438754633\n",
      "714 0.0005279997762671578\n",
      "715 0.0005279997097812281\n",
      "716 0.0005279996440176745\n",
      "717 0.0005279995793432728\n",
      "718 0.0005279995153740954\n",
      "719 0.0005279994524618734\n",
      "720 0.0005279993902381321\n",
      "721 0.0005279993290401203\n",
      "722 0.000527999268514136\n",
      "723 0.0005279992089836126\n",
      "724 0.0005279991501090646\n",
      "725 0.0005279990922006291\n",
      "726 0.0005279990349324261\n",
      "727 0.0005279989786018765\n",
      "728 0.0005279989228962135\n",
      "729 0.0005279988681005726\n",
      "730 0.0005279988139147758\n"
     ]
    },
    {
     "name": "stdout",
     "output_type": "stream",
     "text": [
      "731 0.0005279987606122434\n",
      "732 0.0005279987079048304\n",
      "733 0.0005279986560547175\n",
      "734 0.0005279986047853399\n",
      "735 0.0005279985543481141\n",
      "736 0.0005279985044775263\n",
      "737 0.0005279984554146432\n",
      "738 0.0005279984069046963\n",
      "739 0.0005279983591787532\n",
      "740 0.0005279983119922823\n",
      "741 0.0005279982655668807\n",
      "742 0.0005279982196677405\n",
      "743 0.0005279981745074187\n",
      "744 0.00052799812986053\n",
      "745 0.0005279980859308282\n",
      "746 0.0005279980425019802\n",
      "747 0.0005279979997693912\n",
      "748 0.000527997957525377\n",
      "749 0.0005279979159572762\n",
      "750 0.0005279978748657294\n",
      "751 0.0005279978344303732\n",
      "752 0.0005279977944599027\n",
      "753 0.0005279977551264351\n",
      "754 0.0005279977162463638\n",
      "755 0.0005279976779848057\n",
      "756 0.0005279976401654206\n",
      "757 0.0005279976029465405\n",
      "758 0.0005279975661588988\n",
      "759 0.0005279975299542715\n",
      "760 0.0005279974941702383\n",
      "761 0.0005279974589522528\n",
      "762 0.0005279974241443929\n",
      "763 0.0005279973898861892\n",
      "764 0.0005279973560278883\n",
      "765 0.0005279973227032775\n",
      "766 0.0005279972897686375\n",
      "767 0.0005279972573521977\n",
      "768 0.000527997225316019\n",
      "769 0.0005279971937830162\n",
      "770 0.0005279971626207392\n",
      "771 0.0005279971319471135\n",
      "772 0.0005279971016349287\n",
      "773 0.0005279970717972294\n",
      "774 0.000527997042311942\n",
      "775 0.000527997013287423\n",
      "776 0.0005279969846064552\n",
      "777 0.0005279969563729215\n",
      "778 0.0005279969284743754\n",
      "779 0.0005279969010103039\n",
      "780 0.0005279968738727526\n",
      "781 0.0005279968471571778\n",
      "782 0.0005279968207599166\n",
      "783 0.0005279967947724296\n",
      "784 0.0005279967690952547\n",
      "785 0.0005279967438160379\n",
      "786 0.0005279967188392586\n",
      "787 0.0005279966942489963\n",
      "788 0.0005279966699535572\n",
      "789 0.0005279966460335037\n",
      "790 0.0005279966224007569\n",
      "791 0.0005279965991326252\n",
      "792 0.0005279965761445147\n",
      "793 0.0005279965535105387\n",
      "794 0.0005279965311495282\n",
      "795 0.0005279965091324303\n",
      "796 0.0005279964873813412\n",
      "797 0.0005279964659643233\n",
      "798 0.0005279964448065634\n",
      "799 0.0005279964239732532\n",
      "800 0.0005279964033926093\n",
      "801 0.0005279963831271093\n",
      "802 0.0005279963631078182\n",
      "803 0.0005279963433946761\n",
      "804 0.000527996323921441\n",
      "805 0.000527996304745613\n",
      "806 0.0005279962858035431\n",
      "807 0.0005279962671503416\n",
      "808 0.000527996248724967\n",
      "809 0.0005279962305801538\n",
      "810 0.0005279962126573363\n",
      "811 0.0005279961950070965\n",
      "812 0.0005279961775731338\n",
      "813 0.0005279961604039746\n",
      "814 0.0005279961434455445\n",
      "815 0.0005279961267443277\n",
      "816 0.0005279961102484479\n",
      "817 0.0005279960940024715\n",
      "818 0.0005279960779565468\n",
      "819 0.0005279960621533627\n",
      "820 0.0005279960465450798\n",
      "821 0.0005279960311726523\n",
      "822 0.0005279960159900805\n",
      "823 0.0005279960010366527\n",
      "824 0.0005279959862682104\n",
      "825 0.000527995971722342\n",
      "826 0.0005279959573567142\n",
      "827 0.000527995943207321\n",
      "828 0.000527995929233515\n",
      "829 0.0005279959154698114\n",
      "830 0.0005279959018771251\n",
      "831 0.0005279958884885692\n",
      "832 0.0005279958752666307\n",
      "833 0.0005279958622430194\n",
      "834 0.0005279958493817086\n",
      "835 0.0005279958367130781\n",
      "836 0.0005279958242025495\n",
      "837 0.000527995811879255\n",
      "838 0.0005279957997099065\n",
      "839 0.0005279957877225165\n",
      "840 0.0005279957758851248\n",
      "841 0.0005279957642244527\n",
      "842 0.0005279957527099036\n",
      "843 0.0005279957413670939\n",
      "844 0.0005279957301666142\n",
      "845 0.0005279957191329782\n",
      "846 0.0005279957082379292\n",
      "847 0.0005279956975050911\n",
      "848 0.0005279956869071843\n",
      "849 0.0005279956764668961\n",
      "850 0.00052799566615805\n",
      "851 0.0005279956560023117\n",
      "852 0.0005279956459746445\n",
      "853 0.0005279956360957589\n",
      "854 0.0005279956263415811\n",
      "855 0.0005279956167319698\n",
      "856 0.0005279956072438235\n",
      "857 0.0005279955978961318\n",
      "858 0.0005279955886667718\n",
      "859 0.0005279955795738981\n",
      "860 0.0005279955705962323\n",
      "861 0.000527995561751239\n",
      "862 0.0005279955530184265\n",
      "863 0.0005279955444145125\n",
      "864 0.0005279955359198797\n",
      "865 0.0005279955275505041\n",
      "866 0.0005279955192875401\n",
      "867 0.0005279955111463252\n",
      "868 0.0005279955031087061\n",
      "869 0.0005279954951894105\n",
      "870 0.000527995487370984\n",
      "871 0.0005279954796675836\n",
      "872 0.0005279954720623833\n",
      "873 0.0005279954645689593\n",
      "874 0.0005279954571711793\n",
      "875 0.0005279954498820152\n",
      "876 0.0005279954426859989\n",
      "877 0.0005279954355955402\n",
      "878 0.0005279954285957879\n",
      "879 0.0005279954216985972\n",
      "880 0.0005279954148897241\n",
      "881 0.0005279954081805629\n",
      "882 0.0005279954015573886\n",
      "883 0.000527995395031118\n",
      "884 0.0005279953885885897\n",
      "885 0.0005279953822402129\n",
      "886 0.0005279953759733683\n",
      "887 0.000527995369798037\n",
      "888 0.0005279953637021097\n",
      "889 0.0005279953576951403\n",
      "890 0.0005279953517654696\n",
      "891 0.0005279953459222192\n",
      "892 0.0005279953401542643\n",
      "893 0.0005279953344703431\n",
      "894 0.0005279953288596707\n",
      "895 0.0005279953233306614\n",
      "896 0.0005279953178730218\n",
      "897 0.0005279953124947428\n",
      "898 0.0005279953071859475\n",
      "899 0.000527995301954253\n",
      "900 0.0005279952967902336\n",
      "901 0.0005279952917011882\n",
      "902 0.0005279952866779914\n",
      "903 0.0005279952817276711\n",
      "904 0.0005279952768414541\n",
      "905 0.0005279952720261193\n",
      "906 0.0005279952672731359\n",
      "907 0.0005279952625890292\n",
      "908 0.0005279952579657131\n",
      "909 0.0005279952534093171\n",
      "910 0.0005279952489120362\n",
      "911 0.0005279952444798531\n",
      "912 0.0005279952401052474\n",
      "913 0.0005279952357938747\n",
      "914 0.0005279952315385499\n",
      "915 0.0005279952273447323\n",
      "916 0.0005279952232054752\n",
      "917 0.0005279952191259682\n",
      "918 0.0005279952150995847\n",
      "919 0.000527995211131295\n",
      "920 0.0005279952072147077\n",
      "921 0.0005279952033545983\n",
      "922 0.0005279951995448339\n",
      "923 0.000527995195789944\n",
      "924 0.0005279951920840654\n",
      "925 0.0005279951884315402\n",
      "926 0.0005279951848267291\n",
      "927 0.0005279951812737802\n",
      "928 0.000527995177767269\n",
      "929 0.0005279951743111797\n",
      "930 0.0005279951709002801\n",
      "931 0.0005279951675384204\n",
      "932 0.0005279951642205509\n",
      "933 0.0005279951609503362\n",
      "934 0.0005279951577229468\n",
      "935 0.0005279951545418644\n",
      "936 0.0005279951514025071\n",
      "937 0.0005279951483081584\n",
      "938 0.0005279951452543893\n",
      "939 0.0005279951422443898\n",
      "940 0.0005279951392738924\n",
      "941 0.0005279951363459494\n",
      "942 0.0005279951334564767\n",
      "943 0.0005279951306083748\n",
      "944 0.0005279951277976892\n",
      "945 0.0005279951250272268\n",
      "946 0.0005279951222931719\n",
      "947 0.0005279951195982439\n",
      "948 0.0005279951169387424\n",
      "949 0.0005279951143172935\n",
      "950 0.0005279951117303282\n",
      "951 0.0005279951091803227\n",
      "952 0.0005279951066638988\n",
      "953 0.0005279951041834171\n",
      "954 0.0005279951017356397\n",
      "955 0.0005279950993227826\n",
      "956 0.0005279950969417162\n",
      "957 0.0005279950945946529\n",
      "958 0.0005279950922785537\n",
      "959 0.000527995089995466\n",
      "960 0.0005279950877424715\n",
      "961 0.0005279950855216534\n",
      "962 0.0005279950833301371\n",
      "963 0.000527995081169828\n",
      "964 0.0005279950790380897\n",
      "965 0.0005279950769366726\n",
      "966 0.0005279950748630438\n",
      "967 0.0005279950728189342\n",
      "968 0.0005279950708018487\n",
      "969 0.0005279950688134756\n",
      "970 0.000527995066851391\n",
      "971 0.0005279950649171985\n",
      "972 0.0005279950630086307\n",
      "973 0.0005279950611271965\n",
      "974 0.0005279950592706696\n",
      "975 0.0005279950574404937\n",
      "976 0.0005279950556346158\n",
      "977 0.0005279950538543365\n",
      "978 0.0005279950520976834\n",
      "979 0.0005279950503659461\n",
      "980 0.0005279950486572211\n",
      "981 0.0005279950469727177\n",
      "982 0.000527995045310548\n",
      "983 0.0005279950436719599\n",
      "984 0.0005279950420551522\n",
      "985 0.0005279950404612129\n",
      "986 0.0005279950388884982\n",
      "987 0.0005279950373380181\n",
      "988 0.0005279950358081575\n",
      "989 0.0005279950342999615\n",
      "990 0.0005279950328118471\n",
      "991 0.0005279950313447521\n",
      "992 0.0005279950298972021\n",
      "993 0.0005279950284701208\n",
      "994 0.00052799502706205\n",
      "995 0.0005279950256738846\n",
      "996 0.000527995024304188\n",
      "997 0.0005279950229538648\n",
      "998 0.0005279950216215308\n",
      "999 0.0005279950203080114\n"
     ]
    }
   ],
   "source": [
    "from nnode2ivp import nnode2ivp\n",
    "np.random.seed(0)\n",
    "(yt, dyt_dx, d2yt_dx2) = nnode2ivp(G, A, Ap, dG_dy, dG_dydx, dG_d2ydx2, xt, verbose = True)"
   ]
  },
  {
   "cell_type": "markdown",
   "metadata": {},
   "source": [
    "Plot the results of this training run."
   ]
  },
  {
   "cell_type": "code",
   "execution_count": 47,
   "metadata": {},
   "outputs": [
    {
     "data": {
      "image/png": "[encoded data removed]",
      "text/plain": [
       "<Figure size 432x288 with 1 Axes>"
      ]
     },
     "metadata": {},
     "output_type": "display_data"
    }
   ],
   "source": [
    "plt.plot(xt, yt, label = '$y_t$')\n",
    "plt.plot(xt, dyt_dx, label = '$dy_t/dx$')\n",
    "plt.plot(xt, d2yt_dx2, label = '$d^2y_t/dx^2$')\n",
    "plt.xlabel('$x_t$')\n",
    "plt.ylabel('$y_t$')\n",
    "plt.legend()\n",
    "plt.title(\"Figure 3: Trained solution and derivative\");"
   ]
  },
  {
   "cell_type": "markdown",
   "metadata": {},
   "source": [
    "Plot the error in the estimated solution and derivatives."
   ]
  },
  {
   "cell_type": "code",
   "execution_count": 48,
   "metadata": {},
   "outputs": [
    {
     "data": {
      "image/png": "[encoded data removed]",
      "text/plain": [
       "<Figure size 432x288 with 1 Axes>"
      ]
     },
     "metadata": {},
     "output_type": "display_data"
    }
   ],
   "source": [
    "y = np.zeros(nt)\n",
    "dy_dx = np.zeros(nt)\n",
    "d2y_dx2 = np.zeros(nt)\n",
    "for i in range(nt):\n",
    "    y[i] = ya(xt[i])\n",
    "    dy_dx[i] = dya_dx(xt[i])\n",
    "    d2y_dx2[i] = d2ya_dx2(xt[i])\n",
    "plt.plot(xt, yt - y, label = '$y_t-y$')\n",
    "plt.plot(xt, dyt_dx - dy_dx, label = '$dy_t/dx-dy/dx$')\n",
    "plt.plot(xt, d2yt_dx2 - d2y_dx2, label = '$d^2y_t/dx^2-d^2y/dx^2$')\n",
    "plt.xlabel('$x_t$')\n",
    "plt.ylabel('Error')\n",
    "plt.legend()\n",
    "plt.title(\"Figure 4: Error in trained solution\");"
   ]
  }
 ],
 "metadata": {
  "kernelspec": {
   "display_name": "Python 3",
   "language": "python",
   "name": "python3"
  },
  "language_info": {
   "codemirror_mode": {
    "name": "ipython",
    "version": 3
   },
   "file_extension": ".py",
   "mimetype": "text/x-python",
   "name": "python",
   "nbconvert_exporter": "python",
   "pygments_lexer": "ipython3",
   "version": "3.6.5"
  }
 },
 "nbformat": 4,
 "nbformat_minor": 2
}

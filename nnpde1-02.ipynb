{
 "cells": [
  {
   "cell_type": "markdown",
   "metadata": {},
   "source": [
    "## Setup"
   ]
  },
  {
   "cell_type": "code",
   "execution_count": 1,
   "metadata": {},
   "outputs": [
    {
     "data": {
      "application/javascript": [
       "MathJax.Hub.Config({\n",
       "      TeX: { equationNumbers: { autoNumber: \"AMS\" } }\n",
       "    });MathJax.Hub.Queue(\n",
       "  [\"resetEquationNumbers\", MathJax.InputJax.TeX],\n",
       "  [\"PreProcess\", MathJax.Hub],\n",
       "  [\"Reprocess\", MathJax.Hub]\n",
       ");\n",
       "MathJax.Hub.Queue(\n",
       "  [\"resetEquationNumbers\", MathJax.InputJax.TeX],\n",
       "  [\"PreProcess\", MathJax.Hub],\n",
       "  [\"Reprocess\", MathJax.Hub]\n",
       ");"
      ],
      "text/plain": [
       "<IPython.core.display.Javascript object>"
      ]
     },
     "metadata": {},
     "output_type": "display_data"
    }
   ],
   "source": [
    "%%javascript\n",
    "MathJax.Hub.Config({\n",
    "      TeX: { equationNumbers: { autoNumber: \"AMS\" } }\n",
    "    });MathJax.Hub.Queue(\n",
    "  [\"resetEquationNumbers\", MathJax.InputJax.TeX],\n",
    "  [\"PreProcess\", MathJax.Hub],\n",
    "  [\"Reprocess\", MathJax.Hub]\n",
    ");\n",
    "MathJax.Hub.Queue(\n",
    "  [\"resetEquationNumbers\", MathJax.InputJax.TeX],\n",
    "  [\"PreProcess\", MathJax.Hub],\n",
    "  [\"Reprocess\", MathJax.Hub]\n",
    ");"
   ]
  },
  {
   "cell_type": "code",
   "execution_count": 2,
   "metadata": {},
   "outputs": [],
   "source": [
    "from math import exp\n",
    "from mpl_toolkits.mplot3d import Axes3D\n",
    "import matplotlib.pyplot as plt\n",
    "%matplotlib inline\n",
    "import numpy as np"
   ]
  },
  {
   "cell_type": "markdown",
   "metadata": {},
   "source": [
    "# Introduction"
   ]
  },
  {
   "cell_type": "markdown",
   "metadata": {},
   "source": [
    "This notebook will demonstrate how to use the code in the `nnpde1.py` module. The module allows the user to solve an arbitrary 1st-order partial differential equation (PDE) initial value problem (IVP) with two variables, and Dirichlet initial conditions, using a single-hidden layer neural network."
   ]
  },
  {
   "cell_type": "markdown",
   "metadata": {},
   "source": [
    "This work is based on the paper [\"Artificial Neural Networks for Solving Ordinary and Partial Differential Equations\", by Lagaris et al, *IEEE Transactions on Neural Networks, Volume 9, No. 5*, September 1998](http://ieeexplore.ieee.org/document/712178/). Note that the notation used in this notebook and the associated Python code differs slightly from that used in the Lagaris paper."
   ]
  },
  {
   "cell_type": "markdown",
   "metadata": {},
   "source": [
    "## The algorithm"
   ]
  },
  {
   "cell_type": "markdown",
   "metadata": {},
   "source": [
    "Consider an $m$-dimensional space containing vectors $\\vec x = (x_1,x_2,...,x_m)$. Any 1st-order PDE for the scalar function $\\psi(\\vec x)$ can be written in the form:"
   ]
  },
  {
   "cell_type": "markdown",
   "metadata": {},
   "source": [
    "\\begin{equation}\n",
    "G(\\vec x,\\psi,\\vec \\nabla \\psi) = 0\n",
    "\\end{equation}"
   ]
  },
  {
   "cell_type": "markdown",
   "metadata": {},
   "source": [
    "The problem is to find a suitable solution to the PDE using a neural network."
   ]
  },
  {
   "cell_type": "markdown",
   "metadata": {},
   "source": [
    "The network is trained using a set of $n$ training points $\\vec x_i$ ($1 \\leq i \\leq n$). This work assumes that the vectors $\\vec x_i$ have been scaled so that each component $x_{ij} \\in [0,1]$, $1 \\leq j \\leq m$. The training points need not be evenly-spaced. Note that only the independent variable vectors $\\vec x_i$  of the training points are needed - the estimated value of the solution at the training points is obtained using a trial solution $\\psi_t$ of the form:"
   ]
  },
  {
   "cell_type": "markdown",
   "metadata": {},
   "source": [
    "\\begin{equation}\n",
    "\\psi_t(\\vec x_i,\\vec p) = A(\\vec x_i) + P(\\vec x_i) N(\\vec x_i,\\vec p)\n",
    "\\end{equation}"
   ]
  },
  {
   "cell_type": "markdown",
   "metadata": {},
   "source": [
    "or:"
   ]
  },
  {
   "cell_type": "markdown",
   "metadata": {},
   "source": [
    "\\begin{equation}\n",
    "\\psi_{ti} = A_i + P_i N_i\n",
    "\\end{equation}"
   ]
  },
  {
   "cell_type": "markdown",
   "metadata": {},
   "source": [
    "where $\\psi_{ti}$ is the value of the trial solution at the current training point $\\vec x_i$, $A_i$ is a function which yields the initial conditions at the origin of each dimension, $P_i$ is a function which vanishes at the origin of each dimension, and $N_i$ is the floating-point single-valued output from an unspecified neural network with network parameters $\\vec p$. Note that this trial solution satisfies the boundary conditions by construction - at any boundary, the second term vanishes, leaving $\\psi_t(\\vec x_i, \\vec p_i)=A(\\vec x_i)$, which is just the specified boundary condition on that boundary. The PDE is assumed to have been preprocessed so that the boundary conditions lie at the origin. For a 2-variable PDE with independent variables $x$ and $y$, this condition is represented by:"
   ]
  },
  {
   "cell_type": "markdown",
   "metadata": {},
   "source": [
    "\\begin{equation}\n",
    "\\psi_t(0,y,\\vec p) = f_0(y)\n",
    "\\end{equation}"
   ]
  },
  {
   "cell_type": "markdown",
   "metadata": {},
   "source": [
    "\\begin{equation}\n",
    "\\psi_t(x,0,\\vec p) = g_0(x)\n",
    "\\end{equation}"
   ]
  },
  {
   "cell_type": "markdown",
   "metadata": {},
   "source": [
    "The analytical forms of $A(\\vec x_i)$ and $P(\\vec x_i)$ are constructed to meet these requirements, and noting that, by continuity at the origin, $f_0(0)=g_0(0)$. For a 2-variable PDE, we have:"
   ]
  },
  {
   "cell_type": "markdown",
   "metadata": {},
   "source": [
    "\\begin{equation}\n",
    "A(x,y) = (1-x)f_0(y) + (1-y)(g_0(x) - (1-x)g_0(0))\n",
    "\\end{equation}"
   ]
  },
  {
   "cell_type": "markdown",
   "metadata": {},
   "source": [
    "\\begin{equation}\n",
    "P(x,y) = xy\n",
    "\\end{equation}"
   ]
  },
  {
   "cell_type": "markdown",
   "metadata": {},
   "source": [
    "These functions rapidly become more complex as the number of problem dimensions is increased, so this example will utilize a 2-variable PDE. Training is done in a set of *epochs*. A training epoch consists of presenting the neural network with each of the $n$ training points $\\vec x_i$, one at a time. For each input point $\\vec x_i$, the network output $N_i$ is computed. Once all $n$ points have been presented, the epoch is complete, and the error function $E$ is computed. The problem definition provides an analytical form for the error function, as the sum of squared errors (SSE) for each of the training points:"
   ]
  },
  {
   "cell_type": "markdown",
   "metadata": {},
   "source": [
    "\\begin{equation}\n",
    "E = \\sum_{i=1}^{n} \\left( G(\\vec x_i,\\psi_{ti}, \\vec \\nabla \\psi_{ti}) \\right)^2 =\n",
    "\\sum_{i=1}^{n} G_i^2\n",
    "\\end{equation}"
   ]
  },
  {
   "cell_type": "markdown",
   "metadata": {},
   "source": [
    "Once this error function is computed, the parameters in the neural network are adjusted to reduce the error. Eventually, a minimum of $E$ is attained, and the resulting final form of $\\psi_t(x)$ is used as the solution to the original PDE."
   ]
  },
  {
   "cell_type": "markdown",
   "metadata": {},
   "source": [
    "## Computing the network output $N_i$"
   ]
  },
  {
   "cell_type": "markdown",
   "metadata": {},
   "source": [
    "The neural network used in this work has a simple structure. One input node for each component of $\\vec x_i$ is used (for a total of $m$ input nodes) to provide the training data. Each input node is fully-connected to each of a set of $H$ hidden nodes, each using a sigmoid transfer function. Each hidden node is connected to the single output node, which uses a linear transfer function with a weight for the signal from each hidden node."
   ]
  },
  {
   "cell_type": "markdown",
   "metadata": {},
   "source": [
    "During each step of a training epoch, the input to the network is just the training point $\\vec x_i$. Each input node $j$ receives one component $x_{ij}$, and emits that value as output. These outputs are sent to each of the $H$ hidden nodes. At each hidden node $k$, the input values $x_{ij}$ are combined and scaled by the equation:"
   ]
  },
  {
   "cell_type": "markdown",
   "metadata": {},
   "source": [
    "\\begin{equation}\n",
    "z_{ik} = \\sum_{j=1}^m w_{jk} x_{ij} + u_k\n",
    "\\end{equation}"
   ]
  },
  {
   "cell_type": "markdown",
   "metadata": {},
   "source": [
    "where  $w_{jk}$ is the weight for input node $j$ at hidden node $k$, and $u_k$ is the bias at hidden node $k$. This combined value is then used as the input to a sigmoidal transfer function:"
   ]
  },
  {
   "cell_type": "markdown",
   "metadata": {},
   "source": [
    "\\begin{equation}\n",
    "\\sigma_{ik} = \\sigma(z_{ik})\n",
    "\\end{equation}"
   ]
  },
  {
   "cell_type": "markdown",
   "metadata": {},
   "source": [
    "where:"
   ]
  },
  {
   "cell_type": "markdown",
   "metadata": {},
   "source": [
    "\\begin{equation}\n",
    "\\sigma(z) = \\frac {1}{1+e^{-z}}\n",
    "\\end{equation}"
   ]
  },
  {
   "cell_type": "markdown",
   "metadata": {},
   "source": [
    "A plot of this transfer function and its first three derivatives is provided below."
   ]
  },
  {
   "cell_type": "code",
   "execution_count": 3,
   "metadata": {},
   "outputs": [
    {
     "data": {
      "image/png": "[encoded data removed]",
      "text/plain": [
       "<Figure size 432x288 with 1 Axes>"
      ]
     },
     "metadata": {},
     "output_type": "display_data"
    }
   ],
   "source": [
    "def sigma(z):\n",
    "    return 1 / (1 + exp(-z))\n",
    "\n",
    "def dsigma_dz(z):\n",
    "    return exp(-z) / (1 + exp(-z))**2\n",
    "\n",
    "def d2sigma_dz2(z):\n",
    "    return (\n",
    "        2 * exp(-2 * z) / (1 + exp(-z))**3 - exp(-z) / (1 + exp(-z))**2\n",
    "    )\n",
    "\n",
    "def d3sigma_dz3(z):\n",
    "    return (\n",
    "        6 * exp(-3 * z) / (1 + exp(-z))**4\n",
    "        - 6 * exp(-2 * z) / (1 + exp(-z))**3\n",
    "        + exp(-z) / (1 + exp(-z))**2\n",
    "    )\n",
    "\n",
    "z = np.arange(-5, 5, 0.01)\n",
    "n = len(z)\n",
    "s = np.zeros(n)\n",
    "ds_dz = np.zeros(n)\n",
    "d2s_dz2 = np.zeros(n)\n",
    "d3s_dz3 = np.zeros(n)\n",
    "for i in range(n):\n",
    "    s[i] = sigma(z[i])\n",
    "    ds_dz[i] = dsigma_dz(z[i])\n",
    "    d2s_dz2[i] = d2sigma_dz2(z[i])\n",
    "    d3s_dz3[i] = d3sigma_dz3(z[i])\n",
    "plt.plot(z,s,label = \"$\\sigma(z)$\")\n",
    "plt.plot(z,ds_dz,label = \"$d\\sigma/dz$\")\n",
    "plt.plot(z,d2s_dz2, label = \"$d^2\\sigma/dz^2$\")\n",
    "plt.plot(z,d3s_dz3, label = \"$d^3\\sigma/dz^3$\");\n",
    "plt.xlabel(\"z\")\n",
    "plt.ylabel(\"$\\sigma(z)$ or derivative\")\n",
    "plt.title(\"Figure 1: The $\\sigma$-function and its first three derivatives\")\n",
    "plt.legend();"
   ]
  },
  {
   "cell_type": "markdown",
   "metadata": {},
   "source": [
    "Once the $\\sigma_{ik}$ are computed, they are all passed to the single output node, where they are processed by a linear transfer function to create the network output for the current input point $\\vec x_i$:"
   ]
  },
  {
   "cell_type": "markdown",
   "metadata": {},
   "source": [
    "\\begin{equation}\n",
    "N_i = \\sum_{k=1}^{H}v_k\\sigma_{ik}\n",
    "\\end{equation}"
   ]
  },
  {
   "cell_type": "markdown",
   "metadata": {},
   "source": [
    "where $v_k$ is the weight applied to the output from hidden node $k$ at the output node. Once $N_i$ has been computed, the trial function $\\psi_{ti}$ is computed. To compute the value of $G_i$ (and thus $E$), we also need the gradient of the trial function $\\vec \\nabla \\psi_{ti}$."
   ]
  },
  {
   "cell_type": "markdown",
   "metadata": {},
   "source": [
    "\\begin{equation}\n",
    "\\vec \\nabla \\psi_{ti} = \\vec \\nabla (A_i + P_i N_i)\n",
    "\\end{equation}"
   ]
  },
  {
   "cell_type": "markdown",
   "metadata": {},
   "source": [
    "Each component $j$ of this gradient may be written as:"
   ]
  },
  {
   "cell_type": "markdown",
   "metadata": {},
   "source": [
    "\\begin{equation}\n",
    "\\frac {\\partial \\psi_{ti}}{\\partial x_{ij}} =\n",
    "\\frac {\\partial A_i}{\\partial x_{ij}} + P_i \\frac {\\partial N_i}{\\partial x_{ij}} + \\frac {\\partial P_i}{\\partial x_{ij}} N_i\n",
    "\\end{equation}"
   ]
  },
  {
   "cell_type": "markdown",
   "metadata": {},
   "source": [
    "The functional forms of the derivatives of $A_i$ and $P_i$ with respect to $x_{ij}$ are computed $\\it a \\ priori$ from their known analytical forms, which may vary based on the problem under investigation. The values of the network output derivatives $\\frac {\\partial N_i}{\\partial x_{ij}}$ are computed analytically using the known form of the network and its weights and biases."
   ]
  },
  {
   "cell_type": "markdown",
   "metadata": {},
   "source": [
    "\\begin{equation}\n",
    "\\frac {\\partial N_i}{\\partial x_{ij}} =\n",
    "\\frac {\\partial}{\\partial x_{ij}} \\sum_{k=1}^{H} v_k \\sigma_{ik} =\n",
    "\\sum_{k=1}^{H} v_k \\frac {\\partial \\sigma_{ik}}{\\partial x_{ij}} =\n",
    "\\sum_{k=1}^{H} v_k \\frac {\\partial \\sigma_{ik}}{\\partial z_{ik}} \\frac {\\partial z_{ik}}{\\partial x_{ij}} = \\sum_{k=1}^{H} v_k \\sigma_{ik}^{(1)} w_{jk}\n",
    "\\end{equation}"
   ]
  },
  {
   "cell_type": "markdown",
   "metadata": {},
   "source": [
    "where the derivatives of $\\sigma$ are given by:"
   ]
  },
  {
   "cell_type": "markdown",
   "metadata": {},
   "source": [
    "\\begin{equation}\n",
    "\\sigma^{(k)} = \\frac {d^k \\sigma}{dz^k}\n",
    "\\end{equation}"
   ]
  },
  {
   "cell_type": "markdown",
   "metadata": {},
   "source": [
    "With the values of $\\psi_{ti}$ and $\\vec \\nabla \\psi_{ti}$, we can now compute the values of $G_i$, and then the error function $E$ for the current epoch."
   ]
  },
  {
   "cell_type": "markdown",
   "metadata": {},
   "source": [
    "## Updating the network parameters"
   ]
  },
  {
   "cell_type": "markdown",
   "metadata": {},
   "source": [
    "The network parameters are the weights and biases of the hidden and output nodes. For an $m$-dimensional input point $\\vec x_i$, and a set of $H$ hidden nodes, we have a total of $N_p = (m+2)H$ parameters in total: a weight for each $x_{ij}$ for each hidden node, a bias for each hidden node, and an output weight for each hidden node."
   ]
  },
  {
   "cell_type": "markdown",
   "metadata": {},
   "source": [
    "Since the objective function to minimize is the error $E$, the value of each network parameter $p$ (where $p$ represents $v_k$, $u_k$, or $w_{jk}$) is updated using a scaled Newton's method:"
   ]
  },
  {
   "cell_type": "markdown",
   "metadata": {},
   "source": [
    "\\begin{equation}\n",
    "p_{new}=p - \\eta \\frac {\\frac {\\partial E}{\\partial p}} {\\frac {\\partial^2 E}{\\partial p^2}}\n",
    "\\end{equation}"
   ]
  },
  {
   "cell_type": "markdown",
   "metadata": {},
   "source": [
    "where $\\eta$ is the *learning rate* (usually $\\eta < 1$). The learning rate is used to reduce the chance of solution instability due to large values of the correction factor in Newton's method. The derivatives of $E$ are computed using the known form of $G_i$, the network, and the network parameters."
   ]
  },
  {
   "cell_type": "markdown",
   "metadata": {},
   "source": [
    "This process of parameter updates is repeated until the specified maximum number of training epochs has been applied. Note that the same set of training points is presented during each epoch."
   ]
  },
  {
   "cell_type": "markdown",
   "metadata": {},
   "source": [
    "## Computing the derivatives of $E$"
   ]
  },
  {
   "cell_type": "markdown",
   "metadata": {},
   "source": [
    "The partial derivatives of $E$ with respect to any network parameter $p$ are given by:"
   ]
  },
  {
   "cell_type": "markdown",
   "metadata": {},
   "source": [
    "\\begin{equation}\n",
    "\\frac {\\partial E}{\\partial p} =\n",
    "2 \\sum_{i=1}^n G_i \\frac {\\partial G_i}{\\partial p}\n",
    "\\end{equation}"
   ]
  },
  {
   "cell_type": "markdown",
   "metadata": {},
   "source": [
    "\\begin{equation}\n",
    "\\frac {\\partial^2 E}{\\partial p^2} =\n",
    "2 \\sum_{i=1}^n \\left[G_i \\frac {\\partial^2 G_i}{\\partial p^2} + \\left(\\frac {\\partial G_i}{\\partial p} \\right)^2 \\right]\n",
    "\\end{equation}"
   ]
  },
  {
   "cell_type": "markdown",
   "metadata": {},
   "source": [
    "## Computing the derivatives of $G_i$"
   ]
  },
  {
   "cell_type": "markdown",
   "metadata": {},
   "source": [
    "The partial derivatives of $G_i$ with respect to $x_{ij}$, $\\psi_{ti}$, and $\\frac {\\partial \\psi_{ti}} {\\partial x_{ij}}$ are determined $\\it a\\ priori$ from the analytical form of $G$. Note also that $\\frac {\\partial x_{ij}} {\\partial p_{hk}} = 0$. The remaining partial derivatives of $G_i$ are:"
   ]
  },
  {
   "cell_type": "markdown",
   "metadata": {},
   "source": [
    "\\begin{equation}\n",
    "\\frac {\\partial G_i}{\\partial p} =\n",
    "\\frac {\\partial G_i}{\\partial \\psi_{ti}} \\frac {\\partial \\psi_{ti}}{\\partial p} +\n",
    "\\sum_{j=1}^m \\frac {\\partial G_i}{\\partial \\left(\\frac {\\partial \\psi_{ti}}{\\partial x_{ij}}\\right)}\n",
    "\\frac {\\partial^2 \\psi_{ti}}{\\partial p \\partial x_{ij}}\n",
    "\\end{equation}"
   ]
  },
  {
   "cell_type": "markdown",
   "metadata": {},
   "source": [
    "\\begin{equation}\n",
    "\\frac {\\partial^2 G_i}{\\partial p^2} =\n",
    "\\frac {\\partial G_i}{\\partial \\psi_{ti}}\n",
    "\\frac {\\partial^2 \\psi_{ti}}{\\partial p^2} +\n",
    "\\frac {\\partial} {\\partial p} \\left ( \\frac {\\partial G_i} {\\partial \\psi_{ti}} \\right ) \\frac {\\partial \\psi_{ti}} {\\partial p} +\n",
    "\\sum_{j=1}^m\n",
    "\\left [\n",
    "\\frac {\\partial G_i} {\\partial \\left ( \\frac {\\partial \\psi_{ti}} {\\partial x_{ij}} \\right ) }\n",
    "\\frac {\\partial \\psi_{ti}^3} {\\partial p^2 \\partial x_{ij}} +\n",
    "\\frac {\\partial} {\\partial p} \\left ( \\frac {\\partial G_i} {\\partial \\frac {\\partial \\psi_{ti}} {\\partial x_{ij}}} \\right )\n",
    "\\frac {\\partial \\psi_{ti}^2} {\\partial p \\partial x_{ij}}\n",
    "\\right ]\n",
    "\\end{equation}"
   ]
  },
  {
   "cell_type": "markdown",
   "metadata": {},
   "source": [
    "Note that the partials of $G_i$ by $\\vec x$, $\\psi$, and $\\vec \\nabla \\psi$ must be supplied in anaytical form, since the analytical form of $G_i(\\vec x,\\psi,\\vec \\nabla \\psi)$ is known. Partials of these partials by parameters $p$ are found using the chain rule, as they are for $G_i$ itself."
   ]
  },
  {
   "cell_type": "markdown",
   "metadata": {},
   "source": [
    "## Computing the derivatives of $\\psi_{ti}$"
   ]
  },
  {
   "cell_type": "markdown",
   "metadata": {},
   "source": [
    " The derivatives of the trial solution $\\psi_{t}$ are given by:"
   ]
  },
  {
   "cell_type": "markdown",
   "metadata": {},
   "source": [
    "\\begin{equation}\n",
    "\\frac {\\partial \\psi_{ti}} {\\partial p} = \\\n",
    "P_i \\frac {\\partial N_i} {\\partial p}\n",
    "\\end{equation}"
   ]
  },
  {
   "cell_type": "markdown",
   "metadata": {},
   "source": [
    "\\begin{equation}\n",
    "\\frac {\\partial^2 \\psi_{ti}} {\\partial p^2} = \\\n",
    "P_i \\frac {\\partial^2 N_i} {\\partial p^2}\n",
    "\\end{equation}"
   ]
  },
  {
   "cell_type": "markdown",
   "metadata": {},
   "source": [
    "\\begin{equation}\n",
    "\\frac {\\partial^2 \\psi_{ti}} {\\partial p \\partial x_{ij}} = \\\n",
    "P_i \\frac {\\partial^2 N_i} {\\partial p \\partial x_{ij}} + \\\n",
    "\\frac {\\partial P_i} {\\partial x_{ij}} \\frac {\\partial N_i} {\\partial p}\n",
    "\\end{equation}"
   ]
  },
  {
   "cell_type": "markdown",
   "metadata": {},
   "source": [
    "\\begin{equation}\n",
    "\\frac {\\partial^3 \\psi_{ti}} {\\partial p^2 \\partial x_{ij}} = \\\n",
    "P_i \\frac {\\partial^3 N_i} {\\partial p^2 \\partial x_{ij}} + \\\n",
    "\\frac {\\partial P_i} {\\partial x_{ij}} \\frac {\\partial^2 N_i} {\\partial p^2}\n",
    "\\end{equation}"
   ]
  },
  {
   "cell_type": "markdown",
   "metadata": {},
   "source": [
    "Note that $A_i$ and $P_i$ are independent of the network parameters $p$."
   ]
  },
  {
   "cell_type": "markdown",
   "metadata": {},
   "source": [
    "## Computing the derivatives of $N_i$"
   ]
  },
  {
   "cell_type": "markdown",
   "metadata": {},
   "source": [
    "The partial derivatives of $N_i$ are:"
   ]
  },
  {
   "cell_type": "markdown",
   "metadata": {},
   "source": [
    "\\begin{equation}\n",
    "\\frac {\\partial N_i} {\\partial x_{ij}} = \\sum_{k=1}^H v_k \\sigma_{ik}^{(1)} w_{jk}\n",
    "\\end{equation}"
   ]
  },
  {
   "cell_type": "markdown",
   "metadata": {},
   "source": [
    "\\begin{equation}\n",
    "\\frac {\\partial N_i} {\\partial p} =\n",
    "\\sum_{k=1}^H \\left ( v_k \\sigma_{ik}^{(1)} \\frac {\\partial z_{ik}} {\\partial p} +\n",
    "\\frac {\\partial v_k} {\\partial p} \\sigma_{ik} \\right )\n",
    "\\end{equation}"
   ]
  },
  {
   "cell_type": "markdown",
   "metadata": {},
   "source": [
    "\\begin{equation}\n",
    "\\frac {\\partial^2 N_i}{\\partial p^2} =\n",
    "\\sum_{k=1}^H \\left(\n",
    "v_k \\sigma_{ik}^{(2)} \\left( \\frac {\\partial z_{ik}}{\\partial p} \\right)^2 +\n",
    "2 \\frac {\\partial v_k}{\\partial p} \\sigma_{ik}^{(1)} \\frac {\\partial z_{ik}}{\\partial p} \n",
    "\\right)\n",
    "\\end{equation}"
   ]
  },
  {
   "cell_type": "markdown",
   "metadata": {},
   "source": [
    "\\begin{equation}\n",
    "\\frac {\\partial^2 N_i}{\\partial p \\partial x_{ij}} =\n",
    "\\sum_{k=1}^{H} \\left(\n",
    "v_k \\sigma_{ik}^{(1)} \\frac {\\partial w_{jk}} {\\partial p} + \\\n",
    "v_k \\sigma_{ik}^{(2)} \\frac {\\partial z_{ik}} {\\partial p} w_{jk} + \\\n",
    "\\frac {\\partial v_k} {\\partial p} \\sigma_{ik}^{(1)} w_{jk}\n",
    "\\right)\n",
    "\\end{equation}"
   ]
  },
  {
   "cell_type": "markdown",
   "metadata": {},
   "source": [
    "\\begin{equation}\n",
    "\\frac {\\partial^3 N_i}{\\partial p^2 \\partial x_i} =\n",
    "\\sum_{k=1}^H\n",
    "\\left(\n",
    "v_k \\sigma_{ik}^{(2)} \\frac {\\partial z_{ik}} {\\partial p} \\frac {\\partial w_{jk}} {\\partial p} +\n",
    "\\frac {\\partial v_k} {\\partial p} \\sigma_{ik}^{(1)} \\frac {\\partial w_{jk}} {\\partial p} +\n",
    "v_k \\sigma_{ik}^{(2)} \\frac {\\partial z_{ik}} {\\partial p} \\frac {\\partial w_{jk}} {\\partial p} +\n",
    "v_k \\sigma_{ik}^{(3)} \\left( \\frac {\\partial z_{ik}} {\\partial p} \\right)^2 w_{jk} +\n",
    "\\frac {\\partial v_k} {\\partial p} \\sigma_{ik}^{(2)} \\frac {\\partial z_{ik}} {\\partial p} w_{jk} +\n",
    "\\frac {\\partial v_k} {\\partial p} \\sigma_{ik}^{(1)} \\frac {\\partial w_{jk}} {\\partial p} +\n",
    "\\frac {\\partial v_k} {\\partial p} \\sigma_{ik}^{(2)} \\frac {\\partial z_{ik}} {\\partial p} w_{jlk}\n",
    "\\right)\n",
    "\\end{equation}"
   ]
  },
  {
   "cell_type": "markdown",
   "metadata": {},
   "source": [
    "Most of these expressions can now be simplified using the following relations between the network parameters ($*$ means any index or combination of indices):"
   ]
  },
  {
   "cell_type": "markdown",
   "metadata": {},
   "source": [
    "\\begin{equation}\n",
    "\\frac {\\partial v_k}{\\partial v_l} = \\delta_{kl},\n",
    "\\frac {\\partial v_k}{\\partial w_*} = \\frac {\\partial v_k}{\\partial u_*} = 0\n",
    "\\end{equation}\n"
   ]
  },
  {
   "cell_type": "markdown",
   "metadata": {},
   "source": [
    "\\begin{equation}\n",
    "\\frac {\\partial u_k}{\\partial u_l} = \\delta_{kl},\n",
    "\\frac {\\partial u_k}{\\partial v_*} = \\frac {\\partial u_k}{\\partial w_*} = 0\n",
    "\\end{equation}"
   ]
  },
  {
   "cell_type": "markdown",
   "metadata": {},
   "source": [
    "\\begin{equation}\n",
    "\\frac {\\partial w_{jk}}{\\partial w_{hl}} = \\delta_{jh} \\delta_{kl},\n",
    "\\frac {\\partial w_{jk}}{\\partial v_*} = \\frac {\\partial w_{jk}}{\\partial u_*} = 0\n",
    "\\end{equation}"
   ]
  },
  {
   "cell_type": "markdown",
   "metadata": {},
   "source": [
    "\\begin{equation}\n",
    "\\frac {\\partial z_{ik}}{\\partial v_*} = 0,\n",
    "\\frac {\\partial z_{ik}}{\\partial w_{jl}} = x_{ij} \\delta_{kl},\n",
    "\\frac {\\partial z_{ik}}{\\partial u_l} = \\delta_{kl},\n",
    "\\end{equation}"
   ]
  },
  {
   "cell_type": "markdown",
   "metadata": {},
   "source": [
    "# Walking through an example problem"
   ]
  },
  {
   "cell_type": "markdown",
   "metadata": {},
   "source": [
    "Consider the simple 1st-order partial differential equation:"
   ]
  },
  {
   "cell_type": "markdown",
   "metadata": {},
   "source": [
    "\\begin{equation}\n",
    "G(\\vec x, \\psi, \\vec \\nabla \\psi) = 2xy - \\psi\n",
    "\\end{equation}"
   ]
  },
  {
   "cell_type": "markdown",
   "metadata": {},
   "source": [
    "In Python form:"
   ]
  },
  {
   "cell_type": "code",
   "execution_count": 4,
   "metadata": {},
   "outputs": [],
   "source": [
    "def Gf(xy, psi, del_psi):\n",
    "    (x, y) = xy\n",
    "    (dpsi_dx, dpsi_dy) = del_psi\n",
    "    return 2*x*y - psi"
   ]
  },
  {
   "cell_type": "markdown",
   "metadata": {},
   "source": [
    "The analytical solution to this PDE is:"
   ]
  },
  {
   "cell_type": "markdown",
   "metadata": {},
   "source": [
    "\\begin{equation}\n",
    "\\psi(x,y) = 2xy\n",
    "\\end{equation}"
   ]
  },
  {
   "cell_type": "markdown",
   "metadata": {},
   "source": [
    "This function is plotted in the following figure:"
   ]
  },
  {
   "cell_type": "code",
   "execution_count": 5,
   "metadata": {},
   "outputs": [
    {
     "data": {
      "image/png": "[encoded data removed]",
      "text/plain": [
       "<Figure size 432x288 with 1 Axes>"
      ]
     },
     "metadata": {},
     "output_type": "display_data"
    }
   ],
   "source": [
    "fig = plt.figure()\n",
    "ax = fig.gca(projection = '3d')\n",
    "x = np.linspace(0,1,101)\n",
    "y = np.linspace(0,1,101)\n",
    "x,y = np.meshgrid(x,y)\n",
    "psi = 2*x*y\n",
    "z = psi.reshape(x.shape)\n",
    "surf = ax.plot_surface(x, y, z)\n",
    "ax.set_xlabel('$x$')\n",
    "ax.set_ylabel('$y$')\n",
    "ax.set_zlim3d(0, 2)\n",
    "ax.set_zlabel('$\\psi(x,y)$');"
   ]
  },
  {
   "cell_type": "markdown",
   "metadata": {},
   "source": [
    "We need to specify quite a few derivatives, but most of them vanish. To begin, the first partials of $G(\\vec x,\\psi,\\vec \\nabla \\psi)$:"
   ]
  },
  {
   "cell_type": "markdown",
   "metadata": {},
   "source": [
    "\\begin{equation}\n",
    "\\frac {\\partial G} {\\partial x} = 2y\n",
    "\\end{equation}"
   ]
  },
  {
   "cell_type": "markdown",
   "metadata": {},
   "source": [
    "\\begin{equation}\n",
    "\\frac {\\partial G} {\\partial y} = 2x\n",
    "\\end{equation}"
   ]
  },
  {
   "cell_type": "markdown",
   "metadata": {},
   "source": [
    "In Python form, these equations are (unused arguments are ignored):"
   ]
  },
  {
   "cell_type": "code",
   "execution_count": 6,
   "metadata": {},
   "outputs": [],
   "source": [
    "def dG_dxf(xy,psi,del_psi):\n",
    "    (x,y) = xy\n",
    "    return 2*y"
   ]
  },
  {
   "cell_type": "code",
   "execution_count": 7,
   "metadata": {},
   "outputs": [],
   "source": [
    "def dG_dyf(xy, psi, del_psi):\n",
    "    (x, y) = xy\n",
    "    return 2*x"
   ]
  },
  {
   "cell_type": "code",
   "execution_count": 8,
   "metadata": {},
   "outputs": [],
   "source": [
    "del_Gf = (dG_dxf,dG_dyf)"
   ]
  },
  {
   "cell_type": "markdown",
   "metadata": {},
   "source": [
    "\\begin{equation}\n",
    "\\frac {\\partial G} {\\partial \\psi} = -1\n",
    "\\end{equation}"
   ]
  },
  {
   "cell_type": "markdown",
   "metadata": {},
   "source": [
    "In Python form:"
   ]
  },
  {
   "cell_type": "code",
   "execution_count": 9,
   "metadata": {},
   "outputs": [],
   "source": [
    "def dG_dpsif(xy, psi, del_psi):\n",
    "    return -1"
   ]
  },
  {
   "cell_type": "markdown",
   "metadata": {},
   "source": [
    "\\begin{equation}\n",
    "\\frac {\\partial G} {\\partial \\left ( \\frac {\\partial \\psi} {\\partial x} \\right )} = 0\n",
    "\\end{equation}"
   ]
  },
  {
   "cell_type": "markdown",
   "metadata": {},
   "source": [
    "\\begin{equation}\n",
    "\\frac {\\partial G} {\\partial \\left ( \\frac {\\partial \\psi} {\\partial y} \\right )} = 0\n",
    "\\end{equation}"
   ]
  },
  {
   "cell_type": "markdown",
   "metadata": {},
   "source": [
    "In Python form:"
   ]
  },
  {
   "cell_type": "code",
   "execution_count": 10,
   "metadata": {},
   "outputs": [],
   "source": [
    "def dG_dpsi_dxf(xy, psi, del_psi):\n",
    "    (dpsi_dx, dpsi_dy) = del_psi\n",
    "    return 0"
   ]
  },
  {
   "cell_type": "code",
   "execution_count": 11,
   "metadata": {},
   "outputs": [],
   "source": [
    "def dG_dpsi_dyf(xy, psi, del_psi):\n",
    "    (dpsi_dx, dpsi_dy) = del_psi\n",
    "    return 0"
   ]
  },
  {
   "cell_type": "code",
   "execution_count": 12,
   "metadata": {},
   "outputs": [],
   "source": [
    "dG_ddel_psif = (dG_dpsi_dxf,dG_dpsi_dyf)"
   ]
  },
  {
   "cell_type": "markdown",
   "metadata": {},
   "source": [
    "The required second partials are:"
   ]
  },
  {
   "cell_type": "markdown",
   "metadata": {},
   "source": [
    "\\begin{equation}\n",
    "\\frac {\\partial^2 G} {\\partial \\psi^2} = 0\n",
    "\\end{equation}"
   ]
  },
  {
   "cell_type": "code",
   "execution_count": 13,
   "metadata": {},
   "outputs": [],
   "source": [
    "def d2G_dpsi2f(xy, psi, del_psi):\n",
    "    return 0"
   ]
  },
  {
   "cell_type": "markdown",
   "metadata": {},
   "source": [
    "\\begin{equation}\n",
    "\\frac {\\partial^2 G} {\\partial \\left ( \\frac {\\partial \\psi} {\\partial x} \\right ) \\partial \\psi} = 0\n",
    "\\end{equation}"
   ]
  },
  {
   "cell_type": "markdown",
   "metadata": {},
   "source": [
    "\\begin{equation}\n",
    "\\frac {\\partial^2 G} {\\partial \\left ( \\frac {\\partial \\psi} {\\partial y} \\right ) \\partial \\psi} = 0\n",
    "\\end{equation}"
   ]
  },
  {
   "cell_type": "code",
   "execution_count": 14,
   "metadata": {},
   "outputs": [],
   "source": [
    "def d2G_ddxdpsif(xy, psi, del_psi):\n",
    "    return 0"
   ]
  },
  {
   "cell_type": "code",
   "execution_count": 15,
   "metadata": {},
   "outputs": [],
   "source": [
    "def d2G_ddydpsif(xy, psi, del_psi):\n",
    "    return 0"
   ]
  },
  {
   "cell_type": "code",
   "execution_count": 16,
   "metadata": {},
   "outputs": [],
   "source": [
    "d2G_ddel_psi_dpsif = (d2G_ddxdpsif, d2G_ddydpsif)"
   ]
  },
  {
   "cell_type": "markdown",
   "metadata": {},
   "source": [
    "\\begin{equation}\n",
    "\\frac {\\partial^2 G} { \\partial \\psi \\partial \\left ( \\frac {\\partial \\psi} {\\partial x} \\right )} = 0\n",
    "\\end{equation}"
   ]
  },
  {
   "cell_type": "markdown",
   "metadata": {},
   "source": [
    "\\begin{equation}\n",
    "\\frac {\\partial^2 G} { \\partial \\psi \\partial \\left ( \\frac {\\partial \\psi} {\\partial y} \\right )} = 0\n",
    "\\end{equation}"
   ]
  },
  {
   "cell_type": "code",
   "execution_count": 17,
   "metadata": {},
   "outputs": [],
   "source": [
    "def d2G_dpsiddx(xy, psi, del_psi):\n",
    "    return 0"
   ]
  },
  {
   "cell_type": "code",
   "execution_count": 18,
   "metadata": {},
   "outputs": [],
   "source": [
    "def d2G_dpsiddy(xy, psi, del_psi):\n",
    "    return 0"
   ]
  },
  {
   "cell_type": "code",
   "execution_count": 19,
   "metadata": {},
   "outputs": [],
   "source": [
    "d2G_dpsi_ddel_psif = (d2G_dpsiddx, d2G_dpsiddy)"
   ]
  },
  {
   "cell_type": "markdown",
   "metadata": {},
   "source": [
    "\\begin{equation}\n",
    "\\frac {\\partial^2 G} { \\partial \\left ( \\frac {\\partial \\psi} {\\partial x} \\right )^2} = 0\n",
    "\\end{equation}"
   ]
  },
  {
   "cell_type": "markdown",
   "metadata": {},
   "source": [
    "\\begin{equation}\n",
    "\\frac {\\partial^2 G} { \\partial \\left ( \\frac {\\partial \\psi} {\\partial y} \\right )^2} = 0\n",
    "\\end{equation}"
   ]
  },
  {
   "cell_type": "code",
   "execution_count": 20,
   "metadata": {},
   "outputs": [],
   "source": [
    "def d2G_ddx2f(xy, psi, del_psi):\n",
    "    return 0"
   ]
  },
  {
   "cell_type": "code",
   "execution_count": 21,
   "metadata": {},
   "outputs": [],
   "source": [
    "def d2G_ddy2f(xy, psi, del_psi):\n",
    "    return 0"
   ]
  },
  {
   "cell_type": "code",
   "execution_count": 22,
   "metadata": {},
   "outputs": [],
   "source": [
    "d2G_ddel_psi2f = (d2G_ddx2f, d2G_ddy2f)"
   ]
  },
  {
   "cell_type": "markdown",
   "metadata": {},
   "source": [
    "The boundary condition functions and their required derivatives are:"
   ]
  },
  {
   "cell_type": "markdown",
   "metadata": {},
   "source": [
    "\\begin{equation}\n",
    "f_0(y)=0\n",
    "\\end{equation}"
   ]
  },
  {
   "cell_type": "markdown",
   "metadata": {},
   "source": [
    "\\begin{equation}\n",
    "g_0(x)=0\n",
    "\\end{equation}"
   ]
  },
  {
   "cell_type": "code",
   "execution_count": 23,
   "metadata": {},
   "outputs": [],
   "source": [
    "def f0f(y):\n",
    "    return 0"
   ]
  },
  {
   "cell_type": "code",
   "execution_count": 24,
   "metadata": {},
   "outputs": [],
   "source": [
    "def g0f(x):\n",
    "    return 0"
   ]
  },
  {
   "cell_type": "code",
   "execution_count": 25,
   "metadata": {},
   "outputs": [],
   "source": [
    "bcf = (f0f,g0f)"
   ]
  },
  {
   "cell_type": "markdown",
   "metadata": {},
   "source": [
    "\\begin{equation}\n",
    "\\frac {\\partial f_0} {\\partial y} = 0\n",
    "\\end{equation}"
   ]
  },
  {
   "cell_type": "markdown",
   "metadata": {},
   "source": [
    "\\begin{equation}\n",
    "\\frac {\\partial g_0} {\\partial x} = 0\n",
    "\\end{equation}"
   ]
  },
  {
   "cell_type": "code",
   "execution_count": 26,
   "metadata": {},
   "outputs": [],
   "source": [
    "def df0_dyf(y):\n",
    "    return 0"
   ]
  },
  {
   "cell_type": "code",
   "execution_count": 27,
   "metadata": {},
   "outputs": [],
   "source": [
    "def dg0_dxf(x):\n",
    "    return 0"
   ]
  },
  {
   "cell_type": "code",
   "execution_count": 28,
   "metadata": {},
   "outputs": [],
   "source": [
    "bcdf = (df0_dyf, dg0_dxf)"
   ]
  },
  {
   "cell_type": "markdown",
   "metadata": {},
   "source": [
    "Now that we have the forms for all of these derivatives and boundary conditions, we can create the training points. Use an evenly-spaced grid of 25 points."
   ]
  },
  {
   "cell_type": "code",
   "execution_count": 29,
   "metadata": {},
   "outputs": [],
   "source": [
    "nxy = 5\n",
    "dxy = 1 / nxy\n",
    "x = np.zeros((nxy**2, 2))\n",
    "for j in range(nxy):\n",
    "    for i in range(nxy):\n",
    "        k = j * nxy + i\n",
    "        x[k][0] = i * dxy\n",
    "        x[k][1] = j * dxy"
   ]
  },
  {
   "cell_type": "markdown",
   "metadata": {},
   "source": [
    "Call the function which solves the ODE. Use 10 nodes in the hidden layer, and 1000 training epochs, a learning rate of 0.01, and activate verbose output."
   ]
  },
  {
   "cell_type": "code",
   "execution_count": 30,
   "metadata": {},
   "outputs": [
    {
     "name": "stdout",
     "output_type": "stream",
     "text": [
      "0 7.259678471615555\n",
      "1 6.248685879117241\n",
      "2 4.9170379776624555\n",
      "3 3.875857662079813\n",
      "4 3.059191476119239\n",
      "5 2.417321001883486\n",
      "6 1.9121377884696371\n",
      "7 1.5141402812294846\n",
      "8 1.2003514459063573\n",
      "9 0.9528056886774425\n",
      "10 0.7574183738824788\n",
      "11 0.6031265980213558\n",
      "12 0.4812288779507953\n",
      "13 0.3848739177836782\n",
      "14 0.30866274464738\n",
      "15 0.24833793750677527\n",
      "16 0.20054026690797222\n",
      "17 0.16261782652126042\n",
      "18 0.1324762564802146\n",
      "19 0.1084612861157902\n",
      "20 0.08926677199483413\n",
      "21 0.07386281089113089\n",
      "22 0.061439485878349874\n",
      "23 0.05136251809005266\n",
      "24 0.043137751469951274\n",
      "25 0.03638214650826349\n",
      "26 0.03079977856599611\n",
      "27 0.026162033253718103\n",
      "28 0.022291580473301063\n",
      "29 0.019049781779831944\n",
      "30 0.016327092394225563\n",
      "31 0.014035924014043508\n",
      "32 0.01210541739075375\n",
      "33 0.010477631611797239\n",
      "34 0.009104752980773881\n",
      "35 0.007947026254101729\n",
      "36 0.006971196152055507\n",
      "37 0.006149311983608672\n",
      "38 0.005457794471327426\n",
      "39 0.0048766955026393\n",
      "40 0.004389102730104373\n",
      "41 0.003980655056596792\n",
      "42 0.003639144495124007\n",
      "43 0.00335418632736971\n",
      "44 0.0031169439685879317\n",
      "45 0.0029198981598378593\n",
      "46 0.00275665247804476\n",
      "47 0.0026217689407615563\n",
      "48 0.0025106288368779185\n",
      "49 0.0024193149143426325\n",
      "50 0.002344511734257464\n",
      "51 0.0022834213803618886\n",
      "52 0.0022336918515185366\n",
      "53 0.002193355497806188\n",
      "54 0.002160775004157633\n",
      "55 0.0021345948892085723\n",
      "56 0.0021136973117704587\n",
      "57 0.002097161926525568\n",
      "58 0.002084230201432424\n",
      "59 0.0020742747288261614\n",
      "60 0.0020667736986740293\n",
      "61 0.002061290187319589\n",
      "62 0.0020574555714400157\n",
      "63 0.0020549563169083677\n",
      "64 0.0020535235217060297\n",
      "65 0.0020529247528922718\n",
      "66 0.0020529578143441986\n",
      "67 0.00205344610962646\n",
      "68 0.0020542352645208277\n",
      "69 0.002055190684263086\n",
      "70 0.0020561957551170637\n",
      "71 0.002057150453186116\n",
      "72 0.0020579701832057133\n",
      "73 0.0020585847261268397\n",
      "74 0.002058937220815623\n",
      "75 0.0020589831404286005\n",
      "76 0.0020586892486970094\n",
      "77 0.002058032537293154\n",
      "78 0.002056999154716423\n",
      "79 0.002055583341602413\n",
      "80 0.0020537863885589707\n",
      "81 0.002051615631749738\n",
      "82 0.002049083499341294\n",
      "83 0.0020462066192223046\n",
      "84 0.0020430049955084567\n",
      "85 0.0020395012585444263\n",
      "86 0.0020357199905721764\n",
      "87 0.0020316871270474436\n",
      "88 0.0020274294317929515\n",
      "89 0.0020229740427803685\n",
      "90 0.0020183480843076174\n",
      "91 0.002013578340647404\n",
      "92 0.0020086909858380384\n",
      "93 0.0020037113641194104\n",
      "94 0.001998663815537361\n",
      "95 0.0019935715414030044\n",
      "96 0.0019884565045591844\n",
      "97 0.001983339359743783\n",
      "98 0.001978239409716631\n",
      "99 0.001973174583214588\n",
      "100 0.001968161431199952\n",
      "101 0.0019632151382574722\n",
      "102 0.0019583495463680522\n",
      "103 0.0019535771886338375\n",
      "104 0.0019489093308509742\n",
      "105 0.0019443560191164562\n",
      "106 0.0019399261319173987\n",
      "107 0.00193562743538582\n",
      "108 0.0019314666406062917\n",
      "109 0.0019274494620479636\n",
      "110 0.001923580676348149\n",
      "111 0.001919864180814287\n",
      "112 0.0019163030511285613\n",
      "113 0.0019128995978418789\n",
      "114 0.001909655421331302\n",
      "115 0.0019065714649689324\n",
      "116 0.0019036480663135672\n",
      "117 0.0019008850061893404\n",
      "118 0.0018982815555596937\n",
      "119 0.0018958365201428471\n",
      "120 0.0018935482827445575\n",
      "121 0.001891414843310657\n",
      "122 0.0018894338567204795\n",
      "123 0.0018876026683607525\n",
      "124 0.001885918347530984\n",
      "125 0.0018843777187431661\n",
      "126 0.0018829773909849398\n",
      "127 0.0018817137850220319\n",
      "128 0.0018805831588200343\n",
      "129 0.0018795816311668666\n",
      "130 0.0018787052035802252\n",
      "131 0.0018779497805837737\n",
      "132 0.0018773111884356542\n",
      "133 0.0018767851923917264\n",
      "134 0.0018763675125848672\n",
      "135 0.0018760538385990044\n",
      "136 0.001875839842814446\n",
      "137 0.0018757211925990542\n",
      "138 0.0018756935614160297\n",
      "139 0.0018757526389170654\n",
      "140 0.001875894140086635\n",
      "141 0.0018761138134994891\n",
      "142 0.0018764074487512164\n",
      "143 0.0018767708831187951\n",
      "144 0.0018772000075041276\n",
      "145 0.0018776907717121456\n",
      "146 0.0018782391891110255\n",
      "147 0.0018788413407203994\n",
      "148 0.001879493378769637\n",
      "149 0.0018801915297672282\n",
      "150 0.0018809320971184718\n",
      "151 0.0018817114633272267\n",
      "152 0.001882526091815157\n",
      "153 0.0018833725283894688\n",
      "154 0.0018842474023884582\n",
      "155 0.0018851474275319653\n",
      "156 0.0018860694025027416\n",
      "157 0.0018870102112816234\n",
      "158 0.00188796682325978\n",
      "159 0.0018889362931476105\n",
      "160 0.0018899157607003441\n",
      "161 0.001890902450277646\n",
      "162 0.0018918936702538942\n",
      "163 0.00189288681229495\n",
      "164 0.0018938793505149758\n",
      "165 0.0018948688405268864\n",
      "166 0.001895852918398728\n",
      "167 0.0018968292995268975\n",
      "168 0.001897795777437\n",
      "169 0.0018987502225214755\n",
      "170 0.001899690580723441\n",
      "171 0.001900614872174092\n",
      "172 0.00190152118979187\n",
      "173 0.0019024076978496531\n",
      "174 0.0019032726305165545\n",
      "175 0.0019041142903799611\n",
      "176 0.0019049310469530147\n",
      "177 0.001905721335172205\n",
      "178 0.0019064836538896113\n",
      "179 0.0019072165643635231\n",
      "180 0.0019079186887509575\n",
      "181 0.001908588708605587\n",
      "182 0.0019092253633834861\n",
      "183 0.0019098274489597032\n",
      "184 0.0019103938161576118\n",
      "185 0.0019109233692934538\n",
      "186 0.0019114150647376355\n",
      "187 0.0019118679094942727\n",
      "188 0.001912280959800903\n",
      "189 0.0019126533197489273\n",
      "190 0.0019129841399263836\n",
      "191 0.0019132726160835242\n",
      "192 0.001913517987822303\n",
      "193 0.0019137195373100807\n",
      "194 0.0019138765880184606\n",
      "195 0.0019139885034869836\n",
      "196 0.0019140546861128723\n",
      "197 0.0019140745759661678\n",
      "198 0.0019140476496310494\n",
      "199 0.0019139734190728134\n",
      "200 0.0019138514305312325\n",
      "201 0.0019136812634393124\n",
      "202 0.0019134625293681644\n",
      "203 0.001913194870997129\n",
      "204 0.001912877961109579\n",
      "205 0.0019125115016136883\n",
      "206 0.001912095222587671\n",
      "207 0.0019116288813501837\n",
      "208 0.0019111122615541813\n",
      "209 0.0019105451723050505\n",
      "210 0.0019099274473018037\n",
      "211 0.0019092589440014083\n",
      "212 0.0019085395428056295\n",
      "213 0.0019077691462700782\n",
      "214 0.0019069476783347612\n",
      "215 0.0019060750835762463\n",
      "216 0.0019051513264802125\n",
      "217 0.0019041763907347022\n",
      "218 0.0019031502785430321\n",
      "219 0.0019020730099563918\n",
      "220 0.0019009446222252022\n",
      "221 0.0018997651691691937\n",
      "222 0.0018985347205654791\n",
      "223 0.0018972533615543479\n",
      "224 0.0018959211920622624\n",
      "225 0.0018945383262415985\n",
      "226 0.001893104891926735\n",
      "227 0.0018916210301061604\n",
      "228 0.0018900868944099663\n",
      "229 0.0018885026506124739\n",
      "230 0.0018868684761496994\n",
      "231 0.0018851845596508853\n",
      "232 0.0018834511004840646\n",
      "233 0.001881668308315362\n",
      "234 0.001879836402680973\n",
      "235 0.0018779556125725484\n",
      "236 0.0018760261760344384\n",
      "237 0.0018740483397736625\n",
      "238 0.001872022358780991\n",
      "239 0.0018699484959640383\n",
      "240 0.0018678270217910768\n",
      "241 0.0018656582139458902\n",
      "242 0.0018634423569929923\n",
      "243 0.0018611797420531625\n",
      "244 0.0018588706664887415\n",
      "245 0.0018565154335987298\n",
      "246 0.0018541143523231227\n",
      "247 0.001851667736956404\n",
      "248 0.0018491759068697726\n",
      "249 0.0018466391862421582\n",
      "250 0.001844057903799301\n",
      "251 0.001841432392561179\n",
      "252 0.0018387629895971118\n",
      "253 0.0018360500357886209\n",
      "254 0.001833293875599769\n",
      "255 0.0018304948568544626\n",
      "256 0.0018276533305211225\n",
      "257 0.0018247696505037732\n",
      "258 0.0018218441734401784\n",
      "259 0.0018188772585059658\n",
      "260 0.0018158692672253346\n",
      "261 0.0018128205632876701\n",
      "262 0.0018097315123700788\n",
      "263 0.0018066024819655966\n",
      "264 0.0018034338412171989\n",
      "265 0.0018002259607569036\n",
      "266 0.0017969792125502794\n",
      "267 0.0017936939697461537\n",
      "268 0.0017903706065310746\n",
      "269 0.0017870094979888173\n",
      "270 0.0017836110199644152\n",
      "271 0.0017801755489327787\n",
      "272 0.0017767034618718512\n",
      "273 0.0017731951361399712\n",
      "274 0.0017696509493573072\n",
      "275 0.0017660712792917132\n",
      "276 0.0017624565037481215\n",
      "277 0.0017588070004621193\n",
      "278 0.0017551231469969974\n",
      "279 0.0017514053206445807\n",
      "280 0.0017476538983296143\n",
      "281 0.0017438692565174487\n",
      "282 0.0017400517711251813\n",
      "283 0.0017362018174360576\n",
      "284 0.0017323197700167923\n",
      "285 0.0017284060026382638\n",
      "286 0.0017244608881991153\n",
      "287 0.0017204847986521236\n",
      "288 0.0017164781049333932\n",
      "289 0.0017124411768945293\n",
      "290 0.0017083743832372184\n",
      "291 0.0017042780914505204\n",
      "292 0.0017001526677505952\n",
      "293 0.0016959984770230658\n",
      "294 0.0016918158827675092\n",
      "295 0.0016876052470446395\n",
      "296 0.001683366930425154\n",
      "297 0.0016791012919414334\n",
      "298 0.001674808689040883\n",
      "299 0.0016704894775416575\n",
      "300 0.0016661440115902555\n",
      "301 0.0016617726436209909\n",
      "302 0.001657375724317697\n",
      "303 0.0016529536025768291\n",
      "304 0.0016485066254728464\n",
      "305 0.0016440351382250092\n",
      "306 0.0016395394841659649\n",
      "307 0.0016350200047121908\n",
      "308 0.0016304770393357425\n",
      "309 0.0016259109255378434\n",
      "310 0.0016213219988238097\n",
      "311 0.001616710592679651\n",
      "312 0.0016120770385500069\n",
      "313 0.0016074216658174423\n",
      "314 0.0016027448017832953\n",
      "315 0.0015980467716496382\n",
      "316 0.001593327898502917\n",
      "317 0.0015885885032982795\n",
      "318 0.0015838289048457112\n",
      "319 0.0015790494197970338\n",
      "320 0.001574250362634233\n",
      "321 0.0015694320456588005\n",
      "322 0.001564594778982366\n",
      "323 0.0015597388705181736\n",
      "324 0.0015548646259739931\n",
      "325 0.0015499723488455188\n",
      "326 0.001545062340411328\n",
      "327 0.001540134899728451\n"
     ]
    },
    {
     "name": "stdout",
     "output_type": "stream",
     "text": [
      "328 0.0015351903236291143\n",
      "329 0.001530228906718276\n",
      "330 0.001525250941372109\n",
      "331 0.0015202567177375033\n",
      "332 0.0015152465237323076\n",
      "333 0.0015102206450463272\n",
      "334 0.001505179365143472\n",
      "335 0.0015001229652645447\n",
      "336 0.0014950517244306293\n",
      "337 0.0014899659194476873\n",
      "338 0.0014848658249115756\n",
      "339 0.001479751713213995\n",
      "340 0.0014746238545491432\n",
      "341 0.0014694825169211116\n",
      "342 0.0014643279661518077\n",
      "343 0.001459160465890071\n",
      "344 0.001453980277620813\n",
      "345 0.0014487876606755603\n",
      "346 0.0014435828722429856\n",
      "347 0.001438366167380691\n",
      "348 0.0014331377990272212\n",
      "349 0.0014278980180150481\n",
      "350 0.0014226470730840013\n",
      "351 0.001417385210895422\n",
      "352 0.0014121126760470112\n",
      "353 0.001406829711088088\n",
      "354 0.0014015365565358845\n",
      "355 0.0013962334508920526\n",
      "356 0.0013909206306600948\n",
      "357 0.001385598330363218\n",
      "358 0.001380266782563107\n",
      "359 0.0013749262178789257\n",
      "360 0.001369576865007373\n",
      "361 0.0013642189507430914\n",
      "362 0.001358852699999862\n",
      "363 0.001353478335832352\n",
      "364 0.0013480960794587274\n",
      "365 0.0013427061502834937\n",
      "366 0.0013373087659216505\n",
      "367 0.0013319041422229234\n",
      "368 0.001326492493296994\n",
      "369 0.0013210740315394132\n",
      "370 0.0013156489676582291\n",
      "371 0.00131021751070118\n",
      "372 0.0013047798680839234\n",
      "373 0.0012993362456187496\n",
      "374 0.0012938868475442268\n",
      "375 0.001288431876555589\n",
      "376 0.001282971533835982\n",
      "377 0.0012775060190884854\n",
      "378 0.001272035530569043\n",
      "379 0.0012665602651202458\n",
      "380 0.0012610804182059693\n",
      "381 0.0012555961839470745\n",
      "382 0.0012501077551580232\n",
      "383 0.0012446153233842657\n",
      "384 0.0012391190789411395\n",
      "385 0.001233619210953181\n",
      "386 0.001228115907395134\n",
      "387 0.0012226093551335933\n",
      "388 0.0012170997399701927\n",
      "389 0.001211587246685689\n",
      "390 0.0012060720590854226\n",
      "391 0.0012005543600461682\n",
      "392 0.0011950343315640208\n",
      "393 0.0011895121548040019\n",
      "394 0.0011839880101507426\n",
      "395 0.0011784620772609603\n",
      "396 0.001172934535117231\n",
      "397 0.001167405562083455\n",
      "398 0.0011618753359619505\n",
      "399 0.0011563440340521727\n",
      "400 0.0011508118332113604\n",
      "401 0.001145278909916745\n",
      "402 0.001139745440330006\n",
      "403 0.001134211600363267\n",
      "404 0.0011286775657475333\n",
      "405 0.0011231435121029539\n",
      "406 0.0011176096150113599\n",
      "407 0.0011120760500911084\n",
      "408 0.0011065429930742212\n",
      "409 0.0011010106198859058\n",
      "410 0.0010954791067266773\n",
      "411 0.0010899486301570436\n",
      "412 0.0010844193671848729\n",
      "413 0.0010788914953555983\n",
      "414 0.0010733651928451003\n",
      "415 0.001067840638555951\n",
      "416 0.0010623180122163144\n",
      "417 0.001056797494482309\n",
      "418 0.0010512792670435177\n",
      "419 0.0010457635127319178\n",
      "420 0.0010402504156342691\n",
      "421 0.0010347401612081579\n",
      "422 0.0010292329364016473\n",
      "423 0.00102372892977676\n",
      "424 0.0010182283316369906\n",
      "425 0.0010127313341585418\n",
      "426 0.0010072381315259977\n",
      "427 0.0010017489200719871\n",
      "428 0.000996263898421248\n",
      "429 0.0009907832676391089\n",
      "430 0.0009853072313844127\n",
      "431 0.000979835996066995\n",
      "432 0.0009743697710099968\n",
      "433 0.0009689087686166626\n",
      "434 0.0009634532045421051\n",
      "435 0.0009580032978698094\n",
      "436 0.000952559271293062\n",
      "437 0.000947121351301309\n",
      "438 0.0009416897683713518\n",
      "439 0.0009362647571634862\n",
      "440 0.0009308465567225806\n",
      "441 0.0009254354106838908\n",
      "442 0.0009200315674837268\n",
      "443 0.0009146352805746922\n",
      "444 0.0009092468086454939\n",
      "445 0.000903866415845175\n",
      "446 0.0008984943720114858\n",
      "447 0.0008931309529030505\n",
      "448 0.0008877764404354701\n",
      "449 0.0008824311229204736\n",
      "450 0.000877095295308207\n",
      "451 0.0008717692594319008\n",
      "452 0.0008664533242545703\n",
      "453 0.0008611478061172843\n",
      "454 0.0008558530289880949\n",
      "455 0.0008505693247111652\n",
      "456 0.0008452970332551405\n",
      "457 0.0008400365029601258\n",
      "458 0.0008347880907820491\n",
      "459 0.0008295521625334204\n",
      "460 0.0008243290931195699\n",
      "461 0.0008191192667686362\n",
      "462 0.0008139230772545369\n",
      "463 0.0008087409281107619\n",
      "464 0.0008035732328341448\n",
      "465 0.000798420415076162\n",
      "466 0.0007932829088204887\n",
      "467 0.0007881611585444661\n",
      "468 0.0007830556193628197\n",
      "469 0.0007779667571508181\n",
      "470 0.0007728950486453473\n",
      "471 0.0007678409815206393\n",
      "472 0.0007628050544367791\n",
      "473 0.0007577877770580372\n",
      "474 0.0007527896700383332\n",
      "475 0.000747811264971051\n",
      "476 0.0007428531043004779\n",
      "477 0.0007379157411917145\n",
      "478 0.0007329997393563766\n",
      "479 0.0007281056728310673\n",
      "480 0.0007232341257056578\n",
      "481 0.0007183856917989189\n",
      "482 0.0007135609742781561\n",
      "483 0.0007087605852210636\n",
      "484 0.0007039851451165587\n",
      "485 0.0006992352823031435\n",
      "486 0.0006945116323423901\n",
      "487 0.0006898148373261112\n",
      "488 0.0006851455451159078\n",
      "489 0.0006805044085143207\n",
      "490 0.0006758920843671183\n",
      "491 0.0006713092325967893\n",
      "492 0.0006667565151679146\n",
      "493 0.0006622345949857779\n",
      "494 0.0006577441347298326\n",
      "495 0.000653285795624796\n",
      "496 0.0006488602361523887\n",
      "497 0.0006444681107077483\n",
      "498 0.0006401100682050271\n",
      "499 0.0006357867506377686\n",
      "500 0.0006314987915997544\n",
      "501 0.000627246814773202\n",
      "502 0.0006230314323919697\n",
      "503 0.0006188532436872041\n",
      "504 0.0006147128333243114\n",
      "505 0.0006106107698402178\n",
      "506 0.0006065476040902091\n",
      "507 0.0006025238677140579\n",
      "508 0.0005985400716312344\n",
      "509 0.0005945967045753216\n",
      "510 0.0005906942316774683\n",
      "511 0.0005868330931085148\n",
      "512 0.0005830137027896202\n",
      "513 0.0005792364471800936\n",
      "514 0.0005755016841513424\n",
      "515 0.0005718097419548262\n",
      "516 0.0005681609182909941\n",
      "517 0.0005645554794861128\n",
      "518 0.0005609936597820322\n",
      "519 0.00055747566074355\n",
      "520 0.0005540016507871712\n",
      "521 0.0005505717648331508\n",
      "522 0.0005471861040827222\n",
      "523 0.0005438447359203568\n",
      "524 0.0005405476939405239\n",
      "525 0.0005372949780969882\n",
      "526 0.0005340865549716563\n",
      "527 0.0005309223581595493\n",
      "528 0.0005278022887648067\n",
      "529 0.000524726216002595\n",
      "530 0.0005216939779005964\n",
      "531 0.0005187053820934352\n",
      "532 0.0005157602067027509\n",
      "533 0.000512858201295236\n",
      "534 0.0005099990879108909\n",
      "535 0.0005071825621530153\n",
      "536 0.000504408294332127\n",
      "537 0.0005016759306552716\n",
      "538 0.0004989850944527296\n",
      "539 0.0004963353874340489\n",
      "540 0.0004937263909658375\n",
      "541 0.0004911576673635533\n",
      "542 0.0004886287611905073\n",
      "543 0.0004861392005572391\n",
      "544 0.0004836884984148963\n",
      "545 0.0004812761538369887\n",
      "546 0.00047890165328404877\n",
      "547 0.0004765644718464085\n",
      "548 0.0004742640744606241\n",
      "549 0.00047199991709589734\n",
      "550 0.0004697714479069171\n",
      "551 0.00046757810835017254\n",
      "552 0.00046541933426158294\n",
      "553 0.0004632945568929784\n",
      "554 0.00046120320390626696\n",
      "555 0.0004591447003237111\n",
      "556 0.00045711846943358484\n",
      "557 0.0004551239336507483\n",
      "558 0.0004531605153317707\n",
      "559 0.00045122763754472514\n",
      "560 0.00044932472479396315\n",
      "561 0.00044745120370024517\n",
      "562 0.0004456065036372158\n",
      "563 0.0004437900573247787\n",
      "564 0.0004420013013806209\n",
      "565 0.0004402396768309919\n",
      "566 0.0004385046295819025\n",
      "567 0.00043679561085218646\n",
      "568 0.00043511207756980396\n",
      "569 0.0004334534927327581\n",
      "570 0.00043181932573628366\n",
      "571 0.0004302090526676015\n",
      "572 0.0004286221565699616\n",
      "573 0.00042705812767730174\n",
      "574 0.00042551646362130326\n",
      "575 0.0004239966696119562\n",
      "576 0.00042249825859346445\n",
      "577 0.000421020751376703\n",
      "578 0.0004195636767497095\n",
      "579 0.00041812657156758726\n",
      "580 0.0004167089808230571\n",
      "581 0.000415310457699027\n",
      "582 0.0004139305636043551\n",
      "583 0.00041256886819400826\n",
      "584 0.0004112249493746388\n",
      "585 0.0004098983932969208\n",
      "586 0.0004085887943352887\n",
      "587 0.0004072957550564486\n",
      "588 0.00040601888617726884\n",
      "589 0.0004047578065131881\n",
      "590 0.0004035121429178415\n",
      "591 0.00040228153021455086\n",
      "592 0.00040106561112087616\n",
      "593 0.0003998640361663393\n",
      "594 0.00039867646360446384\n",
      "595 0.0003975025593194777\n",
      "596 0.0003963419967284112\n",
      "597 0.00039519445667888055\n",
      "598 0.0003940596273435277\n",
      "599 0.0003929372041110109\n",
      "600 0.00039182688947448323\n",
      "601 0.0003907283929176811\n",
      "602 0.0003896414307990766\n",
      "603 0.0003885657262344859\n",
      "604 0.0003875010089784628\n",
      "605 0.00038644701530467755\n",
      "606 0.00038540348788568734\n",
      "607 0.000384370175672275\n",
      "608 0.000383346833772618\n",
      "609 0.0003823332233315454\n",
      "610 0.0003813291114099893\n",
      "611 0.000380334270864894\n",
      "612 0.00037934848022968474\n",
      "613 0.00037837152359557815\n",
      "614 0.0003774031904936393\n",
      "615 0.0003764432757779612\n",
      "616 0.0003754915795098835\n",
      "617 0.0003745479068434995\n",
      "618 0.0003736120679123675\n",
      "619 0.0003726838777177558\n",
      "620 0.0003717631560181897\n",
      "621 0.0003708497272206505\n",
      "622 0.00036994342027322374\n",
      "623 0.0003690440685594782\n",
      "624 0.0003681515097944481\n",
      "625 0.00036726558592226646\n",
      "626 0.00036638614301563613\n",
      "627 0.0003655130311769007\n",
      "628 0.00036464610444098125\n",
      "629 0.00036378522068006926\n",
      "630 0.00036293024151001524\n",
      "631 0.0003620810321986074\n",
      "632 0.0003612374615755642\n",
      "633 0.00036039940194439597\n",
      "634 0.0003595667289959006\n",
      "635 0.0003587393217236045\n",
      "636 0.0003579170623408134\n",
      "637 0.000357099836199509\n",
      "638 0.00035628753171095863\n",
      "639 0.00035548004026799416\n",
      "640 0.000354677256169066\n",
      "641 0.0003538790765439626\n",
      "642 0.0003530854012811425\n",
      "643 0.00035229613295674673\n"
     ]
    },
    {
     "name": "stdout",
     "output_type": "stream",
     "text": [
      "644 0.0003515111767652474\n",
      "645 0.00035073044045164033\n",
      "646 0.0003499538342453132\n",
      "647 0.0003491812707952853\n",
      "648 0.00034841266510718307\n",
      "649 0.0003476479344815031\n",
      "650 0.00034688699845354654\n",
      "651 0.00034612977873463394\n",
      "652 0.00034537619915485314\n",
      "653 0.0003446261856071133\n",
      "654 0.0003438796659926524\n",
      "655 0.00034313657016782774\n",
      "656 0.00034239682989220863\n",
      "657 0.00034166037877800005\n",
      "658 0.0003409271522407545\n",
      "659 0.0003401970874511952\n",
      "660 0.0003394701232883429\n",
      "661 0.00033874620029388804\n",
      "662 0.0003380252606275316\n",
      "663 0.0003373072480236548\n",
      "664 0.0003365921077489491\n",
      "665 0.00033587978656123127\n",
      "666 0.0003351702326692515\n",
      "667 0.0003344633956935487\n",
      "668 0.0003337592266284098\n",
      "669 0.00033305767780456567\n",
      "670 0.000332358702853193\n",
      "671 0.00033166225667054185\n",
      "672 0.0003309682953837358\n",
      "673 0.0003302767763172576\n",
      "674 0.00032958765796045305\n",
      "675 0.0003289008999358349\n",
      "676 0.0003282164629682387\n",
      "677 0.0003275343088547619\n",
      "678 0.000326854400435494\n",
      "679 0.0003261767015651018\n",
      "680 0.0003255011770850427\n",
      "681 0.00032482779279660774\n",
      "682 0.00032415651543464763\n",
      "683 0.0003234873126420073\n",
      "684 0.00032282015294462607\n",
      "685 0.00032215500572729637\n",
      "686 0.00032149184121013435\n",
      "687 0.00032083063042558156\n",
      "688 0.00032017134519608413\n",
      "689 0.0003195139581123785\n",
      "690 0.0003188584425123424\n",
      "691 0.0003182047724603372\n",
      "692 0.00031755292272731965\n",
      "693 0.00031690286877120215\n",
      "694 0.00031625458671799404\n",
      "695 0.0003156080533432911\n",
      "696 0.00031496324605437894\n",
      "697 0.00031432014287268193\n",
      "698 0.000313678722416837\n",
      "699 0.0003130389638861513\n",
      "700 0.00031240084704444007\n",
      "701 0.0003117643522044905\n",
      "702 0.00031112946021273413\n",
      "703 0.00031049615243448507\n",
      "704 0.0003098644107395284\n",
      "705 0.0003092342174880745\n",
      "706 0.0003086055555171268\n",
      "707 0.00030797840812723544\n",
      "708 0.0003073527590695832\n",
      "709 0.0003067285925334288\n",
      "710 0.00030610589313386156\n",
      "711 0.0003054846458999881\n",
      "712 0.00030486483626334727\n",
      "713 0.0003042464500466704\n",
      "714 0.00030362947345291785\n",
      "715 0.00030301389305473214\n",
      "716 0.00030239969578399006\n",
      "717 0.0003017868689218253\n",
      "718 0.000301175400088836\n",
      "719 0.00030056527723550217\n",
      "720 0.00029995648863300427\n",
      "721 0.0002993490228642439\n",
      "722 0.00029874286881495683\n",
      "723 0.00029813801566536233\n",
      "724 0.00029753445288177344\n",
      "725 0.00029693217020858927\n",
      "726 0.0002963311576604549\n",
      "727 0.00029573140551464127\n",
      "728 0.00029513290430365586\n",
      "729 0.0002945356448080067\n",
      "730 0.0002939396180492401\n",
      "731 0.00029334481528309013\n",
      "732 0.00029275122799288884\n",
      "733 0.0002921588478830871\n",
      "734 0.0002915676668730487\n",
      "735 0.0002909776770908687\n",
      "736 0.00029038887086754126\n",
      "737 0.000289801240731164\n",
      "738 0.00028921477940133117\n",
      "739 0.0002886294797836906\n",
      "740 0.00028804533496463265\n",
      "741 0.000287462338206193\n",
      "742 0.00028688048294097724\n",
      "743 0.00028629976276737005\n",
      "744 0.0002857201714447213\n",
      "745 0.0002851417028888018\n",
      "746 0.0002845643511672942\n",
      "747 0.00028398811049546775\n",
      "748 0.00028341297523194666\n",
      "749 0.0002828389398745623\n",
      "750 0.0002822659990564064\n",
      "751 0.00028169414754188483\n",
      "752 0.0002811233802230133\n",
      "753 0.0002805536921156609\n",
      "754 0.00027998507835604134\n",
      "755 0.00027941753419717143\n",
      "756 0.0002788510550056198\n",
      "757 0.00027828563625805034\n",
      "758 0.000277721273538189\n",
      "759 0.0002771579625336176\n",
      "760 0.0002765956990328231\n",
      "761 0.00027603447892221946\n",
      "762 0.00027547429818332807\n",
      "763 0.0002749151528900058\n",
      "764 0.0002743570392057296\n",
      "765 0.00027379995338098963\n",
      "766 0.0002732438917507725\n",
      "767 0.00027268885073205293\n",
      "768 0.0002721348268213928\n",
      "769 0.00027158181659264264\n",
      "770 0.00027102981669461135\n",
      "771 0.0002704788238489217\n",
      "772 0.00026992883484781697\n",
      "773 0.0002693798465520974\n",
      "774 0.0002688318558890862\n",
      "775 0.0002682848598506863\n",
      "776 0.0002677388554914256\n",
      "777 0.00026719383992663165\n",
      "778 0.00026664981033059325\n",
      "779 0.00026610676393485006\n",
      "780 0.00026556469802643\n",
      "781 0.0002650236099462453\n",
      "782 0.0002644834970874275\n",
      "783 0.00026394435689381323\n",
      "784 0.00026340618685838336\n",
      "785 0.0002628689845218157\n",
      "786 0.00026233274747101216\n",
      "787 0.0002617974733377563\n",
      "788 0.00026126315979728323\n",
      "789 0.0002607298045670484\n",
      "790 0.0002601974054053822\n",
      "791 0.00025966596011026296\n",
      "792 0.0002591354665181344\n",
      "793 0.00025860592250270077\n",
      "794 0.00025807732597381365\n",
      "795 0.00025754967487633535\n",
      "796 0.0002570229671890915\n",
      "797 0.0002564972009238103\n",
      "798 0.00025597237412411616\n",
      "799 0.00025544848486454703\n",
      "800 0.00025492553124957176\n",
      "801 0.00025440351141271095\n",
      "802 0.0002538824235155721\n",
      "803 0.00025336226574703313\n",
      "804 0.0002528430363223582\n",
      "805 0.00025232473348235423\n",
      "806 0.0002518073554926229\n",
      "807 0.00025129090064273047\n",
      "808 0.00025077536724548517\n",
      "809 0.00025026075363617607\n",
      "810 0.00024974705817186325\n",
      "811 0.00024923427923073644\n",
      "812 0.00024872241521133867\n",
      "813 0.00024821146453202003\n",
      "814 0.00024770142563026423\n",
      "815 0.0002471922969620486\n",
      "816 0.00024668407700127206\n",
      "817 0.0002461767642391795\n",
      "818 0.00024567035718378843\n",
      "819 0.00024516485435936394\n",
      "820 0.0002446602543058566\n",
      "821 0.00024415655557842196\n",
      "822 0.00024365375674688557\n",
      "823 0.00024315185639529912\n",
      "824 0.0002426508531214491\n",
      "825 0.00024215074553639635\n",
      "826 0.000241651532264068\n",
      "827 0.0002411532119407783\n",
      "828 0.00024065578321484695\n",
      "829 0.00024015924474620804\n",
      "830 0.00023966359520598057\n",
      "831 0.00023916883327610014\n",
      "832 0.00023867495764899816\n",
      "833 0.00023818196702716913\n",
      "834 0.00023768986012287908\n",
      "835 0.00023719863565783408\n",
      "836 0.00023670829236279752\n",
      "837 0.0002362188289773475\n",
      "838 0.00023573024424952124\n",
      "839 0.00023524253693553974\n",
      "840 0.00023475570579952802\n",
      "841 0.00023426974961320663\n",
      "842 0.0002337846671556671\n",
      "843 0.00023330045721305591\n",
      "844 0.00023281711857838302\n",
      "845 0.00023233465005120975\n",
      "846 0.00023185305043749147\n",
      "847 0.00023137231854927323\n",
      "848 0.00023089245320450497\n",
      "849 0.0002304134532268184\n",
      "850 0.00022993531744532075\n",
      "851 0.00022945804469438506\n",
      "852 0.0002289816338134598\n",
      "853 0.0002285060836468837\n",
      "854 0.00022803139304369352\n",
      "855 0.00022755756085745808\n",
      "856 0.0002270845859460845\n",
      "857 0.00022661246717166898\n",
      "858 0.00022614120340035896\n",
      "859 0.0002256707935021201\n",
      "860 0.00022520123635067993\n",
      "861 0.0002247325308233359\n",
      "862 0.00022426467580078765\n",
      "863 0.00022379767016706846\n",
      "864 0.00022333151280935187\n",
      "865 0.00022286620261785468\n",
      "866 0.00022240173848570103\n",
      "867 0.00022193811930882899\n",
      "868 0.00022147534398584095\n",
      "869 0.0002210134114179113\n",
      "870 0.00022055232050868516\n",
      "871 0.0002200920701641441\n",
      "872 0.000219632659292556\n",
      "873 0.00021917408680433058\n",
      "874 0.00021871635161195172\n",
      "875 0.00021825945262989298\n",
      "876 0.00021780338877449293\n",
      "877 0.0002173481589639217\n",
      "878 0.0002168937621180774\n",
      "879 0.00021644019715848646\n",
      "880 0.00021598746300827322\n",
      "881 0.00021553555859204457\n",
      "882 0.00021508448283585926\n",
      "883 0.00021463423466712856\n",
      "884 0.00021418481301455604\n",
      "885 0.00021373621680809726\n",
      "886 0.00021328844497888423\n",
      "887 0.00021284149645915972\n",
      "888 0.00021239537018223983\n",
      "889 0.0002119500650824501\n",
      "890 0.00021150558009507553\n",
      "891 0.00021106191415630438\n",
      "892 0.00021061906620319548\n",
      "893 0.0002101770351736256\n",
      "894 0.00020973582000623794\n",
      "895 0.00020929541964040892\n",
      "896 0.00020885583301621645\n",
      "897 0.00020841705907436968\n",
      "898 0.00020797909675621703\n",
      "899 0.0002075419450036784\n",
      "900 0.00020710560275919373\n",
      "901 0.00020667006896575913\n",
      "902 0.00020623534256682338\n",
      "903 0.00020580142250629433\n",
      "904 0.00020536830772851432\n",
      "905 0.0002049359971781996\n",
      "906 0.00020450448980046003\n",
      "907 0.00020407378454072872\n",
      "908 0.0002036438803447853\n",
      "909 0.000203214776158693\n",
      "910 0.00020278647092879002\n",
      "911 0.0002023589636016884\n",
      "912 0.000201932253124223\n",
      "913 0.00020150633844345537\n",
      "914 0.0002010812185066548\n",
      "915 0.0002006568922612637\n",
      "916 0.00020023335865491053\n",
      "917 0.00019981061663536316\n",
      "918 0.0001993886651505593\n",
      "919 0.0001989675031485219\n",
      "920 0.0001985471295774282\n",
      "921 0.0001981275433855485\n",
      "922 0.0001977087435212439\n",
      "923 0.00019729072893296285\n",
      "924 0.00019687349856923226\n",
      "925 0.00019645705137863155\n",
      "926 0.00019604138630981185\n",
      "927 0.00019562650231147026\n",
      "928 0.0001952123983323508\n",
      "929 0.00019479907332122269\n",
      "930 0.0001943865262268931\n",
      "931 0.00019397475599820352\n",
      "932 0.00019356376158400092\n",
      "933 0.00019315354193315525\n",
      "934 0.00019274409599455032\n",
      "935 0.00019233542271708363\n",
      "936 0.0001919275210496532\n",
      "937 0.00019152038994116308\n",
      "938 0.00019111402834051308\n",
      "939 0.00019070843519660948\n",
      "940 0.0001903036094583614\n",
      "941 0.00018989955007466878\n",
      "942 0.00018949625599442273\n",
      "943 0.00018909372616653358\n",
      "944 0.00018869195953988665\n",
      "945 0.00018829095506337176\n",
      "946 0.0001878907116858791\n",
      "947 0.0001874912283562985\n",
      "948 0.00018709250402351973\n",
      "949 0.0001866945376364214\n",
      "950 0.0001862973281439204\n",
      "951 0.00018590087449490094\n",
      "952 0.0001855051756382687\n",
      "953 0.0001851102305229545\n",
      "954 0.00018471603809787842\n",
      "955 0.0001843225973119962\n",
      "956 0.0001839299071142671\n",
      "957 0.000183537966453686\n"
     ]
    },
    {
     "name": "stdout",
     "output_type": "stream",
     "text": [
      "958 0.00018314677427926855\n",
      "959 0.00018275632954005555\n",
      "960 0.00018236663118513576\n",
      "961 0.00018197767816361809\n",
      "962 0.0001815894694246535\n",
      "963 0.00018120200391746584\n",
      "964 0.0001808152805912846\n",
      "965 0.00018042929839544574\n",
      "966 0.00018004405627929427\n",
      "967 0.0001796595531922736\n",
      "968 0.00017927578808389066\n",
      "969 0.0001788927599037192\n",
      "970 0.00017851046760140974\n",
      "971 0.0001781289101267127\n",
      "972 0.00017774808642945377\n",
      "973 0.00017736799545955628\n",
      "974 0.00017698863616706032\n",
      "975 0.00017661000750208427\n",
      "976 0.00017623210841488887\n",
      "977 0.00017585493785582553\n",
      "978 0.0001754784947753914\n",
      "979 0.0001751027781242005\n",
      "980 0.00017472778685300513\n",
      "981 0.00017435351991269512\n",
      "982 0.0001739799762543136\n",
      "983 0.00017360715482905788\n",
      "984 0.00017323505458827887\n",
      "985 0.00017286367448349042\n",
      "986 0.00017249301346639056\n",
      "987 0.00017212307048884682\n",
      "988 0.00017175384450289472\n",
      "989 0.00017138533446080313\n",
      "990 0.00017101753931498818\n",
      "991 0.00017065045801810202\n",
      "992 0.00017028408952298528\n",
      "993 0.0001699184327827116\n",
      "994 0.00016955348675056398\n",
      "995 0.0001691892503800603\n",
      "996 0.00016882572262493498\n",
      "997 0.0001684629024391908\n",
      "998 0.00016810078877706948\n",
      "999 0.00016773938059304105\n"
     ]
    }
   ],
   "source": [
    "from nnpde1 import nnpde1\n",
    "(psit,del_psi) = nnpde1(\n",
    "        Gf,             # 2-variable, 1st-order PDE IVP to solve\n",
    "        bcf,            # BC functions\n",
    "        bcdf,           # BC function derivatives\n",
    "        dG_dpsif,       # Partial of G wrt psi\n",
    "        del_Gf,         # Gradient of G\n",
    "        dG_ddel_psif,   # Partials of G wrt del psi\n",
    "        d2G_dpsi2f,     # 2nd partial wrt psi\n",
    "        d2G_ddel_psi_dpsif, # Cross-partials\n",
    "        d2G_dpsi_ddel_psif, # Cross-partials\n",
    "        d2G_ddel_psi2f, # 2nd partial wrt del psi\n",
    "        x,              # Training points as pairs\n",
    "        nhid = 10,      # Node count in hidden layer\n",
    "        maxepochs = 1000, # Max training epochs\n",
    "        eta = 0.01,     # Learning rate\n",
    "        debug = False,\n",
    "        verbose = True\n",
    "    )"
   ]
  },
  {
   "cell_type": "markdown",
   "metadata": {},
   "source": [
    "Compare the computed values with the analytical values."
   ]
  },
  {
   "cell_type": "code",
   "execution_count": 31,
   "metadata": {},
   "outputs": [],
   "source": [
    "def psiaf(xy):\n",
    "    (x, y) = xy\n",
    "    return 2*x*y"
   ]
  },
  {
   "cell_type": "code",
   "execution_count": 32,
   "metadata": {},
   "outputs": [],
   "source": [
    "def dpsia_dxf(xy):\n",
    "    (x, y) = xy\n",
    "    return 2*y"
   ]
  },
  {
   "cell_type": "code",
   "execution_count": 33,
   "metadata": {},
   "outputs": [],
   "source": [
    "def dpsia_dyf(xy):\n",
    "    (x, y) = xy\n",
    "    return 2*x"
   ]
  },
  {
   "cell_type": "code",
   "execution_count": 34,
   "metadata": {},
   "outputs": [],
   "source": [
    "del_psiaf = ( dpsia_dxf, dpsia_dyf )"
   ]
  },
  {
   "cell_type": "code",
   "execution_count": 35,
   "metadata": {},
   "outputs": [],
   "source": [
    "psia = np.zeros(len(x))\n",
    "for i in range(len(x)):\n",
    "    psia[i] = psiaf(x[i])"
   ]
  },
  {
   "cell_type": "code",
   "execution_count": 36,
   "metadata": {},
   "outputs": [],
   "source": [
    "del_psia = np.zeros((len(x), len(x[1])))\n",
    "for i in range(len(x)):\n",
    "    for j in range(len(x[0])):\n",
    "        del_psia[i][j] = del_psiaf[j](x[i])"
   ]
  },
  {
   "cell_type": "markdown",
   "metadata": {},
   "source": [
    "Compute the RMS error of the computed solution and its partial derivatives."
   ]
  },
  {
   "cell_type": "code",
   "execution_count": 37,
   "metadata": {},
   "outputs": [],
   "source": [
    "from math import sqrt\n",
    "psi_err = psit - psia\n",
    "rmse_psi = sqrt(sum(psi_err**2) / len(x))"
   ]
  },
  {
   "cell_type": "code",
   "execution_count": 38,
   "metadata": {},
   "outputs": [],
   "source": [
    "del_psi_err = del_psi - del_psia\n",
    "rmse_del_psi = np.zeros(len(x[0]))\n",
    "e2sum = np.zeros(len(x[0]))\n",
    "for j in range(len(x[0])):\n",
    "    for i in range(len(x)):\n",
    "        e2sum[j] += del_psi_err[i][j]**2\n",
    "    rmse_del_psi[j] = sqrt(e2sum[j] / len(x))"
   ]
  },
  {
   "cell_type": "markdown",
   "metadata": {},
   "source": [
    "Compare the results."
   ]
  },
  {
   "cell_type": "code",
   "execution_count": 39,
   "metadata": {},
   "outputs": [
    {
     "name": "stdout",
     "output_type": "stream",
     "text": [
      "    x        y      psia     psit   dpsia_dx dpsia_dy dpsit_dx dpsit_dy\n",
      "0.000000 0.000000 0.000000 0.000000 0.000000 0.000000 0.000000 0.000000\n",
      "0.200000 0.000000 0.000000 0.000000 0.000000 0.000000 0.400000 186.405065\n",
      "0.400000 0.000000 0.000000 0.000000 0.000000 0.000000 0.800000 0.864110\n",
      "0.600000 0.000000 0.000000 0.000000 0.000000 0.000000 1.200000 1.171520\n",
      "0.800000 0.000000 0.000000 0.000000 0.000000 0.000000 1.600000 1.573176\n",
      "0.000000 0.200000 0.000000 0.000000 0.400000 25.957500 0.000000 0.000000\n",
      "0.200000 0.200000 0.080000 0.078583 0.400000 0.351843 0.400000 0.341459\n",
      "0.400000 0.200000 0.160000 0.156410 0.400000 0.397257 0.800000 0.789320\n",
      "0.600000 0.200000 0.240000 0.236312 0.400000 0.401479 1.200000 1.190845\n",
      "0.800000 0.200000 0.320000 0.316899 0.400000 0.404153 1.600000 1.594858\n",
      "0.000000 0.400000 0.000000 0.000000 0.800000 0.777689 0.000000 0.000000\n",
      "0.200000 0.400000 0.160000 0.156615 0.800000 0.789390 0.400000 0.398868\n",
      "0.400000 0.400000 0.320000 0.315520 0.800000 0.799090 0.800000 0.801246\n",
      "0.600000 0.400000 0.480000 0.476040 0.800000 0.805623 1.200000 1.205740\n",
      "0.800000 0.400000 0.640000 0.637587 0.800000 0.809428 1.600000 1.611202\n",
      "0.000000 0.600000 0.000000 0.000000 1.200000 1.176120 0.000000 0.000000\n",
      "0.200000 0.600000 0.240000 0.236959 1.200000 1.192606 0.400000 0.404318\n",
      "0.400000 0.600000 0.480000 0.476715 1.200000 1.204189 0.800000 0.810261\n",
      "0.600000 0.600000 0.720000 0.718351 1.200000 1.211510 1.200000 1.216775\n",
      "0.800000 0.600000 0.960000 0.961079 1.200000 1.215220 1.600000 1.623029\n",
      "0.000000 0.800000 0.000000 0.000000 1.600000 1.581804 0.000000 0.000000\n",
      "0.200000 0.800000 0.320000 0.318249 1.600000 1.599632 0.400000 0.408366\n",
      "0.400000 0.800000 0.640000 0.639459 1.600000 1.611552 0.800000 0.816798\n",
      "0.600000 0.800000 0.960000 0.962534 1.600000 1.618429 1.200000 1.224567\n",
      "0.800000 0.800000 1.280000 1.286550 1.600000 1.621092 1.600000 1.631123\n",
      "RMSE      0.002590          5.111521     37.201020\n"
     ]
    }
   ],
   "source": [
    "print('    x        y      psia     psit   dpsia_dx dpsia_dy dpsit_dx dpsit_dy')\n",
    "for i in range(len(psia)):\n",
    "    print('%.6f %.6f %.6f %.6f %.6f %.6f %.6f %.6f' %\n",
    "          (x[i][0], x[i][1],\n",
    "           psia[i], psit[i],\n",
    "           del_psia[i][0], del_psi[i][0],\n",
    "           del_psia[i][1], del_psi[i][1])\n",
    "        )\n",
    "print('RMSE      %f          %f     %f' % \n",
    "      (rmse_psi, rmse_del_psi[0], rmse_del_psi[1]))"
   ]
  },
  {
   "cell_type": "code",
   "execution_count": null,
   "metadata": {},
   "outputs": [],
   "source": []
  }
 ],
 "metadata": {
  "kernelspec": {
   "display_name": "Python 3",
   "language": "python",
   "name": "python3"
  },
  "language_info": {
   "codemirror_mode": {
    "name": "ipython",
    "version": 3
   },
   "file_extension": ".py",
   "mimetype": "text/x-python",
   "name": "python",
   "nbconvert_exporter": "python",
   "pygments_lexer": "ipython3",
   "version": "3.6.4"
  }
 },
 "nbformat": 4,
 "nbformat_minor": 2
}

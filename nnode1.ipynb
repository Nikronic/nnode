{
 "cells": [
  {
   "cell_type": "markdown",
   "metadata": {},
   "source": [
    "# Solving a 1st-order ODE IVP with a neural network"
   ]
  },
  {
   "cell_type": "markdown",
   "metadata": {},
   "source": [
    "## Setup"
   ]
  },
  {
   "cell_type": "code",
   "execution_count": 1,
   "metadata": {},
   "outputs": [
    {
     "data": {
      "application/javascript": [
       "MathJax.Hub.Config({\n",
       "      TeX: { equationNumbers: { autoNumber: \"AMS\" } }\n",
       "    });MathJax.Hub.Queue(\n",
       "  [\"resetEquationNumbers\", MathJax.InputJax.TeX],\n",
       "  [\"PreProcess\", MathJax.Hub],\n",
       "  [\"Reprocess\", MathJax.Hub]\n",
       ");\n",
       "MathJax.Hub.Queue(\n",
       "  [\"resetEquationNumbers\", MathJax.InputJax.TeX],\n",
       "  [\"PreProcess\", MathJax.Hub],\n",
       "  [\"Reprocess\", MathJax.Hub]\n",
       ");"
      ],
      "text/plain": [
       "<IPython.core.display.Javascript object>"
      ]
     },
     "metadata": {},
     "output_type": "display_data"
    }
   ],
   "source": [
    "%%javascript\n",
    "MathJax.Hub.Config({\n",
    "      TeX: { equationNumbers: { autoNumber: \"AMS\" } }\n",
    "    });MathJax.Hub.Queue(\n",
    "  [\"resetEquationNumbers\", MathJax.InputJax.TeX],\n",
    "  [\"PreProcess\", MathJax.Hub],\n",
    "  [\"Reprocess\", MathJax.Hub]\n",
    ");\n",
    "MathJax.Hub.Queue(\n",
    "  [\"resetEquationNumbers\", MathJax.InputJax.TeX],\n",
    "  [\"PreProcess\", MathJax.Hub],\n",
    "  [\"Reprocess\", MathJax.Hub]\n",
    ");"
   ]
  },
  {
   "cell_type": "code",
   "execution_count": 2,
   "metadata": {},
   "outputs": [],
   "source": [
    "from math import exp\n",
    "import matplotlib.pyplot as plt\n",
    "%matplotlib inline\n",
    "import numpy as np"
   ]
  },
  {
   "cell_type": "markdown",
   "metadata": {},
   "source": [
    "# Introduction"
   ]
  },
  {
   "cell_type": "markdown",
   "metadata": {},
   "source": [
    "This notebook will demonstrate how to use the code in the `nnode1.py` module. The module allows the user to solve 1st-order ordinary differential equation (ODE) initial value problems (IVPs) using a single-hidden layer neural network."
   ]
  },
  {
   "cell_type": "markdown",
   "metadata": {},
   "source": [
    "This work is based on the paper [\"Artificial Neural Networks for Solving Ordinary and Partial Differential Equations\", by Lagaris et al, *IEEE Transactions on Neural Networks, Volume 9, No. 5*, September 1998](http://ieeexplore.ieee.org/document/712178/). Note that the notation used in this notebook and the associated Python code differs slightly from that used in the Lagaris paper."
   ]
  },
  {
   "cell_type": "markdown",
   "metadata": {},
   "source": [
    "## The algorithm"
   ]
  },
  {
   "cell_type": "markdown",
   "metadata": {},
   "source": [
    "Any 1st-order ODE can be written in the form:"
   ]
  },
  {
   "cell_type": "markdown",
   "metadata": {},
   "source": [
    "\\begin{equation}\n",
    "G\\left(x,y,\\frac {dy}{dx}\\right) = 0\n",
    "\\end{equation}"
   ]
  },
  {
   "cell_type": "markdown",
   "metadata": {},
   "source": [
    "The problem is to find a solution $y(x)$ to the ODE using a neural network, subject to the initial condition:"
   ]
  },
  {
   "cell_type": "markdown",
   "metadata": {},
   "source": [
    "\\begin{equation}\n",
    "y(0) = A\n",
    "\\end{equation}"
   ]
  },
  {
   "cell_type": "markdown",
   "metadata": {},
   "source": [
    "The network is trained using a set of *training points* $x_i$ ($1 \\le i \\le n$), defined on the domain of interest. The training points need not be evenly-spaced. Note that only the independent variable values $x_i$ of the training points are needed - the estimated value of the solution at those training points is obtained using a trial solution. Such an ODE can always be scaled and mapped onto the domain $[0,1]$, and this code assumes such mapping has already been performed. For 1st-order ODE IVP, the trial solution has the form:"
   ]
  },
  {
   "cell_type": "markdown",
   "metadata": {},
   "source": [
    "\\begin{equation}\n",
    "y_t(x_i) = A(x_i) + P(x_i)N(x_i,\\vec p)\n",
    "\\end{equation}"
   ]
  },
  {
   "cell_type": "markdown",
   "metadata": {},
   "source": [
    "For 1st-order ODE IVP, the forms for $A(x_i)$ and $P(x_i)$ are particularly simple:"
   ]
  },
  {
   "cell_type": "markdown",
   "metadata": {},
   "source": [
    "\\begin{equation}\n",
    "A(x_i)=A\n",
    "\\end{equation}"
   ]
  },
  {
   "cell_type": "markdown",
   "metadata": {},
   "source": [
    "\\begin{equation}\n",
    "P(x_i)=x_i\n",
    "\\end{equation}"
   ]
  },
  {
   "cell_type": "markdown",
   "metadata": {},
   "source": [
    "The trial solution can be written more compactly as:"
   ]
  },
  {
   "cell_type": "markdown",
   "metadata": {},
   "source": [
    "\\begin{equation}\n",
    "y_{ti} = A + x_i N_i\n",
    "\\end{equation}"
   ]
  },
  {
   "cell_type": "markdown",
   "metadata": {},
   "source": [
    "where $y_{ti}=y_t(x_i,\\vec p)$ is the value of the trial solution at the current training point $x_i$, and $N_i=N(x_i,\\vec p)$ is the single-valued floating-point output from an unspecified neural network with parameters $\\vec p$. Note that this trial solution satisfies the initial condition by construction - at $x=0$, the second term vanishes, leaving $y_t(0)=A$."
   ]
  },
  {
   "cell_type": "markdown",
   "metadata": {},
   "source": [
    "Training is done in a set of *epochs*. A training epoch consists of presenting the neural network with each of the $n$ training points $x_i$, one at a time. For each input value $x_i$, the network output $N_i$ is computed, and used to compute the value of the trial solution $y_{ti}$. Once all $n$ points have been presented, the epoch is complete, and the error function $E$ is computed. The ODE definition (1) should vanish at convergence, and so an appropriate form for the error function is:"
   ]
  },
  {
   "cell_type": "markdown",
   "metadata": {},
   "source": [
    "\\begin{equation}\n",
    "E = \\sum_{j=1}^{n}G_i^2\n",
    "\\end{equation}"
   ]
  },
  {
   "cell_type": "markdown",
   "metadata": {},
   "source": [
    "where $G_i$ is:"
   ]
  },
  {
   "cell_type": "markdown",
   "metadata": {},
   "source": [
    "\\begin{equation}\n",
    "G_i = G\\left(x_i,y_{ti},\\frac {\\partial y_{ti}}{\\partial x_i}\\right)\n",
    "\\end{equation}"
   ]
  },
  {
   "cell_type": "markdown",
   "metadata": {},
   "source": [
    "where $\\frac {\\partial y_{ti}}{\\partial x_i}$ is the derivative of the trial function with respect to $x$, evaluated at $x_i$. This derivative is the current approximation of the analytical derivative $\\frac {dy}{dx}$. Once this error function is computed, the weights and biases in the neural network are adjusted to reduce the error. Eventually, a minimum of $E$ is attained, and the resulting final form of $y_t(x)$ is used as the solution to the original ODE."
   ]
  },
  {
   "cell_type": "markdown",
   "metadata": {},
   "source": [
    "## Computing the network output $N_i$"
   ]
  },
  {
   "cell_type": "markdown",
   "metadata": {},
   "source": [
    "The neural network used in this work has a simple structure. A single input node is used to provide the training data. The input node is fully-connected to a set of $H$ hidden nodes. Each hidden node is connected to a single output node."
   ]
  },
  {
   "cell_type": "markdown",
   "metadata": {},
   "source": [
    "During each step of a training epoch, the input to the network, and thus the output of the single input node, is just the training point $x_i$. This single output is then sent to each of the $H$ hidden nodes. At each hidden node $k$, the input value $x_i$ is transformed by the equation:"
   ]
  },
  {
   "cell_type": "markdown",
   "metadata": {},
   "source": [
    "\\begin{equation}\n",
    "z_{ik} = w_k x_i + u_k\n",
    "\\end{equation}"
   ]
  },
  {
   "cell_type": "markdown",
   "metadata": {},
   "source": [
    "where $z_{ik}$ is the transformed input at hidden node $k$, $w_k$ is the weight at node $k$, and $u_k$ is the bias at node $k$. This transformed value is then used as the input to a sigmoidal transfer function:"
   ]
  },
  {
   "cell_type": "markdown",
   "metadata": {},
   "source": [
    "\\begin{equation}\n",
    "\\sigma_{ik} = \\sigma(z_{ik})\n",
    "\\end{equation}"
   ]
  },
  {
   "cell_type": "markdown",
   "metadata": {},
   "source": [
    "where:"
   ]
  },
  {
   "cell_type": "markdown",
   "metadata": {},
   "source": [
    "\\begin{equation}\n",
    "\\sigma(z) = \\frac {1}{1+e^{-z}}\n",
    "\\end{equation}"
   ]
  },
  {
   "cell_type": "markdown",
   "metadata": {},
   "source": [
    "A plot of this transfer function and its first several derivatives is provided below."
   ]
  },
  {
   "cell_type": "code",
   "execution_count": 3,
   "metadata": {},
   "outputs": [
    {
     "data": {
      "image/png": "[encoded data removed]",
      "text/plain": [
       "<Figure size 432x288 with 1 Axes>"
      ]
     },
     "metadata": {},
     "output_type": "display_data"
    }
   ],
   "source": [
    "def sigma(z):\n",
    "    return 1 / (1 + exp(-z))\n",
    "\n",
    "def dsigma_dz(z):\n",
    "    return exp(-z) / (1 + exp(-z))**2\n",
    "\n",
    "def d2sigma_dz2(z):\n",
    "    return (\n",
    "        2 * exp(-2 * z) / (1 + exp(-z))**3 - exp(-z) / (1 + exp(-z))**2\n",
    "    )\n",
    "\n",
    "z = np.linspace(-5, 5, 1001)\n",
    "n = len(z)\n",
    "s = np.zeros(n)\n",
    "ds_dz = np.zeros(n)\n",
    "d2s_dz2 = np.zeros(n)\n",
    "for i in range(n):\n",
    "    s[i] = sigma(z[i])\n",
    "    ds_dz[i] = dsigma_dz(z[i])\n",
    "    d2s_dz2[i] = d2sigma_dz2(z[i])\n",
    "plt.plot(z,s,label = \"$\\sigma(z)$\")\n",
    "plt.plot(z,ds_dz,label = \"$d\\sigma/dz$\")\n",
    "plt.plot(z,d2s_dz2, label = \"$d^2\\sigma/dz^2$\")\n",
    "plt.xlabel(\"z\")\n",
    "plt.ylabel(\"s(z) or derivative\")\n",
    "plt.title(\"Figure 1: The $\\sigma$-function and its first two derivatives\")\n",
    "plt.legend();"
   ]
  },
  {
   "cell_type": "markdown",
   "metadata": {},
   "source": [
    "Once the $\\sigma_{ik}$ are computed, they are all passed to the single output node, where they are summed by a linear transfer function to create the network output for the current value of $x_i$:"
   ]
  },
  {
   "cell_type": "markdown",
   "metadata": {},
   "source": [
    "\\begin{equation}\n",
    "N_i = \\sum_{k=1}^{H}v_k\\sigma_{ik}\n",
    "\\end{equation}"
   ]
  },
  {
   "cell_type": "markdown",
   "metadata": {},
   "source": [
    "where $v_k$ is the weight applied to the signal from hidden node $k$ at the output node. Once $N_i$ has been computed, the trial function $y_{ti}$ and its derivative $\\frac {\\partial y_{ti}}{\\partial x_i}$ is computed, and then the value of the ODE $G_i$ is computed, and finally the error function $E$."
   ]
  },
  {
   "cell_type": "markdown",
   "metadata": {},
   "source": [
    "## Updating the network parameters"
   ]
  },
  {
   "cell_type": "markdown",
   "metadata": {},
   "source": [
    "The network parameters are the weights and biases of the hidden and output nodes. For a set of $H$ hidden nodes, we have a total of $N_p = 3H$ parameters in total: a weight and bias for each hidden node, and an output weight for each hidden node."
   ]
  },
  {
   "cell_type": "markdown",
   "metadata": {},
   "source": [
    "Since the objective function to minimize is the error $E$, the value of each network parameter $p$ (where $p$ represents $v_k$, $u_k$, or $w_k$) is updated using a scaled, simplified Newton's method:"
   ]
  },
  {
   "cell_type": "markdown",
   "metadata": {},
   "source": [
    "\\begin{equation}\n",
    "p_{new} = p - \\eta \\frac {\\partial E}{\\partial p}\n",
    "\\end{equation}"
   ]
  },
  {
   "cell_type": "markdown",
   "metadata": {},
   "source": [
    "where $\\eta$ is the *learning rate* (usually $\\eta < 1$). This simplified method (ignoring the usual 2nd derivative in the denominator of the correction term) is appropriate when the problem is scaled to the domain $[0,1]$.The learning rate is used to reduce the chance of solution instability due to large values of the correction term. The derivatives of $E$ are computed using the known form of the network and internal parameters."
   ]
  },
  {
   "cell_type": "markdown",
   "metadata": {},
   "source": [
    "This process of parameter updates is repeated until convergence is achieved (an error minimum is reached), or until the specified maximum number of training epochs have been applied. Note that the same set of training points is presented during each epoch."
   ]
  },
  {
   "cell_type": "markdown",
   "metadata": {},
   "source": [
    "## Computing the derivatives of $E$"
   ]
  },
  {
   "cell_type": "markdown",
   "metadata": {},
   "source": [
    "The partial derivative of $E$ with respect to any network parameter $p$ is given by:"
   ]
  },
  {
   "cell_type": "markdown",
   "metadata": {},
   "source": [
    "\\begin{equation}\n",
    "\\frac {\\partial E}{\\partial p} =\n",
    "\\frac {\\partial}{\\partial p} \\sum_{i=1}^{n}G_i^2 =\n",
    "2 \\sum_{i=1}^n G_i \\frac {\\partial G_i}{\\partial p}\n",
    "\\end{equation}"
   ]
  },
  {
   "cell_type": "markdown",
   "metadata": {},
   "source": [
    "## Computing the derivatives of $G_i$"
   ]
  },
  {
   "cell_type": "markdown",
   "metadata": {},
   "source": [
    "The partial derivative of $G_i$ with respect to any network parameter $p$ is computed using the chain rule:"
   ]
  },
  {
   "cell_type": "markdown",
   "metadata": {},
   "source": [
    "\\begin{equation}\n",
    "\\frac {\\partial G_i}{\\partial p} =\n",
    "\\frac {\\partial}{\\partial p} G\\left(x_i,y_{ti},\\frac {\\partial y_{ti}}{\\partial x_i}\\right) =\n",
    "\\sum_{i=1}^n \\left ( \\frac {\\partial G_i}{\\partial x_i} \\frac {\\partial x_i}{\\partial p} \\right ) +\n",
    "\\frac {\\partial G_i}{\\partial y_{ti}} \\frac {\\partial y_{ti}}{\\partial x_i} +\n",
    "\\sum_{i=1}^n \\frac {\\partial G_i}{\\partial \\frac {\\partial y_{ti}}{\\partial x_i}} \\frac {\\partial^2 y_{ti}}{\\partial p \\partial x_i}\n",
    "\\end{equation}"
   ]
  },
  {
   "cell_type": "markdown",
   "metadata": {},
   "source": [
    "Since the training points $x_i$ are independent of the network parameters $\\vec p$, this equation simplifies to:"
   ]
  },
  {
   "cell_type": "markdown",
   "metadata": {},
   "source": [
    "\\begin{equation}\n",
    "\\frac {\\partial G_i}{\\partial p} =\n",
    "\\frac {\\partial G_i}{\\partial y_{ti}} \\frac {\\partial y_{ti}}{\\partial x_i} +\n",
    "\\sum_{i=1}^n \\frac {\\partial G_i}{\\partial \\frac {\\partial y_{ti}}{\\partial x_i}} \\frac {\\partial^2 y_{ti}}{\\partial p \\partial x_i}\n",
    "\\end{equation}"
   ]
  },
  {
   "cell_type": "markdown",
   "metadata": {},
   "source": [
    "The analytical forms of $\\frac {\\partial G_i}{\\partial y_{ti}}$ and $\\frac {\\partial G_i}{\\partial \\frac {\\partial y_{ti}}{\\partial x_i}}$ are determined from the analytical form of the original ODE."
   ]
  },
  {
   "cell_type": "markdown",
   "metadata": {},
   "source": [
    "## Computing the derivatives of $y_{ti}$"
   ]
  },
  {
   "cell_type": "markdown",
   "metadata": {},
   "source": [
    "The generic form of the derivatives of $y_{ti}$ is:"
   ]
  },
  {
   "cell_type": "markdown",
   "metadata": {},
   "source": [
    "\\begin{equation}\n",
    "\\frac {\\partial y_{ti}}{\\partial x_i} =\n",
    "\\frac {\\partial A_i}{\\partial x_i} +\n",
    "P_i \\frac {\\partial N_i}{\\partial x_i} + \\frac {\\partial P_i}{\\partial x_i} N_i\n",
    "\\end{equation}"
   ]
  },
  {
   "cell_type": "markdown",
   "metadata": {},
   "source": [
    "In the current case, $A_i$ is constant, and $P_i=x_i$, so we are left with:"
   ]
  },
  {
   "cell_type": "markdown",
   "metadata": {},
   "source": [
    "\\begin{equation}\n",
    "\\frac {\\partial y_{ti}}{\\partial x_i} =\n",
    "x_i \\frac {\\partial N_i}{\\partial x_i} + N_i\n",
    "\\end{equation}"
   ]
  },
  {
   "cell_type": "markdown",
   "metadata": {},
   "source": [
    "The cross partial of $y_{ti}$ is then:"
   ]
  },
  {
   "cell_type": "markdown",
   "metadata": {},
   "source": [
    "\\begin{equation}\n",
    "\\frac {\\partial^2 y_{ti}}{\\partial p \\partial x_i} =\n",
    "x_i \\frac {\\partial^2 N_i}{\\partial p \\partial x_i} + \\frac {\\partial N_i}{\\partial p}\n",
    "\\end{equation}"
   ]
  },
  {
   "cell_type": "markdown",
   "metadata": {},
   "source": [
    "## Computing the derivatives of $N_i$"
   ]
  },
  {
   "cell_type": "markdown",
   "metadata": {},
   "source": [
    "The generic form of the derivative of $N_i$ with respect to $x_i$ is:"
   ]
  },
  {
   "cell_type": "markdown",
   "metadata": {},
   "source": [
    "\\begin{equation}\n",
    "\\frac {\\partial N_i}{\\partial x_i} =\n",
    "\\frac {\\partial}{\\partial x_i} \\sum_{k=1}^H v_k \\sigma_{ik} =\n",
    "\\sum_{k=1}^H v_k \\frac {\\partial \\sigma_{ik}}{\\partial x_i} =\n",
    "\\sum_{k=1}^H v_k \\frac {\\partial \\sigma_{ik}}{\\partial z_{ik}} \\frac {\\partial z_{ik}}{\\partial x_i} =\n",
    "\\sum_{k=1}^H v_k \\sigma_{ik}^{(1)} \\frac {\\partial z_{ik}}{\\partial x_i} =\n",
    "\\sum_{k=1}^H v_k \\sigma_{ik}^{(1)} w_k\n",
    "\\end{equation}"
   ]
  },
  {
   "cell_type": "markdown",
   "metadata": {},
   "source": [
    "where the transfer function derivatives are defined by:"
   ]
  },
  {
   "cell_type": "markdown",
   "metadata": {},
   "source": [
    "\\begin{equation}\n",
    "\\sigma^{(n)} = \\frac {\\partial^n \\sigma}{\\partial z^n}\n",
    "\\end{equation}"
   ]
  },
  {
   "cell_type": "markdown",
   "metadata": {},
   "source": [
    "For the parameter derivatives:"
   ]
  },
  {
   "cell_type": "markdown",
   "metadata": {},
   "source": [
    "\\begin{equation}\n",
    "\\frac {\\partial N_i}{\\partial p} =\n",
    "\\frac {\\partial}{\\partial p} \\sum_{k=1}^H v_k \\sigma_{ik} =\n",
    "\\sum_{k=1}^H \\left ( v_k \\frac {\\partial \\sigma_{ik}}{\\partial p} + \\frac {\\partial v_k}{\\partial p} \\sigma_{ik}  \\right ) =\n",
    "\\sum_{k=1}^H \\left ( v_k \\sigma_{ik}^{(1)} \\frac {\\partial z_{ik}}{\\partial p} + \\frac {\\partial v_k}{\\partial p} \\sigma_{ik}  \\right )\n",
    "\\end{equation}"
   ]
  },
  {
   "cell_type": "markdown",
   "metadata": {},
   "source": [
    "For the cross-partials:"
   ]
  },
  {
   "cell_type": "markdown",
   "metadata": {},
   "source": [
    "\\begin{equation}\n",
    "\\frac {\\partial^2 N_i}{\\partial p \\partial x_i} =\n",
    "\\frac {\\partial}{\\partial p} \\sum_{k=1}^H v_k \\sigma_{ik}^{(1)} w_k =\n",
    "\\sum_{k=1}^H \\left ( v_k \\sigma_{ik}^{(1)} \\frac {\\partial w_k}{\\partial p} +\n",
    "v_k \\frac {\\partial \\sigma_{ik}^{(1)}}{\\partial p}  w_k +\n",
    "\\frac {\\partial v_k}{\\partial p} \\sigma_{ik}^{(1)} w_k \\right ) =\n",
    "\\sum_{k=1}^H \\left ( v_k \\sigma_{ik}^{(1)} \\frac {\\partial w_k}{\\partial p} +\n",
    "v_k \\sigma_{ik}^{(2)} \\frac {\\partial z_{ik}}{\\partial p}  w_k +\n",
    "\\frac {\\partial v_k}{\\partial p} \\sigma_{ik}^{(1)} w_k \\right )\n",
    "\\end{equation}"
   ]
  },
  {
   "cell_type": "markdown",
   "metadata": {},
   "source": [
    "## Computing the derivatives of $z_{ik}$"
   ]
  },
  {
   "cell_type": "markdown",
   "metadata": {},
   "source": [
    "The derivatives of $z_k$ with respect to the network parameter $p$ are parameter-specific:"
   ]
  },
  {
   "cell_type": "markdown",
   "metadata": {},
   "source": [
    "\\begin{equation}\n",
    "\\frac {\\partial z_{il}}{\\partial v_k} = 0\n",
    "\\end{equation}"
   ]
  },
  {
   "cell_type": "markdown",
   "metadata": {},
   "source": [
    "\\begin{equation}\n",
    "\\frac {\\partial z_{il}}{\\partial u_k} = \\delta_{kl}\n",
    "\\end{equation}"
   ]
  },
  {
   "cell_type": "markdown",
   "metadata": {},
   "source": [
    "\\begin{equation}\n",
    "\\frac {\\partial z_{il}}{\\partial w_k} = x_i \\delta_{kl}\n",
    "\\end{equation}"
   ]
  },
  {
   "cell_type": "markdown",
   "metadata": {},
   "source": [
    "## Computing the derivatives of the parameters $\\vec p$"
   ]
  },
  {
   "cell_type": "markdown",
   "metadata": {},
   "source": [
    "At this lowest level, the parameter derivatives are simple in form:"
   ]
  },
  {
   "cell_type": "markdown",
   "metadata": {},
   "source": [
    "\\begin{equation}\n",
    "\\frac {\\partial v_l}{\\partial v_k} = \\delta_{kl}, \\frac {\\partial v_l}{\\partial u_k} = 0, \\frac {\\partial v_l}{\\partial w_k} = 0\n",
    "\\end{equation}"
   ]
  },
  {
   "cell_type": "markdown",
   "metadata": {},
   "source": [
    "\\begin{equation}\n",
    "\\frac {\\partial u_l}{\\partial v_k} = 0, \\frac {\\partial u_l}{\\partial u_k} = \\delta_{kl}, \\frac {\\partial u_l}{\\partial w_k} = 0\n",
    "\\end{equation}"
   ]
  },
  {
   "cell_type": "markdown",
   "metadata": {},
   "source": [
    "\\begin{equation}\n",
    "\\frac {\\partial w_l}{\\partial v_k} = 0, \\frac {\\partial w_l}{\\partial u_k} = 0, \\frac {\\partial w_l}{\\partial w_k} = \\delta_{kl}\n",
    "\\end{equation}"
   ]
  },
  {
   "cell_type": "markdown",
   "metadata": {},
   "source": [
    "Or, more succinctly:"
   ]
  },
  {
   "cell_type": "markdown",
   "metadata": {},
   "source": [
    "\\begin{equation}\n",
    "\\frac {\\partial p_l}{\\partial p_k} = \\delta_{kl}\n",
    "\\end{equation}"
   ]
  },
  {
   "cell_type": "markdown",
   "metadata": {},
   "source": [
    "# Walking through an example problem"
   ]
  },
  {
   "cell_type": "markdown",
   "metadata": {},
   "source": [
    "We will now walk through a complete problem which will illustrate how to use the `nnode1` code to solve a 1st-order ODE IVP."
   ]
  },
  {
   "cell_type": "markdown",
   "metadata": {
    "collapsed": true
   },
   "source": [
    "## Define the ODE to solve, and the initial condition"
   ]
  },
  {
   "cell_type": "markdown",
   "metadata": {},
   "source": [
    "Consider the simple 1st-order ODE IVP, defined on the domain $[0,1]$:"
   ]
  },
  {
   "cell_type": "markdown",
   "metadata": {},
   "source": [
    "\\begin{equation}\n",
    "G\\left(x,y,\\frac {dy}{dx}\\right) = x-y = 0\n",
    "\\end{equation}"
   ]
  },
  {
   "cell_type": "markdown",
   "metadata": {},
   "source": [
    "The analytical solution to this equation is simply:"
   ]
  },
  {
   "cell_type": "markdown",
   "metadata": {},
   "source": [
    "\\begin{equation}\n",
    "y(x) = x\n",
    "\\end{equation}"
   ]
  },
  {
   "cell_type": "markdown",
   "metadata": {},
   "source": [
    "This analytical solution and its derivative are shown in the figure below."
   ]
  },
  {
   "cell_type": "code",
   "execution_count": 4,
   "metadata": {},
   "outputs": [],
   "source": [
    "def ya(x):\n",
    "    return x\n",
    "\n",
    "def dya_dx(x):\n",
    "    return 1"
   ]
  },
  {
   "cell_type": "code",
   "execution_count": 5,
   "metadata": {},
   "outputs": [
    {
     "data": {
      "image/png": "[encoded data removed]",
      "text/plain": [
       "<Figure size 432x288 with 1 Axes>"
      ]
     },
     "metadata": {},
     "output_type": "display_data"
    }
   ],
   "source": [
    "xmin = 0\n",
    "xmax = 1\n",
    "n = 100\n",
    "x = np.linspace(xmin, xmax, n)\n",
    "y = np.zeros(n)\n",
    "dy_dx = np.zeros(n)\n",
    "for i in range(n):\n",
    "    y[i] = ya(x[i])\n",
    "    dy_dx[i] = dya_dx(x[i])\n",
    "plt.xlabel('x')\n",
    "plt.ylabel('$dy/dx$')\n",
    "plt.plot(x, y, label = 'y(x)')\n",
    "plt.plot(x, dy_dx, label = \"$dy/dx$\")\n",
    "plt.legend()\n",
    "plt.title(\"Figure 2: Analytical solution and derivative for $G(x,y,dy/dx)=x-y$\");"
   ]
  },
  {
   "cell_type": "markdown",
   "metadata": {},
   "source": [
    "Define the differential equation itself, and its derivatives."
   ]
  },
  {
   "cell_type": "code",
   "execution_count": 6,
   "metadata": {},
   "outputs": [],
   "source": [
    "# Define the original differential equation:\n",
    "def G(x, y, dy_dx):\n",
    "    return x - y\n",
    "\n",
    "# Define the y-partial derivative of the differential equation.\n",
    "def dG_dy(x, y, dy_dx):\n",
    "    return -1\n",
    "\n",
    "# Define the dy/dx-partial derivative of the differential equation.\n",
    "def dG_dydx(x, y, dy_dx):\n",
    "    return 0"
   ]
  },
  {
   "cell_type": "markdown",
   "metadata": {},
   "source": [
    "The initial condition is:"
   ]
  },
  {
   "cell_type": "code",
   "execution_count": 7,
   "metadata": {},
   "outputs": [],
   "source": [
    "A = 0"
   ]
  },
  {
   "cell_type": "markdown",
   "metadata": {},
   "source": [
    "## Create the training data"
   ]
  },
  {
   "cell_type": "markdown",
   "metadata": {},
   "source": [
    "For the purposes of this example, an evenly-spaced set of training points will be used to train the neural network."
   ]
  },
  {
   "cell_type": "code",
   "execution_count": 8,
   "metadata": {},
   "outputs": [],
   "source": [
    "nt = 10\n",
    "xt = np.linspace(xmin, xmax, num = nt)"
   ]
  },
  {
   "cell_type": "markdown",
   "metadata": {},
   "source": [
    "Note that repeated runs of the same ODE will usually result in slightly different solutions, due to the random number generator. To ensure repeatable results, seed the random number generator with a fixed value before each run."
   ]
  },
  {
   "cell_type": "markdown",
   "metadata": {},
   "source": [
    "## Train the model to solve the ODE"
   ]
  },
  {
   "cell_type": "markdown",
   "metadata": {},
   "source": [
    "We can now train the network. The call below shows the minimum arguments required to call the `nnode1()` function. All tunable parameters (learning rate `eta`, hidden layer size `H`, number of training epochs `max_epochs` are given default values (`0.01`, `10`, `1000`, respectively). The training function returns the estimated values of $y$ and $\\frac {dy}{dx}$ at the training points. When the `verbose` option is set to `True`, the function prints out the epoch number and current value of the mean-squared error of $G_i$."
   ]
  },
  {
   "cell_type": "code",
   "execution_count": 9,
   "metadata": {},
   "outputs": [
    {
     "name": "stdout",
     "output_type": "stream",
     "text": [
      "0 1.269505845916997\n",
      "1 0.9344695935940753\n",
      "2 0.6899975355257151\n",
      "3 0.511367185802461\n",
      "4 0.3810145685913241\n",
      "5 0.2863315991467354\n",
      "6 0.2182050159011167\n",
      "7 0.16998738943233577\n",
      "8 0.1367281019034418\n",
      "9 0.11459082316222512\n",
      "10 0.10047188089170121\n",
      "11 0.09184664438490041\n",
      "12 0.08676594769589224\n",
      "13 0.0838492195654002\n",
      "14 0.08219890571368628\n",
      "15 0.08126896821807984\n",
      "16 0.08074168345457977\n",
      "17 0.08043716582946149\n",
      "18 0.080255181865986\n",
      "19 0.08014038299106885\n",
      "20 0.08006235907002869\n",
      "21 0.08000444800986138\n",
      "22 0.07995753422586906\n",
      "23 0.07991663481017999\n",
      "24 0.07987902713327602\n",
      "25 0.07984322392055095\n",
      "26 0.0798084128286349\n",
      "27 0.07977415018657467\n",
      "28 0.07974019368469157\n",
      "29 0.0797064109866754\n",
      "30 0.0796727298164668\n",
      "31 0.07963911069855915\n",
      "32 0.0796055320706258\n",
      "33 0.0795719821531456\n",
      "34 0.07953845450921343\n",
      "35 0.07950494561965042\n",
      "36 0.07947145355871466\n",
      "37 0.07943797727087615\n",
      "38 0.07940451617584597\n",
      "39 0.07937106995287439\n",
      "40 0.07933763842295168\n",
      "41 0.0793042214844751\n",
      "42 0.07927081907811626\n",
      "43 0.07923743116763544\n",
      "44 0.07920405772940319\n",
      "45 0.0791706987466805\n",
      "46 0.07913735420649279\n",
      "47 0.07910402409792443\n",
      "48 0.0790707084111885\n",
      "49 0.07903740713711649\n",
      "50 0.07900412026688182\n",
      "51 0.07897084779184857\n",
      "52 0.07893758970348709\n",
      "53 0.07890434599333239\n",
      "54 0.07887111665295529\n",
      "55 0.07883790167395235\n",
      "56 0.07880470104793669\n",
      "57 0.07877151476653521\n",
      "58 0.07873834282138512\n",
      "59 0.07870518520413436\n",
      "60 0.07867204190643978\n",
      "61 0.07863891291996661\n",
      "62 0.07860579823638976\n",
      "63 0.0785726978473922\n",
      "64 0.07853961174466509\n",
      "65 0.07850653991990915\n",
      "66 0.07847348236483205\n",
      "67 0.07844043907115154\n",
      "68 0.07840741003059289\n",
      "69 0.0783743952348898\n",
      "70 0.07834139467578448\n",
      "71 0.07830840834502761\n",
      "72 0.07827543623437892\n",
      "73 0.07824247833560537\n",
      "74 0.07820953464048293\n",
      "75 0.07817660514079536\n",
      "76 0.07814368982833596\n",
      "77 0.07811078869490504\n",
      "78 0.07807790173231213\n",
      "79 0.07804502893237485\n",
      "80 0.07801217028691909\n",
      "81 0.0779793257877786\n",
      "82 0.07794649542679612\n",
      "83 0.07791367919582205\n",
      "84 0.07788087708671597\n",
      "85 0.07784808909134419\n",
      "86 0.07781531520158282\n",
      "87 0.07778255540931522\n",
      "88 0.0777498097064336\n",
      "89 0.07771707808483759\n",
      "90 0.07768436053643518\n",
      "91 0.07765165705314402\n",
      "92 0.0776189676268871\n",
      "93 0.07758629224959858\n",
      "94 0.07755363091321849\n",
      "95 0.07752098360969573\n",
      "96 0.07748835033098837\n",
      "97 0.0774557310690608\n",
      "98 0.07742312581588663\n",
      "99 0.0773905345634472\n",
      "100 0.07735795730373222\n",
      "101 0.07732539402873932\n",
      "102 0.0772928447304738\n",
      "103 0.07726030940094944\n",
      "104 0.07722778803218822\n",
      "105 0.07719528061621936\n",
      "106 0.07716278714508062\n",
      "107 0.07713030761081828\n",
      "108 0.07709784200548572\n",
      "109 0.07706539032114432\n",
      "110 0.07703295254986382\n",
      "111 0.07700052868372247\n",
      "112 0.07696811871480488\n",
      "113 0.07693572263520482\n",
      "114 0.07690334043702364\n",
      "115 0.07687097211237084\n",
      "116 0.0768386176533635\n",
      "117 0.07680627705212652\n",
      "118 0.07677395030079327\n",
      "119 0.07674163739150361\n",
      "120 0.07670933831640736\n",
      "121 0.07667705306766014\n",
      "122 0.07664478163742666\n",
      "123 0.07661252401787853\n",
      "124 0.07658028020119653\n",
      "125 0.07654805017956814\n",
      "126 0.07651583394518845\n",
      "127 0.07648363149026134\n",
      "128 0.07645144280699745\n",
      "129 0.0764192678876159\n",
      "130 0.07638710672434303\n",
      "131 0.07635495930941302\n",
      "132 0.07632282563506829\n",
      "133 0.0762907056935584\n",
      "134 0.07625859947714075\n",
      "135 0.0762265069780806\n",
      "136 0.07619442818865062\n",
      "137 0.07616236310113145\n",
      "138 0.0761303117078109\n",
      "139 0.07609827400098475\n",
      "140 0.07606624997295684\n",
      "141 0.07603423961603782\n",
      "142 0.07600224292254612\n",
      "143 0.07597025988480895\n",
      "144 0.07593829049515935\n",
      "145 0.07590633474593894\n",
      "146 0.07587439262949686\n",
      "147 0.07584246413818961\n",
      "148 0.07581054926438117\n",
      "149 0.07577864800044354\n",
      "150 0.07574676033875555\n",
      "151 0.07571488627170393\n",
      "152 0.07568302579168298\n",
      "153 0.07565117889109492\n",
      "154 0.07561934556234827\n",
      "155 0.07558752579785984\n",
      "156 0.07555571959005414\n",
      "157 0.07552392693136277\n",
      "158 0.0754921478142244\n",
      "159 0.07546038223108584\n",
      "160 0.07542863017440066\n",
      "161 0.07539689163663094\n",
      "162 0.07536516661024463\n",
      "163 0.07533345508771828\n",
      "164 0.07530175706153565\n",
      "165 0.07527007252418713\n",
      "166 0.07523840146817143\n",
      "167 0.07520674388599403\n",
      "168 0.07517509977016826\n",
      "169 0.07514346911321342\n",
      "170 0.07511185190765844\n",
      "171 0.07508024814603736\n",
      "172 0.07504865782089312\n",
      "173 0.07501708092477467\n",
      "174 0.07498551745023896\n",
      "175 0.07495396738985034\n",
      "176 0.07492243073618005\n",
      "177 0.07489090748180684\n",
      "178 0.07485939761931655\n",
      "179 0.07482790114130226\n",
      "180 0.07479641804036449\n",
      "181 0.0747649483091107\n",
      "182 0.07473349194015516\n",
      "183 0.0747020489261205\n",
      "184 0.07467061925963576\n",
      "185 0.07463920293333673\n",
      "186 0.07460779993986785\n",
      "187 0.07457641027187879\n",
      "188 0.07454503392202776\n",
      "189 0.07451367088297964\n",
      "190 0.0744823211474061\n",
      "191 0.07445098470798703\n",
      "192 0.07441966155740841\n",
      "193 0.07438835168836336\n",
      "194 0.07435705509355228\n",
      "195 0.07432577176568321\n",
      "196 0.07429450169747001\n",
      "197 0.07426324488163517\n",
      "198 0.0742320013109065\n",
      "199 0.0742007709780206\n",
      "200 0.07416955387571918\n",
      "201 0.07413834999675317\n",
      "202 0.07410715933387846\n",
      "203 0.0740759818798594\n",
      "204 0.07404481762746623\n",
      "205 0.0740136665694772\n",
      "206 0.07398252869867677\n",
      "207 0.07395140400785681\n",
      "208 0.07392029248981567\n",
      "209 0.0738891941373592\n",
      "210 0.0738581089432994\n",
      "211 0.0738270369004567\n",
      "212 0.07379597800165645\n",
      "213 0.07376493223973228\n",
      "214 0.07373389960752424\n",
      "215 0.07370288009787963\n",
      "216 0.07367187370365201\n",
      "217 0.07364088041770207\n",
      "218 0.07360990023289796\n",
      "219 0.07357893314211371\n",
      "220 0.0735479791382307\n",
      "221 0.07351703821413681\n",
      "222 0.07348611036272773\n",
      "223 0.07345519557690426\n",
      "224 0.07342429384957554\n",
      "225 0.07339340517365715\n",
      "226 0.07336252954207044\n",
      "227 0.07333166694774508\n",
      "228 0.07330081738361596\n",
      "229 0.07326998084262627\n",
      "230 0.07323915731772483\n",
      "231 0.07320834680186743\n",
      "232 0.07317754928801652\n",
      "233 0.07314676476914192\n",
      "234 0.07311599323821925\n",
      "235 0.07308523468823182\n",
      "236 0.07305448911216846\n",
      "237 0.07302375650302552\n",
      "238 0.07299303685380533\n",
      "239 0.07296233015751843\n",
      "240 0.07293163640717992\n",
      "241 0.07290095559581268\n",
      "242 0.07287028771644667\n",
      "243 0.07283963276211658\n",
      "244 0.0728089907258666\n",
      "245 0.07277836160074505\n",
      "246 0.07274774537980773\n",
      "247 0.07271714205611761\n",
      "248 0.07268655162274285\n",
      "249 0.07265597407275992\n",
      "250 0.07262540939924989\n",
      "251 0.07259485759530204\n",
      "252 0.07256431865401175\n",
      "253 0.0725337925684803\n",
      "254 0.07250327933181654\n",
      "255 0.07247277893713452\n",
      "256 0.07244229137755596\n",
      "257 0.07241181664620838\n",
      "258 0.07238135473622692\n",
      "259 0.07235090564075099\n",
      "260 0.07232046935292903\n",
      "261 0.07229004586591403\n",
      "262 0.07225963517286628\n",
      "263 0.0722292372669525\n",
      "264 0.07219885214134553\n",
      "265 0.0721684797892252\n",
      "266 0.07213812020377688\n",
      "267 0.07210777337819346\n",
      "268 0.07207743930567309\n",
      "269 0.07204711797942168\n",
      "270 0.07201680939264955\n",
      "271 0.07198651353857521\n",
      "272 0.07195623041042286\n",
      "273 0.07192596000142326\n",
      "274 0.07189570230481264\n",
      "275 0.07186545731383491\n",
      "276 0.0718352250217397\n",
      "277 0.07180500542178259\n",
      "278 0.07177479850722583\n",
      "279 0.07174460427133816\n",
      "280 0.0717144227073943\n",
      "281 0.07168425380867569\n",
      "282 0.07165409756846948\n",
      "283 0.07162395398006903\n",
      "284 0.07159382303677482\n",
      "285 0.07156370473189305\n",
      "286 0.07153359905873592\n",
      "287 0.07150350601062218\n",
      "288 0.07147342558087671\n",
      "289 0.07144335776283094\n",
      "290 0.07141330254982192\n",
      "291 0.07138325993519302\n",
      "292 0.07135322991229476\n",
      "293 0.0713232124744821\n",
      "294 0.07129320761511829\n",
      "295 0.07126321532757077\n",
      "296 0.07123323560521422\n",
      "297 0.07120326844142942\n",
      "298 0.07117331382960275\n",
      "299 0.07114337176312759\n",
      "300 0.0711134422354027\n",
      "301 0.0710835252398334\n",
      "302 0.07105362076983081\n",
      "303 0.07102372881881246\n",
      "304 0.07099384938020133\n",
      "305 0.07096398244742722\n",
      "306 0.07093412801392604\n",
      "307 0.0709042860731393\n",
      "308 0.07087445661851487\n",
      "309 0.07084463964350621\n",
      "310 0.07081483514157354\n",
      "311 0.07078504310618257\n",
      "312 0.07075526353080551\n",
      "313 0.07072549640891998\n",
      "314 0.0706957417340104\n",
      "315 0.07066599949956592\n",
      "316 0.07063626969908368\n",
      "317 0.07060655232606451\n",
      "318 0.0705768473740169\n",
      "319 0.07054715483645473\n",
      "320 0.07051747470689798\n",
      "321 0.07048780697887223\n",
      "322 0.07045815164590946\n",
      "323 0.07042850870154735\n",
      "324 0.07039887813932962\n",
      "325 0.07036925995280562\n",
      "326 0.07033965413553114\n",
      "327 0.07031006068106732\n",
      "328 0.07028047958298177\n",
      "329 0.0702509108348479\n",
      "330 0.07022135443024376\n",
      "331 0.07019181036275554\n",
      "332 0.07016227862597352\n",
      "333 0.07013275921349421\n",
      "334 0.07010325211892063\n",
      "335 0.07007375733586109\n",
      "336 0.07004427485792891\n",
      "337 0.07001480467874574\n",
      "338 0.06998534679193621\n",
      "339 0.0699559011911326\n",
      "340 0.06992646786997246\n",
      "341 0.06989704682209857\n",
      "342 0.06986763804116058\n",
      "343 0.06983824152081294\n",
      "344 0.06980885725471687\n",
      "345 0.06977948523653814\n",
      "346 0.06975012545994917\n",
      "347 0.06972077791862835\n",
      "348 0.06969144260625851\n",
      "349 0.06966211951652981\n",
      "350 0.06963280864313694\n",
      "351 0.06960350997978056\n",
      "352 0.06957422352016834\n",
      "353 0.06954494925801133\n",
      "354 0.06951568718702812\n",
      "355 0.06948643730094188\n",
      "356 0.06945719959348264\n",
      "357 0.06942797405838495\n",
      "358 0.06939876068938945\n",
      "359 0.06936955948024288\n",
      "360 0.06934037042469694\n",
      "361 0.06931119351650927\n",
      "362 0.06928202874944335\n",
      "363 0.06925287611726819\n",
      "364 0.0692237356137573\n",
      "365 0.0691946072326925\n",
      "366 0.06916549096785803\n",
      "367 0.06913638681304601\n",
      "368 0.06910729476205324\n",
      "369 0.06907821480868213\n",
      "370 0.06904914694674091\n",
      "371 0.06902009117004321\n",
      "372 0.06899104747240822\n",
      "373 0.06896201584766075\n",
      "374 0.06893299628963104\n",
      "375 0.06890398879215513\n",
      "376 0.06887499334907428\n",
      "377 0.06884600995423515\n",
      "378 0.06881703860149083\n",
      "379 0.06878807928469871\n",
      "380 0.06875913199772234\n",
      "381 0.068730196734431\n",
      "382 0.06870127348869869\n",
      "383 0.06867236225440532\n",
      "384 0.06864346302543656\n",
      "385 0.06861457579568296\n",
      "386 0.06858570055904095\n",
      "387 0.06855683730941273\n",
      "388 0.06852798604070483\n",
      "389 0.06849914674683014\n",
      "390 0.06847031942170646\n",
      "391 0.06844150405925777\n",
      "392 0.06841270065341261\n",
      "393 0.06838390919810518\n",
      "394 0.06835512968727547\n",
      "395 0.06832636211486842\n",
      "396 0.06829760647483442\n",
      "397 0.06826886276112953\n",
      "398 0.06824013096771507\n",
      "399 0.06821141108855713\n",
      "400 0.0681827031176279\n",
      "401 0.06815400704890488\n",
      "402 0.06812532287637053\n",
      "403 0.06809665059401282\n",
      "404 0.06806799019582517\n",
      "405 0.06803934167580565\n",
      "406 0.06801070502795892\n",
      "407 0.0679820802462938\n",
      "408 0.06795346732482462\n",
      "409 0.06792486625757228\n",
      "410 0.06789627703856023\n",
      "411 0.0678676996618199\n",
      "412 0.06783913412138706\n",
      "413 0.06781058041130221\n",
      "414 0.0677820385256118\n",
      "415 0.06775350845836668\n",
      "416 0.06772499020362446\n",
      "417 0.06769648375544615\n",
      "418 0.0676679891078992\n",
      "419 0.06763950625505623\n",
      "420 0.06761103519099447\n",
      "421 0.06758257590979691\n",
      "422 0.06755412840555132\n",
      "423 0.06752569267235119\n",
      "424 0.06749726870429448\n",
      "425 0.06746885649548488\n",
      "426 0.06744045604003143\n",
      "427 0.0674120673320476\n",
      "428 0.0673836903656524\n",
      "429 0.06735532513497021\n",
      "430 0.06732697163413064\n",
      "431 0.06729862985726738\n",
      "432 0.06727029979852063\n",
      "433 0.06724198145203536\n",
      "434 0.06721367481196039\n",
      "435 0.06718537987245163\n",
      "436 0.06715709662766882\n",
      "437 0.06712882507177725\n",
      "438 0.06710056519894696\n",
      "439 0.06707231700335338\n",
      "440 0.06704408047917702\n",
      "441 0.06701585562060319\n",
      "442 0.06698764242182248\n",
      "443 0.0669594408770308\n",
      "444 0.06693125098042815\n",
      "445 0.06690307272622079\n",
      "446 0.06687490610861939\n",
      "447 0.06684675112183948\n",
      "448 0.06681860776010218\n",
      "449 0.06679047601763288\n",
      "450 0.06676235588866263\n",
      "451 0.06673424736742761\n",
      "452 0.06670615044816783\n",
      "453 0.06667806512512969\n",
      "454 0.06664999139256389\n",
      "455 0.06662192924472611\n",
      "456 0.06659387867587716\n",
      "457 0.06656583968028273\n",
      "458 0.06653781225221303\n",
      "459 0.06650979638594484\n",
      "460 0.06648179207575751\n",
      "461 0.06645379931593713\n",
      "462 0.06642581810077396\n",
      "463 0.06639784842456319\n",
      "464 0.06636989028160567\n",
      "465 0.06634194366620626\n",
      "466 0.0663140085726748\n",
      "467 0.06628608499532625\n",
      "468 0.06625817292848117\n",
      "469 0.06623027236646309\n",
      "470 0.06620238330360302\n",
      "471 0.06617450573423482\n",
      "472 0.0661466396526977\n",
      "473 0.0661187850533361\n",
      "474 0.06609094193049946\n",
      "475 0.0660631102785412\n",
      "476 0.06603529009181992\n",
      "477 0.06600748136469989\n",
      "478 0.06597968409154956\n",
      "479 0.06595189826674151\n",
      "480 0.06592412388465443\n",
      "481 0.06589636093967056\n",
      "482 0.06586860942617802\n",
      "483 0.06584086933856963\n",
      "484 0.06581314067124197\n",
      "485 0.06578542341859761\n",
      "486 0.06575771757504324\n",
      "487 0.06573002313499043\n",
      "488 0.06570234009285532\n",
      "489 0.06567466844305955\n"
     ]
    },
    {
     "name": "stdout",
     "output_type": "stream",
     "text": [
      "490 0.06564700818002885\n",
      "491 0.06561935929819332\n",
      "492 0.06559172179198856\n",
      "493 0.06556409565585515\n",
      "494 0.06553648088423736\n",
      "495 0.06550887747158522\n",
      "496 0.06548128541235221\n",
      "497 0.06545370470099834\n",
      "498 0.06542613533198668\n",
      "499 0.06539857729978536\n",
      "500 0.06537103059886765\n",
      "501 0.06534349522371155\n",
      "502 0.06531597116879892\n",
      "503 0.06528845842861776\n",
      "504 0.06526095699765852\n",
      "505 0.06523346687041896\n",
      "506 0.06520598804139927\n",
      "507 0.06517852050510528\n",
      "508 0.06515106425604743\n",
      "509 0.06512361928874057\n",
      "510 0.06509618559770491\n",
      "511 0.06506876317746398\n",
      "512 0.06504135202254684\n",
      "513 0.0650139521274869\n",
      "514 0.06498656348682216\n",
      "515 0.06495918609509548\n",
      "516 0.06493181994685403\n",
      "517 0.06490446503664948\n",
      "518 0.06487712135903838\n",
      "519 0.06484978890858172\n",
      "520 0.06482246767984505\n",
      "521 0.06479515766739852\n",
      "522 0.06476785886581667\n",
      "523 0.06474057126967865\n",
      "524 0.06471329487356861\n",
      "525 0.06468602967207399\n",
      "526 0.0646587756597892\n",
      "527 0.06463153283131004\n",
      "528 0.0646043011812391\n",
      "529 0.06457708070418246\n",
      "530 0.064549871394751\n",
      "531 0.06452267324756061\n",
      "532 0.06449548625723088\n",
      "533 0.06446831041838584\n",
      "534 0.06444114572565487\n",
      "535 0.06441399217367128\n",
      "536 0.06438684975707257\n",
      "537 0.06435971847050133\n",
      "538 0.0643325983086042\n",
      "539 0.06430548926603202\n",
      "540 0.06427839133744098\n",
      "541 0.06425130451749116\n",
      "542 0.06422422880084669\n",
      "543 0.06419716418217637\n",
      "544 0.06417011065615459\n",
      "545 0.06414306821745822\n",
      "546 0.0641160368607693\n",
      "547 0.06408901658077552\n",
      "548 0.06406200737216725\n",
      "549 0.06403500922963977\n",
      "550 0.06400802214789326\n",
      "551 0.06398104612163155\n",
      "552 0.06395408114556368\n",
      "553 0.06392712721440229\n",
      "554 0.06390018432286476\n",
      "555 0.06387325246567277\n",
      "556 0.06384633163755235\n",
      "557 0.06381942183323375\n",
      "558 0.0637925230474523\n",
      "559 0.06376563527494647\n",
      "560 0.06373875851045964\n",
      "561 0.06371189274873992\n",
      "562 0.06368503798453935\n",
      "563 0.06365819421261402\n",
      "564 0.06363136142772509\n",
      "565 0.06360453962463693\n",
      "566 0.06357772879811953\n",
      "567 0.06355092894294591\n",
      "568 0.06352414005389387\n",
      "569 0.06349736212574636\n",
      "570 0.06347059515328897\n",
      "571 0.06344383913131316\n",
      "572 0.06341709405461343\n",
      "573 0.06339035991798869\n",
      "574 0.06336363671624322\n",
      "575 0.06333692444418397\n",
      "576 0.06331022309662376\n",
      "577 0.06328353266837862\n",
      "578 0.06325685315426845\n",
      "579 0.06323018454911825\n",
      "580 0.06320352684775705\n",
      "581 0.06317688004501804\n",
      "582 0.06315024413573868\n",
      "583 0.06312361911475975\n",
      "584 0.06309700497692769\n",
      "585 0.06307040171709226\n",
      "586 0.06304380933010782\n",
      "587 0.06301722781083242\n",
      "588 0.06299065715412819\n",
      "589 0.0629640973548626\n",
      "590 0.06293754840790583\n",
      "591 0.06291101030813345\n",
      "592 0.06288448305042378\n",
      "593 0.06285796662966094\n",
      "594 0.06283146104073227\n",
      "595 0.06280496627852879\n",
      "596 0.06277848233794693\n",
      "597 0.06275200921388596\n",
      "598 0.06272554690124996\n",
      "599 0.06269909539494721\n",
      "600 0.06267265468989028\n",
      "601 0.06264622478099507\n",
      "602 0.06261980566318158\n",
      "603 0.06259339733137509\n",
      "604 0.06256699978050374\n",
      "605 0.06254061300550061\n",
      "606 0.06251423700130206\n",
      "607 0.06248787176284929\n",
      "608 0.06246151728508691\n",
      "609 0.062435173562964304\n",
      "610 0.06240884059143429\n",
      "611 0.06238251836545395\n",
      "612 0.06235620687998435\n",
      "613 0.06232990612999098\n",
      "614 0.06230361611044293\n",
      "615 0.062277336816313596\n",
      "616 0.062251068242580324\n",
      "617 0.06222481038422378\n",
      "618 0.062198563236230284\n",
      "619 0.06217232679358872\n",
      "620 0.06214610105129284\n",
      "621 0.06211988600433926\n",
      "622 0.062093681647729784\n",
      "623 0.062067487976469694\n",
      "624 0.06204130498556863\n",
      "625 0.062015132670039434\n",
      "626 0.06198897102490042\n",
      "627 0.061962820045171584\n",
      "628 0.061936679725879115\n",
      "629 0.061910550062051706\n",
      "630 0.06188443104872279\n",
      "631 0.06185832268092934\n",
      "632 0.06183222495371243\n",
      "633 0.061806137862117284\n",
      "634 0.06178006140119245\n",
      "635 0.06175399556599139\n",
      "636 0.06172794035157033\n",
      "637 0.061701895752990704\n",
      "638 0.06167586176531623\n",
      "639 0.06164983838361589\n",
      "640 0.06162382560296263\n",
      "641 0.06159782341843187\n",
      "642 0.061571831825104624\n",
      "643 0.06154585081806495\n",
      "644 0.061519880392400375\n",
      "645 0.06149392054320337\n",
      "646 0.06146797126556947\n",
      "647 0.06144203255459846\n",
      "648 0.06141610440539357\n",
      "649 0.061390186813062644\n",
      "650 0.06136427977271681\n",
      "651 0.06133838327947021\n",
      "652 0.06131249732844366\n",
      "653 0.06128662191475841\n",
      "654 0.06126075703354155\n",
      "655 0.06123490267992353\n",
      "656 0.0612090588490383\n",
      "657 0.061183225536024996\n",
      "658 0.06115740273602441\n",
      "659 0.061131590444182766\n",
      "660 0.06110578865564948\n",
      "661 0.061079997365577926\n",
      "662 0.06105421656912518\n",
      "663 0.06102844626145204\n",
      "664 0.06100268643772371\n",
      "665 0.060976937093108176\n",
      "666 0.0609511982227778\n",
      "667 0.06092546982190874\n",
      "668 0.06089975188568088\n",
      "669 0.06087404440927715\n",
      "670 0.06084834738788616\n",
      "671 0.06082266081669791\n",
      "672 0.060796984690907364\n",
      "673 0.06077131900571345\n",
      "674 0.06074566375631842\n",
      "675 0.060720018937927854\n",
      "676 0.06069438454575208\n",
      "677 0.0606687605750041\n",
      "678 0.06064314702090199\n",
      "679 0.06061754387866575\n",
      "680 0.06059195114352042\n",
      "681 0.06056636881069426\n",
      "682 0.060540796875419384\n",
      "683 0.060515235332931586\n",
      "684 0.06048968417847022\n",
      "685 0.06046414340727828\n",
      "686 0.06043861301460285\n",
      "687 0.06041309299569419\n",
      "688 0.060387583345806656\n",
      "689 0.06036208406019763\n",
      "690 0.06033659513412917\n",
      "691 0.06031111656286605\n",
      "692 0.060285648341677184\n",
      "693 0.0602601904658349\n",
      "694 0.060234742930615655\n",
      "695 0.06020930573129859\n",
      "696 0.06018387886316744\n",
      "697 0.060158462321509114\n",
      "698 0.060133056101614055\n",
      "699 0.06010766019877681\n",
      "700 0.06008227460829519\n",
      "701 0.06005689932547024\n",
      "702 0.06003153434560762\n",
      "703 0.060006179664015745\n",
      "704 0.059980835276006596\n",
      "705 0.059955501176896624\n",
      "706 0.05993017736200454\n",
      "707 0.059904863826654026\n",
      "708 0.059879560566171615\n",
      "709 0.05985426757588707\n",
      "710 0.05982898485113477\n",
      "711 0.05980371238725143\n",
      "712 0.05977845017957816\n",
      "713 0.059753198223459356\n",
      "714 0.05972795651424358\n",
      "715 0.05970272504728156\n",
      "716 0.0596775038179284\n",
      "717 0.05965229282154354\n",
      "718 0.05962709205348854\n",
      "719 0.05960190150912913\n",
      "720 0.05957672118383423\n",
      "721 0.059551551072977264\n",
      "722 0.05952639117193426\n",
      "723 0.05950124147608461\n",
      "724 0.0594761019808118\n",
      "725 0.059450972681502644\n",
      "726 0.05942585357354747\n",
      "727 0.059400744652339806\n",
      "728 0.05937564591327709\n",
      "729 0.059350557351760064\n",
      "730 0.05932547896319274\n",
      "731 0.059300410742983145\n",
      "732 0.05927535268654202\n",
      "733 0.0592503047892847\n",
      "734 0.05922526704662822\n",
      "735 0.05920023945399481\n",
      "736 0.0591752220068096\n",
      "737 0.05915021470050073\n",
      "738 0.05912521753050037\n",
      "739 0.059100230492243354\n",
      "740 0.059075253581169114\n",
      "741 0.059050286792719384\n",
      "742 0.05902533012233986\n",
      "743 0.059000383565479646\n",
      "744 0.05897544711759131\n",
      "745 0.05895052077413082\n",
      "746 0.05892560453055736\n",
      "747 0.05890069838233334\n",
      "748 0.05887580232492545\n",
      "749 0.05885091635380261\n",
      "750 0.05882604046443847\n",
      "751 0.058801174652308615\n",
      "752 0.058776318912893075\n",
      "753 0.05875147324167475\n",
      "754 0.05872663763414003\n",
      "755 0.058701812085778994\n",
      "756 0.0586769965920845\n",
      "757 0.05865219114855333\n",
      "758 0.0586273957506852\n",
      "759 0.058602610393983394\n",
      "760 0.058577835073954254\n",
      "761 0.05855306978610861\n",
      "762 0.05852831452595889\n",
      "763 0.05850356928902176\n",
      "764 0.058478834070817456\n",
      "765 0.05845410886686928\n",
      "766 0.058429393672703715\n",
      "767 0.058404688483850734\n",
      "768 0.05837999329584362\n",
      "769 0.05835530810421892\n",
      "770 0.05833063290451648\n",
      "771 0.05830596769227928\n",
      "772 0.05828131246305398\n",
      "773 0.05825666721239066\n",
      "774 0.05823203193584135\n",
      "775 0.05820740662896403\n",
      "776 0.05818279128731672\n",
      "777 0.0581581859064634\n",
      "778 0.05813359048196974\n",
      "779 0.05810900500940527\n",
      "780 0.05808442948434288\n",
      "781 0.05805986390235834\n",
      "782 0.05803530825903104\n",
      "783 0.058010762549943494\n",
      "784 0.05798622677068129\n",
      "785 0.057961700916833565\n",
      "786 0.05793718498399261\n",
      "787 0.05791267896775373\n",
      "788 0.05788818286371583\n",
      "789 0.05786369666748074\n",
      "790 0.05783922037465346\n",
      "791 0.0578147539808423\n",
      "792 0.0577902974816595\n",
      "793 0.057765850872719404\n",
      "794 0.057741414149640125\n",
      "795 0.05771698730804277\n",
      "796 0.05769257034355178\n",
      "797 0.057668163251795204\n",
      "798 0.05764376602840337\n",
      "799 0.057619378669010256\n",
      "800 0.05759500116925378\n",
      "801 0.05757063352477359\n",
      "802 0.05754627573121341\n",
      "803 0.057521927784219995\n",
      "804 0.0574975896794434\n",
      "805 0.057473261412536794\n",
      "806 0.05744894297915607\n",
      "807 0.05742463437496077\n",
      "808 0.05740033559561348\n",
      "809 0.05737604663677961\n",
      "810 0.05735176749412845\n",
      "811 0.057327498163331485\n",
      "812 0.057303238640064494\n",
      "813 0.05727898892000494\n",
      "814 0.05725474899883499\n",
      "815 0.05723051887223836\n",
      "816 0.05720629853590352\n",
      "817 0.057182087985520595\n",
      "818 0.05715788721678358\n",
      "819 0.0571336962253898\n",
      "820 0.057109515007038716\n",
      "821 0.05708534355743368\n",
      "822 0.05706118187228171\n",
      "823 0.05703702994729138\n",
      "824 0.057012887778175064\n",
      "825 0.05698875536064887\n",
      "826 0.05696463269043119\n",
      "827 0.05694051976324414\n",
      "828 0.05691641657481153\n",
      "829 0.05689232312086208\n",
      "830 0.05686823939712649\n",
      "831 0.05684416539933856\n",
      "832 0.0568201011232358\n",
      "833 0.05679604656455791\n",
      "834 0.05677200171904838\n",
      "835 0.056747966582452854\n",
      "836 0.056723941150521345\n",
      "837 0.056699925419005696\n",
      "838 0.056675919383661524\n",
      "839 0.0566519230402468\n",
      "840 0.056627936384523396\n",
      "841 0.05660395941225548\n",
      "842 0.05657999211921042\n",
      "843 0.05655603450115891\n",
      "844 0.05653208655387415\n",
      "845 0.05650814827313321\n",
      "846 0.05648421965471516\n",
      "847 0.05646030069440208\n",
      "848 0.05643639138798038\n",
      "849 0.05641249173123816\n",
      "850 0.05638860171996678\n",
      "851 0.056364721349960886\n",
      "852 0.05634085061701761\n",
      "853 0.056316989516938226\n",
      "854 0.05629313804552562\n",
      "855 0.05626929619858582\n",
      "856 0.05624546397192903\n",
      "857 0.056221641361367154\n",
      "858 0.05619782836271547\n",
      "859 0.0561740249717923\n",
      "860 0.05615023118441888\n",
      "861 0.05612644699641926\n",
      "862 0.05610267240362026\n",
      "863 0.056078907401853215\n",
      "864 0.056055151986949665\n",
      "865 0.05603140615474645\n",
      "866 0.05600766990108214\n",
      "867 0.05598394322179807\n",
      "868 0.05596022611274013\n",
      "869 0.055936518569754796\n",
      "870 0.055912820588693374\n",
      "871 0.05588913216540912\n",
      "872 0.055865453295758365\n",
      "873 0.05584178397560063\n",
      "874 0.05581812420079796\n",
      "875 0.055794473967215485\n",
      "876 0.055770833270721215\n",
      "877 0.05574720210718614\n",
      "878 0.05572358047248398\n",
      "879 0.055699968362491435\n",
      "880 0.05567636577308793\n",
      "881 0.055652772700156304\n",
      "882 0.05562918913958141\n",
      "883 0.05560561508725192\n",
      "884 0.05558205053905838\n",
      "885 0.055558495490895324\n",
      "886 0.05553494993865905\n",
      "887 0.05551141387824933\n",
      "888 0.05548788730556861\n",
      "889 0.05546437021652241\n",
      "890 0.05544086260701886\n",
      "891 0.05541736447296914\n",
      "892 0.055393875810287097\n",
      "893 0.05537039661488901\n",
      "894 0.055346926882695144\n",
      "895 0.05532346660962745\n",
      "896 0.05530001579161087\n",
      "897 0.055276574424574454\n",
      "898 0.055253142504447954\n"
     ]
    },
    {
     "name": "stdout",
     "output_type": "stream",
     "text": [
      "899 0.05522972002716605\n",
      "900 0.05520630698866406\n",
      "901 0.05518290338488224\n",
      "902 0.05515950921176248\n",
      "903 0.05513612446524927\n",
      "904 0.05511274914129093\n",
      "905 0.05508938323583744\n",
      "906 0.055066026744842476\n",
      "907 0.05504267966426162\n",
      "908 0.055019341990054406\n",
      "909 0.0549960137181822\n",
      "910 0.054972694844609316\n",
      "911 0.05494938536530299\n",
      "912 0.05492608527623334\n",
      "913 0.05490279457337275\n",
      "914 0.054879513252697215\n",
      "915 0.05485624131018449\n",
      "916 0.054832978741816286\n",
      "917 0.0548097255435754\n",
      "918 0.054786481711449446\n",
      "919 0.0547632472414269\n",
      "920 0.05474002212950048\n",
      "921 0.05471680637166426\n",
      "922 0.05469359996391634\n",
      "923 0.05467040290225644\n",
      "924 0.05464721518268787\n",
      "925 0.0546240368012159\n",
      "926 0.0546008677538494\n",
      "927 0.0545777080365996\n",
      "928 0.05455455764547999\n",
      "929 0.05453141657650726\n",
      "930 0.05450828482570067\n",
      "931 0.054485162389082756\n",
      "932 0.05446204926267735\n",
      "933 0.054438945442512154\n",
      "934 0.05441585092461749\n",
      "935 0.05439276570502604\n",
      "936 0.05436968977977336\n",
      "937 0.05434662314489746\n",
      "938 0.05432356579643887\n",
      "939 0.05430051773044168\n",
      "940 0.054277478942952234\n",
      "941 0.05425444943001906\n",
      "942 0.05423142918769356\n",
      "943 0.05420841821203055\n",
      "944 0.05418541649908637\n",
      "945 0.05416242404492073\n",
      "946 0.05413944084559601\n",
      "947 0.054116466897176696\n",
      "948 0.0540935021957311\n",
      "949 0.05407054673732847\n",
      "950 0.05404760051804195\n",
      "951 0.054024663533947526\n",
      "952 0.05400173578112253\n",
      "953 0.05397881725564803\n",
      "954 0.0539559079536075\n",
      "955 0.05393300787108676\n",
      "956 0.053910117004174654\n",
      "957 0.05388723534896203\n",
      "958 0.05386436290154334\n",
      "959 0.05384149965801439\n",
      "960 0.053818645614474483\n",
      "961 0.053795800767025885\n",
      "962 0.053772965111772146\n",
      "963 0.05375013864482075\n",
      "964 0.05372732136228102\n",
      "965 0.053704513260264555\n",
      "966 0.05368171433488725\n",
      "967 0.05365892458226544\n",
      "968 0.05363614399851917\n",
      "969 0.05361337257977129\n",
      "970 0.05359061032214646\n",
      "971 0.05356785722177282\n",
      "972 0.05354511327477986\n",
      "973 0.053522378477300916\n",
      "974 0.053499652825470964\n",
      "975 0.053476936315428575\n",
      "976 0.053454228943313524\n",
      "977 0.05343153070526933\n",
      "978 0.05340884159744098\n",
      "979 0.053386161615977416\n",
      "980 0.05336349075702909\n",
      "981 0.05334082901674889\n",
      "982 0.053318176391293076\n",
      "983 0.05329553287681975\n",
      "984 0.05327289846948997\n",
      "985 0.05325027316546676\n",
      "986 0.053227656960916823\n",
      "987 0.05320504985200776\n",
      "988 0.05318245183491125\n",
      "989 0.053159862905800555\n",
      "990 0.0531372830608515\n",
      "991 0.053114712296243025\n",
      "992 0.05309215060815597\n",
      "993 0.05306959799277416\n",
      "994 0.053047054446283735\n",
      "995 0.053024519964872806\n",
      "996 0.05300199454473281\n",
      "997 0.052979478182057636\n",
      "998 0.0529569708730428\n",
      "999 0.05293447261388727\n"
     ]
    }
   ],
   "source": [
    "from nnode1 import nnode1\n",
    "np.random.seed(0)\n",
    "(yt, dyt_dx) = nnode1(G, A, dG_dy, dG_dydx, xt, verbose = True)"
   ]
  },
  {
   "cell_type": "markdown",
   "metadata": {},
   "source": [
    "Plot the results of this training run."
   ]
  },
  {
   "cell_type": "code",
   "execution_count": 10,
   "metadata": {},
   "outputs": [
    {
     "data": {
      "image/png": "[encoded data removed]",
      "text/plain": [
       "<Figure size 432x288 with 1 Axes>"
      ]
     },
     "metadata": {},
     "output_type": "display_data"
    }
   ],
   "source": [
    "plt.plot(xt, yt, label = '$y_t$')\n",
    "plt.plot(xt, dyt_dx, label = '$dy_t/dx$')\n",
    "plt.xlabel('$x_t$')\n",
    "plt.ylabel('$y_t$')\n",
    "plt.legend()\n",
    "plt.title(\"Figure 3: Trained solution and derivative\");"
   ]
  },
  {
   "cell_type": "markdown",
   "metadata": {},
   "source": [
    "Plot the error in the estimated solution and derivatives."
   ]
  },
  {
   "cell_type": "code",
   "execution_count": 11,
   "metadata": {},
   "outputs": [
    {
     "data": {
      "image/png": "[encoded data removed]",
      "text/plain": [
       "<Figure size 432x288 with 1 Axes>"
      ]
     },
     "metadata": {},
     "output_type": "display_data"
    }
   ],
   "source": [
    "y = np.zeros(nt)\n",
    "dy_dx = np.zeros(nt)\n",
    "for i in range(nt):\n",
    "    y[i] = ya(xt[i])\n",
    "    dy_dx[i] = dya_dx(xt[i])\n",
    "plt.plot(xt, yt - y, label = '$y_t-y$')\n",
    "plt.plot(xt, dyt_dx - dy_dx, label = '$dy_t/dx-dy/dx$')\n",
    "plt.xlabel('$x_t$')\n",
    "plt.ylabel('Error')\n",
    "plt.legend()\n",
    "plt.title(\"Figure 4: Error in trained solution\");"
   ]
  },
  {
   "cell_type": "markdown",
   "metadata": {},
   "source": [
    "Now try repeating the analysis with a larger number of hidden nodes, and plot the error."
   ]
  },
  {
   "cell_type": "code",
   "execution_count": 12,
   "metadata": {},
   "outputs": [],
   "source": [
    "np.random.seed(0)\n",
    "(yt, dyt_dx) = nnode1(G, A, dG_dy, dG_dydx, xt, nhid = 20)"
   ]
  },
  {
   "cell_type": "code",
   "execution_count": 13,
   "metadata": {},
   "outputs": [
    {
     "data": {
      "image/png": "[encoded data removed]",
      "text/plain": [
       "<Figure size 432x288 with 1 Axes>"
      ]
     },
     "metadata": {},
     "output_type": "display_data"
    }
   ],
   "source": [
    "y = np.zeros(nt)\n",
    "dy_dx = np.zeros(nt)\n",
    "for i in range(nt):\n",
    "    y[i] = ya(xt[i])\n",
    "    dy_dx[i] = dya_dx(xt[i])\n",
    "plt.plot(xt, yt - y, label = '$y_t-y$')\n",
    "plt.plot(xt, dyt_dx - dy_dx, label = '$dy_t/dx-dy/dx$')\n",
    "plt.xlabel('$x_t$')\n",
    "plt.ylabel('Error')\n",
    "plt.legend()\n",
    "plt.title(\"Figure 5: Error in trained solution (20 hidden nodes)\");"
   ]
  },
  {
   "cell_type": "markdown",
   "metadata": {},
   "source": [
    "Now try repeating the analysis with a slightly larger learning rate, and plot the error."
   ]
  },
  {
   "cell_type": "code",
   "execution_count": 14,
   "metadata": {},
   "outputs": [],
   "source": [
    "np.random.seed(0)\n",
    "(yt, dyt_dx) = nnode1(G, A, dG_dy, dG_dydx, xt, nhid = 20, eta = 0.02)"
   ]
  },
  {
   "cell_type": "code",
   "execution_count": 15,
   "metadata": {},
   "outputs": [
    {
     "data": {
      "image/png": "[encoded data removed]",
      "text/plain": [
       "<Figure size 432x288 with 1 Axes>"
      ]
     },
     "metadata": {},
     "output_type": "display_data"
    }
   ],
   "source": [
    "y = np.zeros(nt)\n",
    "dy_dx = np.zeros(nt)\n",
    "for i in range(nt):\n",
    "    y[i] = ya(xt[i])\n",
    "    dy_dx[i] = dya_dx(xt[i])\n",
    "plt.plot(xt, yt - y, label = '$y_t-y$')\n",
    "plt.plot(xt, dyt_dx - dy_dx, label = '$dy_t/dx-dy/dx$')\n",
    "plt.xlabel('$x_t$')\n",
    "plt.ylabel('Error')\n",
    "plt.legend()\n",
    "plt.title(\"Figure 6: Error in trained solution (20 hidden nodes, $\\eta$ = 0.02)\");"
   ]
  },
  {
   "cell_type": "markdown",
   "metadata": {},
   "source": [
    "Now try repeating the analysis with a larger number of training epochs, and plot the error."
   ]
  },
  {
   "cell_type": "code",
   "execution_count": 16,
   "metadata": {},
   "outputs": [],
   "source": [
    "np.random.seed(0)\n",
    "(yt, dyt_dx) = nnode1(G, A, dG_dy, dG_dydx, xt, nhid = 20, eta = 0.02, maxepochs = 2000)"
   ]
  },
  {
   "cell_type": "code",
   "execution_count": 17,
   "metadata": {},
   "outputs": [
    {
     "data": {
      "image/png": "[encoded data removed]",
      "text/plain": [
       "<Figure size 432x288 with 1 Axes>"
      ]
     },
     "metadata": {},
     "output_type": "display_data"
    }
   ],
   "source": [
    "y = np.zeros(nt)\n",
    "dy_dx = np.zeros(nt)\n",
    "for i in range(nt):\n",
    "    y[i] = ya(xt[i])\n",
    "    dy_dx[i] = dya_dx(xt[i])\n",
    "plt.plot(xt, yt - y, label = '$y_t-y$')\n",
    "plt.plot(xt, dyt_dx - dy_dx, label = '$dy_t/dx-dy/dx$')\n",
    "plt.xlabel('$x_t$')\n",
    "plt.ylabel('Error')\n",
    "plt.legend()\n",
    "plt.title(\"Figure 7: Error in trained solution (20 hidden nodes, $\\eta=0.02$, 2000 epochs)\");"
   ]
  },
  {
   "cell_type": "markdown",
   "metadata": {},
   "source": [
    "## Using a ODE definition module"
   ]
  },
  {
   "cell_type": "markdown",
   "metadata": {},
   "source": [
    "Rather than entering ODE definitions in this notebook, the required definitions can be entered in a separate Python module, and imported. For example, the previous code is also encapsulated in the file `ode00.py`, and can be imported:"
   ]
  },
  {
   "cell_type": "code",
   "execution_count": 18,
   "metadata": {},
   "outputs": [],
   "source": [
    "import ode00"
   ]
  },
  {
   "cell_type": "markdown",
   "metadata": {},
   "source": [
    "We can now run the net using the information in this module."
   ]
  },
  {
   "cell_type": "code",
   "execution_count": 19,
   "metadata": {},
   "outputs": [],
   "source": [
    "np.random.seed(0)\n",
    "(yt, dyt_dx) = nnode1(ode00.Gf, ode00.ic, ode00.dG_dyf, ode00.dG_dydxf, xt)"
   ]
  },
  {
   "cell_type": "code",
   "execution_count": 20,
   "metadata": {},
   "outputs": [
    {
     "data": {
      "image/png": "[encoded data removed]",
      "text/plain": [
       "<Figure size 432x288 with 1 Axes>"
      ]
     },
     "metadata": {},
     "output_type": "display_data"
    }
   ],
   "source": [
    "y = np.zeros(nt)\n",
    "dy_dx = np.zeros(nt)\n",
    "for i in range(nt):\n",
    "    y[i] = ode00.yaf(xt[i])\n",
    "    dy_dx[i] = ode00.dya_dxf(xt[i])\n",
    "plt.plot(xt, yt - y, label = '$y_t-y$')\n",
    "plt.plot(xt, dyt_dx - dy_dx, label = '$dy_t/dx-dy/dx$')\n",
    "plt.xlabel('$x_t$')\n",
    "plt.ylabel('Error')\n",
    "plt.legend()\n",
    "plt.title(\"Figure 8: Error in trained solution (using ode00.py)\");"
   ]
  }
 ],
 "metadata": {
  "kernelspec": {
   "display_name": "Python 3",
   "language": "python",
   "name": "python3"
  },
  "language_info": {
   "codemirror_mode": {
    "name": "ipython",
    "version": 3
   },
   "file_extension": ".py",
   "mimetype": "text/x-python",
   "name": "python",
   "nbconvert_exporter": "python",
   "pygments_lexer": "ipython3",
   "version": "3.6.5"
  }
 },
 "nbformat": 4,
 "nbformat_minor": 2
}

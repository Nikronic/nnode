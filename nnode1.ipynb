{
 "cells": [
  {
   "cell_type": "markdown",
   "metadata": {},
   "source": [
    "# Solving a 1st-order ODE IVP with a neural network"
   ]
  },
  {
   "cell_type": "markdown",
   "metadata": {},
   "source": [
    "## Setup"
   ]
  },
  {
   "cell_type": "code",
   "execution_count": 1,
   "metadata": {},
   "outputs": [
    {
     "data": {
      "application/javascript": [
       "MathJax.Hub.Config({\n",
       "      TeX: { equationNumbers: { autoNumber: \"AMS\" } }\n",
       "    });MathJax.Hub.Queue(\n",
       "  [\"resetEquationNumbers\", MathJax.InputJax.TeX],\n",
       "  [\"PreProcess\", MathJax.Hub],\n",
       "  [\"Reprocess\", MathJax.Hub]\n",
       ");\n",
       "MathJax.Hub.Queue(\n",
       "  [\"resetEquationNumbers\", MathJax.InputJax.TeX],\n",
       "  [\"PreProcess\", MathJax.Hub],\n",
       "  [\"Reprocess\", MathJax.Hub]\n",
       ");"
      ],
      "text/plain": [
       "<IPython.core.display.Javascript object>"
      ]
     },
     "metadata": {},
     "output_type": "display_data"
    }
   ],
   "source": [
    "%%javascript\n",
    "MathJax.Hub.Config({\n",
    "      TeX: { equationNumbers: { autoNumber: \"AMS\" } }\n",
    "    });MathJax.Hub.Queue(\n",
    "  [\"resetEquationNumbers\", MathJax.InputJax.TeX],\n",
    "  [\"PreProcess\", MathJax.Hub],\n",
    "  [\"Reprocess\", MathJax.Hub]\n",
    ");\n",
    "MathJax.Hub.Queue(\n",
    "  [\"resetEquationNumbers\", MathJax.InputJax.TeX],\n",
    "  [\"PreProcess\", MathJax.Hub],\n",
    "  [\"Reprocess\", MathJax.Hub]\n",
    ");"
   ]
  },
  {
   "cell_type": "code",
   "execution_count": 2,
   "metadata": {},
   "outputs": [],
   "source": [
    "from math import exp, cos, sin\n",
    "import matplotlib.pyplot as plt\n",
    "%matplotlib inline\n",
    "import numpy as np"
   ]
  },
  {
   "cell_type": "markdown",
   "metadata": {},
   "source": [
    "# Introduction"
   ]
  },
  {
   "cell_type": "markdown",
   "metadata": {},
   "source": [
    "This notebook will demonstrate how to use the code in the `nnode1.py` module. The module allows the user to solve 1st-order ordinary differential equation (ODE) initial value problems (IVPs) using a single-hidden layer neural network."
   ]
  },
  {
   "cell_type": "markdown",
   "metadata": {},
   "source": [
    "This work is based on the paper \"Artificial Neural Networks for Solving Ordinary and Partial Differential Equations\", by Lagaris et al, *IEEE Transactions on Neural Networks, Volume 9, No. 5*, September 1998. Note that the notation used in this notebook and the associated Python code is slightly different from that used in the Lagaris paper."
   ]
  },
  {
   "cell_type": "code",
   "execution_count": null,
   "metadata": {},
   "outputs": [],
   "source": []
  },
  {
   "cell_type": "markdown",
   "metadata": {},
   "source": [
    "## The algorithm"
   ]
  },
  {
   "cell_type": "markdown",
   "metadata": {},
   "source": [
    "Any 1st-order ODE can be written in the form:"
   ]
  },
  {
   "cell_type": "markdown",
   "metadata": {},
   "source": [
    "\\begin{equation}\n",
    "G(x,y,\\frac {dy}{dx}) = 0\n",
    "\\end{equation}"
   ]
  },
  {
   "cell_type": "markdown",
   "metadata": {},
   "source": [
    "The problem is to find a solution $y(x)$ to the ODE using a neural network, subject to the initial condition:"
   ]
  },
  {
   "cell_type": "markdown",
   "metadata": {},
   "source": [
    "\\begin{equation}\n",
    "y(0) = A\n",
    "\\end{equation}"
   ]
  },
  {
   "cell_type": "markdown",
   "metadata": {},
   "source": [
    "The network is trained using a set of *training points*, defined on the domain of interest. The training points need not be evenly-spaced. Note that only the independent variable values $x_i$ of the training points are needed - the estimated value of the solution at those training points is obtained using a trial solution. For 1st-order ODE IVP, the trial solution has the form:"
   ]
  },
  {
   "cell_type": "markdown",
   "metadata": {},
   "source": [
    "\\begin{equation}\n",
    "y_t(x_i) = A(x_i) + P(x_i)N(x_i,\\vec p)\n",
    "\\end{equation}"
   ]
  },
  {
   "cell_type": "markdown",
   "metadata": {},
   "source": [
    "For 1st-order ODE IVP, the forms for $A(x_i)$ and $P(x_i)$ are particularly simple:"
   ]
  },
  {
   "cell_type": "markdown",
   "metadata": {},
   "source": [
    "\\begin{equation}\n",
    "A(x_i)=A\n",
    "\\end{equation}"
   ]
  },
  {
   "cell_type": "markdown",
   "metadata": {},
   "source": [
    "\\begin{equation}\n",
    "P(x_i)=x_i\n",
    "\\end{equation}"
   ]
  },
  {
   "cell_type": "markdown",
   "metadata": {},
   "source": [
    "The trial solution can be written more compactly as:"
   ]
  },
  {
   "cell_type": "markdown",
   "metadata": {},
   "source": [
    "\\begin{equation}\n",
    "y_{ti} = A_i+P_i N_i\n",
    "\\end{equation}"
   ]
  },
  {
   "cell_type": "markdown",
   "metadata": {},
   "source": [
    "where $y_{ti}=y_t(x_i,\\vec p)$ is the value of the trial solution at the current training point $x_i$, $A_i=A$ is the initial condition ($y(0)$), $P_i=P(x_i)$ is the coefficient function for $N_i$, and $N_i=N(x_i,\\vec p)$ is the single-valued floating-point output from an unspecified neural network with parameters $\\vec p$. Note that this trial solution satisfies the initial condition by construction - at $x=0$, the second term vanishes, leaving $y_t(0)=A$."
   ]
  },
  {
   "cell_type": "markdown",
   "metadata": {},
   "source": [
    "Training is done in a set of *epochs*. A training epoch consists of presenting the neural network with each of the $n$ training points $x_i$, one at a time. For each input value $x_i$, the network output $N_i$ is computed, and used to compute the value of the trial solution $y_{ti}$. Once all $n$ points have been presented, the epoch is complete, and the error function $E$ is computed. The ODE definition (1) should vanish at convergence, and so an appropriate form for the error function is:"
   ]
  },
  {
   "cell_type": "markdown",
   "metadata": {},
   "source": [
    "\\begin{equation}\n",
    "E = \\sum_{j=1}^{n}G_i^2\n",
    "\\end{equation}"
   ]
  },
  {
   "cell_type": "markdown",
   "metadata": {},
   "source": [
    "where $G_i$ is:"
   ]
  },
  {
   "cell_type": "markdown",
   "metadata": {},
   "source": [
    "\\begin{equation}\n",
    "G_i = G(x_i,y_{ti},\\frac {\\partial y_{ti}}{\\partial x_i})\n",
    "\\end{equation}"
   ]
  },
  {
   "cell_type": "markdown",
   "metadata": {},
   "source": [
    "where $\\frac {\\partial y_{ti}}{\\partial x_i}$ is the derivative of the trial function with respect to $x$, evaluated at $x_i$. This derivative is the current approximation of the analytical derivative $\\frac {dy}{dx}$. Once this error function is computed, the weights and biases in the neural network are adjusted to reduce the error. Eventually, a minimum of $E$ is attained, and the resulting final form of $y_t(x)$ is used as the solution to the original ODE."
   ]
  },
  {
   "cell_type": "markdown",
   "metadata": {},
   "source": [
    "## Computing the network output $N_i$"
   ]
  },
  {
   "cell_type": "markdown",
   "metadata": {},
   "source": [
    "The neural network used in this work has a simple structure. A single input node is used to provide the training data. The input node is fully-connected to a set of $H$ hidden nodes. Each hidden node is connected to a single output node."
   ]
  },
  {
   "cell_type": "markdown",
   "metadata": {},
   "source": [
    "During each step of a training epoch, the input to the network, and thus the output of the single input node, is just the training point $x_i$. This single output is then sent to each of the $H$ hidden nodes. At each hidden node $k$, the input value $x_i$ is transformed by the equation:"
   ]
  },
  {
   "cell_type": "markdown",
   "metadata": {},
   "source": [
    "\\begin{equation}\n",
    "z_{ik} = w_k x_i + u_k\n",
    "\\end{equation}"
   ]
  },
  {
   "cell_type": "markdown",
   "metadata": {},
   "source": [
    "where $z_{ik}$ is the transformed input at hidden node $k$, $w_k$ is the weight at node $k$, and $u_k$ is the bias at node $k$. This transformed value is then used as the input to a sigmoidal transfer function:"
   ]
  },
  {
   "cell_type": "markdown",
   "metadata": {},
   "source": [
    "\\begin{equation}\n",
    "\\sigma_{ik} = \\sigma(z_{ik})\n",
    "\\end{equation}"
   ]
  },
  {
   "cell_type": "markdown",
   "metadata": {},
   "source": [
    "where:"
   ]
  },
  {
   "cell_type": "markdown",
   "metadata": {},
   "source": [
    "\\begin{equation}\n",
    "\\sigma(z) = \\frac {1}{1+e^{-z}}\n",
    "\\end{equation}"
   ]
  },
  {
   "cell_type": "markdown",
   "metadata": {},
   "source": [
    "A plot of this transfer function and its first several derivatives is provided below."
   ]
  },
  {
   "cell_type": "code",
   "execution_count": 3,
   "metadata": {},
   "outputs": [
    {
     "data": {
      "image/png": "[encoded data removed]",
      "text/plain": [
       "<Figure size 432x288 with 1 Axes>"
      ]
     },
     "metadata": {},
     "output_type": "display_data"
    }
   ],
   "source": [
    "def sigma(z):\n",
    "    return 1 / (1 + exp(-z))\n",
    "\n",
    "def dsigma_dz(z):\n",
    "    return exp(-z) / (1 + exp(-z))**2\n",
    "\n",
    "def d2sigma_dz2(z):\n",
    "    return (\n",
    "        2 * exp(-2 * z) / (1 + exp(-z))**3 - exp(-z) / (1 + exp(-z))**2\n",
    "    )\n",
    "\n",
    "z = np.linspace(-5, 5, 1001)\n",
    "n = len(z)\n",
    "s = np.zeros(n)\n",
    "ds_dz = np.zeros(n)\n",
    "d2s_dz2 = np.zeros(n)\n",
    "for i in range(n):\n",
    "    s[i] = sigma(z[i])\n",
    "    ds_dz[i] = dsigma_dz(z[i])\n",
    "    d2s_dz2[i] = d2sigma_dz2(z[i])\n",
    "plt.plot(z,s,label = \"$\\sigma(z)$\")\n",
    "plt.plot(z,ds_dz,label = \"$d\\sigma/dz$\")\n",
    "plt.plot(z,d2s_dz2, label = \"$d^2\\sigma/dz^2$\")\n",
    "plt.xlabel(\"z\")\n",
    "plt.ylabel(\"s(z) or derivative\")\n",
    "plt.title(\"Figure 1: The $\\sigma$-function and its first two derivatives\")\n",
    "plt.legend();"
   ]
  },
  {
   "cell_type": "markdown",
   "metadata": {},
   "source": [
    "Once the $\\sigma_{ik}$ are computed, they are all passed to the single output node, where they are summed by a linear transfer function to create the network output for the current value of $x_i$:"
   ]
  },
  {
   "cell_type": "markdown",
   "metadata": {},
   "source": [
    "\\begin{equation}\n",
    "N_i = \\sum_{k=1}^{H}v_k\\sigma_{ik}\n",
    "\\end{equation}"
   ]
  },
  {
   "cell_type": "markdown",
   "metadata": {},
   "source": [
    "where $v_k$ is the weight applied to the signal from hidden node $k$ at the output node. Once $N_i$ has been computed, the trial function $y_{ti}$ and its derivative $\\frac {\\partial y_{ti}}{\\partial x_i}$ is computed, and then the value of the ODE $G_i$ is computed, and finally the error function $E$."
   ]
  },
  {
   "cell_type": "markdown",
   "metadata": {},
   "source": [
    "## Updating the network parameters"
   ]
  },
  {
   "cell_type": "markdown",
   "metadata": {},
   "source": [
    "The network parameters are the weights and biases of the hidden and output nodes. For a set of $H$ hidden nodes, we have a total of $N_p = 3H$ parameters in total: a weight and bias for each hidden node, and an output weight for each hidden node."
   ]
  },
  {
   "cell_type": "markdown",
   "metadata": {},
   "source": [
    "Since the objective function to minimize is the error $E$, the value of each network parameter $p$ (where $p$ represents $v_k$, $u_k$, or $w_k$) is updated using a scaled, simplified Newton's method:"
   ]
  },
  {
   "cell_type": "markdown",
   "metadata": {},
   "source": [
    "\\begin{equation}\n",
    "p_{new}=p - \\eta \\frac {\\partial E}{\\partial p_j}\n",
    "\\end{equation}"
   ]
  },
  {
   "cell_type": "markdown",
   "metadata": {},
   "source": [
    "where $\\eta$ is the *learning rate* (usually $\\eta < 1$). This simplified method (ignoring the usual 2nd derivative in the denominator of the correction term) is appropriate when the problem is scaled to the domain $\\{0,1\\}$.The learning rate is used to reduce the chance of solution instability due to large values of the correction term. The derivatives of $E$ are computed using the known form of the network and internal parameters."
   ]
  },
  {
   "cell_type": "markdown",
   "metadata": {},
   "source": [
    "This process of parameter updates is repeated until convergence is achieved (an error minimum is reached), or until the specified maximum number of training epochs have been applied. Note that the same set of training points is presented during each epoch."
   ]
  },
  {
   "cell_type": "markdown",
   "metadata": {},
   "source": [
    "## Computing the derivatives of $E$"
   ]
  },
  {
   "cell_type": "markdown",
   "metadata": {},
   "source": [
    "The partial derivative of $E$ with respect to any network parameter $p$ is given by:"
   ]
  },
  {
   "cell_type": "markdown",
   "metadata": {},
   "source": [
    "\\begin{equation}\n",
    "\\frac {\\partial E}{\\partial p} =\n",
    "\\frac {\\partial}{\\partial p} \\sum_{i=1}^{n}G_i^2 =\n",
    "2 \\sum_{i=1}^n G_i \\frac {\\partial G_i}{\\partial p}\n",
    "\\end{equation}"
   ]
  },
  {
   "cell_type": "markdown",
   "metadata": {},
   "source": [
    "## Computing the derivatives of $G_i$"
   ]
  },
  {
   "cell_type": "markdown",
   "metadata": {},
   "source": [
    "The partial derivative of $G_i$ with respect to any network parameter $p$ is computed using the chain rule:"
   ]
  },
  {
   "cell_type": "markdown",
   "metadata": {},
   "source": [
    "\\begin{equation}\n",
    "\\frac {\\partial G_i}{\\partial p} =\n",
    "\\frac {\\partial}{\\partial p} G(x_i,y_{ti},\\frac {\\partial y_{ti}}{\\partial x_i}) =\n",
    "\\sum_{i=1}^n \\left ( \\frac {\\partial G_i}{\\partial x_i} \\frac {\\partial x_i}{\\partial p} \\right ) +\n",
    "\\frac {\\partial G_i}{\\partial y_{ti}} \\frac {\\partial y_{ti}}{\\partial x_i} +\n",
    "\\sum_{i=1}^n \\frac {\\partial G_i}{\\partial \\frac {\\partial y_{ti}}{\\partial x_i}} \\frac {\\partial^2 y_{ti}}{\\partial p \\partial x_i}\n",
    "\\end{equation}"
   ]
  },
  {
   "cell_type": "markdown",
   "metadata": {},
   "source": [
    "Since the training points $x_i$ are independent of the network parameters $\\vec p$, this equation simplifies to:"
   ]
  },
  {
   "cell_type": "markdown",
   "metadata": {},
   "source": [
    "\\begin{equation}\n",
    "\\frac {\\partial G_i}{\\partial p} =\n",
    "\\frac {\\partial G_i}{\\partial y_{ti}} \\frac {\\partial y_{ti}}{\\partial x_i} +\n",
    "\\sum_{i=1}^n \\frac {\\partial G_i}{\\partial \\frac {\\partial y_{ti}}{\\partial x_i}} \\frac {\\partial^2 y_{ti}}{\\partial p \\partial x_i}\n",
    "\\end{equation}"
   ]
  },
  {
   "cell_type": "markdown",
   "metadata": {},
   "source": [
    "The analytical forms of $\\frac {\\partial G_i}{\\partial y_{ti}}$ and $\\frac {\\partial G_i}{\\partial \\frac {\\partial y_{ti}}{\\partial x_i}}$ are determined from the analytical form of the original ODE."
   ]
  },
  {
   "cell_type": "markdown",
   "metadata": {},
   "source": [
    "## Computing the derivatives of $y_{ti}$"
   ]
  },
  {
   "cell_type": "markdown",
   "metadata": {},
   "source": [
    "The generic form of the derivatives of $y_{ti}$ is:"
   ]
  },
  {
   "cell_type": "markdown",
   "metadata": {},
   "source": [
    "\\begin{equation}\n",
    "\\frac {\\partial y_{ti}}{\\partial x_i} =\n",
    "\\frac {\\partial A_i}{\\partial x_i} +\n",
    "P_i \\frac {\\partial N_i}{\\partial x_i} + \\frac {\\partial P_i}{\\partial x_i} N_i\n",
    "\\end{equation}"
   ]
  },
  {
   "cell_type": "markdown",
   "metadata": {},
   "source": [
    "In the current case, $A_i$ is constant, and $P_i=x_i$, so we are left with:"
   ]
  },
  {
   "cell_type": "markdown",
   "metadata": {},
   "source": [
    "\\begin{equation}\n",
    "\\frac {\\partial y_{ti}}{\\partial x_i} =\n",
    "x_i \\frac {\\partial N_i}{\\partial x_i} + N_i\n",
    "\\end{equation}"
   ]
  },
  {
   "cell_type": "markdown",
   "metadata": {},
   "source": [
    "The second partial of $y_{ti}$ is then:"
   ]
  },
  {
   "cell_type": "markdown",
   "metadata": {},
   "source": [
    "\\begin{equation}\n",
    "\\frac {\\partial^2 y_{ti}}{\\partial p \\partial x_i} =\n",
    "x_i \\frac {\\partial^2 N_i}{\\partial p \\partial x_i} + \\frac {\\partial N_i}{\\partial p}\n",
    "\\end{equation}"
   ]
  },
  {
   "cell_type": "markdown",
   "metadata": {},
   "source": [
    "## Computing the derivatives of $N_i$"
   ]
  },
  {
   "cell_type": "markdown",
   "metadata": {},
   "source": [
    "The generic form of the derivative of $N_i$ with respect to $x_i$ is:"
   ]
  },
  {
   "cell_type": "markdown",
   "metadata": {},
   "source": [
    "\\begin{equation}\n",
    "\\frac {\\partial N_i}{\\partial x_i} =\n",
    "\\frac {\\partial}{\\partial x_i} \\sum_{k=1}^H v_k \\sigma_{ik} =\n",
    "\\sum_{k=1}^H v_k \\frac {\\partial \\sigma_{ik}}{\\partial x_i} =\n",
    "\\sum_{k=1}^H v_k \\frac {\\partial \\sigma_{ik}}{\\partial z_{ik}} \\frac {\\partial z_{ik}}{\\partial x_i} =\n",
    "\\sum_{k=1}^H v_k \\sigma_{ik}^{(1)} \\frac {\\partial z_{ik}}{\\partial x_i} =\n",
    "\\sum_{k=1}^H v_k \\sigma_{ik}^{(1)} w_k\n",
    "\\end{equation}"
   ]
  },
  {
   "cell_type": "markdown",
   "metadata": {},
   "source": [
    "where the transfer function derivatives are defined by:"
   ]
  },
  {
   "cell_type": "markdown",
   "metadata": {},
   "source": [
    "\\begin{equation}\n",
    "\\sigma^{(n)} = \\frac {\\partial^n \\sigma}{\\partial z^n}\n",
    "\\end{equation}"
   ]
  },
  {
   "cell_type": "markdown",
   "metadata": {},
   "source": [
    "For the parameter derivatives:"
   ]
  },
  {
   "cell_type": "markdown",
   "metadata": {},
   "source": [
    "\\begin{equation}\n",
    "\\frac {\\partial N_i}{\\partial p} =\n",
    "\\frac {\\partial}{\\partial p} \\sum_{k=1}^H v_k \\sigma_{ik} =\n",
    "\\sum_{k=1}^H \\left ( v_k \\frac {\\partial \\sigma_{ik}}{\\partial p} + \\frac {\\partial v_k}{\\partial p} \\sigma_{ik}  \\right ) =\n",
    "\\sum_{k=1}^H \\left ( v_k \\sigma_{ik}^{(1)} \\frac {\\partial z_{ik}}{\\partial p} + \\frac {\\partial v_k}{\\partial p} \\sigma_{ik}  \\right )\n",
    "\\end{equation}"
   ]
  },
  {
   "cell_type": "markdown",
   "metadata": {},
   "source": [
    "For the cross-partials:"
   ]
  },
  {
   "cell_type": "markdown",
   "metadata": {},
   "source": [
    "\\begin{equation}\n",
    "\\frac {\\partial^2 N_i}{\\partial p \\partial x_i} =\n",
    "\\frac {\\partial}{\\partial p} \\sum_{k=1}^H v_k \\sigma_{ik}^{(1)} w_k =\n",
    "\\sum_{k=1}^H \\left ( v_k \\sigma_{ik}^{(1)} \\frac {\\partial w_k}{\\partial p} +\n",
    "v_k \\frac {\\partial \\sigma_{ik}^{(1)}}{\\partial p}  w_k +\n",
    "\\frac {\\partial v_k}{\\partial p} \\sigma_{ik}^{(1)} w_k \\right ) =\n",
    "\\sum_{k=1}^H \\left ( v_k \\sigma_{ik}^{(1)} \\frac {\\partial w_k}{\\partial p} +\n",
    "v_k \\sigma_{ik}^{(2)} \\frac {\\partial z_{ik}}{\\partial p}  w_k +\n",
    "\\frac {\\partial v_k}{\\partial p} \\sigma_{ik}^{(1)} w_k \\right )\n",
    "\\end{equation}"
   ]
  },
  {
   "cell_type": "markdown",
   "metadata": {},
   "source": [
    "## Computing the derivatives of $z_{ik}$"
   ]
  },
  {
   "cell_type": "markdown",
   "metadata": {},
   "source": [
    "The derivatives of $z_k$ with respect to the network parameter $p$ are parameter-specific:"
   ]
  },
  {
   "cell_type": "markdown",
   "metadata": {},
   "source": [
    "\\begin{equation}\n",
    "\\frac {\\partial z_{il}}{\\partial v_k} = 0\n",
    "\\end{equation}"
   ]
  },
  {
   "cell_type": "markdown",
   "metadata": {},
   "source": [
    "\\begin{equation}\n",
    "\\frac {\\partial z_{il}}{\\partial u_k} = \\delta_{kl}\n",
    "\\end{equation}"
   ]
  },
  {
   "cell_type": "markdown",
   "metadata": {},
   "source": [
    "\\begin{equation}\n",
    "\\frac {\\partial z_{il}}{\\partial w_k} = x_i \\delta_{kl}\n",
    "\\end{equation}"
   ]
  },
  {
   "cell_type": "markdown",
   "metadata": {},
   "source": [
    "## Computing the derivatives of the parameters $\\vec p$"
   ]
  },
  {
   "cell_type": "markdown",
   "metadata": {},
   "source": [
    "At this lowest level, the parameter derivatives are simple in form:"
   ]
  },
  {
   "cell_type": "markdown",
   "metadata": {},
   "source": [
    "\\begin{equation}\n",
    "\\frac {\\partial v_l}{\\partial v_k} = \\delta_{kl}, \\frac {\\partial v_l}{\\partial u_k} = 0, \\frac {\\partial v_l}{\\partial w_k} = 0\n",
    "\\end{equation}"
   ]
  },
  {
   "cell_type": "markdown",
   "metadata": {},
   "source": [
    "\\begin{equation}\n",
    "\\frac {\\partial u_l}{\\partial v_k} = 0, \\frac {\\partial u_l}{\\partial u_k} = \\delta_{kl}, \\frac {\\partial u_l}{\\partial w_k} = 0\n",
    "\\end{equation}"
   ]
  },
  {
   "cell_type": "markdown",
   "metadata": {},
   "source": [
    "\\begin{equation}\n",
    "\\frac {\\partial w_l}{\\partial v_k} = 0, \\frac {\\partial w_l}{\\partial u_k} = 0, \\frac {\\partial w_l}{\\partial w_k} = \\delta_{kl}\n",
    "\\end{equation}"
   ]
  },
  {
   "cell_type": "markdown",
   "metadata": {},
   "source": [
    "Or, more succinctly:"
   ]
  },
  {
   "cell_type": "markdown",
   "metadata": {},
   "source": [
    "\\begin{equation}\n",
    "\\frac {\\partial p_l}{\\partial p_k} = \\delta_{kl}\n",
    "\\end{equation}"
   ]
  },
  {
   "cell_type": "markdown",
   "metadata": {},
   "source": [
    "# Walking through an example problem"
   ]
  },
  {
   "cell_type": "markdown",
   "metadata": {},
   "source": [
    "We will now walk through a complete problem which will illustrate how to use the `nnode1` code to solve a 1st-order ODE IVP."
   ]
  },
  {
   "cell_type": "markdown",
   "metadata": {
    "collapsed": true
   },
   "source": [
    "## Define the ODE to solve, and the boundary conditions"
   ]
  },
  {
   "cell_type": "markdown",
   "metadata": {},
   "source": [
    "Consider the simple 1st-order ODE IVP, defined on the range $[0,1]$:"
   ]
  },
  {
   "cell_type": "markdown",
   "metadata": {},
   "source": [
    "\\begin{equation}\n",
    "G(x,y,\\frac {dy}{dx}) = x-y = 0\n",
    "\\end{equation}"
   ]
  },
  {
   "cell_type": "markdown",
   "metadata": {},
   "source": [
    "The analytical solution to this equation is simply:"
   ]
  },
  {
   "cell_type": "markdown",
   "metadata": {},
   "source": [
    "\\begin{equation}\n",
    "y(x) = x\n",
    "\\end{equation}"
   ]
  },
  {
   "cell_type": "markdown",
   "metadata": {},
   "source": [
    "This equation is implemented in the file `ode00.py`. The analytical solution and its derivative are shown in the figure below."
   ]
  },
  {
   "cell_type": "code",
   "execution_count": 4,
   "metadata": {},
   "outputs": [],
   "source": [
    "def ya(x):\n",
    "    return x\n",
    "\n",
    "def dya_dx(x):\n",
    "    return 1"
   ]
  },
  {
   "cell_type": "code",
   "execution_count": 5,
   "metadata": {},
   "outputs": [
    {
     "data": {
      "image/png": "[encoded data removed]",
      "text/plain": [
       "<Figure size 432x288 with 1 Axes>"
      ]
     },
     "metadata": {},
     "output_type": "display_data"
    }
   ],
   "source": [
    "xmin = 0\n",
    "xmax = 1\n",
    "n = 100\n",
    "x = np.linspace(xmin, xmax, n)\n",
    "y = np.zeros(n)\n",
    "dy_dx = np.zeros(n)\n",
    "for i in range(n):\n",
    "    y[i] = ya(x[i])\n",
    "    dy_dx[i] = dya_dx(x[i])\n",
    "plt.xlabel('x')\n",
    "plt.ylabel('$dy/dx$')\n",
    "plt.plot(x, y, label = 'y(x)')\n",
    "plt.plot(x, dy_dx, label = \"$dy/dx$\")\n",
    "plt.legend()\n",
    "plt.title(\"Figure 2: Analytical solution and derivative for $G(x,y,dy/dx)=x-y$\");"
   ]
  },
  {
   "cell_type": "markdown",
   "metadata": {},
   "source": [
    "Define the differential equation itself, and its derivatives."
   ]
  },
  {
   "cell_type": "code",
   "execution_count": 6,
   "metadata": {},
   "outputs": [],
   "source": [
    "# Define the original differential equation:\n",
    "def G(x, y, dy_dx):\n",
    "    return x - y\n",
    "\n",
    "# Define the 1st y-partial derivative of the differential equation.\n",
    "def dG_dy(x, y, dy_dx):\n",
    "    return -1\n",
    "\n",
    "# Define the 1st dy/dx-partial derivative of the differential equation.\n",
    "def dG_dydx(x, y, dy_dx):\n",
    "    return 0"
   ]
  },
  {
   "cell_type": "markdown",
   "metadata": {},
   "source": [
    "The initial condition is:"
   ]
  },
  {
   "cell_type": "code",
   "execution_count": 7,
   "metadata": {},
   "outputs": [],
   "source": [
    "A = 0"
   ]
  },
  {
   "cell_type": "markdown",
   "metadata": {},
   "source": [
    "## Create the training data"
   ]
  },
  {
   "cell_type": "markdown",
   "metadata": {},
   "source": [
    "For the purposes of this example, an evenly-spaced set of training points will be used to train the neural network."
   ]
  },
  {
   "cell_type": "code",
   "execution_count": 8,
   "metadata": {},
   "outputs": [],
   "source": [
    "nt = 10\n",
    "xt = np.linspace(xmin, xmax, num = nt)"
   ]
  },
  {
   "cell_type": "markdown",
   "metadata": {},
   "source": [
    "Note that repeated runs of the same ODE will usually result in slightly different solutions, due to the random number generator. To ensure repeatable results, seed the random number generator with a fixed value before each run."
   ]
  },
  {
   "cell_type": "markdown",
   "metadata": {},
   "source": [
    "## Train the model to solve the ODE"
   ]
  },
  {
   "cell_type": "markdown",
   "metadata": {},
   "source": [
    "We can now train the network. The call below shows the minimum arguments required to call the `nnode1()` function. All tunable parameters (learning rate `eta`, hidden layer size `H`, number of training epochs `max_epochs` are given default values ($0.01$, $10$, $1000$, respectively). The training function returns the estimated values of $y$ and $\\frac {dy}{dx}$ at the training points. When the `verbose` option is set to `True`, the function prints out the epoch number and current value of the mean-squared error of $G_i$."
   ]
  },
  {
   "cell_type": "code",
   "execution_count": 9,
   "metadata": {},
   "outputs": [
    {
     "name": "stdout",
     "output_type": "stream",
     "text": [
      "0 1.61164509281743\n",
      "1 0.8732334213518763\n",
      "2 0.47609659903156043\n",
      "3 0.2614963987155287\n",
      "4 0.14517210147883283\n",
      "5 0.08198578466992676\n",
      "6 0.047613428964406596\n",
      "7 0.028895712566020575\n",
      "8 0.018694573850117968\n",
      "9 0.013131056752996348\n",
      "10 0.010094598849916196\n",
      "11 0.008435806084766358\n",
      "12 0.007528329679566309\n",
      "13 0.007030691621726693\n",
      "14 0.006756660100527487\n",
      "15 0.006604645195231272\n",
      "16 0.0065192194470795614\n",
      "17 0.006470137646676288\n",
      "18 0.006440894216342488\n",
      "19 0.006422480985955197\n",
      "20 0.0064099813398582044\n",
      "21 0.006400711701362612\n",
      "22 0.006393207279481022\n",
      "23 0.006386668519383673\n",
      "24 0.006380658975758646\n",
      "25 0.006374940406027238\n",
      "26 0.006369382758225817\n",
      "27 0.006363915037990171\n",
      "28 0.006358498488872124\n",
      "29 0.006353111952376808\n",
      "30 0.006347743876407717\n",
      "31 0.006342387952857359\n",
      "32 0.006337040736247434\n",
      "33 0.006331700343780523\n",
      "34 0.006326365745714215\n",
      "35 0.00632103637798357\n",
      "36 0.0063157119307349395\n",
      "37 0.006310392232888235\n",
      "38 0.006305077189120184\n",
      "39 0.006299766745464081\n",
      "40 0.006294460870531019\n",
      "41 0.006289159545258682\n",
      "42 0.00628386275731544\n",
      "43 0.006278570498045765\n",
      "44 0.0062732827608026325\n",
      "45 0.006267999540037639\n",
      "46 0.0062627208308039025\n",
      "47 0.0062574466284850095\n",
      "48 0.006252176928647197\n",
      "49 0.006246911726958312\n",
      "50 0.006241651019143927\n",
      "51 0.006236394800963314\n",
      "52 0.00623114306819607\n",
      "53 0.006225895816635509\n",
      "54 0.006220653042084081\n",
      "55 0.00621541474035178\n",
      "56 0.006210180907254674\n",
      "57 0.006204951538614475\n",
      "58 0.006199726630257968\n",
      "59 0.00619450617801709\n",
      "60 0.006189290177728617\n",
      "61 0.00618407862523409\n",
      "62 0.006178871516380015\n",
      "63 0.00617366884701759\n",
      "64 0.006168470613002735\n",
      "65 0.006163276810196289\n",
      "66 0.006158087434463608\n",
      "67 0.006152902481675038\n",
      "68 0.006147721947705518\n",
      "69 0.006142545828434718\n",
      "70 0.006137374119747032\n",
      "71 0.006132206817531591\n",
      "72 0.006127043917682321\n",
      "73 0.006121885416097676\n",
      "74 0.0061167313086809\n",
      "75 0.006111581591339831\n",
      "76 0.006106436259987177\n",
      "77 0.0061012953105401046\n",
      "78 0.00609615873892059\n",
      "79 0.006091026541055228\n",
      "80 0.0060858987128752625\n",
      "81 0.006080775250316511\n",
      "82 0.0060756561493195485\n",
      "83 0.006070541405829475\n",
      "84 0.006065431015796161\n",
      "85 0.006060324975173863\n",
      "86 0.006055223279921685\n",
      "87 0.0060501259260031925\n",
      "88 0.006045032909386636\n",
      "89 0.006039944226044744\n",
      "90 0.006034859871954848\n",
      "91 0.006029779843099091\n",
      "92 0.0060247041354637475\n",
      "93 0.006019632745040121\n",
      "94 0.006014565667823717\n",
      "95 0.006009502899814713\n",
      "96 0.0060044444370179854\n",
      "97 0.005999390275442671\n",
      "98 0.005994340411102612\n",
      "99 0.005989294840016117\n",
      "100 0.005984253558206057\n",
      "101 0.005979216561699795\n",
      "102 0.0059741838465291325\n",
      "103 0.005969155408730437\n",
      "104 0.005964131244344592\n",
      "105 0.005959111349416853\n",
      "106 0.00595409571999702\n",
      "107 0.005949084352139453\n",
      "108 0.005944077241902839\n",
      "109 0.005939074385350324\n",
      "110 0.005934075778549571\n",
      "111 0.0059290814175727655\n",
      "112 0.005924091298496297\n",
      "113 0.005919105417401167\n",
      "114 0.0059141237703727555\n",
      "115 0.005909146353500896\n",
      "116 0.005904173162879786\n",
      "117 0.005899204194608016\n",
      "118 0.0058942394447886745\n",
      "119 0.0058892789095290245\n",
      "120 0.005884322584941042\n",
      "121 0.005879370467140768\n",
      "122 0.005874422552248815\n",
      "123 0.0058694788363900146\n",
      "124 0.005864539315693774\n",
      "125 0.005859603986293682\n",
      "126 0.005854672844327653\n",
      "127 0.005849745885938097\n",
      "128 0.005844823107271602\n",
      "129 0.005839904504479202\n",
      "130 0.005834990073716172\n",
      "131 0.005830079811142118\n",
      "132 0.005825173712921038\n",
      "133 0.005820271775221144\n",
      "134 0.005815373994214971\n",
      "135 0.0058104803660793715\n",
      "136 0.005805590886995436\n",
      "137 0.005800705553148589\n",
      "138 0.0057958243607284495\n",
      "139 0.005790947305928952\n",
      "140 0.0057860743849483575\n",
      "141 0.005781205593989055\n",
      "142 0.005776340929257711\n",
      "143 0.005771480386965412\n",
      "144 0.005766623963327209\n",
      "145 0.0057617716545625385\n",
      "146 0.005756923456895046\n",
      "147 0.005752079366552578\n",
      "148 0.005747239379767166\n",
      "149 0.005742403492775125\n",
      "150 0.0057375717018168714\n",
      "151 0.00573274400313706\n",
      "152 0.005727920392984552\n",
      "153 0.0057231008676124455\n",
      "154 0.005718285423277841\n",
      "155 0.005713474056242127\n",
      "156 0.005708666762770891\n",
      "157 0.005703863539133823\n",
      "158 0.005699064381604706\n",
      "159 0.005694269286461575\n",
      "160 0.005689478249986506\n",
      "161 0.005684691268465868\n",
      "162 0.005679908338189932\n",
      "163 0.005675129455453267\n",
      "164 0.005670354616554534\n",
      "165 0.0056655838177963914\n",
      "166 0.005660817055485741\n",
      "167 0.0056560543259335004\n",
      "168 0.005651295625454751\n",
      "169 0.005646540950368458\n",
      "170 0.005641790296998013\n",
      "171 0.005637043661670547\n",
      "172 0.0056323010407175024\n",
      "173 0.005627562430474192\n",
      "174 0.005622827827280092\n",
      "175 0.005618097227478749\n",
      "176 0.005613370627417697\n",
      "177 0.005608648023448552\n",
      "178 0.005603929411926937\n",
      "179 0.005599214789212504\n",
      "180 0.005594504151668962\n",
      "181 0.005589797495663993\n",
      "182 0.005585094817569237\n",
      "183 0.0055803961137605015\n",
      "184 0.005575701380617487\n",
      "185 0.005571010614523822\n",
      "186 0.005566323811867345\n",
      "187 0.005561640969039589\n",
      "188 0.005556962082436268\n",
      "189 0.005552287148457007\n",
      "190 0.005547616163505338\n",
      "191 0.005542949123988918\n",
      "192 0.0055382860263192115\n",
      "193 0.005533626866911632\n",
      "194 0.005528971642185569\n",
      "195 0.005524320348564432\n",
      "196 0.005519672982475373\n",
      "197 0.005515029540349712\n",
      "198 0.0055103900186224235\n",
      "199 0.005505754413732663\n",
      "200 0.005501122722123209\n",
      "201 0.005496494940241072\n",
      "202 0.0054918710645368496\n",
      "203 0.005487251091465259\n",
      "204 0.005482635017484733\n",
      "205 0.005478022839057746\n",
      "206 0.005473414552650532\n",
      "207 0.005468810154733259\n",
      "208 0.0054642096417799\n",
      "209 0.005459613010268358\n",
      "210 0.005455020256680283\n",
      "211 0.005450431377501393\n",
      "212 0.005445846369220963\n",
      "213 0.005441265228332295\n",
      "214 0.005436687951332463\n",
      "215 0.005432114534722422\n",
      "216 0.005427544975006853\n",
      "217 0.0054229792686942965\n",
      "218 0.00541841741229719\n",
      "219 0.0054138594023316385\n",
      "220 0.005409305235317618\n",
      "221 0.0054047549077788515\n",
      "222 0.005400208416242999\n",
      "223 0.005395665757241255\n",
      "224 0.005391126927308816\n",
      "225 0.005386591922984605\n",
      "226 0.005382060740811158\n",
      "227 0.005377533377335008\n",
      "228 0.005373009829106217\n",
      "229 0.005368490092678821\n",
      "230 0.005363974164610447\n",
      "231 0.005359462041462492\n",
      "232 0.005354953719800087\n",
      "233 0.0053504491961921825\n",
      "234 0.005345948467211324\n",
      "235 0.005341451529433924\n",
      "236 0.005336958379439939\n",
      "237 0.005332469013813161\n",
      "238 0.005327983429140983\n",
      "239 0.005323501622014723\n",
      "240 0.005319023589029092\n",
      "241 0.005314549326782653\n",
      "242 0.005310078831877719\n",
      "243 0.005305612100920006\n",
      "244 0.0053011491305193295\n",
      "245 0.005296689917288802\n",
      "246 0.005292234457845338\n",
      "247 0.0052877827488095885\n",
      "248 0.005283334786805661\n",
      "249 0.005278890568461562\n",
      "250 0.0052744500904086545\n",
      "251 0.005270013349282182\n",
      "252 0.005265580341720958\n",
      "253 0.005261151064367328\n",
      "254 0.005256725513867415\n",
      "255 0.00525230368687077\n",
      "256 0.005247885580030719\n",
      "257 0.005243471190004102\n",
      "258 0.005239060513451519\n",
      "259 0.005234653547036852\n",
      "260 0.005230250287427948\n",
      "261 0.005225850731295954\n",
      "262 0.0052214548753157335\n",
      "263 0.005217062716165721\n",
      "264 0.005212674250527874\n",
      "265 0.005208289475087808\n",
      "266 0.005203908386534562\n",
      "267 0.005199530981560906\n",
      "268 0.005195157256862989\n",
      "269 0.005190787209140706\n",
      "270 0.005186420835097218\n",
      "271 0.005182058131439472\n",
      "272 0.005177699094877863\n",
      "273 0.005173343722126338\n",
      "274 0.005168992009902242\n",
      "275 0.005164643954926627\n",
      "276 0.005160299553923976\n",
      "277 0.005155958803622226\n",
      "278 0.005151621700752867\n",
      "279 0.005147288242050914\n",
      "280 0.0051429584242548305\n",
      "281 0.005138632244106634\n",
      "282 0.005134309698351745\n",
      "283 0.005129990783739047\n",
      "284 0.005125675497021029\n",
      "285 0.005121363834953573\n",
      "286 0.0051170557942959854\n",
      "287 0.005112751371811082\n",
      "288 0.005108450564265123\n",
      "289 0.005104153368427855\n",
      "290 0.005099859781072403\n",
      "291 0.005095569798975333\n",
      "292 0.005091283418916795\n",
      "293 0.00508700063768012\n",
      "294 0.005082721452052361\n",
      "295 0.005078445858823718\n",
      "296 0.005074173854787959\n",
      "297 0.005069905436742258\n",
      "298 0.005065640601487121\n",
      "299 0.0050613793458265804\n",
      "300 0.005057121666567956\n",
      "301 0.0050528675605220315\n",
      "302 0.005048617024502932\n",
      "303 0.00504437005532821\n",
      "304 0.005040126649818712\n",
      "305 0.005035886804798758\n",
      "306 0.005031650517096047\n",
      "307 0.005027417783541575\n",
      "308 0.005023188600969746\n",
      "309 0.0050189629662182505\n",
      "310 0.005014740876128238\n",
      "311 0.005010522327544124\n",
      "312 0.005006307317313737\n",
      "313 0.005002095842288154\n",
      "314 0.004997887899321899\n",
      "315 0.0049936834852726516\n",
      "316 0.004989482597001688\n",
      "317 0.004985285231373286\n",
      "318 0.004981091385255276\n",
      "319 0.004976901055518717\n",
      "320 0.0049727142390379965\n",
      "321 0.004968530932690749\n",
      "322 0.0049643511333579745\n",
      "323 0.004960174837923931\n",
      "324 0.0049560020432761805\n",
      "325 0.004951832746305532\n",
      "326 0.004947666943906143\n",
      "327 0.00494350463297537\n",
      "328 0.004939345810413918\n",
      "329 0.004935190473125749\n",
      "330 0.004931038618017915\n",
      "331 0.004926890242001037\n",
      "332 0.00492274534198874\n",
      "333 0.0049186039148979566\n",
      "334 0.0049144659576489495\n",
      "335 0.0049103314671651455\n",
      "336 0.004906200440373092\n",
      "337 0.004902072874202917\n",
      "338 0.004897948765587576\n",
      "339 0.004893828111463508\n",
      "340 0.004889710908770292\n"
     ]
    },
    {
     "name": "stdout",
     "output_type": "stream",
     "text": [
      "341 0.00488559715445064\n",
      "342 0.0048814868454506305\n",
      "343 0.004877379978719402\n",
      "344 0.004873276551209436\n",
      "345 0.004869176559876244\n",
      "346 0.004865080001678649\n",
      "347 0.004860986873578695\n",
      "348 0.0048568971725414245\n",
      "349 0.004852810895535283\n",
      "350 0.004848728039531726\n",
      "351 0.004844648601505412\n",
      "352 0.004840572578434345\n",
      "353 0.00483649996729937\n",
      "354 0.004832430765084746\n",
      "355 0.004828364968777727\n",
      "356 0.004824302575368885\n",
      "357 0.0048202435818517735\n",
      "358 0.004816187985223147\n",
      "359 0.0048121357824829555\n",
      "360 0.004808086970634186\n",
      "361 0.004804041546682998\n",
      "362 0.004799999507638695\n",
      "363 0.004795960850513694\n",
      "364 0.004791925572323372\n",
      "365 0.004787893670086581\n",
      "366 0.00478386514082485\n",
      "367 0.0047798399815631235\n",
      "368 0.004775818189329312\n",
      "369 0.004771799761154431\n",
      "370 0.004767784694072619\n",
      "371 0.004763772985121076\n",
      "372 0.004759764631340086\n",
      "373 0.004755759629773012\n",
      "374 0.004751757977466287\n",
      "375 0.004747759671469441\n",
      "376 0.0047437647088350255\n",
      "377 0.0047397730866186455\n",
      "378 0.004735784801879078\n",
      "379 0.0047317998516779956\n",
      "380 0.004727818233080204\n",
      "381 0.004723839943153589\n",
      "382 0.0047198649789689726\n",
      "383 0.004715893337600273\n",
      "384 0.004711925016124476\n",
      "385 0.004707960011621522\n",
      "386 0.00470399832117443\n",
      "387 0.004700039941869285\n",
      "388 0.0046960848707950364\n",
      "389 0.004692133105043769\n",
      "390 0.0046881846417105135\n",
      "391 0.0046842394778933965\n",
      "392 0.004680297610693443\n",
      "393 0.004676359037214695\n",
      "394 0.004672423754564249\n",
      "395 0.004668491759852126\n",
      "396 0.004664563050191345\n",
      "397 0.004660637622697939\n",
      "398 0.004656715474490905\n",
      "399 0.004652796602692135\n",
      "400 0.0046488810044265855\n",
      "401 0.004644968676822176\n",
      "402 0.0046410596170097344\n",
      "403 0.004637153822123066\n",
      "404 0.004633251289298951\n",
      "405 0.0046293520156770246\n",
      "406 0.004625455998400037\n",
      "407 0.00462156323461353\n",
      "408 0.004617673721466007\n",
      "409 0.004613787456109081\n",
      "410 0.004609904435696921\n",
      "411 0.004606024657386988\n",
      "412 0.004602148118339542\n",
      "413 0.004598274815717682\n",
      "414 0.004594404746687522\n",
      "415 0.004590537908417966\n",
      "416 0.004586674298081029\n",
      "417 0.0045828139128513854\n",
      "418 0.0045789567499067655\n",
      "419 0.004575102806427791\n",
      "420 0.004571252079597892\n",
      "421 0.004567404566603461\n",
      "422 0.004563560264633716\n",
      "423 0.004559719170880823\n",
      "424 0.0045558812825397315\n",
      "425 0.0045520465968083325\n",
      "426 0.004548215110887412\n",
      "427 0.00454438682198052\n",
      "428 0.004540561727294115\n",
      "429 0.00453673982403755\n",
      "430 0.004532921109423032\n",
      "431 0.004529105580665481\n",
      "432 0.004525293234982845\n",
      "433 0.004521484069595867\n",
      "434 0.004517678081727959\n",
      "435 0.004513875268605629\n",
      "436 0.004510075627458046\n",
      "437 0.00450627915551727\n",
      "438 0.004502485850018131\n",
      "439 0.004498695708198327\n",
      "440 0.004494908727298366\n",
      "441 0.004491124904561533\n",
      "442 0.00448734423723395\n",
      "443 0.004483566722564583\n",
      "444 0.004479792357805065\n",
      "445 0.004476021140209988\n",
      "446 0.004472253067036658\n",
      "447 0.004468488135545148\n",
      "448 0.004464726342998387\n",
      "449 0.004460967686661993\n",
      "450 0.004457212163804444\n",
      "451 0.004453459771697019\n",
      "452 0.004449710507613601\n",
      "453 0.004445964368831036\n",
      "454 0.004442221352628841\n",
      "455 0.004438481456289292\n",
      "456 0.004434744677097447\n",
      "457 0.004431011012341103\n",
      "458 0.00442728045931075\n",
      "459 0.0044235530152998415\n",
      "460 0.004419828677604254\n",
      "461 0.004416107443522846\n",
      "462 0.00441238931035711\n",
      "463 0.004408674275411268\n",
      "464 0.004404962335992375\n",
      "465 0.0044012534894100844\n",
      "466 0.004397547732976787\n",
      "467 0.004393845064007616\n",
      "468 0.004390145479820516\n",
      "469 0.004386448977735885\n",
      "470 0.0043827555550771755\n",
      "471 0.004379065209170276\n",
      "472 0.004375377937343839\n",
      "473 0.004371693736929261\n",
      "474 0.004368012605260652\n",
      "475 0.0043643345396746965\n",
      "476 0.004360659537510811\n",
      "477 0.0043569875961112035\n",
      "478 0.004353318712820678\n",
      "479 0.004349652884986623\n",
      "480 0.004345990109959266\n",
      "481 0.004342330385091341\n",
      "482 0.004338673707738387\n",
      "483 0.004335020075258598\n",
      "484 0.004331369485012684\n",
      "485 0.004327721934364172\n",
      "486 0.00432407742067915\n",
      "487 0.004320435941326378\n",
      "488 0.004316797493677224\n",
      "489 0.004313162075105802\n",
      "490 0.0043095296829887735\n",
      "491 0.00430590031470539\n",
      "492 0.004302273967637627\n",
      "493 0.004298650639170124\n",
      "494 0.004295030326690009\n",
      "495 0.004291413027587166\n",
      "496 0.00428779873925393\n",
      "497 0.004284187459085492\n",
      "498 0.004280579184479437\n",
      "499 0.004276973912836001\n",
      "500 0.004273371641558089\n",
      "501 0.0042697723680512134\n",
      "502 0.004266176089723371\n",
      "503 0.00426258280398535\n",
      "504 0.004258992508250234\n",
      "505 0.004255405199934048\n",
      "506 0.004251820876455105\n",
      "507 0.004248239535234429\n",
      "508 0.004244661173695621\n",
      "509 0.004241085789264823\n",
      "510 0.0042375133793708455\n",
      "511 0.004233943941444892\n",
      "512 0.004230377472920858\n",
      "513 0.004226813971235158\n",
      "514 0.004223253433826768\n",
      "515 0.004219695858137246\n",
      "516 0.00421614124161067\n",
      "517 0.004212589581693655\n",
      "518 0.004209040875835394\n",
      "519 0.004205495121487608\n",
      "520 0.004201952316104556\n",
      "521 0.004198412457143033\n",
      "522 0.004194875542062346\n",
      "523 0.00419134156832434\n",
      "524 0.004187810533393441\n",
      "525 0.004184282434736435\n",
      "526 0.004180757269822948\n",
      "527 0.004177235036124707\n",
      "528 0.004173715731116251\n",
      "529 0.004170199352274494\n",
      "530 0.004166685897078894\n",
      "531 0.004163175363011475\n",
      "532 0.004159667747556657\n",
      "533 0.004156163048201356\n",
      "534 0.004152661262435088\n",
      "535 0.004149162387749784\n",
      "536 0.004145666421639836\n",
      "537 0.00414217336160219\n",
      "538 0.004138683205136224\n",
      "539 0.0041351959497437606\n",
      "540 0.004131711592929207\n",
      "541 0.00412823013219938\n",
      "542 0.004124751565063506\n",
      "543 0.004121275889033309\n",
      "544 0.004117803101623125\n",
      "545 0.004114333200349498\n",
      "546 0.004110866182731527\n",
      "547 0.00410740204629092\n",
      "548 0.004103940788551611\n",
      "549 0.00410048240704005\n",
      "550 0.004097026899285194\n",
      "551 0.004093574262818344\n",
      "552 0.004090124495173344\n",
      "553 0.004086677593886373\n",
      "554 0.004083233556496091\n",
      "555 0.004079792380543573\n",
      "556 0.004076354063572318\n",
      "557 0.004072918603128231\n",
      "558 0.004069485996759732\n",
      "559 0.004066056242017497\n",
      "560 0.004062629336454691\n",
      "561 0.004059205277626939\n",
      "562 0.00405578406309222\n",
      "563 0.004052365690410885\n",
      "564 0.004048950157145781\n",
      "565 0.004045537460862008\n",
      "566 0.004042127599127237\n",
      "567 0.004038720569511361\n",
      "568 0.004035316369586723\n",
      "569 0.004031914996928169\n",
      "570 0.004028516449112709\n",
      "571 0.004025120723719942\n",
      "572 0.004021727818331686\n",
      "573 0.004018337730532147\n",
      "574 0.004014950457908046\n",
      "575 0.004011565998048268\n",
      "576 0.004008184348544273\n",
      "577 0.004004805506989744\n",
      "578 0.004001429470980682\n",
      "579 0.003998056238115551\n",
      "580 0.003994685805995147\n",
      "581 0.003991318172222598\n",
      "582 0.003987953334403397\n",
      "583 0.003984591290145262\n",
      "584 0.003981232037058437\n",
      "585 0.003977875572755394\n",
      "586 0.003974521894850989\n",
      "587 0.003971171000962351\n",
      "588 0.003967822888708921\n",
      "589 0.003964477555712615\n",
      "590 0.003961134999597489\n",
      "591 0.003957795217990073\n",
      "592 0.003954458208519036\n",
      "593 0.0039511239688155685\n",
      "594 0.0039477924965130575\n",
      "595 0.003944463789247139\n",
      "596 0.0039411378446559155\n",
      "597 0.003937814660379629\n",
      "598 0.003934494234060909\n",
      "599 0.00393117656334469\n",
      "600 0.003927861645878225\n",
      "601 0.003924549479310962\n",
      "602 0.0039212400612946285\n",
      "603 0.003917933389483394\n",
      "604 0.0039146294615335555\n",
      "605 0.0039113282751037926\n",
      "606 0.003908029827854963\n",
      "607 0.0039047341174502977\n",
      "608 0.00390144114155521\n",
      "609 0.0038981508978374766\n",
      "610 0.003894863383967056\n",
      "611 0.0038915785976161993\n",
      "612 0.003888296536459407\n",
      "613 0.0038850171981734873\n",
      "614 0.0038817405804374436\n",
      "615 0.003878466680932569\n",
      "616 0.0038751954973423926\n",
      "617 0.003871927027352604\n",
      "618 0.003868661268651337\n",
      "619 0.00386539821892879\n",
      "620 0.0038621378758775015\n",
      "621 0.0038588802371921044\n",
      "622 0.0038556253005696144\n",
      "623 0.00385237306370921\n",
      "624 0.003849123524312343\n",
      "625 0.0038458766800825925\n",
      "626 0.0038426325287259436\n",
      "627 0.0038393910679503174\n",
      "628 0.003836152295466125\n",
      "629 0.003832916208985811\n",
      "630 0.0038296828062241257\n",
      "631 0.0038264520848979777\n",
      "632 0.0038232240427264978\n",
      "633 0.0038199986774310477\n",
      "634 0.003816775986735109\n",
      "635 0.0038135559683644847\n",
      "636 0.003810338620047025\n",
      "637 0.0038071239395129327\n",
      "638 0.003803911924494397\n",
      "639 0.003800702572725959\n",
      "640 0.0037974958819443523\n",
      "641 0.0037942918498883134\n",
      "642 0.003791090474298967\n",
      "643 0.0037878917529195056\n",
      "644 0.0037846956834952485\n",
      "645 0.00378150226377381\n",
      "646 0.003778311491504874\n",
      "647 0.0037751233644403364\n",
      "648 0.003771937880334204\n",
      "649 0.003768755036942731\n",
      "650 0.0037655748320242614\n",
      "651 0.0037623972633391905\n",
      "652 0.003759222328650411\n",
      "653 0.003756050025722545\n",
      "654 0.0037528803523226104\n",
      "655 0.003749713306219706\n",
      "656 0.0037465488851850344\n",
      "657 0.003743387086992101\n",
      "658 0.003740227909416286\n",
      "659 0.0037370713502352976\n",
      "660 0.0037339174072289006\n",
      "661 0.0037307660781790066\n",
      "662 0.0037276173608696396\n",
      "663 0.00372447125308694\n",
      "664 0.0037213277526192403\n",
      "665 0.0037181868572568715\n",
      "666 0.003715048564792352\n",
      "667 0.0037119128730203122\n",
      "668 0.0037087797797374917\n",
      "669 0.0037056492827426467\n",
      "670 0.0037025213798368723\n"
     ]
    },
    {
     "name": "stdout",
     "output_type": "stream",
     "text": [
      "671 0.00369939606882308\n",
      "672 0.0036962733475064246\n",
      "673 0.0036931532136941884\n",
      "674 0.0036900356651956975\n",
      "675 0.003686920699822317\n",
      "676 0.003683808315387629\n",
      "677 0.003680698509707172\n",
      "678 0.003677591280598734\n",
      "679 0.003674486625881967\n",
      "680 0.0036713845433787662\n",
      "681 0.003668285030913038\n",
      "682 0.0036651880863107895\n",
      "683 0.003662093707400091\n",
      "684 0.0036590018920110703\n",
      "685 0.0036559126379759133\n",
      "686 0.0036528259431289206\n",
      "687 0.003649741805306394\n",
      "688 0.003646660222346745\n",
      "689 0.0036435811920903644\n",
      "690 0.0036405047123798198\n",
      "691 0.003637430781059616\n",
      "692 0.0036343593959763647\n",
      "693 0.003631290554978699\n",
      "694 0.0036282242559173526\n",
      "695 0.0036251604966449852\n",
      "696 0.003622099275016413\n",
      "697 0.0036190405888884315\n",
      "698 0.0036159844361198634\n",
      "699 0.003612930814571618\n",
      "700 0.003609879722106593\n",
      "701 0.0036068311565896675\n",
      "702 0.003603785115887868\n",
      "703 0.0036007415978701364\n",
      "704 0.003597700600407437\n",
      "705 0.0035946621213728525\n",
      "706 0.003591626158641321\n",
      "707 0.003588592710089962\n",
      "708 0.003585561773597815\n",
      "709 0.0035825333470458865\n",
      "710 0.003579507428317314\n",
      "711 0.0035764840152970895\n",
      "712 0.003573463105872308\n",
      "713 0.0035704446979320263\n",
      "714 0.003567428789367372\n",
      "715 0.0035644153780713004\n",
      "716 0.0035614044619388585\n",
      "717 0.003558396038867175\n",
      "718 0.003555390106755196\n",
      "719 0.003552386663503929\n",
      "720 0.0035493857070163226\n",
      "721 0.0035463872351974195\n",
      "722 0.0035433912459541337\n",
      "723 0.0035403977371953315\n",
      "724 0.0035374067068319253\n",
      "725 0.003534418152776774\n",
      "726 0.0035314320729447042\n",
      "727 0.003528448465252476\n",
      "728 0.0035254673276188587\n",
      "729 0.0035224886579645603\n",
      "730 0.0035195124542122245\n",
      "731 0.003516538714286511\n",
      "732 0.003513567436113944\n",
      "733 0.003510598617623133\n",
      "734 0.0035076322567444266\n",
      "735 0.003504668351410324\n",
      "736 0.003501706899555203\n",
      "737 0.0034987478991153334\n",
      "738 0.0034957913480289883\n",
      "739 0.0034928372442362913\n",
      "740 0.0034898855856794345\n",
      "741 0.003486936370302409\n",
      "742 0.0034839895960512013\n",
      "743 0.003481045260873721\n",
      "744 0.0034781033627198097\n",
      "745 0.0034751638995412296\n",
      "746 0.003472226869291642\n",
      "747 0.0034692922699266055\n",
      "748 0.0034663600994036974\n",
      "749 0.003463430355682271\n",
      "750 0.003460503036723752\n",
      "751 0.003457578140491301\n",
      "752 0.003454655664950112\n",
      "753 0.0034517356080672242\n",
      "754 0.003448817967811592\n",
      "755 0.0034459027421541084\n",
      "756 0.003442989929067496\n",
      "757 0.0034400795265264374\n",
      "758 0.003437171532507461\n",
      "759 0.003434265944989011\n",
      "760 0.003431362761951385\n",
      "761 0.003428461981376905\n",
      "762 0.0034255636012495705\n",
      "763 0.0034226676195553704\n",
      "764 0.0034197740342822003\n",
      "765 0.0034168828434198058\n",
      "766 0.0034139940449597886\n",
      "767 0.0034111076368956465\n",
      "768 0.003408223617222746\n",
      "769 0.0034053419839383185\n",
      "770 0.0034024627350414606\n",
      "771 0.0033995858685331153\n",
      "772 0.003396711382416131\n",
      "773 0.0033938392746952328\n",
      "774 0.003390969543376847\n",
      "775 0.0033881021864695655\n",
      "776 0.0033852372019834583\n",
      "777 0.0033823745879307575\n",
      "778 0.0033795143423253626\n",
      "779 0.0033766564631830874\n",
      "780 0.0033738009485216004\n",
      "781 0.0033709477963603726\n",
      "782 0.0033680970047207564\n",
      "783 0.0033652485716259262\n",
      "784 0.0033624024951008757\n",
      "785 0.0033595587731724648\n",
      "786 0.003356717403869379\n",
      "787 0.003353878385222105\n",
      "788 0.0033510417152630033\n",
      "789 0.003348207392026221\n",
      "790 0.003345375413547728\n",
      "791 0.0033425457778653205\n",
      "792 0.0033397184830187003\n",
      "793 0.003336893527049257\n",
      "794 0.003334070908000261\n",
      "795 0.00333125062391677\n",
      "796 0.0033284326728456703\n",
      "797 0.003325617052835703\n",
      "798 0.00332280376193731\n",
      "799 0.0033199927982027937\n",
      "800 0.003317184159686344\n",
      "801 0.0033143778444437847\n",
      "802 0.003311573850532841\n",
      "803 0.0033087721760130203\n",
      "804 0.003305972818945636\n",
      "805 0.003303175777393791\n",
      "806 0.003300381049422326\n",
      "807 0.0032975886330979262\n",
      "808 0.0032947985264890514\n",
      "809 0.0032920107276659086\n",
      "810 0.0032892252347005687\n",
      "811 0.003286442045666775\n",
      "812 0.0032836611586401806\n",
      "813 0.003280882571698049\n",
      "814 0.003278106282919596\n",
      "815 0.003275332290385631\n",
      "816 0.003272560592178917\n",
      "817 0.003269791186383819\n",
      "818 0.003267024071086552\n",
      "819 0.003264259244375121\n",
      "820 0.0032614967043391803\n",
      "821 0.003258736449070235\n",
      "822 0.003255978476661611\n",
      "823 0.003253222785208214\n",
      "824 0.0032504693728067835\n",
      "825 0.003247718237555885\n",
      "826 0.003244969377555742\n",
      "827 0.003242222790908397\n",
      "828 0.0032394784757174802\n",
      "829 0.003236736430088578\n",
      "830 0.00323399665212889\n",
      "831 0.0032312591399473586\n",
      "832 0.0032285238916547423\n",
      "833 0.00322579090536343\n",
      "834 0.0032230601791876324\n",
      "835 0.0032203317112431858\n",
      "836 0.003217605499647809\n",
      "837 0.003214881542520808\n",
      "838 0.0032121598379833\n",
      "839 0.003209440384158046\n",
      "840 0.0032067231791696287\n",
      "841 0.0032040082211442656\n",
      "842 0.0032012955082099132\n",
      "843 0.003198585038496277\n",
      "844 0.0031958768101347183\n",
      "845 0.003193170821258408\n",
      "846 0.0031904670700021102\n",
      "847 0.0031877655545023\n",
      "848 0.003185066272897306\n",
      "849 0.0031823692233270144\n",
      "850 0.00317967440393304\n",
      "851 0.0031769818128587366\n",
      "852 0.0031742914482490938\n",
      "853 0.0031716033082509303\n",
      "854 0.0031689173910126036\n",
      "855 0.0031662336946841844\n",
      "856 0.0031635522174175666\n",
      "857 0.00316087295736619\n",
      "858 0.003158195912685227\n",
      "859 0.0031555210815315455\n",
      "860 0.003152848462063686\n",
      "861 0.003150178052441861\n",
      "862 0.0031475098508279343\n",
      "863 0.0031448438553856274\n",
      "864 0.0031421800642800267\n",
      "865 0.0031395184756781583\n",
      "866 0.003136859087748583\n",
      "867 0.00313420189866151\n",
      "868 0.0031315469065890025\n",
      "869 0.0031288941097045234\n",
      "870 0.0031262435061834137\n",
      "871 0.0031235950942025683\n",
      "872 0.0031209488719405594\n",
      "873 0.0031183048375776467\n",
      "874 0.003115662989295707\n",
      "875 0.003113023325278287\n",
      "876 0.0031103858437105843\n",
      "877 0.003107750542779459\n",
      "878 0.0031051174206733973\n",
      "879 0.0031024864755825467\n",
      "880 0.0030998577056986776\n",
      "881 0.0030972311092152625\n",
      "882 0.0030946066843273224\n",
      "883 0.003091984429231618\n",
      "884 0.0030893643421264403\n",
      "885 0.0030867464212118363\n",
      "886 0.003084130664689367\n",
      "887 0.0030815170707622925\n",
      "888 0.0030789056376354824\n",
      "889 0.0030762963635154583\n",
      "890 0.0030736892466103416\n",
      "891 0.003071084285129902\n",
      "892 0.00306848147728551\n",
      "893 0.0030658808212901123\n",
      "894 0.0030632823153584027\n",
      "895 0.003060685957706563\n",
      "896 0.0030580917465524112\n",
      "897 0.0030554996801155187\n",
      "898 0.003052909756616833\n",
      "899 0.003050321974279147\n",
      "900 0.003047736331326618\n",
      "901 0.003045152825985248\n",
      "902 0.0030425714564825098\n",
      "903 0.0030399922210474595\n",
      "904 0.0030374151179108646\n",
      "905 0.0030348401453049673\n",
      "906 0.0030322673014637072\n",
      "907 0.0030296965846225202\n",
      "908 0.003027127993018564\n",
      "909 0.0030245615248904846\n",
      "910 0.003021997178478536\n",
      "911 0.0030194349520245747\n",
      "912 0.003016874843772057\n",
      "913 0.0030143168519659687\n",
      "914 0.0030117609748529692\n",
      "915 0.0030092072106811915\n",
      "916 0.0030066555577004765\n",
      "917 0.0030041060141620616\n",
      "918 0.0030015585783189844\n",
      "919 0.002999013248425651\n",
      "920 0.002996470022738202\n",
      "921 0.002993928899514199\n",
      "922 0.002991389877012909\n",
      "923 0.0029888529534950496\n",
      "924 0.002986318127222992\n",
      "925 0.0029837853964605893\n",
      "926 0.002981254759473351\n",
      "927 0.0029787262145283084\n",
      "928 0.002976199759894\n",
      "929 0.0029736753938405707\n",
      "930 0.0029711531146397103\n",
      "931 0.0029686329205647183\n",
      "932 0.0029661148098902943\n",
      "933 0.002963598780892815\n",
      "934 0.002961084831850194\n",
      "935 0.0029585729610418572\n",
      "936 0.002956063166748792\n",
      "937 0.002953555447253504\n",
      "938 0.0029510498008400235\n",
      "939 0.002948546225794011\n",
      "940 0.002946044720402623\n",
      "941 0.0029435452829544954\n",
      "942 0.0029410479117398212\n",
      "943 0.002938552605050405\n",
      "944 0.0029360593611794613\n",
      "945 0.002933568178421807\n",
      "946 0.0029310790550737893\n",
      "947 0.002928591989433221\n",
      "948 0.0029261069797995656\n",
      "949 0.0029236240244736224\n",
      "950 0.0029211431217578488\n",
      "951 0.0029186642699562393\n",
      "952 0.002916187467374169\n",
      "953 0.002913712712318645\n",
      "954 0.0029112400030981652\n",
      "955 0.0029087693380227065\n",
      "956 0.0029063007154038014\n",
      "957 0.0029038341335544233\n",
      "958 0.002901369590789158\n",
      "959 0.0028989070854239635\n",
      "960 0.002896446615776394\n",
      "961 0.0028939881801655428\n",
      "962 0.0028915317769118644\n",
      "963 0.002889077404337453\n",
      "964 0.002886625060765818\n",
      "965 0.0028841747445219313\n",
      "966 0.002881726453932439\n",
      "967 0.0028792801873252505\n",
      "968 0.0028768359430298837\n",
      "969 0.002874393719377372\n",
      "970 0.0028719535147001506\n",
      "971 0.002869515327332238\n",
      "972 0.0028670791556090064\n",
      "973 0.0028646449978674444\n",
      "974 0.0028622128524459236\n",
      "975 0.002859782717684403\n",
      "976 0.0028573545919241775\n",
      "977 0.0028549284735081386\n",
      "978 0.0028525043607805414\n",
      "979 0.0028500822520872602\n",
      "980 0.002847662145775529\n",
      "981 0.002845244040194041\n",
      "982 0.0028428279336930426\n",
      "983 0.002840413824624175\n",
      "984 0.0028380017113405864\n",
      "985 0.002835591592196829\n",
      "986 0.0028331834655490372\n",
      "987 0.002830777329754631\n",
      "988 0.002828373183172655\n",
      "989 0.0028259710241635098\n",
      "990 0.0028235708510890556\n",
      "991 0.00282117266231267\n",
      "992 0.002818776456199116\n",
      "993 0.0028163822311146587\n",
      "994 0.0028139899854269907\n",
      "995 0.0028115997175051947\n",
      "996 0.0028092114257198867\n",
      "997 0.0028068251084431214\n",
      "998 0.002804440764048303\n",
      "999 0.002802058390910382\n"
     ]
    }
   ],
   "source": [
    "from nnode1 import nnode1\n",
    "np.random.seed(0)\n",
    "(yt, dyt_dx) = nnode1(G, A, dG_dy, dG_dydx, xt, verbose = True)"
   ]
  },
  {
   "cell_type": "markdown",
   "metadata": {},
   "source": [
    "Plot the results of this training run."
   ]
  },
  {
   "cell_type": "code",
   "execution_count": 10,
   "metadata": {},
   "outputs": [
    {
     "data": {
      "image/png": "[encoded data removed]",
      "text/plain": [
       "<Figure size 432x288 with 1 Axes>"
      ]
     },
     "metadata": {},
     "output_type": "display_data"
    }
   ],
   "source": [
    "plt.plot(xt, yt, label = '$y_t$')\n",
    "plt.plot(xt, dyt_dx, label = '$dy_t/dx$')\n",
    "plt.xlabel('$x_t$')\n",
    "plt.ylabel('$y_t$')\n",
    "plt.legend()\n",
    "plt.title(\"Figure 3: Trained solution and derivative\");"
   ]
  },
  {
   "cell_type": "markdown",
   "metadata": {},
   "source": [
    "Plot the error in the estimated solution and derivatives."
   ]
  },
  {
   "cell_type": "code",
   "execution_count": 11,
   "metadata": {},
   "outputs": [
    {
     "data": {
      "image/png": "[encoded data removed]",
      "text/plain": [
       "<Figure size 432x288 with 1 Axes>"
      ]
     },
     "metadata": {},
     "output_type": "display_data"
    }
   ],
   "source": [
    "y = np.zeros(nt)\n",
    "dy_dx = np.zeros(nt)\n",
    "for i in range(nt):\n",
    "    y[i] = ya(xt[i])\n",
    "    dy_dx[i] = dya_dx(xt[i])\n",
    "plt.plot(xt, yt - y, label = '$y_t-y$')\n",
    "plt.plot(xt, dyt_dx - dy_dx, label = '$dy_t/dx-dy/dx$')\n",
    "plt.xlabel('$x_t$')\n",
    "plt.ylabel('Error')\n",
    "plt.legend()\n",
    "plt.title(\"Figure 4: Error in trained solution\");"
   ]
  },
  {
   "cell_type": "markdown",
   "metadata": {},
   "source": [
    "Now try repeating the analysis with a larger number of hidden nodes, and plot the error."
   ]
  },
  {
   "cell_type": "code",
   "execution_count": 12,
   "metadata": {},
   "outputs": [],
   "source": [
    "np.random.seed(0)\n",
    "(yt, dyt_dx) = nnode1(G, A, dG_dy, dG_dydx, xt, nhid = 20)"
   ]
  },
  {
   "cell_type": "code",
   "execution_count": 13,
   "metadata": {},
   "outputs": [
    {
     "data": {
      "image/png": "[encoded data removed]",
      "text/plain": [
       "<Figure size 432x288 with 1 Axes>"
      ]
     },
     "metadata": {},
     "output_type": "display_data"
    }
   ],
   "source": [
    "y = np.zeros(nt)\n",
    "dy_dx = np.zeros(nt)\n",
    "for i in range(nt):\n",
    "    y[i] = ya(xt[i])\n",
    "    dy_dx[i] = dya_dx(xt[i])\n",
    "plt.plot(xt, yt - y, label = '$y_t-y$')\n",
    "plt.plot(xt, dyt_dx - dy_dx, label = '$dy_t/dx-dy/dx$')\n",
    "plt.xlabel('$x_t$')\n",
    "plt.ylabel('Error')\n",
    "plt.legend()\n",
    "plt.title(\"Figure 5: Error in trained solution (20 hidden nodes)\");"
   ]
  },
  {
   "cell_type": "markdown",
   "metadata": {},
   "source": [
    "Now try repeating the analysis with a slightly larger learning rate, and plot the error."
   ]
  },
  {
   "cell_type": "code",
   "execution_count": 14,
   "metadata": {},
   "outputs": [],
   "source": [
    "np.random.seed(0)\n",
    "(yt, dyt_dx) = nnode1(G, A, dG_dy, dG_dydx, xt, nhid = 20, eta = 0.02)"
   ]
  },
  {
   "cell_type": "code",
   "execution_count": 15,
   "metadata": {},
   "outputs": [
    {
     "data": {
      "image/png": "[encoded data removed]",
      "text/plain": [
       "<Figure size 432x288 with 1 Axes>"
      ]
     },
     "metadata": {},
     "output_type": "display_data"
    }
   ],
   "source": [
    "y = np.zeros(nt)\n",
    "dy_dx = np.zeros(nt)\n",
    "for i in range(nt):\n",
    "    y[i] = ya(xt[i])\n",
    "    dy_dx[i] = dya_dx(xt[i])\n",
    "plt.plot(xt, yt - y, label = '$y_t-y$')\n",
    "plt.plot(xt, dyt_dx - dy_dx, label = '$dy_t/dx-dy/dx$')\n",
    "plt.xlabel('$x_t$')\n",
    "plt.ylabel('Error')\n",
    "plt.legend()\n",
    "plt.title(\"Figure 6: Error in trained solution (20 hidden nodes, $\\eta$ = 0.02)\");"
   ]
  },
  {
   "cell_type": "markdown",
   "metadata": {},
   "source": [
    "Now try repeating the analysis with a larger number of training epochs, and plot the error."
   ]
  },
  {
   "cell_type": "code",
   "execution_count": 16,
   "metadata": {},
   "outputs": [],
   "source": [
    "np.random.seed(0)\n",
    "(yt, dyt_dx) = nnode1(G, A, dG_dy, dG_dydx, xt, nhid = 20, eta = 0.02, maxepochs = 2000)"
   ]
  },
  {
   "cell_type": "code",
   "execution_count": 17,
   "metadata": {},
   "outputs": [
    {
     "data": {
      "image/png": "[encoded data removed]",
      "text/plain": [
       "<Figure size 432x288 with 1 Axes>"
      ]
     },
     "metadata": {},
     "output_type": "display_data"
    }
   ],
   "source": [
    "y = np.zeros(nt)\n",
    "dy_dx = np.zeros(nt)\n",
    "for i in range(nt):\n",
    "    y[i] = ya(xt[i])\n",
    "    dy_dx[i] = dya_dx(xt[i])\n",
    "plt.plot(xt, yt - y, label = '$y_t-y$')\n",
    "plt.plot(xt, dyt_dx - dy_dx, label = '$dy_t/dx-dy/dx$')\n",
    "plt.xlabel('$x_t$')\n",
    "plt.ylabel('Error')\n",
    "plt.legend()\n",
    "plt.title(\"Figure 7: Error in trained solution (20 hidden nodes, 2000 epochs)\");"
   ]
  },
  {
   "cell_type": "markdown",
   "metadata": {},
   "source": [
    "## Using a ODE definition module"
   ]
  },
  {
   "cell_type": "markdown",
   "metadata": {},
   "source": [
    "Rather than entering ODE definitions in this notebook, the required definitions can be entered in a separate Python module, and imported. For example, the previous code is also encapsulated in the file `ode00.py`, and can be imported:"
   ]
  },
  {
   "cell_type": "code",
   "execution_count": 18,
   "metadata": {},
   "outputs": [],
   "source": [
    "import ode00"
   ]
  },
  {
   "cell_type": "markdown",
   "metadata": {},
   "source": [
    "We can now run the net using the information in this module."
   ]
  },
  {
   "cell_type": "code",
   "execution_count": 19,
   "metadata": {},
   "outputs": [],
   "source": [
    "np.random.seed(0)\n",
    "(yt, dyt_dx) = nnode1(ode00.Gf, ode00.ic, ode00.dG_dyf, ode00.dG_dydxf, xt)"
   ]
  },
  {
   "cell_type": "code",
   "execution_count": 20,
   "metadata": {},
   "outputs": [
    {
     "data": {
      "image/png": "[encoded data removed]",
      "text/plain": [
       "<Figure size 432x288 with 1 Axes>"
      ]
     },
     "metadata": {},
     "output_type": "display_data"
    }
   ],
   "source": [
    "y = np.zeros(nt)\n",
    "dy_dx = np.zeros(nt)\n",
    "for i in range(nt):\n",
    "    y[i] = ode00.yaf(xt[i])\n",
    "    dy_dx[i] = ode00.dya_dxf(xt[i])\n",
    "plt.plot(xt, yt - y, label = '$y_t-y$')\n",
    "plt.plot(xt, dyt_dx - dy_dx, label = '$dy_t/dx-dy/dx$')\n",
    "plt.xlabel('$x_t$')\n",
    "plt.ylabel('Error')\n",
    "plt.legend()\n",
    "plt.title(\"Figure 8: Error in trained solution (using ode00.py)\");"
   ]
  }
 ],
 "metadata": {
  "kernelspec": {
   "display_name": "Python 3",
   "language": "python",
   "name": "python3"
  },
  "language_info": {
   "codemirror_mode": {
    "name": "ipython",
    "version": 3
   },
   "file_extension": ".py",
   "mimetype": "text/x-python",
   "name": "python",
   "nbconvert_exporter": "python",
   "pygments_lexer": "ipython3",
   "version": "3.6.5"
  }
 },
 "nbformat": 4,
 "nbformat_minor": 2
}

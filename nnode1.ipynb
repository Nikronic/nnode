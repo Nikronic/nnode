{
 "cells": [
  {
   "cell_type": "code",
   "execution_count": 1,
   "metadata": {
    "collapsed": true
   },
   "outputs": [],
   "source": [
    "from math import exp\n",
    "import numpy as np\n",
    "import matplotlib.pyplot as plt\n",
    "%matplotlib inline\n",
    "from nnode1 import nnode1"
   ]
  },
  {
   "cell_type": "markdown",
   "metadata": {},
   "source": [
    "# Introduction"
   ]
  },
  {
   "cell_type": "markdown",
   "metadata": {},
   "source": [
    "This notebook will demonstrate how to use the code in the nnode1.py module."
   ]
  },
  {
   "cell_type": "markdown",
   "metadata": {
    "collapsed": true
   },
   "source": [
    "## Define the ODE to solve"
   ]
  },
  {
   "cell_type": "code",
   "execution_count": 2,
   "metadata": {
    "collapsed": true
   },
   "outputs": [],
   "source": [
    "# Define the analytical solution.\n",
    "def yanal(x):\n",
    "    return 1 + exp(-x**2 / 2)\n",
    "\n",
    "# Define the original differential equation:\n",
    "# dy/dx + x*y = x  ->  dy/dx = x*(1 - y) = F(x,y)\n",
    "def F(x, y):\n",
    "    return x * (1 - y)\n",
    "\n",
    "# Define the y-partial derivative of the differential equation.\n",
    "def dF_dy(x, y):\n",
    "    return -x\n",
    "\n",
    "# Define the 2nd y-partial derivative of the differential equation.\n",
    "def d2F_dy2(x, y):\n",
    "    return 0"
   ]
  },
  {
   "cell_type": "markdown",
   "metadata": {},
   "source": [
    "Plot the analytical solution and derivative."
   ]
  },
  {
   "cell_type": "code",
   "execution_count": 4,
   "metadata": {},
   "outputs": [
    {
     "data": {
      "text/plain": [
       "[<matplotlib.lines.Line2D at 0x108e8c198>]"
      ]
     },
     "execution_count": 4,
     "metadata": {},
     "output_type": "execute_result"
    },
    {
     "data": {
      "image/png": "[encoded data removed]",
      "text/plain": [
       "<matplotlib.figure.Figure at 0x108e8c160>"
      ]
     },
     "metadata": {},
     "output_type": "display_data"
    }
   ],
   "source": [
    "xamin = 0\n",
    "xamax = 1\n",
    "nanal = 100\n",
    "dxa = (xamax - xamin) / nanal\n",
    "xa = np.arange(xamin, xamax, dxa) + dxa\n",
    "ya = np.zeros(nanal)\n",
    "dya_dx = np.zeros(nanal)\n",
    "for i in range(nanal):\n",
    "    ya[i] = yanal(xa[i])\n",
    "    dya_dx[i] = F(xa[i], ya[i])\n",
    "plt.plot(xa, ya)\n",
    "plt.plot(xa, dya_dx)"
   ]
  },
  {
   "cell_type": "markdown",
   "metadata": {},
   "source": [
    "## Define the boundary conditions"
   ]
  },
  {
   "cell_type": "code",
   "execution_count": 5,
   "metadata": {
    "collapsed": true
   },
   "outputs": [],
   "source": [
    "xmin = 0\n",
    "xmax = 1\n",
    "ymin = 2\n",
    "ymax = None"
   ]
  },
  {
   "cell_type": "markdown",
   "metadata": {},
   "source": [
    "## Create the training data"
   ]
  },
  {
   "cell_type": "code",
   "execution_count": 6,
   "metadata": {
    "collapsed": true
   },
   "outputs": [],
   "source": [
    "ntrain = 10\n",
    "dx = (xmax - xmin) / ntrain\n",
    "x = np.arange(xmin, xmax, dx) + dx"
   ]
  },
  {
   "cell_type": "markdown",
   "metadata": {},
   "source": [
    "## Train the model to solve the ODE"
   ]
  },
  {
   "cell_type": "code",
   "execution_count": 24,
   "metadata": {},
   "outputs": [],
   "source": [
    "(yt, dyt_dx) = nnode1(x, F, dF_dy, d2F_dy2, xmin, ymin,\n",
    "                     eta = 0.01, maxepochs = 2000, nhid = 20)"
   ]
  },
  {
   "cell_type": "code",
   "execution_count": 25,
   "metadata": {},
   "outputs": [
    {
     "data": {
      "text/plain": [
       "[<matplotlib.lines.Line2D at 0x10e8d5978>]"
      ]
     },
     "execution_count": 25,
     "metadata": {},
     "output_type": "execute_result"
    },
    {
     "data": {
      "image/png": "[encoded data removed]",
      "text/plain": [
       "<matplotlib.figure.Figure at 0x10e8d5a58>"
      ]
     },
     "metadata": {},
     "output_type": "display_data"
    }
   ],
   "source": [
    "plt.plot(x,yt)\n",
    "plt.plot(x, dyt_dx)"
   ]
  },
  {
   "cell_type": "markdown",
   "metadata": {},
   "source": [
    "Plot the error in the estimated solution and derivative."
   ]
  },
  {
   "cell_type": "code",
   "execution_count": 26,
   "metadata": {},
   "outputs": [
    {
     "data": {
      "text/plain": [
       "[<matplotlib.lines.Line2D at 0x10e8dc908>]"
      ]
     },
     "execution_count": 26,
     "metadata": {},
     "output_type": "execute_result"
    },
    {
     "data": {
      "image/png": "[encoded data removed]",
      "text/plain": [
       "<matplotlib.figure.Figure at 0x10e7ad3c8>"
      ]
     },
     "metadata": {},
     "output_type": "display_data"
    }
   ],
   "source": [
    "xamin = 0\n",
    "xamax = 1\n",
    "nanal = 10\n",
    "dxa = (xamax - xamin) / nanal\n",
    "xa = np.arange(xamin, xamax, dxa) + dxa\n",
    "ya = np.zeros(nanal)\n",
    "dya_dx = np.zeros(nanal)\n",
    "for i in range(nanal):\n",
    "    ya[i] = yanal(xa[i])\n",
    "    dya_dx[i] = F(xa[i], ya[i])\n",
    "plt.plot(xa, yt - ya)\n",
    "plt.plot(xa, dya_dx - dyt_dx)"
   ]
  },
  {
   "cell_type": "code",
   "execution_count": null,
   "metadata": {
    "collapsed": true
   },
   "outputs": [],
   "source": []
  }
 ],
 "metadata": {
  "kernelspec": {
   "display_name": "Python 3",
   "language": "python",
   "name": "python3"
  },
  "language_info": {
   "codemirror_mode": {
    "name": "ipython",
    "version": 3
   },
   "file_extension": ".py",
   "mimetype": "text/x-python",
   "name": "python",
   "nbconvert_exporter": "python",
   "pygments_lexer": "ipython3",
   "version": "3.6.2"
  }
 },
 "nbformat": 4,
 "nbformat_minor": 2
}

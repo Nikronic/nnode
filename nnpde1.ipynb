{
 "cells": [
  {
   "cell_type": "markdown",
   "metadata": {},
   "source": [
    "## Setup"
   ]
  },
  {
   "cell_type": "code",
   "execution_count": null,
   "metadata": {},
   "outputs": [],
   "source": [
    "%%javascript\n",
    "MathJax.Hub.Config({\n",
    "      TeX: { equationNumbers: { autoNumber: \"AMS\" } }\n",
    "    });MathJax.Hub.Queue(\n",
    "  [\"resetEquationNumbers\", MathJax.InputJax.TeX],\n",
    "  [\"PreProcess\", MathJax.Hub],\n",
    "  [\"Reprocess\", MathJax.Hub]\n",
    ");\n",
    "MathJax.Hub.Queue(\n",
    "  [\"resetEquationNumbers\", MathJax.InputJax.TeX],\n",
    "  [\"PreProcess\", MathJax.Hub],\n",
    "  [\"Reprocess\", MathJax.Hub]\n",
    ");"
   ]
  },
  {
   "cell_type": "code",
   "execution_count": null,
   "metadata": {},
   "outputs": [],
   "source": [
    "from math import exp\n",
    "from mpl_toolkits.mplot3d import Axes3D\n",
    "import matplotlib.pyplot as plt\n",
    "%matplotlib inline\n",
    "import numpy as np"
   ]
  },
  {
   "cell_type": "markdown",
   "metadata": {},
   "source": [
    "# Introduction"
   ]
  },
  {
   "cell_type": "markdown",
   "metadata": {},
   "source": [
    "This notebook will demonstrate how to use the code in the `nnpde1.py` module. The module allows the user to solve an arbitrary 1st-order partial differential equation (PDE) initial value problem (IVP) with two variables, and Dirichlet initial conditions, using a single-hidden layer neural network."
   ]
  },
  {
   "cell_type": "markdown",
   "metadata": {},
   "source": [
    "This work is based on the paper [\"Artificial Neural Networks for Solving Ordinary and Partial Differential Equations\", by Lagaris et al, *IEEE Transactions on Neural Networks, Volume 9, No. 5*, September 1998](http://ieeexplore.ieee.org/document/712178/). Note that the notation used in this notebook and the associated Python code differs slightly from that used in the Lagaris paper."
   ]
  },
  {
   "cell_type": "markdown",
   "metadata": {},
   "source": [
    "## The algorithm"
   ]
  },
  {
   "cell_type": "markdown",
   "metadata": {},
   "source": [
    "Consider an $m$-dimensional space containing vectors $\\vec x = (x_1,x_2,...,x_m)$. Any 1st-order PDE for the scalar function $\\psi(\\vec x)$ can be written in the form:"
   ]
  },
  {
   "cell_type": "markdown",
   "metadata": {},
   "source": [
    "\\begin{equation}\n",
    "G(\\vec x,\\psi,\\vec \\nabla \\psi) = 0\n",
    "\\end{equation}"
   ]
  },
  {
   "cell_type": "markdown",
   "metadata": {},
   "source": [
    "The problem is to find a suitable solution to the PDE using a neural network."
   ]
  },
  {
   "cell_type": "markdown",
   "metadata": {},
   "source": [
    "The network is trained using a set of $n$ training points $\\vec x_i$ ($1 \\leq i \\leq n$). This work assumes that the vectors $\\vec x_i$ have been scaled so that each component $x_{ij} \\in [0,1]$, $1 \\leq j \\leq m$. The training points need not be evenly-spaced. Note that only the independent variable vectors $\\vec x_i$  of the training points are needed - the estimated value of the solution at the training points is obtained using a trial solution $\\psi_t$ of the form:"
   ]
  },
  {
   "cell_type": "markdown",
   "metadata": {},
   "source": [
    "\\begin{equation}\n",
    "\\psi_t(\\vec x_i,\\vec p) = A(\\vec x_i) + P(\\vec x_i) N(\\vec x_i,\\vec p)\n",
    "\\end{equation}"
   ]
  },
  {
   "cell_type": "markdown",
   "metadata": {},
   "source": [
    "or:"
   ]
  },
  {
   "cell_type": "markdown",
   "metadata": {},
   "source": [
    "\\begin{equation}\n",
    "\\psi_{ti} = A_i + P_i N_i\n",
    "\\end{equation}"
   ]
  },
  {
   "cell_type": "markdown",
   "metadata": {},
   "source": [
    "where $\\psi_{ti}$ is the value of the trial solution at the current training point $\\vec x_i$, $A_i$ is a function which yields the initial conditions at the origin of each dimension, $P_i$ is a function which vanishes at the origin of each dimension, and $N_i$ is the floating-point single-valued output from an unspecified neural network with network parameters $\\vec p$. Note that this trial solution satisfies the boundary conditions by construction - at any boundary, the second term vanishes, leaving $\\psi_t(\\vec x_i, \\vec p_i)=A(\\vec x_i)$, which is just the specified boundary condition on that boundary. The PDE is assumed to have been preprocessed so that the boundary conditions lie at the origin. For a 2-variable PDE with independent variables $x$ and $y$, this condition is represented by:"
   ]
  },
  {
   "cell_type": "markdown",
   "metadata": {},
   "source": [
    "\\begin{equation}\n",
    "\\psi_t(0,y,\\vec p) = f_0(y)\n",
    "\\end{equation}"
   ]
  },
  {
   "cell_type": "markdown",
   "metadata": {},
   "source": [
    "\\begin{equation}\n",
    "\\psi_t(x,0,\\vec p) = g_0(x)\n",
    "\\end{equation}"
   ]
  },
  {
   "cell_type": "markdown",
   "metadata": {},
   "source": [
    "The analytical forms of $A(\\vec x_i)$ and $P(\\vec x_i)$ are constructed to meet these requirements, and noting that, by continuity at the origin, $f_0(0)=g_0(0)$. For a 2-variable PDE, we have:"
   ]
  },
  {
   "cell_type": "markdown",
   "metadata": {},
   "source": [
    "\\begin{equation}\n",
    "A(x,y) = (1-x)f_0(y) + (1-y)(g_0(x) - (1-x)g_0(0))\n",
    "\\end{equation}"
   ]
  },
  {
   "cell_type": "markdown",
   "metadata": {},
   "source": [
    "\\begin{equation}\n",
    "P(x,y) = xy\n",
    "\\end{equation}"
   ]
  },
  {
   "cell_type": "markdown",
   "metadata": {},
   "source": [
    "These functions rapidly become more complex as the number of problem dimensions is increased, so this example will utilize a 2-variable PDE. Training is done in a set of *epochs*. A training epoch consists of presenting the neural network with each of the $n$ training points $\\vec x_i$, one at a time. For each input point $\\vec x_i$, the network output $N_i$ is computed. Once all $n$ points have been presented, the epoch is complete, and the error function $E$ is computed. The problem definition provides an analytical form for the error function, as the sum of squared errors (SSE) for each of the training points:"
   ]
  },
  {
   "cell_type": "markdown",
   "metadata": {},
   "source": [
    "\\begin{equation}\n",
    "E = \\sum_{i=1}^{n} \\left( G(\\vec x_i,\\psi_{ti}, \\vec \\nabla \\psi_{ti}) \\right)^2 =\n",
    "\\sum_{i=1}^{n} G_i^2\n",
    "\\end{equation}"
   ]
  },
  {
   "cell_type": "markdown",
   "metadata": {},
   "source": [
    "Once this error function is computed, the parameters in the neural network are adjusted to reduce the error. Eventually, a minimum of $E$ is attained, and the resulting final form of $\\psi_t(x)$ is used as the solution to the original PDE."
   ]
  },
  {
   "cell_type": "markdown",
   "metadata": {},
   "source": [
    "## Computing the network output $N_i$"
   ]
  },
  {
   "cell_type": "markdown",
   "metadata": {},
   "source": [
    "The neural network used in this work has a simple structure. One input node for each component of $\\vec x_i$ is used (for a total of $m$ input nodes) to provide the training data. Each input node is fully-connected to each of a set of $H$ hidden nodes, each using a sigmoid transfer function. Each hidden node is connected to the single output node, which uses a linear transfer function with a weight for the signal from each hidden node."
   ]
  },
  {
   "cell_type": "markdown",
   "metadata": {},
   "source": [
    "During each step of a training epoch, the input to the network is just the training point $\\vec x_i$. Each input node $j$ receives one component $x_{ij}$, and emits that value as output. These outputs are sent to each of the $H$ hidden nodes. At each hidden node $k$, the input values $x_{ij}$ are combined and scaled by the equation:"
   ]
  },
  {
   "cell_type": "markdown",
   "metadata": {},
   "source": [
    "\\begin{equation}\n",
    "z_{ik} = \\sum_{j=1}^m w_{jk} x_{ij} + u_k\n",
    "\\end{equation}"
   ]
  },
  {
   "cell_type": "markdown",
   "metadata": {},
   "source": [
    "where  $w_{jk}$ is the weight for input node $j$ at hidden node $k$, and $u_k$ is the bias at hidden node $k$. This combined value is then used as the input to a sigmoidal transfer function:"
   ]
  },
  {
   "cell_type": "markdown",
   "metadata": {},
   "source": [
    "\\begin{equation}\n",
    "\\sigma_{ik} = \\sigma(z_{ik})\n",
    "\\end{equation}"
   ]
  },
  {
   "cell_type": "markdown",
   "metadata": {},
   "source": [
    "where:"
   ]
  },
  {
   "cell_type": "markdown",
   "metadata": {},
   "source": [
    "\\begin{equation}\n",
    "\\sigma(z) = \\frac {1}{1+e^{-z}}\n",
    "\\end{equation}"
   ]
  },
  {
   "cell_type": "markdown",
   "metadata": {},
   "source": [
    "A plot of this transfer function and its first three derivatives is provided below."
   ]
  },
  {
   "cell_type": "code",
   "execution_count": null,
   "metadata": {},
   "outputs": [],
   "source": [
    "def sigma(z):\n",
    "    return 1 / (1 + exp(-z))\n",
    "\n",
    "def dsigma_dz(z):\n",
    "    return exp(-z) / (1 + exp(-z))**2\n",
    "\n",
    "def d2sigma_dz2(z):\n",
    "    return (\n",
    "        2 * exp(-2 * z) / (1 + exp(-z))**3 - exp(-z) / (1 + exp(-z))**2\n",
    "    )\n",
    "\n",
    "def d3sigma_dz3(z):\n",
    "    return (\n",
    "        6 * exp(-3 * z) / (1 + exp(-z))**4\n",
    "        - 6 * exp(-2 * z) / (1 + exp(-z))**3\n",
    "        + exp(-z) / (1 + exp(-z))**2\n",
    "    )\n",
    "\n",
    "z = np.arange(-5, 5, 0.01)\n",
    "n = len(z)\n",
    "s = np.zeros(n)\n",
    "ds_dz = np.zeros(n)\n",
    "d2s_dz2 = np.zeros(n)\n",
    "d3s_dz3 = np.zeros(n)\n",
    "for i in range(n):\n",
    "    s[i] = sigma(z[i])\n",
    "    ds_dz[i] = dsigma_dz(z[i])\n",
    "    d2s_dz2[i] = d2sigma_dz2(z[i])\n",
    "    d3s_dz3[i] = d3sigma_dz3(z[i])\n",
    "plt.plot(z,s,label = \"$\\sigma(z)$\")\n",
    "plt.plot(z,ds_dz,label = \"$d\\sigma/dz$\")\n",
    "plt.plot(z,d2s_dz2, label = \"$d^2\\sigma/dz^2$\")\n",
    "plt.plot(z,d3s_dz3, label = \"$d^3\\sigma/dz^3$\");\n",
    "plt.xlabel(\"z\")\n",
    "plt.ylabel(\"$\\sigma(z)$ or derivative\")\n",
    "plt.title(\"Figure 1: The $\\sigma$-function and its first three derivatives\")\n",
    "plt.legend();"
   ]
  },
  {
   "cell_type": "markdown",
   "metadata": {},
   "source": [
    "Once the $\\sigma_{ik}$ are computed, they are all passed to the single output node, where they are processed by a linear transfer function to create the network output for the current input point $\\vec x_i$:"
   ]
  },
  {
   "cell_type": "markdown",
   "metadata": {},
   "source": [
    "\\begin{equation}\n",
    "N_i = \\sum_{k=1}^{H}v_k\\sigma_{ik}\n",
    "\\end{equation}"
   ]
  },
  {
   "cell_type": "markdown",
   "metadata": {},
   "source": [
    "where $v_k$ is the weight applied to the output from hidden node $k$ at the output node. Once $N_i$ has been computed, the trial function $\\psi_{ti}$ is computed. To compute the value of $G_i$ (and thus $E$), we also need the gradient of the trial function $\\vec \\nabla \\psi_{ti}$."
   ]
  },
  {
   "cell_type": "markdown",
   "metadata": {},
   "source": [
    "\\begin{equation}\n",
    "\\vec \\nabla \\psi_{ti} = \\vec \\nabla (A_i + P_i N_i)\n",
    "\\end{equation}"
   ]
  },
  {
   "cell_type": "markdown",
   "metadata": {},
   "source": [
    "Each component $j$ of this gradient may be written as:"
   ]
  },
  {
   "cell_type": "markdown",
   "metadata": {},
   "source": [
    "\\begin{equation}\n",
    "\\frac {\\partial \\psi_{ti}}{\\partial x_{ij}} =\n",
    "\\frac {\\partial A_i}{\\partial x_{ij}} + P_i \\frac {\\partial N_i}{\\partial x_{ij}} + \\frac {\\partial P_i}{\\partial x_{ij}} N_i\n",
    "\\end{equation}"
   ]
  },
  {
   "cell_type": "markdown",
   "metadata": {},
   "source": [
    "The functional forms of the derivatives of $A_i$ and $P_i$ with respect to $x_{ij}$ are computed $\\it a \\ priori$ from their known analytical forms, which may vary based on the problem under investigation. The values of the network output derivatives $\\frac {\\partial N_i}{\\partial x_{ij}}$ are computed analytically using the known form of the network and its weights and biases."
   ]
  },
  {
   "cell_type": "markdown",
   "metadata": {},
   "source": [
    "\\begin{equation}\n",
    "\\frac {\\partial N_i}{\\partial x_{ij}} =\n",
    "\\frac {\\partial}{\\partial x_{ij}} \\sum_{k=1}^{H} v_k \\sigma_{ik} =\n",
    "\\sum_{k=1}^{H} v_k \\frac {\\partial \\sigma_{ik}}{\\partial x_{ij}} =\n",
    "\\sum_{k=1}^{H} v_k \\frac {\\partial \\sigma_{ik}}{\\partial z_{ik}} \\frac {\\partial z_{ik}}{\\partial x_{ij}} = \\sum_{k=1}^{H} v_k \\sigma_{ik}^{(1)} w_{jk}\n",
    "\\end{equation}"
   ]
  },
  {
   "cell_type": "markdown",
   "metadata": {},
   "source": [
    "where the derivatives of $\\sigma$ are given by:"
   ]
  },
  {
   "cell_type": "markdown",
   "metadata": {},
   "source": [
    "\\begin{equation}\n",
    "\\sigma^{(k)} = \\frac {d^k \\sigma}{dz^k}\n",
    "\\end{equation}"
   ]
  },
  {
   "cell_type": "markdown",
   "metadata": {},
   "source": [
    "With the values of $\\psi_{ti}$ and $\\vec \\nabla \\psi_{ti}$, we can now compute the values of $G_i$, and then the error function $E$ for the current epoch."
   ]
  },
  {
   "cell_type": "markdown",
   "metadata": {},
   "source": [
    "## Updating the network parameters"
   ]
  },
  {
   "cell_type": "markdown",
   "metadata": {},
   "source": [
    "The network parameters are the weights and biases of the hidden and output nodes. For an $m$-dimensional input point $\\vec x_i$, and a set of $H$ hidden nodes, we have a total of $N_p = (m+2)H$ parameters in total: a weight for each $x_{ij}$ for each hidden node, a bias for each hidden node, and an output weight for each hidden node."
   ]
  },
  {
   "cell_type": "markdown",
   "metadata": {},
   "source": [
    "Since the objective function to minimize is the error $E$, the value of each network parameter $p$ (where $p$ represents $v_k$, $u_k$, or $w_{jk}$) is updated using a scaled Newton's method:"
   ]
  },
  {
   "cell_type": "markdown",
   "metadata": {},
   "source": [
    "\\begin{equation}\n",
    "p_{new}=p - \\eta \\frac {\\frac {\\partial E}{\\partial p}} {\\frac {\\partial^2 E}{\\partial p^2}}\n",
    "\\end{equation}"
   ]
  },
  {
   "cell_type": "markdown",
   "metadata": {},
   "source": [
    "where $\\eta$ is the *learning rate* (usually $\\eta < 1$). The learning rate is used to reduce the chance of solution instability due to large values of the correction factor in Newton's method. The derivatives of $E$ are computed using the known form of $G_i$, the network, and the network parameters."
   ]
  },
  {
   "cell_type": "markdown",
   "metadata": {},
   "source": [
    "This process of parameter updates is repeated until the specified maximum number of training epochs has been applied. Note that the same set of training points is presented during each epoch."
   ]
  },
  {
   "cell_type": "markdown",
   "metadata": {},
   "source": [
    "## Computing the derivatives of $E$"
   ]
  },
  {
   "cell_type": "markdown",
   "metadata": {},
   "source": [
    "The partial derivatives of $E$ with respect to any network parameter $p$ are given by:"
   ]
  },
  {
   "cell_type": "markdown",
   "metadata": {},
   "source": [
    "\\begin{equation}\n",
    "\\frac {\\partial E}{\\partial p} =\n",
    "2 \\sum_{i=1}^n G_i \\frac {\\partial G_i}{\\partial p}\n",
    "\\end{equation}"
   ]
  },
  {
   "cell_type": "markdown",
   "metadata": {},
   "source": [
    "\\begin{equation}\n",
    "\\frac {\\partial^2 E}{\\partial p^2} =\n",
    "2 \\sum_{i=1}^n \\left[G_i \\frac {\\partial^2 G_i}{\\partial p^2} + \\left(\\frac {\\partial G_i}{\\partial p} \\right)^2 \\right]\n",
    "\\end{equation}"
   ]
  },
  {
   "cell_type": "markdown",
   "metadata": {},
   "source": [
    "## Computing the derivatives of $G_i$"
   ]
  },
  {
   "cell_type": "markdown",
   "metadata": {},
   "source": [
    "The partial derivatives of $G_i$ with respect to $x_{ij}$, $\\psi_{ti}$, and $\\frac {\\partial \\psi_{ti}} {\\partial x_{ij}}$ are determined $\\it a\\ priori$ from the analytical form of $G$. Note also that $\\frac {\\partial x_{ij}} {\\partial p_{hk}} = 0$. The remaining partial derivatives of $G_i$ are:"
   ]
  },
  {
   "cell_type": "markdown",
   "metadata": {},
   "source": [
    "\\begin{equation}\n",
    "\\frac {\\partial G_i}{\\partial p} =\n",
    "\\frac {\\partial G_i}{\\partial \\psi_{ti}} \\frac {\\partial \\psi_{ti}}{\\partial p} +\n",
    "\\sum_{j=1}^m \\frac {\\partial G_i}{\\partial \\left(\\frac {\\partial \\psi_{ti}}{\\partial x_{ij}}\\right)}\n",
    "\\frac {\\partial^2 \\psi_{ti}}{\\partial p \\partial x_{ij}}\n",
    "\\end{equation}"
   ]
  },
  {
   "cell_type": "markdown",
   "metadata": {},
   "source": [
    "\\begin{equation}\n",
    "\\frac {\\partial^2 G_i}{\\partial p^2} =\n",
    "\\frac {\\partial G_i}{\\partial \\psi_{ti}}\n",
    "\\frac {\\partial^2 \\psi_{ti}}{\\partial p^2} +\n",
    "\\frac {\\partial} {\\partial p} \\left ( \\frac {\\partial G_i} {\\partial \\psi_{ti}} \\right ) \\frac {\\partial \\psi_{ti}} {\\partial p} +\n",
    "\\sum_{j=1}^m\n",
    "\\left [\n",
    "\\frac {\\partial G_i} {\\partial \\left ( \\frac {\\partial \\psi_{ti}} {\\partial x_{ij}} \\right ) }\n",
    "\\frac {\\partial \\psi_{ti}^3} {\\partial p^2 \\partial x_{ij}} +\n",
    "\\frac {\\partial} {\\partial p} \\left ( \\frac {\\partial G_i} {\\partial \\frac {\\partial \\psi_{ti}} {\\partial x_{ij}}} \\right )\n",
    "\\frac {\\partial \\psi_{ti}^2} {\\partial p \\partial x_{ij}}\n",
    "\\right ]\n",
    "\\end{equation}"
   ]
  },
  {
   "cell_type": "markdown",
   "metadata": {},
   "source": [
    "Note that the partials of $G_i$ by $\\vec x$, $\\psi$, and $\\vec \\nabla \\psi$ must be supplied in anaytical form, since the analytical form of $G_i(\\vec x,\\psi,\\vec \\nabla \\psi)$ is known. Partials of these partials by parameters $p$ are found using the chain rule, as they are for $G_i$ itself."
   ]
  },
  {
   "cell_type": "markdown",
   "metadata": {},
   "source": [
    "## Computing the derivatives of $\\psi_{ti}$"
   ]
  },
  {
   "cell_type": "markdown",
   "metadata": {},
   "source": [
    " The derivatives of the trial solution $\\psi_{t}$ are given by:"
   ]
  },
  {
   "cell_type": "markdown",
   "metadata": {},
   "source": [
    "\\begin{equation}\n",
    "\\frac {\\partial \\psi_{ti}} {\\partial p} = \\\n",
    "P_i \\frac {\\partial N_i} {\\partial p}\n",
    "\\end{equation}"
   ]
  },
  {
   "cell_type": "markdown",
   "metadata": {},
   "source": [
    "\\begin{equation}\n",
    "\\frac {\\partial^2 \\psi_{ti}} {\\partial p^2} = \\\n",
    "P_i \\frac {\\partial^2 N_i} {\\partial p^2}\n",
    "\\end{equation}"
   ]
  },
  {
   "cell_type": "markdown",
   "metadata": {},
   "source": [
    "\\begin{equation}\n",
    "\\frac {\\partial^2 \\psi_{ti}} {\\partial p \\partial x_{ij}} = \\\n",
    "P_i \\frac {\\partial^2 N_i} {\\partial p \\partial x_{ij}} + \\\n",
    "\\frac {\\partial P_i} {\\partial x_{ij}} \\frac {\\partial N_i} {\\partial p}\n",
    "\\end{equation}"
   ]
  },
  {
   "cell_type": "markdown",
   "metadata": {},
   "source": [
    "\\begin{equation}\n",
    "\\frac {\\partial^3 \\psi_{ti}} {\\partial p^2 \\partial x_{ij}} = \\\n",
    "P_i \\frac {\\partial^3 N_i} {\\partial p^2 \\partial x_{ij}} + \\\n",
    "\\frac {\\partial P_i} {\\partial x_{ij}} \\frac {\\partial^2 N_i} {\\partial p^2}\n",
    "\\end{equation}"
   ]
  },
  {
   "cell_type": "markdown",
   "metadata": {},
   "source": [
    "Note that $A_i$ and $P_i$ are independent of the network parameters $p$."
   ]
  },
  {
   "cell_type": "markdown",
   "metadata": {},
   "source": [
    "## Computing the derivatives of $N_i$"
   ]
  },
  {
   "cell_type": "markdown",
   "metadata": {},
   "source": [
    "The partial derivatives of $N_i$ are:"
   ]
  },
  {
   "cell_type": "markdown",
   "metadata": {},
   "source": [
    "\\begin{equation}\n",
    "\\frac {\\partial N_i} {\\partial x_{ij}} = \\sum_{k=1}^H v_k \\sigma_{ik}^{(1)} w_{jk}\n",
    "\\end{equation}"
   ]
  },
  {
   "cell_type": "markdown",
   "metadata": {},
   "source": [
    "\\begin{equation}\n",
    "\\frac {\\partial N_i} {\\partial p} =\n",
    "\\sum_{k=1}^H \\left ( v_k \\sigma_{ik}^{(1)} \\frac {\\partial z_{ik}} {\\partial p} +\n",
    "\\frac {\\partial v_k} {\\partial p} \\sigma_{ik} \\right )\n",
    "\\end{equation}"
   ]
  },
  {
   "cell_type": "markdown",
   "metadata": {},
   "source": [
    "\\begin{equation}\n",
    "\\frac {\\partial^2 N_i}{\\partial p^2} =\n",
    "\\sum_{k=1}^H \\left(\n",
    "v_k \\sigma_{ik}^{(2)} \\left( \\frac {\\partial z_{ik}}{\\partial p} \\right)^2 +\n",
    "2 \\frac {\\partial v_k}{\\partial p} \\sigma_{ik}^{(1)} \\frac {\\partial z_{ik}}{\\partial p} \n",
    "\\right)\n",
    "\\end{equation}"
   ]
  },
  {
   "cell_type": "markdown",
   "metadata": {},
   "source": [
    "\\begin{equation}\n",
    "\\frac {\\partial^2 N_i}{\\partial p \\partial x_{ij}} =\n",
    "\\sum_{k=1}^{H} \\left(\n",
    "v_k \\sigma_{ik}^{(1)} \\frac {\\partial w_{jk}} {\\partial p} + \\\n",
    "v_k \\sigma_{ik}^{(2)} \\frac {\\partial z_{ik}} {\\partial p} w_{jk} + \\\n",
    "\\frac {\\partial v_k} {\\partial p} \\sigma_{ik}^{(1)} w_{jk}\n",
    "\\right)\n",
    "\\end{equation}"
   ]
  },
  {
   "cell_type": "markdown",
   "metadata": {},
   "source": [
    "\\begin{equation}\n",
    "\\frac {\\partial^3 N_i}{\\partial p^2 \\partial x_i} =\n",
    "\\sum_{k=1}^H\n",
    "\\left(\n",
    "v_k \\sigma_{ik}^{(2)} \\frac {\\partial z_{ik}} {\\partial p} \\frac {\\partial w_{jk}} {\\partial p} +\n",
    "\\frac {\\partial v_k} {\\partial p} \\sigma_{ik}^{(1)} \\frac {\\partial w_{jk}} {\\partial p} +\n",
    "v_k \\sigma_{ik}^{(2)} \\frac {\\partial z_{ik}} {\\partial p} \\frac {\\partial w_{jk}} {\\partial p} +\n",
    "v_k \\sigma_{ik}^{(3)} \\left( \\frac {\\partial z_{ik}} {\\partial p} \\right)^2 w_{jk} +\n",
    "\\frac {\\partial v_k} {\\partial p} \\sigma_{ik}^{(2)} \\frac {\\partial z_{ik}} {\\partial p} w_{jk} +\n",
    "\\frac {\\partial v_k} {\\partial p} \\sigma_{ik}^{(1)} \\frac {\\partial w_{jk}} {\\partial p} +\n",
    "\\frac {\\partial v_k} {\\partial p} \\sigma_{ik}^{(2)} \\frac {\\partial z_{ik}} {\\partial p} w_{jlk}\n",
    "\\right)\n",
    "\\end{equation}"
   ]
  },
  {
   "cell_type": "markdown",
   "metadata": {},
   "source": [
    "Most of these expressions can now be simplified using the following relations between the network parameters ($*$ means any index or combination of indices):"
   ]
  },
  {
   "cell_type": "markdown",
   "metadata": {},
   "source": [
    "\\begin{equation}\n",
    "\\frac {\\partial v_k}{\\partial v_l} = \\delta_{kl},\n",
    "\\frac {\\partial v_k}{\\partial w_*} = \\frac {\\partial v_k}{\\partial u_*} = 0\n",
    "\\end{equation}\n"
   ]
  },
  {
   "cell_type": "markdown",
   "metadata": {},
   "source": [
    "\\begin{equation}\n",
    "\\frac {\\partial u_k}{\\partial u_l} = \\delta_{kl},\n",
    "\\frac {\\partial u_k}{\\partial v_*} = \\frac {\\partial u_k}{\\partial w_*} = 0\n",
    "\\end{equation}"
   ]
  },
  {
   "cell_type": "markdown",
   "metadata": {},
   "source": [
    "\\begin{equation}\n",
    "\\frac {\\partial w_{jk}}{\\partial w_{hl}} = \\delta_{jh} \\delta_{kl},\n",
    "\\frac {\\partial w_{jk}}{\\partial v_*} = \\frac {\\partial w_{jk}}{\\partial u_*} = 0\n",
    "\\end{equation}"
   ]
  },
  {
   "cell_type": "markdown",
   "metadata": {},
   "source": [
    "\\begin{equation}\n",
    "\\frac {\\partial z_{ik}}{\\partial v_*} = 0,\n",
    "\\frac {\\partial z_{ik}}{\\partial w_{jl}} = x_{ij} \\delta_{kl},\n",
    "\\frac {\\partial z_{ik}}{\\partial u_l} = \\delta_{kl},\n",
    "\\end{equation}"
   ]
  },
  {
   "cell_type": "markdown",
   "metadata": {},
   "source": [
    "# Walking through an example problem"
   ]
  },
  {
   "cell_type": "markdown",
   "metadata": {},
   "source": [
    "Consider the simple 1st-order partial differential equation:"
   ]
  },
  {
   "cell_type": "markdown",
   "metadata": {},
   "source": [
    "\\begin{equation}\n",
    "G(\\vec x, \\psi, \\vec \\nabla \\psi) = xy - \\psi = 0\n",
    "\\end{equation}"
   ]
  },
  {
   "cell_type": "markdown",
   "metadata": {},
   "source": [
    "In Python form:"
   ]
  },
  {
   "cell_type": "code",
   "execution_count": null,
   "metadata": {},
   "outputs": [],
   "source": [
    "def Gf(xy, psi, del_psi):\n",
    "    (x, y) = xy\n",
    "    return x * y - psi"
   ]
  },
  {
   "cell_type": "markdown",
   "metadata": {},
   "source": [
    "The analytical solution to this PDE is:"
   ]
  },
  {
   "cell_type": "markdown",
   "metadata": {},
   "source": [
    "\\begin{equation}\n",
    "\\psi(x,y) = xy\n",
    "\\end{equation}"
   ]
  },
  {
   "cell_type": "markdown",
   "metadata": {},
   "source": [
    "This function is plotted in the following figure:"
   ]
  },
  {
   "cell_type": "code",
   "execution_count": null,
   "metadata": {},
   "outputs": [],
   "source": [
    "fig = plt.figure()\n",
    "ax = fig.gca(projection = '3d')\n",
    "x = np.linspace(0,1,101)\n",
    "y = np.linspace(0,1,101)\n",
    "x,y = np.meshgrid(x,y)\n",
    "psi = x*y\n",
    "z = psi.reshape(x.shape)\n",
    "surf = ax.plot_surface(x, y, z)\n",
    "ax.set_xlabel('$x$')\n",
    "ax.set_ylabel('$y$')\n",
    "ax.set_zlabel('$\\psi(x,y)$');"
   ]
  },
  {
   "cell_type": "markdown",
   "metadata": {},
   "source": [
    "We need to specify quite a few derivatives, but most of them vanish. To begin, the first partials of $G(\\vec x,\\psi,\\vec \\nabla \\psi)$:"
   ]
  },
  {
   "cell_type": "markdown",
   "metadata": {},
   "source": [
    "\\begin{equation}\n",
    "\\frac {\\partial G} {\\partial x} = y\n",
    "\\end{equation}"
   ]
  },
  {
   "cell_type": "markdown",
   "metadata": {},
   "source": [
    "\\begin{equation}\n",
    "\\frac {\\partial G} {\\partial y} = x\n",
    "\\end{equation}"
   ]
  },
  {
   "cell_type": "markdown",
   "metadata": {},
   "source": [
    "In Python form, these equations are (unused arguments are ignored):"
   ]
  },
  {
   "cell_type": "code",
   "execution_count": null,
   "metadata": {},
   "outputs": [],
   "source": [
    "def dG_dxf(xy,psi,del_psi):\n",
    "    (x,y) = xy\n",
    "    return y"
   ]
  },
  {
   "cell_type": "code",
   "execution_count": null,
   "metadata": {},
   "outputs": [],
   "source": [
    "def dG_dyf(xy, psi, del_psi):\n",
    "    (x, y) = xy\n",
    "    return x"
   ]
  },
  {
   "cell_type": "code",
   "execution_count": null,
   "metadata": {},
   "outputs": [],
   "source": [
    "del_Gf = (dG_dxf,dG_dyf)"
   ]
  },
  {
   "cell_type": "markdown",
   "metadata": {},
   "source": [
    "\\begin{equation}\n",
    "\\frac {\\partial G} {\\partial \\psi} = -1\n",
    "\\end{equation}"
   ]
  },
  {
   "cell_type": "markdown",
   "metadata": {},
   "source": [
    "In Python form:"
   ]
  },
  {
   "cell_type": "code",
   "execution_count": null,
   "metadata": {},
   "outputs": [],
   "source": [
    "def dG_dpsif(xy, psi, del_psi):\n",
    "    return -1"
   ]
  },
  {
   "cell_type": "markdown",
   "metadata": {},
   "source": [
    "\\begin{equation}\n",
    "\\frac {\\partial G} {\\partial \\left ( \\frac {\\partial \\psi} {\\partial x} \\right )} = 0\n",
    "\\end{equation}"
   ]
  },
  {
   "cell_type": "markdown",
   "metadata": {},
   "source": [
    "\\begin{equation}\n",
    "\\frac {\\partial G} {\\partial \\left ( \\frac {\\partial \\psi} {\\partial y} \\right )} = 0\n",
    "\\end{equation}"
   ]
  },
  {
   "cell_type": "markdown",
   "metadata": {},
   "source": [
    "In Python form:"
   ]
  },
  {
   "cell_type": "code",
   "execution_count": null,
   "metadata": {},
   "outputs": [],
   "source": [
    "def dG_dpsi_dxf(xy, psi, del_psi):\n",
    "    return 0"
   ]
  },
  {
   "cell_type": "code",
   "execution_count": null,
   "metadata": {},
   "outputs": [],
   "source": [
    "def dG_dpsi_dyf(xy, psi, del_psi):\n",
    "    return 0"
   ]
  },
  {
   "cell_type": "code",
   "execution_count": null,
   "metadata": {},
   "outputs": [],
   "source": [
    "dG_ddel_psif = (dG_dpsi_dxf,dG_dpsi_dyf)"
   ]
  },
  {
   "cell_type": "markdown",
   "metadata": {},
   "source": [
    "The required second partials are:"
   ]
  },
  {
   "cell_type": "markdown",
   "metadata": {},
   "source": [
    "\\begin{equation}\n",
    "\\frac {\\partial^2 G} {\\partial \\psi^2} = 0\n",
    "\\end{equation}"
   ]
  },
  {
   "cell_type": "code",
   "execution_count": null,
   "metadata": {},
   "outputs": [],
   "source": [
    "def d2G_dpsi2f(xy, psi, del_psi):\n",
    "    return 0"
   ]
  },
  {
   "cell_type": "markdown",
   "metadata": {},
   "source": [
    "\\begin{equation}\n",
    "\\frac {\\partial^2 G} {\\partial \\left ( \\frac {\\partial \\psi} {\\partial x} \\right ) \\partial \\psi} = 0\n",
    "\\end{equation}"
   ]
  },
  {
   "cell_type": "markdown",
   "metadata": {},
   "source": [
    "\\begin{equation}\n",
    "\\frac {\\partial^2 G} {\\partial \\left ( \\frac {\\partial \\psi} {\\partial y} \\right ) \\partial \\psi} = 0\n",
    "\\end{equation}"
   ]
  },
  {
   "cell_type": "code",
   "execution_count": null,
   "metadata": {},
   "outputs": [],
   "source": [
    "def d2G_ddxdpsif(xy, psi, del_psi):\n",
    "    return 0"
   ]
  },
  {
   "cell_type": "code",
   "execution_count": null,
   "metadata": {},
   "outputs": [],
   "source": [
    "def d2G_ddydpsif(xy, psi, del_psi):\n",
    "    return 0"
   ]
  },
  {
   "cell_type": "code",
   "execution_count": null,
   "metadata": {},
   "outputs": [],
   "source": [
    "d2G_ddel_psi_dpsif = (d2G_ddxdpsif, d2G_ddydpsif)"
   ]
  },
  {
   "cell_type": "markdown",
   "metadata": {},
   "source": [
    "\\begin{equation}\n",
    "\\frac {\\partial^2 G} { \\partial \\psi \\partial \\left ( \\frac {\\partial \\psi} {\\partial x} \\right )} = 0\n",
    "\\end{equation}"
   ]
  },
  {
   "cell_type": "markdown",
   "metadata": {},
   "source": [
    "\\begin{equation}\n",
    "\\frac {\\partial^2 G} { \\partial \\psi \\partial \\left ( \\frac {\\partial \\psi} {\\partial y} \\right )} = 0\n",
    "\\end{equation}"
   ]
  },
  {
   "cell_type": "code",
   "execution_count": null,
   "metadata": {},
   "outputs": [],
   "source": [
    "def d2G_dpsiddx(xy, psi, del_psi):\n",
    "    return 0"
   ]
  },
  {
   "cell_type": "code",
   "execution_count": null,
   "metadata": {},
   "outputs": [],
   "source": [
    "def d2G_dpsiddy(xy, psi, del_psi):\n",
    "    return 0"
   ]
  },
  {
   "cell_type": "code",
   "execution_count": null,
   "metadata": {},
   "outputs": [],
   "source": [
    "d2G_dpsi_ddel_psif = (d2G_dpsiddx, d2G_dpsiddy)"
   ]
  },
  {
   "cell_type": "markdown",
   "metadata": {},
   "source": [
    "\\begin{equation}\n",
    "\\frac {\\partial^2 G} { \\partial \\left ( \\frac {\\partial \\psi} {\\partial x} \\right )^2} = 0\n",
    "\\end{equation}"
   ]
  },
  {
   "cell_type": "markdown",
   "metadata": {},
   "source": [
    "\\begin{equation}\n",
    "\\frac {\\partial^2 G} { \\partial \\left ( \\frac {\\partial \\psi} {\\partial y} \\right )^2} = 0\n",
    "\\end{equation}"
   ]
  },
  {
   "cell_type": "code",
   "execution_count": null,
   "metadata": {},
   "outputs": [],
   "source": [
    "def d2G_ddx2f(xy, psi, del_psi):\n",
    "    return 0"
   ]
  },
  {
   "cell_type": "code",
   "execution_count": null,
   "metadata": {},
   "outputs": [],
   "source": [
    "def d2G_ddy2f(xy, psi, del_psi):\n",
    "    return 0"
   ]
  },
  {
   "cell_type": "code",
   "execution_count": null,
   "metadata": {},
   "outputs": [],
   "source": [
    "d2G_ddel_psi2f = (d2G_ddx2f, d2G_ddy2f)"
   ]
  },
  {
   "cell_type": "markdown",
   "metadata": {},
   "source": [
    "The boundary condition functions and their required derivatives are:"
   ]
  },
  {
   "cell_type": "markdown",
   "metadata": {},
   "source": [
    "\\begin{equation}\n",
    "f_0(y)=0\n",
    "\\end{equation}"
   ]
  },
  {
   "cell_type": "markdown",
   "metadata": {},
   "source": [
    "\\begin{equation}\n",
    "g_0(x)=0\n",
    "\\end{equation}"
   ]
  },
  {
   "cell_type": "code",
   "execution_count": null,
   "metadata": {},
   "outputs": [],
   "source": [
    "def f0f(y):\n",
    "    return 0"
   ]
  },
  {
   "cell_type": "code",
   "execution_count": null,
   "metadata": {},
   "outputs": [],
   "source": [
    "def g0f(x):\n",
    "    return 0"
   ]
  },
  {
   "cell_type": "code",
   "execution_count": null,
   "metadata": {},
   "outputs": [],
   "source": [
    "bcf = (f0f,g0f)"
   ]
  },
  {
   "cell_type": "markdown",
   "metadata": {},
   "source": [
    "\\begin{equation}\n",
    "\\frac {\\partial f_0} {\\partial y} = 0\n",
    "\\end{equation}"
   ]
  },
  {
   "cell_type": "markdown",
   "metadata": {},
   "source": [
    "\\begin{equation}\n",
    "\\frac {\\partial g_0} {\\partial x} = 0\n",
    "\\end{equation}"
   ]
  },
  {
   "cell_type": "code",
   "execution_count": null,
   "metadata": {},
   "outputs": [],
   "source": [
    "def df0_dyf(y):\n",
    "    return 0"
   ]
  },
  {
   "cell_type": "code",
   "execution_count": null,
   "metadata": {},
   "outputs": [],
   "source": [
    "def dg0_dxf(x):\n",
    "    return 0"
   ]
  },
  {
   "cell_type": "code",
   "execution_count": null,
   "metadata": {},
   "outputs": [],
   "source": [
    "bcdf = (df0_dyf, dg0_dxf)"
   ]
  },
  {
   "cell_type": "markdown",
   "metadata": {},
   "source": [
    "Now that we have the forms for all of these derivatives and boundary conditions, we can create the training points. Use an evenly-spaced grid of 25 points."
   ]
  },
  {
   "cell_type": "code",
   "execution_count": null,
   "metadata": {},
   "outputs": [],
   "source": [
    "nxy = 5\n",
    "dxy = 1 / nxy\n",
    "x = np.zeros((nxy**2, 2))\n",
    "for j in range(nxy):\n",
    "    for i in range(nxy):\n",
    "        k = j * nxy + i\n",
    "        x[k][0] = i * dxy\n",
    "        x[k][1] = j * dxy"
   ]
  },
  {
   "cell_type": "markdown",
   "metadata": {},
   "source": [
    "Call the function which solves the ODE. Use 10 nodes in the hidden layer, and 1000 training epochs, a learning rate of 0.01, and activate verbose output."
   ]
  },
  {
   "cell_type": "code",
   "execution_count": null,
   "metadata": {},
   "outputs": [],
   "source": [
    "from nnpde1 import nnpde1\n",
    "(psit,del_psi) = nnpde1(\n",
    "        Gf,             # 2-variable, 1st-order PDE IVP to solve\n",
    "        bcf,            # BC functions\n",
    "        bcdf,           # BC function derivatives\n",
    "        dG_dpsif,       # Partial of G wrt psi\n",
    "        del_Gf,         # Gradient of G\n",
    "        dG_ddel_psif,   # Partials of G wrt del psi\n",
    "        d2G_dpsi2f,     # 2nd partial wrt psi\n",
    "        d2G_ddel_psi_dpsif, # Cross-partials\n",
    "        d2G_dpsi_ddel_psif, # Cross-partials\n",
    "        d2G_ddel_psi2f, # 2nd partial wrt del psi\n",
    "        x,              # Training points as pairs\n",
    "        nhid = 10,      # Node count in hidden layer\n",
    "        maxepochs = 1000, # Max training epochs\n",
    "        eta = 0.01,     # Learning rate\n",
    "        debug = False,\n",
    "        verbose = True\n",
    "    )"
   ]
  },
  {
   "cell_type": "markdown",
   "metadata": {},
   "source": [
    "Compare the computed values with the analytical values."
   ]
  },
  {
   "cell_type": "code",
   "execution_count": null,
   "metadata": {},
   "outputs": [],
   "source": [
    "def psiaf(xy):\n",
    "    (x, y) = xy\n",
    "    return x * y"
   ]
  },
  {
   "cell_type": "code",
   "execution_count": null,
   "metadata": {},
   "outputs": [],
   "source": [
    "def dpsia_dxf(xy):\n",
    "    (x, y) = xy\n",
    "    return y"
   ]
  },
  {
   "cell_type": "code",
   "execution_count": null,
   "metadata": {},
   "outputs": [],
   "source": [
    "def dpsia_dyf(xy):\n",
    "    (x, y) = xy\n",
    "    return x"
   ]
  },
  {
   "cell_type": "code",
   "execution_count": null,
   "metadata": {},
   "outputs": [],
   "source": [
    "del_psiaf = ( dpsia_dxf, dpsia_dyf )"
   ]
  },
  {
   "cell_type": "code",
   "execution_count": null,
   "metadata": {},
   "outputs": [],
   "source": [
    "psia = np.zeros(len(x))\n",
    "for i in range(len(x)):\n",
    "    psia[i] = psiaf(x[i])"
   ]
  },
  {
   "cell_type": "code",
   "execution_count": null,
   "metadata": {},
   "outputs": [],
   "source": [
    "del_psia = np.zeros((len(x), len(x[1])))\n",
    "for i in range(len(x)):\n",
    "    for j in range(len(x[0])):\n",
    "        del_psia[i][j] = del_psiaf[j](x[i])"
   ]
  },
  {
   "cell_type": "markdown",
   "metadata": {},
   "source": [
    "Compute the RMS error of the computed solution and its partial derivatives."
   ]
  },
  {
   "cell_type": "code",
   "execution_count": null,
   "metadata": {},
   "outputs": [],
   "source": [
    "from math import sqrt\n",
    "psi_err = psit - psia\n",
    "rmse_psi = sqrt(sum(psi_err**2) / len(x))"
   ]
  },
  {
   "cell_type": "code",
   "execution_count": null,
   "metadata": {},
   "outputs": [],
   "source": [
    "del_psi_err = del_psi - del_psia\n",
    "rmse_del_psi = np.zeros(len(x[0]))\n",
    "e2sum = np.zeros(len(x[0]))\n",
    "for j in range(len(x[0])):\n",
    "    for i in range(len(x)):\n",
    "        e2sum[j] += del_psi_err[i][j]**2\n",
    "    rmse_del_psi[j] = sqrt(e2sum[j] / len(x))"
   ]
  },
  {
   "cell_type": "markdown",
   "metadata": {},
   "source": [
    "Compare the results."
   ]
  },
  {
   "cell_type": "code",
   "execution_count": null,
   "metadata": {},
   "outputs": [],
   "source": [
    "print('    x        y      psia     psit   dpsia_dx dpsia_dy dpsit_dx dpsit_dy')\n",
    "for i in range(len(psia)):\n",
    "    print('%.6f %.6f %.6f %.6f %.6f %.6f %.6f %.6f' %\n",
    "          (x[i][0], x[i][1],\n",
    "           psia[i], psit[i],\n",
    "           del_psia[i][0], del_psi[i][0],\n",
    "           del_psia[i][1], del_psi[i][1])\n",
    "        )\n",
    "print('RMSE      %f          %f     %f' % \n",
    "      (rmse_psi, rmse_del_psi[0], rmse_del_psi[1]))"
   ]
  },
  {
   "cell_type": "code",
   "execution_count": null,
   "metadata": {},
   "outputs": [],
   "source": []
  }
 ],
 "metadata": {
  "kernelspec": {
   "display_name": "Python 3",
   "language": "python",
   "name": "python3"
  },
  "language_info": {
   "codemirror_mode": {
    "name": "ipython",
    "version": 3
   },
   "file_extension": ".py",
   "mimetype": "text/x-python",
   "name": "python",
   "nbconvert_exporter": "python",
   "pygments_lexer": "ipython3",
   "version": "3.6.4"
  }
 },
 "nbformat": 4,
 "nbformat_minor": 2
}

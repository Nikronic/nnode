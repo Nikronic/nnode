{
 "cells": [
  {
   "cell_type": "markdown",
   "metadata": {},
   "source": [
    "## Setup"
   ]
  },
  {
   "cell_type": "code",
   "execution_count": 2,
   "metadata": {},
   "outputs": [
    {
     "data": {
      "application/javascript": [
       "MathJax.Hub.Config({\n",
       "      TeX: { equationNumbers: { autoNumber: \"AMS\" } }\n",
       "    });MathJax.Hub.Queue(\n",
       "  [\"resetEquationNumbers\", MathJax.InputJax.TeX],\n",
       "  [\"PreProcess\", MathJax.Hub],\n",
       "  [\"Reprocess\", MathJax.Hub]\n",
       ");\n",
       "MathJax.Hub.Queue(\n",
       "  [\"resetEquationNumbers\", MathJax.InputJax.TeX],\n",
       "  [\"PreProcess\", MathJax.Hub],\n",
       "  [\"Reprocess\", MathJax.Hub]\n",
       ");"
      ],
      "text/plain": [
       "<IPython.core.display.Javascript object>"
      ]
     },
     "metadata": {},
     "output_type": "display_data"
    }
   ],
   "source": [
    "%%javascript\n",
    "MathJax.Hub.Config({\n",
    "      TeX: { equationNumbers: { autoNumber: \"AMS\" } }\n",
    "    });MathJax.Hub.Queue(\n",
    "  [\"resetEquationNumbers\", MathJax.InputJax.TeX],\n",
    "  [\"PreProcess\", MathJax.Hub],\n",
    "  [\"Reprocess\", MathJax.Hub]\n",
    ");\n",
    "MathJax.Hub.Queue(\n",
    "  [\"resetEquationNumbers\", MathJax.InputJax.TeX],\n",
    "  [\"PreProcess\", MathJax.Hub],\n",
    "  [\"Reprocess\", MathJax.Hub]\n",
    ");"
   ]
  },
  {
   "cell_type": "code",
   "execution_count": 3,
   "metadata": {},
   "outputs": [],
   "source": [
    "from math import exp\n",
    "from mpl_toolkits.mplot3d import Axes3D\n",
    "import matplotlib.pyplot as plt\n",
    "%matplotlib inline\n",
    "import numpy as np"
   ]
  },
  {
   "cell_type": "markdown",
   "metadata": {},
   "source": [
    "# Introduction"
   ]
  },
  {
   "cell_type": "markdown",
   "metadata": {},
   "source": [
    "This notebook will demonstrate how to use the code in the `nnpde1.py` module. The module allows the user to solve an arbitrary 1st-order partial differential equation (PDE) with two variables, and Dirichlet initial conditions, using a single-hidden layer neural network."
   ]
  },
  {
   "cell_type": "markdown",
   "metadata": {},
   "source": [
    "This work is based on the paper [\"Artificial Neural Networks for Solving Ordinary and Partial Differential Equations\", by Lagaris et al, *IEEE Transactions on Neural Networks, Volume 9, No. 5*, September 1998](http://ieeexplore.ieee.org/document/712178/). Note that the notation used in this notebook and the associated Python code differs slightly from that used in the Lagaris paper."
   ]
  },
  {
   "cell_type": "markdown",
   "metadata": {},
   "source": [
    "## The algorithm"
   ]
  },
  {
   "cell_type": "markdown",
   "metadata": {},
   "source": [
    "Consider an $m$-dimensional space containing vectors $\\vec x = (x_1,x_2,...,x_m)$. Any 1st-order PDE for the scalar function $\\psi(\\vec x)$ can be written in the form:"
   ]
  },
  {
   "cell_type": "markdown",
   "metadata": {},
   "source": [
    "\\begin{equation}\n",
    "G(\\vec x,\\psi,\\vec \\nabla \\psi) = 0\n",
    "\\end{equation}"
   ]
  },
  {
   "cell_type": "markdown",
   "metadata": {},
   "source": [
    "The problem is to find a suitable solution to the PDE using a neural network."
   ]
  },
  {
   "cell_type": "markdown",
   "metadata": {},
   "source": [
    "The network is trained using a set of $n$ training points $\\vec x_i$ ($1 \\leq i \\leq n$). This work assumes that the vectors $\\vec x_i$ have been scaled so that each component $x_{ij} \\in [0,\\infty)$, $1 \\leq j \\leq m$. The training points need not be evenly-spaced. Note that only the independent variable vectors $\\vec x_i$  of the training points are needed - the estimated value of the solution at the training points is obtained using a trial solution of the form:"
   ]
  },
  {
   "cell_type": "markdown",
   "metadata": {},
   "source": [
    "\\begin{equation}\n",
    "\\psi_t(\\vec x_i,\\vec p) = A(\\vec x_i) + P(\\vec x_i) N(\\vec x_i,\\vec p)\n",
    "\\end{equation}"
   ]
  },
  {
   "cell_type": "markdown",
   "metadata": {},
   "source": [
    "or:"
   ]
  },
  {
   "cell_type": "markdown",
   "metadata": {},
   "source": [
    "\\begin{equation}\n",
    "\\psi_{ti} = A_i + P_i N_i\n",
    "\\end{equation}"
   ]
  },
  {
   "cell_type": "markdown",
   "metadata": {},
   "source": [
    "where $\\psi_{ti}$ is the value of the trial solution at the current training point $\\vec x_i$, $A_i$ is a function which yields the initial conditions at the origin of each dimension, $P_i$ is a function which vanishes at the origin of each dimension, and $N_i$ is the floating-point single-valued output from an unspecified neural network with network parameters $\\vec p$. Note that this trial solution satisfies the boundary conditions by construction - at any boundary, the second term vanishes, leaving $\\psi_t(\\vec x_i, \\vec p_i)=A(\\vec x_i)$, which is just the specified boundary condition on that boundary. The PDE is assumed to have been preprocessed so that the boundary conditions lie at the origin. For a 2-variable PDE, this condition is represented by:"
   ]
  },
  {
   "cell_type": "markdown",
   "metadata": {},
   "source": [
    "\\begin{equation}\n",
    "\\psi_t(0,y,\\vec p) = f_0(y)\n",
    "\\end{equation}"
   ]
  },
  {
   "cell_type": "markdown",
   "metadata": {},
   "source": [
    "\\begin{equation}\n",
    "\\psi_t(x,0,\\vec p) = g_0(x)\n",
    "\\end{equation}"
   ]
  },
  {
   "cell_type": "markdown",
   "metadata": {},
   "source": [
    "The analytical forms of $A(\\vec x_i)$ and $P(\\vec x_i)$ are then constructed to meet these requirements, and noting that, by continuity at the origin, $f_0(0)=g_0(0)$:"
   ]
  },
  {
   "cell_type": "markdown",
   "metadata": {},
   "source": [
    "\\begin{equation}\n",
    "A(x,y) = (1-x)f_0(y) + (1-y)(g_0(x) - (1-x)g_0(0))\n",
    "\\end{equation}"
   ]
  },
  {
   "cell_type": "markdown",
   "metadata": {},
   "source": [
    "\\begin{equation}\n",
    "P(x,y) = x(1-x)y(1-y) = \\prod_{j=1}^m x_{ij}(1-x_{ij})\n",
    "\\end{equation}"
   ]
  },
  {
   "cell_type": "markdown",
   "metadata": {},
   "source": [
    "Training is done in a set of *epochs*. A training epoch consists of presenting the neural network with each of the $n$ training points $\\vec x_i$, one at a time. For each input point $\\vec x_i$, the network output $N_i$ is computed. Once all $n$ points have been presented, the epoch is complete, and the error function $E$ is computed. The problem definition provides an analytical form for the error function, as the sum of squared errors (SSE) for each of the training points:"
   ]
  },
  {
   "cell_type": "markdown",
   "metadata": {},
   "source": [
    "\\begin{equation}\n",
    "E = \\sum_{i=1}^{n} \\left( G(\\vec x_i,\\psi_{ti}, \\vec \\nabla \\psi_{ti}) \\right)^2 =\n",
    "\\sum_{i=1}^{n} G_i^2\n",
    "\\end{equation}"
   ]
  },
  {
   "cell_type": "markdown",
   "metadata": {},
   "source": [
    "Once this error function is computed, the parameters in the neural network are adjusted to reduce the error. Eventually, a minimum of $E$ is attained, and the resulting final form of $\\psi_t(x)$ is used as the solution to the original PDE."
   ]
  },
  {
   "cell_type": "markdown",
   "metadata": {},
   "source": [
    "## Computing the network output $N_i$"
   ]
  },
  {
   "cell_type": "markdown",
   "metadata": {},
   "source": [
    "The neural network used in this work has a simple structure. One input node for each component of $\\vec x_i$ is used (for a total of $m$ input nodes) to provide the training data. Each input node is fully-connected to each of a set of $H$ hidden nodes, each using a sigmoid transfer function. Each hidden node is connected to the single output node, which uses a linear transfer function with a weight for the signal from each hidden node."
   ]
  },
  {
   "cell_type": "markdown",
   "metadata": {},
   "source": [
    "During each step of a training epoch, the input to the network is just the training point $\\vec x_i$. Each input node $j$ receives one component $x_{ij}$, and emits that value as output. These outputs are sent to each of the $H$ hidden nodes. At each hidden node $k$, the input values $x_{ij}$ are combined and scaled by the equation:"
   ]
  },
  {
   "cell_type": "markdown",
   "metadata": {},
   "source": [
    "\\begin{equation}\n",
    "z_{ik} = \\sum_{j=1}^m w_{jk} x_{ij} + u_k\n",
    "\\end{equation}"
   ]
  },
  {
   "cell_type": "markdown",
   "metadata": {},
   "source": [
    "where  $w_{jk}$ is the weight for input node $j$ at hidden node $k$, and $u_k$ is the bias at hidden node $k$. This combined value is then used as the input to a sigmoidal transfer function:"
   ]
  },
  {
   "cell_type": "markdown",
   "metadata": {},
   "source": [
    "\\begin{equation}\n",
    "\\sigma_{ik} = \\sigma(z_{ik})\n",
    "\\end{equation}"
   ]
  },
  {
   "cell_type": "markdown",
   "metadata": {},
   "source": [
    "where:"
   ]
  },
  {
   "cell_type": "markdown",
   "metadata": {},
   "source": [
    "\\begin{equation}\n",
    "\\sigma(z) = \\frac {1}{1+e^{-z}}\n",
    "\\end{equation}"
   ]
  },
  {
   "cell_type": "markdown",
   "metadata": {},
   "source": [
    "A plot of this transfer function and its first three derivatives is provided below."
   ]
  },
  {
   "cell_type": "code",
   "execution_count": 4,
   "metadata": {},
   "outputs": [
    {
     "data": {
      "image/png": "[encoded data removed]",
      "text/plain": [
       "<matplotlib.figure.Figure at 0x112ae9748>"
      ]
     },
     "metadata": {},
     "output_type": "display_data"
    }
   ],
   "source": [
    "def sigma(z):\n",
    "    return 1 / (1 + exp(-z))\n",
    "\n",
    "def dsigma_dz(z):\n",
    "    return exp(-z) / (1 + exp(-z))**2\n",
    "\n",
    "def d2sigma_dz2(z):\n",
    "    return (\n",
    "        2 * exp(-2 * z) / (1 + exp(-z))**3 - exp(-z) / (1 + exp(-z))**2\n",
    "    )\n",
    "\n",
    "def d3sigma_dz3(z):\n",
    "    return (\n",
    "        6 * exp(-3 * z) / (1 + exp(-z))**4\n",
    "        - 6 * exp(-2 * z) / (1 + exp(-z))**3\n",
    "        + exp(-z) / (1 + exp(-z))**2\n",
    "    )\n",
    "\n",
    "z = np.arange(-5, 5, 0.01)\n",
    "n = len(z)\n",
    "s = np.zeros(n)\n",
    "ds_dz = np.zeros(n)\n",
    "d2s_dz2 = np.zeros(n)\n",
    "d3s_dz3 = np.zeros(n)\n",
    "for i in range(n):\n",
    "    s[i] = sigma(z[i])\n",
    "    ds_dz[i] = dsigma_dz(z[i])\n",
    "    d2s_dz2[i] = d2sigma_dz2(z[i])\n",
    "    d3s_dz3[i] = d3sigma_dz3(z[i])\n",
    "plt.plot(z,s,label = \"$\\sigma(z)$\")\n",
    "plt.plot(z,ds_dz,label = \"$d\\sigma/dz$\")\n",
    "plt.plot(z,d2s_dz2, label = \"$d^2\\sigma/dz^2$\")\n",
    "plt.plot(z,d3s_dz3, label = \"$d^3\\sigma/dz^3$\");\n",
    "plt.xlabel(\"z\")\n",
    "plt.ylabel(\"$\\sigma(z)$ or derivative\")\n",
    "plt.title(\"Figure 1: The $\\sigma$-function and its first three derivatives\")\n",
    "plt.legend();"
   ]
  },
  {
   "cell_type": "markdown",
   "metadata": {},
   "source": [
    "Once the $\\sigma_{ik}$ are computed, they are all passed to the single output node, where they are processed by a linear transfer function to create the network output for the current input point $\\vec x_i$:"
   ]
  },
  {
   "cell_type": "markdown",
   "metadata": {},
   "source": [
    "\\begin{equation}\n",
    "N_i = \\sum_{k=1}^{H}v_k\\sigma_{ik}\n",
    "\\end{equation}"
   ]
  },
  {
   "cell_type": "markdown",
   "metadata": {},
   "source": [
    "where $v_k$ is the weight applied to the output from hidden node $k$ at the output node. Once $N_i$ has been computed, the trial function $\\psi_{ti}$ is computed. To compute the value of $G_i$ (and thus $E$), we also need the gradient of the trial function $\\vec \\nabla \\psi_{ti}$."
   ]
  },
  {
   "cell_type": "markdown",
   "metadata": {},
   "source": [
    "\\begin{equation}\n",
    "\\vec \\nabla \\psi_{ti} = \\vec \\nabla (A_i + P_i N_i)\n",
    "\\end{equation}"
   ]
  },
  {
   "cell_type": "markdown",
   "metadata": {},
   "source": [
    "Each component $j$ of this gradient may be written as:"
   ]
  },
  {
   "cell_type": "markdown",
   "metadata": {},
   "source": [
    "\\begin{equation}\n",
    "\\frac {\\partial \\psi_{ti}}{\\partial x_{ij}} =\n",
    "\\frac {\\partial A_i}{\\partial x_{ij}} + P_i \\frac {\\partial N_i}{\\partial x_{ij}} + \\frac {\\partial P_i}{\\partial x_{ij}} N_i\n",
    "\\end{equation}"
   ]
  },
  {
   "cell_type": "markdown",
   "metadata": {},
   "source": [
    "The derivatives of $A_i$ and $P_i$ with respect to $x_{ij}$ are computed $\\it a \\ priori$ from their known analytical forms, which may vary based on the problem under investigation. The values of the network output derivatives $\\frac {\\partial N_i}{\\partial x_{ij}}$ are computed analytically using the known form of the network and its weights and biases."
   ]
  },
  {
   "cell_type": "markdown",
   "metadata": {},
   "source": [
    "\\begin{equation}\n",
    "\\frac {\\partial N_i}{\\partial x_{ij}} =\n",
    "\\frac {\\partial}{\\partial x_{ij}} \\sum_{k=1}^{H} v_k \\sigma_{ik} =\n",
    "\\sum_{k=1}^{H} v_k \\frac {\\partial \\sigma_{ik}}{\\partial x_{ij}} =\n",
    "\\sum_{k=1}^{H} v_k \\frac {\\partial \\sigma_{ik}}{\\partial z_{ik}} \\frac {\\partial z_{ik}}{\\partial x_{ij}} = \\sum_{k=1}^{H} v_k w_{jk} \\sigma_{ik}^{(1)}\n",
    "\\end{equation}"
   ]
  },
  {
   "cell_type": "markdown",
   "metadata": {},
   "source": [
    "where the derivatives of $\\sigma$ are given by:"
   ]
  },
  {
   "cell_type": "markdown",
   "metadata": {},
   "source": [
    "\\begin{equation}\n",
    "\\sigma^{(k)} = \\frac {d^k \\sigma}{dz^k}\n",
    "\\end{equation}"
   ]
  },
  {
   "cell_type": "markdown",
   "metadata": {},
   "source": [
    "With the values of $\\psi_{ti}$ and $\\vec \\nabla \\psi_{ti}$, we can now compute the values of $G_i$, and then the error function $E$ for the current epoch."
   ]
  },
  {
   "cell_type": "markdown",
   "metadata": {},
   "source": [
    "## Updating the network parameters"
   ]
  },
  {
   "cell_type": "markdown",
   "metadata": {},
   "source": [
    "The network parameters are the weights and biases of the hidden and output nodes. For an $m$-dimensional input point $\\vec x_i$, and a set of $H$ hidden nodes, we have a total of $N_p = (m+2)H$ parameters in total: a weight for each $x_{ij}$ for each hidden node, a bias for each hidden node, and an output weight for each hidden node."
   ]
  },
  {
   "cell_type": "markdown",
   "metadata": {},
   "source": [
    "Since the objective function to minimize is the error $E$, the value of each network parameter $p_{jk}$ (where $p_{jk}$ represents $v_k$, $u_k$, or $w_{jk}$) is updated using a scaled Newton's method:"
   ]
  },
  {
   "cell_type": "markdown",
   "metadata": {},
   "source": [
    "\\begin{equation}\n",
    "p_{jk,new}=p_{jk} - \\eta \\frac {\\frac {\\partial E}{\\partial {p_{jk}}}} {\\frac {\\partial^2 E}{\\partial {p_{jk}^2}}}\n",
    "\\end{equation}"
   ]
  },
  {
   "cell_type": "markdown",
   "metadata": {},
   "source": [
    "where $\\eta$ is the *learning rate* (usually $\\eta < 1$). The learning rate is used to reduce the chance of solution instability due to large values of the correction factor in Newton's method. The derivatives of $E$ are computed using the known form of $G_i$, the network, and the network parameters."
   ]
  },
  {
   "cell_type": "markdown",
   "metadata": {},
   "source": [
    "This process of parameter updates is repeated until the specified maximum number of training epochs has been applied. Note that the same set of training points is presented during each epoch."
   ]
  },
  {
   "cell_type": "markdown",
   "metadata": {},
   "source": [
    "## Computing the derivatives of $E$"
   ]
  },
  {
   "cell_type": "markdown",
   "metadata": {},
   "source": [
    "The partial derivatives of $E$ with respect to any network parameter $p_{jk}$ is given by:"
   ]
  },
  {
   "cell_type": "markdown",
   "metadata": {},
   "source": [
    "\\begin{equation}\n",
    "\\frac {\\partial E}{\\partial p_{jk}} =\n",
    "2 \\sum_{i=1}^n G_i \\frac {\\partial G_i}{\\partial p_{jk}}\n",
    "\\end{equation}"
   ]
  },
  {
   "cell_type": "markdown",
   "metadata": {},
   "source": [
    "\\begin{equation}\n",
    "\\frac {\\partial^2 E}{\\partial p_{jk}^2} =\n",
    "2 \\sum_{i=1}^n \\left[G_i \\frac {\\partial^2 G_i}{\\partial p_{jk}^2} + \\left(\\frac {\\partial G_i}{\\partial p_{jk}} \\right)^2 \\right]\n",
    "\\end{equation}"
   ]
  },
  {
   "cell_type": "markdown",
   "metadata": {},
   "source": [
    "## Computing the derivatives of $G_i$"
   ]
  },
  {
   "cell_type": "markdown",
   "metadata": {},
   "source": [
    "The partial derivatives of $G_i$ with respect to $x_{ij}$, $\\psi_{ti}$, and $\\frac {\\partial \\psi_{ti}} {\\partial x_{ij}}$ are determined $\\it a\\ priori$ from the analytical form of $G$. Note also that $\\frac {\\partial x_{ij}} {\\partial p_{hk}} = 0$. The remaining partial derivatives of $G_i$ are:"
   ]
  },
  {
   "cell_type": "markdown",
   "metadata": {},
   "source": [
    "\\begin{equation}\n",
    "\\frac {d G_i} {d x_{ij}} = \\\n",
    "\\frac {\\partial G_i} {\\partial x_{ij}} + \\\n",
    "\\frac {\\partial G_i} {\\partial \\psi_{ti}} \\frac {\\partial \\psi_{ti}} {\\partial x_{ij}} + \\\n",
    "\\sum_{l=1}^m \\frac {\\partial G_i} {\\partial \\left( \\frac {\\partial \\psi_{ti}} {\\partial x_{il}} \\right)} \\\n",
    "\\frac {\\partial^2 \\psi_{ti}} {\\partial x_{ij} \\partial x_{il}}\n",
    "\\end{equation}"
   ]
  },
  {
   "cell_type": "markdown",
   "metadata": {},
   "source": [
    "\\begin{equation}\n",
    "\\frac {d^2 G_i} {d x_{ij}^2} = \n",
    "\\frac {\\partial^2 G_i} {\\partial x_{ij}^2} + \\\n",
    "\\frac {\\partial G_i} {\\partial \\psi_{ti}} \\frac {\\partial^2 \\psi_{ti}} {\\partial x_{ij}^2} +\n",
    "\\frac {\\partial^2 G_i} {\\partial x_{ij} \\partial \\psi_{ti}} \\frac {\\partial \\psi_{ti}} {\\partial x_{ij}} +\n",
    "\\sum_{l=1}^m \\left( \\frac {\\partial G_i} {\\partial \\left( \\frac {\\partial \\psi_{ti}} {\\partial x_{il}} \\right)} \\\n",
    "\\frac {\\partial^3 \\psi_{ti}} {\\partial x_{ij}^2 \\partial x_{il}} + \\\n",
    "\\frac {\\partial^2 G_i} {\\partial x_{ij} \\partial \\left( \\frac {\\partial \\psi_{ti}} {\\partial x_{il}} \\right)} \\\n",
    "\\frac {\\partial^2 \\psi_{ti}} {\\partial x_{ij} \\partial x_{il}} \\right)\n",
    "\\end{equation}"
   ]
  },
  {
   "cell_type": "markdown",
   "metadata": {},
   "source": [
    "\\begin{equation}\n",
    "\\frac {\\partial G_i}{\\partial p_{jk}} =\n",
    "\\frac {\\partial G_i}{\\partial \\psi_{ti}} \\frac {\\partial \\psi_{ti}}{\\partial p_{jk}} +\n",
    "\\sum_{l=1}^m \\frac {\\partial G_i}{\\partial \\left(\\frac {\\partial \\psi_{ti}}{\\partial x_{il}}\\right)}\n",
    "\\frac {\\partial^2 \\psi_{ti}}{\\partial p_{jk} \\partial x_{il}}\n",
    "\\end{equation}"
   ]
  },
  {
   "cell_type": "markdown",
   "metadata": {},
   "source": [
    "\\begin{equation}\n",
    "\\frac {\\partial^2 G_i}{\\partial p_{jk}^2} =\n",
    "\\frac {\\partial G_i}{\\partial \\psi_{ti}}\n",
    "\\frac {\\partial^2 \\psi_{ti}}{\\partial p_{jk}^2} +\n",
    "\\frac {\\partial^2 G_i}{\\partial \\psi_{ti}^2} \\left(\\frac {\\partial \\psi_{ti}}{\\partial p_{jk}}\\right)^2 +\n",
    "\\sum_{l=1}^m \\left( \\frac {\\partial G_i}{\\partial \\left(\\frac {\\partial \\psi_{ti}}{\\partial x_{il}}\\right)} \\frac {\\partial^3 \\psi_{ti}}{\\partial p_{jk}^2 \\partial x_{il}} +\n",
    "\\frac {\\partial^2 G_i}{\\partial \\left(\\frac {\\partial \\psi_{ti}}{\\partial x_{il}}\\right)^2 } \\left(\\frac {\\partial^2 \\psi_{ti}}{\\partial p_{jk} \\partial x_{il}} \\right)^2 \\right)\n",
    "\\end{equation}"
   ]
  },
  {
   "cell_type": "markdown",
   "metadata": {},
   "source": [
    "## Computing the derivatives of $\\psi_{ti}$"
   ]
  },
  {
   "cell_type": "markdown",
   "metadata": {},
   "source": [
    " The derivatives of the trial solution $\\psi_{t}$ are given by:"
   ]
  },
  {
   "cell_type": "markdown",
   "metadata": {},
   "source": [
    "\\begin{equation}\n",
    "\\frac {\\partial \\psi_{ti}} {\\partial x_{ij}} = \\\n",
    "\\frac {\\partial A_i} {\\partial x_{ij}} + P_i \\frac {\\partial N_i} {\\partial x_{ij}} + \\\n",
    "\\frac {\\partial P_i} {\\partial x_{ij}} N_i\n",
    "\\end{equation}"
   ]
  },
  {
   "cell_type": "markdown",
   "metadata": {},
   "source": [
    "\\begin{equation}\n",
    "\\frac {\\partial^2 \\psi_{ti}} {\\partial x_{ih} \\partial x_{ij}} = \\\n",
    "\\frac {\\partial^2 A_i} {\\partial x_{ih} \\partial x_{ij}} + \\\n",
    "P_i \\frac {\\partial^2 N_i} {\\partial x_{ih} \\partial x_{ij}} + \\\n",
    "\\frac {\\partial P_i} {\\partial x_{ih}} \\frac {\\partial N_i} {\\partial x_{ij}} + \\\n",
    "\\frac {\\partial P_i} {\\partial x_{ij}} \\frac {\\partial N_i} {\\partial x_{ih}} + \\\n",
    "\\frac {\\partial^2 P_i} {\\partial x_{ih} \\partial x_{ij}} N_i\n",
    "\\end{equation}"
   ]
  },
  {
   "cell_type": "markdown",
   "metadata": {},
   "source": [
    "\\begin{equation}\n",
    "\\frac {\\partial \\psi_{ti}} {\\partial p_{jk}} = \\\n",
    "P_i \\frac {\\partial N_i} {\\partial p_{jk}}\n",
    "\\end{equation}"
   ]
  },
  {
   "cell_type": "markdown",
   "metadata": {},
   "source": [
    "\\begin{equation}\n",
    "\\frac {\\partial^2 \\psi_{ti}} {\\partial p_{jk}^2} = \\\n",
    "P_i \\frac {\\partial^2 N_i} {\\partial p_{jk}^2}\n",
    "\\end{equation}"
   ]
  },
  {
   "cell_type": "markdown",
   "metadata": {},
   "source": [
    "\\begin{equation}\n",
    "\\frac {\\partial^2 \\psi_{ti}} {\\partial p_{hk} \\partial x_{ij}} = \\\n",
    "P_i \\frac {\\partial^2 N_i} {\\partial p_{hk} \\partial x_{ij}} + \\\n",
    "\\frac {\\partial P_i} {\\partial x_{ij}} \\frac {\\partial N_i} {\\partial p_{hk}}\n",
    "\\end{equation}"
   ]
  },
  {
   "cell_type": "markdown",
   "metadata": {},
   "source": [
    "\\begin{equation}\n",
    "\\frac {\\partial^3 \\psi_{ti}} {\\partial p_{hk}^2 \\partial x_{ij}} = \\\n",
    "P_i \\frac {\\partial^3 N_i} {\\partial p_{hk}^2 \\partial x_{ij}} + \\\n",
    "\\frac {\\partial P_i} {\\partial x_{ij}} \\frac {\\partial^2 N_i} {\\partial p_{hk}^2}\n",
    "\\end{equation}"
   ]
  },
  {
   "cell_type": "markdown",
   "metadata": {},
   "source": [
    "Note that $A_i$ and $P_i$ are independent of the network parameters $p_{jk}$."
   ]
  },
  {
   "cell_type": "markdown",
   "metadata": {},
   "source": [
    "## Computing the derivatives of $N_i$"
   ]
  },
  {
   "cell_type": "markdown",
   "metadata": {},
   "source": [
    "The partial derivatives of $N_i$ are:"
   ]
  },
  {
   "cell_type": "markdown",
   "metadata": {},
   "source": [
    "\\begin{equation}\n",
    "\\frac {\\partial N_i} {\\partial x_{ij}} = \\sum_{k=1}^H v_k \\sigma_{ik}^{(1)} w_{jk}\n",
    "\\end{equation}"
   ]
  },
  {
   "cell_type": "markdown",
   "metadata": {},
   "source": [
    "\\begin{equation}\n",
    "\\frac {\\partial^2 N_i} {\\partial x_{ij}^2} = \\sum_{k=1}^H v_k \\sigma_{ik}^{(1)} w_{jk}^2\n",
    "\\end{equation}"
   ]
  },
  {
   "cell_type": "markdown",
   "metadata": {},
   "source": [
    "\\begin{equation}\n",
    "\\frac {\\partial N_i}{\\partial p_{jk}} =\n",
    "\\sum_{l=1}^H \\left( v_l \\sigma_{il}^{(1)} \\frac {\\partial z_{il}}{\\partial p_{jk}} + \\frac {\\partial v_l}{\\partial p_{jk}} \\sigma_{il} \\right)\n",
    "\\end{equation}"
   ]
  },
  {
   "cell_type": "markdown",
   "metadata": {},
   "source": [
    "\\begin{equation}\n",
    "\\frac {\\partial^2 N_i}{\\partial p_{jk}^2} =\n",
    "\\sum_{l=1}^H \\left(\n",
    "v_l \\sigma_{il}^{(1)} \\frac {\\partial^2 z_{il}}{\\partial p_{jk}^2} +\n",
    "v_l \\sigma_{il}^{(2)} \\left( \\frac {\\partial z_{il}}{\\partial p_{jk}} \\right)^2 +\n",
    "2 \\frac {\\partial v_l}{\\partial p_{jk}} \\sigma_{il}^{(1)} \\frac {\\partial z_{il}}{\\partial p_{jk}} +\n",
    "\\frac {\\partial^2 v_l}{\\partial p_{jk}^2} \\sigma_{il}\n",
    "\\right)\n",
    "\\end{equation}"
   ]
  },
  {
   "cell_type": "markdown",
   "metadata": {},
   "source": [
    "\\begin{equation}\n",
    "\\frac {\\partial^2 N_i}{\\partial p_{hk} \\partial x_{ij}} =\n",
    "\\sum_{l=1}^{H} \\left(\n",
    "v_l \\sigma_{il}^{(1)} \\frac {\\partial w_{jl}} {\\partial p_{hk}} + \\\n",
    "v_k \\sigma_{il}^{(2)} \\frac {\\partial z_{il}} {\\partial p_{hk}} w_{jl} + \\\n",
    "\\frac {\\partial v_l} {\\partial p_{hk}} \\sigma_{il}^{(1)} w_{jl}\n",
    "\\right)\n",
    "\\end{equation}"
   ]
  },
  {
   "cell_type": "markdown",
   "metadata": {},
   "source": [
    "\\begin{equation}\n",
    "\\frac {\\partial^3 N_i}{\\partial p_{hk}^2 \\partial x_i} =\n",
    "\\sum_{l=1}^H\n",
    "\\left(\n",
    "v_l \\sigma_{il}^{(1)} \\frac {\\partial^2 w_{jl}} {\\partial p_{hk}^2} +\n",
    "v_l \\sigma_{il}^{(2)} \\frac {\\partial z_{il}} {\\partial p_{hk}} \\frac {\\partial w_{jl}} {\\partial p_{hk}} +\n",
    "\\frac {\\partial v_l} {\\partial p_{hk}} \\sigma_{il}^{(1)} \\frac {\\partial w_{jl}} {\\partial p_{hk}} +\n",
    "v_l \\sigma_{il}^{(2)} \\frac {\\partial z_{il}} {\\partial p_{hk}} \\frac {\\partial w_{jl}} {\\partial p_{hk}} +\n",
    "v_l \\sigma_{il}^{(2)} \\frac {\\partial^2 z_{il}} {\\partial p_{hk}^2} w_{jl} +\n",
    "v_l \\sigma_{il}^{(3)} \\left( \\frac {\\partial z_{il}} {\\partial p_{hk}} \\right)^2 w_{jl} +\n",
    "\\frac {\\partial v_l} {\\partial p_{hk}} \\sigma_{il}^{(2)} \\frac {\\partial z_{il}} {\\partial p_{hk}} w_{jl} +\n",
    "\\frac {\\partial v_l} {\\partial p_{hk}} \\sigma_{il}^{(1)} \\frac {\\partial w_{jl}} {\\partial p_{hk}} +\n",
    "\\frac {\\partial v_l} {\\partial p_{hk}} \\sigma_{il}^{(2)} \\frac {\\partial z_{il}} {\\partial p_{hk}} w_{jl} +\n",
    "\\frac {\\partial^2 v_l} {\\partial p_{hk}^2} \\sigma_{il}^{(1)} w_{jl}\n",
    "\\right)\n",
    "\\end{equation}"
   ]
  },
  {
   "cell_type": "markdown",
   "metadata": {},
   "source": [
    "Most of these expressions can now be simplified using the following relations between the network parameters ($*$ means any index or combination of indices):"
   ]
  },
  {
   "cell_type": "markdown",
   "metadata": {},
   "source": [
    "\\begin{equation}\n",
    "\\frac {\\partial v_k}{\\partial v_l} = \\delta_{kl},\n",
    "\\frac {\\partial v_k}{\\partial w_*} = \\frac {\\partial v_k}{\\partial u_*} = 0,\n",
    "\\frac {\\partial^2 v_k}{\\partial p_*^2} = 0\n",
    "\\end{equation}\n"
   ]
  },
  {
   "cell_type": "markdown",
   "metadata": {},
   "source": [
    "\\begin{equation}\n",
    "\\frac {\\partial w_{jk}}{\\partial w_{hl}} = \\delta_{jh} \\delta_{kl},\n",
    "\\frac {\\partial w_{jk}}{\\partial v_*} = \\frac {\\partial w_{jk}}{\\partial u_*} = 0,\n",
    "\\frac {\\partial^2 w_{jk}}{\\partial p_*^2} = 0\n",
    "\\end{equation}"
   ]
  },
  {
   "cell_type": "markdown",
   "metadata": {},
   "source": [
    "\\begin{equation}\n",
    "\\frac {\\partial u_k}{\\partial u_l} = \\delta_{kl},\n",
    "\\frac {\\partial u_k}{\\partial v_*} = \\frac {\\partial u_k}{\\partial w_*} = 0,\n",
    "\\frac {\\partial^2 u_k}{\\partial p_*^2} = 0\n",
    "\\end{equation}"
   ]
  },
  {
   "cell_type": "markdown",
   "metadata": {},
   "source": [
    "\\begin{equation}\n",
    "\\frac {\\partial z_{ik}}{\\partial v_*} = 0,\n",
    "\\frac {\\partial z_{ik}}{\\partial w_{jl}} = x_{ij} \\delta_{kl},\n",
    "\\frac {\\partial z_{ik}}{\\partial u_{jl}} = \\delta_{ij} \\delta_{kl},\n",
    "\\end{equation}"
   ]
  },
  {
   "cell_type": "markdown",
   "metadata": {},
   "source": [
    "\\begin{equation}\n",
    "\\frac {\\partial z_{ik}}{\\partial u_l} = \\delta_{kl}\n",
    "\\end{equation}"
   ]
  },
  {
   "cell_type": "markdown",
   "metadata": {},
   "source": [
    "\\begin{equation}\n",
    "\\frac {\\partial z_{ik}}{\\partial w_{jl}} = x_{ij} \\delta_{ij} \\delta_{kl}\n",
    "\\end{equation}"
   ]
  },
  {
   "cell_type": "markdown",
   "metadata": {},
   "source": [
    "# Walking through an example problem"
   ]
  },
  {
   "cell_type": "markdown",
   "metadata": {},
   "source": [
    "Consider the simple 1st-order partial differential equation:"
   ]
  },
  {
   "cell_type": "markdown",
   "metadata": {},
   "source": [
    "\\begin{equation}\n",
    "G(\\vec x, \\psi, \\vec \\nabla \\psi) = \\frac {\\partial \\psi}{\\partial x} \\frac {\\partial \\psi} {\\partial y} - xy = 0\n",
    "\\end{equation}"
   ]
  },
  {
   "cell_type": "markdown",
   "metadata": {},
   "source": [
    "The analytical solution to this PDE is:"
   ]
  },
  {
   "cell_type": "markdown",
   "metadata": {},
   "source": [
    "\\begin{equation}\n",
    "\\psi(x,y) = xy\n",
    "\\end{equation}"
   ]
  },
  {
   "cell_type": "markdown",
   "metadata": {},
   "source": [
    "This function is plotted in the following figure:"
   ]
  },
  {
   "cell_type": "code",
   "execution_count": 5,
   "metadata": {},
   "outputs": [
    {
     "data": {
      "image/png": "[encoded data removed]",
      "text/plain": [
       "<matplotlib.figure.Figure at 0x1130b8668>"
      ]
     },
     "metadata": {},
     "output_type": "display_data"
    }
   ],
   "source": [
    "fig = plt.figure()\n",
    "ax = fig.gca(projection = '3d')\n",
    "x = np.linspace(0,1,101)\n",
    "y = np.linspace(0,1,101)\n",
    "x,y = np.meshgrid(x,y)\n",
    "psi = x*y\n",
    "z = psi.reshape(x.shape)\n",
    "surf = ax.plot_surface(x, y, z)"
   ]
  }
 ],
 "metadata": {
  "kernelspec": {
   "display_name": "Python 3",
   "language": "python",
   "name": "python3"
  },
  "language_info": {
   "codemirror_mode": {
    "name": "ipython",
    "version": 3
   },
   "file_extension": ".py",
   "mimetype": "text/x-python",
   "name": "python",
   "nbconvert_exporter": "python",
   "pygments_lexer": "ipython3",
   "version": "3.6.3"
  }
 },
 "nbformat": 4,
 "nbformat_minor": 2
}

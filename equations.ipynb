{
 "cells": [
  {
   "cell_type": "markdown",
   "metadata": {},
   "source": [
    "\\begin{equation*}\n",
    "\\frac {dy}{dx} + x y = x\n",
    "\\end{equation*}"
   ]
  },
  {
   "cell_type": "markdown",
   "metadata": {},
   "source": [
    "\\begin{equation*}\n",
    "y(x) = 1 + e^{-x^2/2}\n",
    "\\end{equation*}"
   ]
  },
  {
   "cell_type": "markdown",
   "metadata": {},
   "source": [
    "\\begin{equation*}\n",
    "\\frac {dy}{dt} = f(x,y)\n",
    "\\end{equation*}"
   ]
  },
  {
   "cell_type": "markdown",
   "metadata": {},
   "source": [
    "\\begin{equation*}\n",
    "p_{j,new}=p_j - \\frac {\\frac {\\partial E}{\\partial {p_j}}} {\\frac {\\partial^2 E}{\\partial {p_j^2}}}\n",
    "\\end{equation*}"
   ]
  },
  {
   "cell_type": "markdown",
   "metadata": {
    "collapsed": true
   },
   "source": [
    "\\begin{equation*}\n",
    "E = \\sum_{j=1}^{n}(\\frac{dy_{ti}}{dx_i}-f_i)^2\n",
    "\\end{equation*}"
   ]
  },
  {
   "cell_type": "markdown",
   "metadata": {},
   "source": [
    "\\begin{equation*}\n",
    "y_{ti} = A + xN_i\n",
    "\\end{equation*}"
   ]
  },
  {
   "cell_type": "markdown",
   "metadata": {},
   "source": [
    "\\begin{equation*}\n",
    "\\frac{dy_{ti}}{dx_i} = x_i \\frac {\\partial N_i}{\\partial x_i} + N_i\n",
    "\\end{equation*}"
   ]
  },
  {
   "cell_type": "markdown",
   "metadata": {},
   "source": [
    "\\begin{equation*}\n",
    "N_i = \\sum_{j=1}^{H}v_j\\sigma_{ij}\n",
    "\\end{equation*}"
   ]
  },
  {
   "cell_type": "markdown",
   "metadata": {},
   "source": [
    "\\begin{equation*}\n",
    "\\frac {\\partial N_i}{\\partial x_i} = \\sum_{j=1}^{H} v_jw_j\\sigma_{ij}^{(1)}\n",
    "\\end{equation*}"
   ]
  },
  {
   "cell_type": "markdown",
   "metadata": {},
   "source": [
    "\\begin{equation*}\n",
    "\\sigma_{ij} = \\sigma(z_{ij})\n",
    "\\end{equation*}"
   ]
  },
  {
   "cell_type": "markdown",
   "metadata": {},
   "source": [
    "\\begin{equation*}\n",
    "\\sigma(z) = \\frac {1}{1+e^{-z}}\n",
    "\\end{equation*}"
   ]
  },
  {
   "cell_type": "markdown",
   "metadata": {},
   "source": [
    "\\begin{equation*}\n",
    "\\sigma^{(k)} = \\frac {d^k \\sigma}{dz^k}\n",
    "\\end{equation*}"
   ]
  },
  {
   "cell_type": "markdown",
   "metadata": {},
   "source": [
    "\\begin{equation*}\n",
    "z_{ij} = w_jx_i + u_j\n",
    "\\end{equation*}"
   ]
  },
  {
   "cell_type": "markdown",
   "metadata": {},
   "source": [
    "\\begin{equation*}\n",
    "\\frac {\\partial E}{\\partial p_j} = 2 \\sum_{i=1}^n (\\frac {\\partial y_{ti}}{\\partial x_i} - f_i)(\\frac {\\partial^2 y_{ti}}{\\partial p_j \\partial x_i} - \\frac {\\partial f_i}{\\partial p_j})\n",
    "\\end{equation*}"
   ]
  },
  {
   "cell_type": "markdown",
   "metadata": {},
   "source": [
    "\\begin{equation*}\n",
    "\\frac {\\partial^2 E}{\\partial p_j^2} = 2 \\sum_{i=1}^n [(\\frac {\\partial y_{ti}}{\\partial x_i} - f_i)(\\frac {\\partial^3 y_{ti}}{\\partial p_j^2 \\partial x_i} - \\frac {\\partial^2 f_i}{\\partial p_j^2}) + (\\frac {\\partial^2 y_{ti}}{\\partial p_j \\partial x_i} - \\frac {\\partial f_i}{\\partial p_j})^2]\n",
    "\\end{equation*}"
   ]
  },
  {
   "cell_type": "markdown",
   "metadata": {},
   "source": [
    "\\begin{equation*}\n",
    "\\frac{\\partial f_i}{\\partial p_j} = \\frac{\\partial f_i}{\\partial y_{ti}} \\frac{\\partial y_{ti}}{\\partial p_j}\n",
    "\\end{equation*}"
   ]
  },
  {
   "cell_type": "markdown",
   "metadata": {},
   "source": [
    "\\begin{equation*}\n",
    "\\frac{\\partial^2 f_i}{\\partial p_j^2} = \\frac{\\partial f_i}{\\partial y_{ti}} \\frac{\\partial^2 y_{ti}}{\\partial p_j^2} + \\frac{\\partial^2 f_i}{\\partial y_{ti}^2} (\\frac{\\partial^2 y_{ti}}{\\partial p_j^2})^2\n",
    "\\end{equation*}"
   ]
  },
  {
   "cell_type": "markdown",
   "metadata": {},
   "source": [
    "\\begin{equation*}\n",
    "\\frac {\\partial y_t}{\\partial p_j} = \\frac {\\partial}{\\partial p_j} (A + x N_i) = x \\frac {\\partial N_i}{\\partial p_j}\n",
    "\\end{equation*}"
   ]
  },
  {
   "cell_type": "markdown",
   "metadata": {},
   "source": [
    "\\begin{equation*}\n",
    "\\frac {\\partial^2 y_{ti}}{\\partial p_j^2} = x \\frac {\\partial^2 N_i}{\\partial p_j^2}\n",
    "\\end{equation*}"
   ]
  },
  {
   "cell_type": "markdown",
   "metadata": {},
   "source": [
    "\\begin{equation*}\n",
    "\\frac {\\partial^2 y_{ti}}{\\partial p_j \\partial x_i} = \\frac {\\partial}{\\partial p_j} (x_i \\frac {\\partial N_i}{\\partial x_i} + N_i) = x_i \\frac {\\partial^2 N_i}{\\partial p_j \\partial x_i} + \\frac {\\partial N_i}{\\partial p_j}\n",
    "\\end{equation*}"
   ]
  },
  {
   "cell_type": "markdown",
   "metadata": {},
   "source": [
    "\\begin{equation*}\n",
    "\\frac {\\partial^3 y_{ti}}{\\partial p_j^2 \\partial x_i} = x_i \\frac {\\partial^3 N_i}{\\partial p_j^2 \\partial x_i} + \\frac {\\partial^2 N_i}{\\partial p_j^2}\n",
    "\\end{equation*}"
   ]
  },
  {
   "cell_type": "markdown",
   "metadata": {},
   "source": [
    "\\begin{equation*}\n",
    "\\frac {\\partial N_i}{\\partial p_j} = \\frac {\\partial}{\\partial p_j} \\sum_{j=1}^H v_j \\sigma_{ij} = v_j \\frac {\\partial \\sigma_{ij}}{\\partial p_j} + \\frac {\\partial v_j}{\\partial p_j} \\sigma_{ij} = v_j \\sigma_{ij}^{(1)}\\frac {\\partial z_{ij}}{\\partial p_j} + \\frac {\\partial v_j}{\\partial p_j}\\sigma_{ij}\n",
    "\\end{equation*}"
   ]
  },
  {
   "cell_type": "markdown",
   "metadata": {},
   "source": [
    "\\begin{equation*}\n",
    "\\frac {\\partial^2 N_i}{\\partial p_j^2} = v_j \\sigma_{ij}^{(2)} (\\frac {\\partial z_{ij}}{\\partial p_j})^2 + \\frac {\\partial v_j}{\\partial p_j} \\sigma_{ij}^{(1)} \\frac {\\partial z_{ij}}{\\partial p_j} + \\frac {\\partial v_j}{\\partial p_j} \\sigma_{ij}^{(1)} \\frac {\\partial z_{ij}}{\\partial p_j} + \\frac {\\partial^2 v_j}{\\partial p_j^2} \\sigma_{ij}\n",
    "\\end{equation*}"
   ]
  },
  {
   "cell_type": "markdown",
   "metadata": {},
   "source": [
    "\\begin{equation*}\n",
    "\\frac {\\partial N_i}{\\partial x_i} = \\frac {\\partial}{\\partial x_i} \\sum_{j=1}^H v_j \\sigma_{ij} = \\sum_{j=1}^H v_j \\frac {\\partial \\sigma_{ij}}{\\partial z_{ij}} \\frac {\\partial z_{ij}}{\\partial x_i} = \\sum_{j=1}^H v_j w_j \\sigma_{ij}^{(1)}\n",
    "\\end{equation*}"
   ]
  },
  {
   "cell_type": "markdown",
   "metadata": {},
   "source": [
    "\\begin{equation*}\n",
    "\\frac {\\partial^2 N_i}{\\partial p_j \\partial x_i} = v_j w_j \\sigma_{ij}^{(2)} \\frac {\\partial z_{ij}}{\\partial p_j} + v_j \\frac {\\partial w_j}{\\partial p_j} \\sigma_{ij}^{(1)} + \\frac {\\partial v_j}{\\partial p_j} w_j \\sigma_{ij}^{(1)}\n",
    "\\end{equation*}"
   ]
  },
  {
   "cell_type": "markdown",
   "metadata": {},
   "source": [
    "\\begin{equation*}\n",
    "\\frac {\\partial v_j}{\\partial v_j} = 1\n",
    "\\end{equation*}"
   ]
  },
  {
   "cell_type": "markdown",
   "metadata": {},
   "source": [
    "\\begin{equation*}\n",
    "\\frac {\\partial v_j}{\\partial u_j} = 0\n",
    "\\end{equation*}"
   ]
  },
  {
   "cell_type": "markdown",
   "metadata": {},
   "source": [
    "\\begin{equation*}\n",
    "\\frac {\\partial v_j}{\\partial w_j} = 0\n",
    "\\end{equation*}"
   ]
  },
  {
   "cell_type": "markdown",
   "metadata": {},
   "source": [
    "\\begin{equation*}\n",
    "\\frac {\\partial u_j}{\\partial v_j} = 0\n",
    "\\end{equation*}"
   ]
  },
  {
   "cell_type": "markdown",
   "metadata": {},
   "source": [
    "\\begin{equation*}\n",
    "\\frac {\\partial u_j}{\\partial u_j} = 1\n",
    "\\end{equation*}"
   ]
  },
  {
   "cell_type": "markdown",
   "metadata": {},
   "source": [
    "\\begin{equation*}\n",
    "\\frac {\\partial u_j}{\\partial w_j} = 0\n",
    "\\end{equation*}"
   ]
  },
  {
   "cell_type": "markdown",
   "metadata": {},
   "source": [
    "\\begin{equation*}\n",
    "\\frac {\\partial w_j}{\\partial v_j} = 0\n",
    "\\end{equation*}"
   ]
  },
  {
   "cell_type": "markdown",
   "metadata": {},
   "source": [
    "\\begin{equation*}\n",
    "\\frac {\\partial w_j}{\\partial u_j} = 0\n",
    "\\end{equation*}"
   ]
  },
  {
   "cell_type": "markdown",
   "metadata": {},
   "source": [
    "\\begin{equation*}\n",
    "\\frac {\\partial w_j}{\\partial w_j} = 1\n",
    "\\end{equation*}"
   ]
  },
  {
   "cell_type": "markdown",
   "metadata": {},
   "source": []
  },
  {
   "cell_type": "markdown",
   "metadata": {},
   "source": [
    "\\begin{equation*}\n",
    "\\end{equation*}"
   ]
  }
 ],
 "metadata": {
  "kernelspec": {
   "display_name": "Python 3",
   "language": "python",
   "name": "python3"
  },
  "language_info": {
   "codemirror_mode": {
    "name": "ipython",
    "version": 3
   },
   "file_extension": ".py",
   "mimetype": "text/x-python",
   "name": "python",
   "nbconvert_exporter": "python",
   "pygments_lexer": "ipython3",
   "version": "3.6.3"
  }
 },
 "nbformat": 4,
 "nbformat_minor": 2
}

{
 "cells": [
  {
   "cell_type": "code",
   "execution_count": 1,
   "metadata": {},
   "outputs": [],
   "source": [
    "import matplotlib.pyplot as plt\n",
    "%matplotlib inline\n",
    "import numpy as np\n",
    "import scipy"
   ]
  },
  {
   "cell_type": "code",
   "execution_count": 2,
   "metadata": {},
   "outputs": [
    {
     "data": {
      "text/plain": [
       "'1.1.0'"
      ]
     },
     "execution_count": 2,
     "metadata": {},
     "output_type": "execute_result"
    }
   ],
   "source": [
    "scipy.__version__"
   ]
  },
  {
   "cell_type": "markdown",
   "metadata": {},
   "source": [
    "# `minimize()`"
   ]
  },
  {
   "cell_type": "markdown",
   "metadata": {},
   "source": [
    "This is used to minimize a scalar function of 1 or more variables, and is what I will probably use in my neural network training code."
   ]
  },
  {
   "cell_type": "markdown",
   "metadata": {},
   "source": [
    "## Calling signature"
   ]
  },
  {
   "cell_type": "markdown",
   "metadata": {},
   "source": [
    "`res = scipy.optimize.minimize(fun, x0, args=(), method=None, jac=None, hess=None, hessp=None, bounds=None, constraints=(), tol=None, callback=None, options=None)`"
   ]
  },
  {
   "cell_type": "markdown",
   "metadata": {},
   "source": [
    "`f` is the function to minimize, called as `f(x,*args)->float`."
   ]
  },
  {
   "cell_type": "markdown",
   "metadata": {},
   "source": [
    "`x0` is the `ndarray` of the starting guess vector."
   ]
  },
  {
   "cell_type": "markdown",
   "metadata": {},
   "source": [
    "`args` is a tuple of additional arguments to the function (see above)."
   ]
  },
  {
   "cell_type": "markdown",
   "metadata": {},
   "source": [
    "`method` is the method to use, one of: 'Nelder-Mead', 'Powell', 'CG', 'BFGS', 'Newton-CG', 'L-BFGS-B', 'TNC', 'COBYLA', 'SLSQP', 'trust-constr', 'dogleg', 'trust-ncg', 'trust-exact', 'trust-krylov', or a callable object. The default is `BFGS`, `L-BFGS-B`, or `SLSQP`, depending on whether or not the problem has constraints, or is bounded."
   ]
  },
  {
   "cell_type": "markdown",
   "metadata": {},
   "source": [
    "`jac` is a method for computing the gradient (Jacobian) vector. Only used for `CG`, `BFGS`, `Newton-CG`, `L-BFGS-B`, `TNC`, `SLSQP`, `dogleg`, `trust-ncg`, `trust-krylov`, `trust-exact`, `trust-constr`. Can also be a finite difference specifier for numerical gradient estimation: `2-point`, `3-point` (only for `trust-constr`), `cs` (ditto). If `jac` is `True`, the code assumes the objective function also returns the gradient. If `False`, `2-point` is used."
   ]
  },
  {
   "cell_type": "markdown",
   "metadata": {},
   "source": [
    "`hess` is a method for computing the Hessian (2nd partials) matrix. Only used by `Newton-CG`, `dogleg`, `trust-ncg`, `trust-krylov`, `trust-exact`, `trust-constr`. If callable, should return Hessian matrix (see docs). `2-point`, `3-point`, and `cs` can also be used for finite difference Hessian estimation for `trust-constr`. Or use a callable object that implements the `HessianUpdateStrategy` interface. If `jac` use finite differences, `hess` must use a quasi-Newton method (`BFGS` or `SR1`)."
   ]
  },
  {
   "cell_type": "markdown",
   "metadata": {},
   "source": [
    "`hessp` is the Hessian times an arbitrary vector `p`, for `Newton-CG`, `trust-ncg`, `trust-krylov`, `trust-constr`. Only need one of `hess` or `hessp`; other is ignored."
   ]
  },
  {
   "cell_type": "markdown",
   "metadata": {},
   "source": [
    "`bounds` is a sequence of bounds on variables for `L-BFGS-B`, `TNC`, `SLSQP`, `trust-constr`. Can be a `Bounds` object, or a sequence of `(min,max)` pairs. Use `None` for no bounds."
   ]
  },
  {
   "cell_type": "markdown",
   "metadata": {},
   "source": [
    "`constraints` is a dictionary of constraints, or a list of dictionaries. Only used for `COBYLA`, `SLSQP`, `trust-constr`. See docs for details."
   ]
  },
  {
   "cell_type": "markdown",
   "metadata": {},
   "source": [
    "`tol` is the termination tolerance."
   ]
  },
  {
   "cell_type": "markdown",
   "metadata": {},
   "source": [
    "`options` is a dictionary of solver options, such as `maxiter` and `disp`."
   ]
  },
  {
   "cell_type": "markdown",
   "metadata": {},
   "source": [
    "`callback` is a function called after each iteration. For most methods, it is `callback(xk)` where `xk` is the current parameter vector. For `trust-constr`, it is `callback(xk, OptimizeResult state)->bool`."
   ]
  },
  {
   "cell_type": "markdown",
   "metadata": {},
   "source": [
    "*res* is an `OptimizeResult` object. The important attributes are: `x` - the solution array, `success` - a Boolean indicating a solution was found, and `message` - a string indicating the cause of the termination."
   ]
  },
  {
   "cell_type": "code",
   "execution_count": 4,
   "metadata": {},
   "outputs": [],
   "source": [
    "from scipy.optimize import minimize, rosen, rosen_der"
   ]
  },
  {
   "cell_type": "code",
   "execution_count": 5,
   "metadata": {},
   "outputs": [
    {
     "data": {
      "text/plain": [
       "array([1.00000002, 1.00000002, 1.00000007, 1.00000015, 1.00000028])"
      ]
     },
     "execution_count": 5,
     "metadata": {},
     "output_type": "execute_result"
    }
   ],
   "source": [
    "x0 = [1.3, 0.7, 0.8, 1.9, 1.2]\n",
    "res = minimize(rosen, x0, method='Nelder-Mead', tol=1e-6)\n",
    "res.x"
   ]
  },
  {
   "cell_type": "code",
   "execution_count": 6,
   "metadata": {},
   "outputs": [
    {
     "name": "stdout",
     "output_type": "stream",
     "text": [
      "Optimization terminated successfully.\n",
      "         Current function value: 0.000000\n",
      "         Iterations: 26\n",
      "         Function evaluations: 31\n",
      "         Gradient evaluations: 31\n"
     ]
    },
    {
     "data": {
      "text/plain": [
       "array([1., 1., 1., 1., 1.])"
      ]
     },
     "execution_count": 6,
     "metadata": {},
     "output_type": "execute_result"
    }
   ],
   "source": [
    "res = minimize(rosen, x0, method='BFGS', jac=rosen_der, options={'gtol': 1e-6, 'disp': True})\n",
    "res.x"
   ]
  },
  {
   "cell_type": "code",
   "execution_count": 7,
   "metadata": {},
   "outputs": [
    {
     "data": {
      "text/plain": [
       "['fun',\n",
       " 'hess_inv',\n",
       " 'jac',\n",
       " 'message',\n",
       " 'nfev',\n",
       " 'nit',\n",
       " 'njev',\n",
       " 'status',\n",
       " 'success',\n",
       " 'x']"
      ]
     },
     "execution_count": 7,
     "metadata": {},
     "output_type": "execute_result"
    }
   ],
   "source": [
    "dir(res)"
   ]
  },
  {
   "cell_type": "markdown",
   "metadata": {},
   "source": [
    "Now try some constraints."
   ]
  },
  {
   "cell_type": "code",
   "execution_count": 12,
   "metadata": {},
   "outputs": [
    {
     "name": "stdout",
     "output_type": "stream",
     "text": [
      "Optimization terminated successfully.    (Exit mode 0)\n",
      "            Current function value: 0.8000000011920985\n",
      "            Iterations: 3\n",
      "            Function evaluations: 13\n",
      "            Gradient evaluations: 3\n"
     ]
    },
    {
     "data": {
      "text/plain": [
       "array([1.4, 1.7])"
      ]
     },
     "execution_count": 12,
     "metadata": {},
     "output_type": "execute_result"
    }
   ],
   "source": [
    "fun = lambda x: (x[0] - 1)**2 + (x[1] - 2.5)**2\n",
    "cons = ({'type':'ineq', 'fun': lambda x: x[0] - 2 * x[1] + 2},\n",
    "        {'type':'ineq', 'fun': lambda x: -x[0] - 2 * x[1] + 6},\n",
    "        {'type':'ineq', 'fun': lambda x: -x[0] + 2 * x[1] + 2})\n",
    "bnds = ((0, None), (0, None))  # All positives\n",
    "res = minimize(fun, (2,0), method='SLSQP', bounds=bnds, constraints=cons, options={'disp':True})\n",
    "res.x"
   ]
  },
  {
   "cell_type": "code",
   "execution_count": null,
   "metadata": {},
   "outputs": [],
   "source": []
  }
 ],
 "metadata": {
  "kernelspec": {
   "display_name": "Python 3",
   "language": "python",
   "name": "python3"
  },
  "language_info": {
   "codemirror_mode": {
    "name": "ipython",
    "version": 3
   },
   "file_extension": ".py",
   "mimetype": "text/x-python",
   "name": "python",
   "nbconvert_exporter": "python",
   "pygments_lexer": "ipython3",
   "version": "3.6.6"
  }
 },
 "nbformat": 4,
 "nbformat_minor": 2
}

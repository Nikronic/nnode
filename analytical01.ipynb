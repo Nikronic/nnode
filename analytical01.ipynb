{
 "cells": [
  {
   "cell_type": "code",
   "execution_count": 1,
   "metadata": {
    "collapsed": true
   },
   "outputs": [],
   "source": [
    "import math as m\n",
    "import matplotlib.pyplot as plt\n",
    "%matplotlib inline\n",
    "import numpy as np"
   ]
  },
  {
   "cell_type": "code",
   "execution_count": 2,
   "metadata": {
    "collapsed": true
   },
   "outputs": [],
   "source": [
    "def ya(x):\n",
    "    return x**2 + m.exp(-x**2 / 2) / (1 + x + x**3)\n",
    "\n",
    "def dyadx(x):\n",
    "    return (\n",
    "        2 * x - m.exp(-x**2 / 2)\n",
    "        * (1 + x + 4 * x**2 + x**4)\n",
    "        / (1 + x + x**3)**2\n",
    "    )\n",
    "\n",
    "def d2yadx2(x):\n",
    "    return (\n",
    "        2 + m.exp(-x**2 / 2)\n",
    "        * (1 + x * (-6 + x * (8 + x * (6 + x * (19 + x * (2 + 7 * x + x**3))))))\n",
    "        / (1 + x + x**3)**3\n",
    "    )"
   ]
  },
  {
   "cell_type": "code",
   "execution_count": 3,
   "metadata": {},
   "outputs": [],
   "source": [
    "x = np.arange(-1, 1, 0.01)\n",
    "n = len(x)\n",
    "y = np.zeros(n)\n",
    "dy_dx = np.zeros(n)\n",
    "d2y_dx2 = np.zeros(n)"
   ]
  },
  {
   "cell_type": "code",
   "execution_count": 4,
   "metadata": {},
   "outputs": [],
   "source": [
    "for i in range(n):\n",
    "    y[i] = ya(x[i])\n",
    "    dy_dx[i] = dyadx(x[i])\n",
    "    d2y_dx2[i] = d2yadx2(x[i])"
   ]
  },
  {
   "cell_type": "code",
   "execution_count": 5,
   "metadata": {},
   "outputs": [
    {
     "data": {
      "text/plain": [
       "(-15, 15)"
      ]
     },
     "execution_count": 5,
     "metadata": {},
     "output_type": "execute_result"
    },
    {
     "data": {
      "image/png": "[encoded data removed]",
      "text/plain": [
       "<matplotlib.figure.Figure at 0x10f045ac8>"
      ]
     },
     "metadata": {},
     "output_type": "display_data"
    }
   ],
   "source": [
    "plt.plot(x, y)\n",
    "plt.plot(x, dy_dx)\n",
    "plt.plot(x, d2y_dx2)\n",
    "axes = plt.gca()\n",
    "axes.set_ylim([-15, 15])"
   ]
  },
  {
   "cell_type": "code",
   "execution_count": null,
   "metadata": {
    "collapsed": true
   },
   "outputs": [],
   "source": []
  }
 ],
 "metadata": {
  "kernelspec": {
   "display_name": "Python 3",
   "language": "python",
   "name": "python3"
  },
  "language_info": {
   "codemirror_mode": {
    "name": "ipython",
    "version": 3
   },
   "file_extension": ".py",
   "mimetype": "text/x-python",
   "name": "python",
   "nbconvert_exporter": "python",
   "pygments_lexer": "ipython3",
   "version": "3.6.2"
  }
 },
 "nbformat": 4,
 "nbformat_minor": 2
}

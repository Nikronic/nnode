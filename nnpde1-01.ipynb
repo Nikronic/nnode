{
 "cells": [
  {
   "cell_type": "markdown",
   "metadata": {},
   "source": [
    "## Setup"
   ]
  },
  {
   "cell_type": "code",
   "execution_count": 1,
   "metadata": {},
   "outputs": [
    {
     "data": {
      "application/javascript": [
       "MathJax.Hub.Config({\n",
       "      TeX: { equationNumbers: { autoNumber: \"AMS\" } }\n",
       "    });MathJax.Hub.Queue(\n",
       "  [\"resetEquationNumbers\", MathJax.InputJax.TeX],\n",
       "  [\"PreProcess\", MathJax.Hub],\n",
       "  [\"Reprocess\", MathJax.Hub]\n",
       ");\n",
       "MathJax.Hub.Queue(\n",
       "  [\"resetEquationNumbers\", MathJax.InputJax.TeX],\n",
       "  [\"PreProcess\", MathJax.Hub],\n",
       "  [\"Reprocess\", MathJax.Hub]\n",
       ");"
      ],
      "text/plain": [
       "<IPython.core.display.Javascript object>"
      ]
     },
     "metadata": {},
     "output_type": "display_data"
    }
   ],
   "source": [
    "%%javascript\n",
    "MathJax.Hub.Config({\n",
    "      TeX: { equationNumbers: { autoNumber: \"AMS\" } }\n",
    "    });MathJax.Hub.Queue(\n",
    "  [\"resetEquationNumbers\", MathJax.InputJax.TeX],\n",
    "  [\"PreProcess\", MathJax.Hub],\n",
    "  [\"Reprocess\", MathJax.Hub]\n",
    ");\n",
    "MathJax.Hub.Queue(\n",
    "  [\"resetEquationNumbers\", MathJax.InputJax.TeX],\n",
    "  [\"PreProcess\", MathJax.Hub],\n",
    "  [\"Reprocess\", MathJax.Hub]\n",
    ");"
   ]
  },
  {
   "cell_type": "code",
   "execution_count": 2,
   "metadata": {},
   "outputs": [],
   "source": [
    "from math import exp\n",
    "from mpl_toolkits.mplot3d import Axes3D\n",
    "import matplotlib.pyplot as plt\n",
    "%matplotlib inline\n",
    "import numpy as np"
   ]
  },
  {
   "cell_type": "markdown",
   "metadata": {},
   "source": [
    "# Introduction"
   ]
  },
  {
   "cell_type": "markdown",
   "metadata": {},
   "source": [
    "This notebook will demonstrate how to use the code in the `nnpde1.py` module. The module allows the user to solve an arbitrary 1st-order partial differential equation (PDE) initial value problem (IVP) with two variables, and Dirichlet initial conditions, using a single-hidden layer neural network."
   ]
  },
  {
   "cell_type": "markdown",
   "metadata": {},
   "source": [
    "This work is based on the paper [\"Artificial Neural Networks for Solving Ordinary and Partial Differential Equations\", by Lagaris et al, *IEEE Transactions on Neural Networks, Volume 9, No. 5*, September 1998](http://ieeexplore.ieee.org/document/712178/). Note that the notation used in this notebook and the associated Python code differs slightly from that used in the Lagaris paper."
   ]
  },
  {
   "cell_type": "markdown",
   "metadata": {},
   "source": [
    "## The algorithm"
   ]
  },
  {
   "cell_type": "markdown",
   "metadata": {},
   "source": [
    "Consider an $m$-dimensional space containing vectors $\\vec x = (x_1,x_2,...,x_m)$. Any 1st-order PDE for the scalar function $\\psi(\\vec x)$ can be written in the form:"
   ]
  },
  {
   "cell_type": "markdown",
   "metadata": {},
   "source": [
    "\\begin{equation}\n",
    "G(\\vec x,\\psi,\\vec \\nabla \\psi) = 0\n",
    "\\end{equation}"
   ]
  },
  {
   "cell_type": "markdown",
   "metadata": {},
   "source": [
    "The problem is to find a suitable solution to the PDE using a neural network."
   ]
  },
  {
   "cell_type": "markdown",
   "metadata": {},
   "source": [
    "The network is trained using a set of $n$ training points $\\vec x_i$ ($1 \\leq i \\leq n$). This work assumes that the vectors $\\vec x_i$ have been scaled so that each component $x_{ij} \\in [0,1]$, $1 \\leq j \\leq m$. The training points need not be evenly-spaced. Note that only the independent variable vectors $\\vec x_i$  of the training points are needed - the estimated value of the solution at the training points is obtained using a trial solution $\\psi_t$ of the form:"
   ]
  },
  {
   "cell_type": "markdown",
   "metadata": {},
   "source": [
    "\\begin{equation}\n",
    "\\psi_t(\\vec x_i,\\vec p) = A(\\vec x_i) + P(\\vec x_i) N(\\vec x_i,\\vec p)\n",
    "\\end{equation}"
   ]
  },
  {
   "cell_type": "markdown",
   "metadata": {},
   "source": [
    "or:"
   ]
  },
  {
   "cell_type": "markdown",
   "metadata": {},
   "source": [
    "\\begin{equation}\n",
    "\\psi_{ti} = A_i + P_i N_i\n",
    "\\end{equation}"
   ]
  },
  {
   "cell_type": "markdown",
   "metadata": {},
   "source": [
    "where $\\psi_{ti}$ is the value of the trial solution at the current training point $\\vec x_i$, $A_i$ is a function which yields the initial conditions at the origin of each dimension, $P_i$ is a function which vanishes at the origin of each dimension, and $N_i$ is the floating-point single-valued output from an unspecified neural network with network parameters $\\vec p$. Note that this trial solution satisfies the boundary conditions by construction - at any boundary, the second term vanishes, leaving $\\psi_t(\\vec x_i, \\vec p_i)=A(\\vec x_i)$, which is just the specified boundary condition on that boundary. The PDE is assumed to have been preprocessed so that the boundary conditions lie at the origin. For a 2-variable PDE with independent variables $x$ and $y$, this condition is represented by:"
   ]
  },
  {
   "cell_type": "markdown",
   "metadata": {},
   "source": [
    "\\begin{equation}\n",
    "\\psi_t(0,y,\\vec p) = f_0(y)\n",
    "\\end{equation}"
   ]
  },
  {
   "cell_type": "markdown",
   "metadata": {},
   "source": [
    "\\begin{equation}\n",
    "\\psi_t(x,0,\\vec p) = g_0(x)\n",
    "\\end{equation}"
   ]
  },
  {
   "cell_type": "markdown",
   "metadata": {},
   "source": [
    "The analytical forms of $A(\\vec x_i)$ and $P(\\vec x_i)$ are constructed to meet these requirements, and noting that, by continuity at the origin, $f_0(0)=g_0(0)$. For a 2-variable PDE, we have:"
   ]
  },
  {
   "cell_type": "markdown",
   "metadata": {},
   "source": [
    "\\begin{equation}\n",
    "A(x,y) = (1-x)f_0(y) + (1-y)(g_0(x) - (1-x)g_0(0))\n",
    "\\end{equation}"
   ]
  },
  {
   "cell_type": "markdown",
   "metadata": {},
   "source": [
    "\\begin{equation}\n",
    "P(x,y) = xy\n",
    "\\end{equation}"
   ]
  },
  {
   "cell_type": "markdown",
   "metadata": {},
   "source": [
    "These functions rapidly become more complex as the number of problem dimensions is increased, so this example will utilize a 2-variable PDE. Training is done in a set of *epochs*. A training epoch consists of presenting the neural network with each of the $n$ training points $\\vec x_i$, one at a time. For each input point $\\vec x_i$, the network output $N_i$ is computed. Once all $n$ points have been presented, the epoch is complete, and the error function $E$ is computed. The problem definition provides an analytical form for the error function, as the sum of squared errors (SSE) for each of the training points:"
   ]
  },
  {
   "cell_type": "markdown",
   "metadata": {},
   "source": [
    "\\begin{equation}\n",
    "E = \\sum_{i=1}^{n} \\left( G(\\vec x_i,\\psi_{ti}, \\vec \\nabla \\psi_{ti}) \\right)^2 =\n",
    "\\sum_{i=1}^{n} G_i^2\n",
    "\\end{equation}"
   ]
  },
  {
   "cell_type": "markdown",
   "metadata": {},
   "source": [
    "Once this error function is computed, the parameters in the neural network are adjusted to reduce the error. Eventually, a minimum of $E$ is attained, and the resulting final form of $\\psi_t(x)$ is used as the solution to the original PDE."
   ]
  },
  {
   "cell_type": "markdown",
   "metadata": {},
   "source": [
    "## Computing the network output $N_i$"
   ]
  },
  {
   "cell_type": "markdown",
   "metadata": {},
   "source": [
    "The neural network used in this work has a simple structure. One input node for each component of $\\vec x_i$ is used (for a total of $m$ input nodes) to provide the training data. Each input node is fully-connected to each of a set of $H$ hidden nodes, each using a sigmoid transfer function. Each hidden node is connected to the single output node, which uses a linear transfer function with a weight for the signal from each hidden node."
   ]
  },
  {
   "cell_type": "markdown",
   "metadata": {},
   "source": [
    "During each step of a training epoch, the input to the network is just the training point $\\vec x_i$. Each input node $j$ receives one component $x_{ij}$, and emits that value as output. These outputs are sent to each of the $H$ hidden nodes. At each hidden node $k$, the input values $x_{ij}$ are combined and scaled by the equation:"
   ]
  },
  {
   "cell_type": "markdown",
   "metadata": {},
   "source": [
    "\\begin{equation}\n",
    "z_{ik} = \\sum_{j=1}^m w_{jk} x_{ij} + u_k\n",
    "\\end{equation}"
   ]
  },
  {
   "cell_type": "markdown",
   "metadata": {},
   "source": [
    "where  $w_{jk}$ is the weight for input node $j$ at hidden node $k$, and $u_k$ is the bias at hidden node $k$. This combined value is then used as the input to a sigmoidal transfer function:"
   ]
  },
  {
   "cell_type": "markdown",
   "metadata": {},
   "source": [
    "\\begin{equation}\n",
    "\\sigma_{ik} = \\sigma(z_{ik})\n",
    "\\end{equation}"
   ]
  },
  {
   "cell_type": "markdown",
   "metadata": {},
   "source": [
    "where:"
   ]
  },
  {
   "cell_type": "markdown",
   "metadata": {},
   "source": [
    "\\begin{equation}\n",
    "\\sigma(z) = \\frac {1}{1+e^{-z}}\n",
    "\\end{equation}"
   ]
  },
  {
   "cell_type": "markdown",
   "metadata": {},
   "source": [
    "A plot of this transfer function and its first three derivatives is provided below."
   ]
  },
  {
   "cell_type": "code",
   "execution_count": 3,
   "metadata": {},
   "outputs": [
    {
     "data": {
      "image/png": "[encoded data removed]",
      "text/plain": [
       "<Figure size 432x288 with 1 Axes>"
      ]
     },
     "metadata": {},
     "output_type": "display_data"
    }
   ],
   "source": [
    "def sigma(z):\n",
    "    return 1 / (1 + exp(-z))\n",
    "\n",
    "def dsigma_dz(z):\n",
    "    return exp(-z) / (1 + exp(-z))**2\n",
    "\n",
    "def d2sigma_dz2(z):\n",
    "    return (\n",
    "        2 * exp(-2 * z) / (1 + exp(-z))**3 - exp(-z) / (1 + exp(-z))**2\n",
    "    )\n",
    "\n",
    "def d3sigma_dz3(z):\n",
    "    return (\n",
    "        6 * exp(-3 * z) / (1 + exp(-z))**4\n",
    "        - 6 * exp(-2 * z) / (1 + exp(-z))**3\n",
    "        + exp(-z) / (1 + exp(-z))**2\n",
    "    )\n",
    "\n",
    "z = np.arange(-5, 5, 0.01)\n",
    "n = len(z)\n",
    "s = np.zeros(n)\n",
    "ds_dz = np.zeros(n)\n",
    "d2s_dz2 = np.zeros(n)\n",
    "d3s_dz3 = np.zeros(n)\n",
    "for i in range(n):\n",
    "    s[i] = sigma(z[i])\n",
    "    ds_dz[i] = dsigma_dz(z[i])\n",
    "    d2s_dz2[i] = d2sigma_dz2(z[i])\n",
    "    d3s_dz3[i] = d3sigma_dz3(z[i])\n",
    "plt.plot(z,s,label = \"$\\sigma(z)$\")\n",
    "plt.plot(z,ds_dz,label = \"$d\\sigma/dz$\")\n",
    "plt.plot(z,d2s_dz2, label = \"$d^2\\sigma/dz^2$\")\n",
    "plt.plot(z,d3s_dz3, label = \"$d^3\\sigma/dz^3$\");\n",
    "plt.xlabel(\"z\")\n",
    "plt.ylabel(\"$\\sigma(z)$ or derivative\")\n",
    "plt.title(\"Figure 1: The $\\sigma$-function and its first three derivatives\")\n",
    "plt.legend();"
   ]
  },
  {
   "cell_type": "markdown",
   "metadata": {},
   "source": [
    "Once the $\\sigma_{ik}$ are computed, they are all passed to the single output node, where they are processed by a linear transfer function to create the network output for the current input point $\\vec x_i$:"
   ]
  },
  {
   "cell_type": "markdown",
   "metadata": {},
   "source": [
    "\\begin{equation}\n",
    "N_i = \\sum_{k=1}^{H}v_k\\sigma_{ik}\n",
    "\\end{equation}"
   ]
  },
  {
   "cell_type": "markdown",
   "metadata": {},
   "source": [
    "where $v_k$ is the weight applied to the output from hidden node $k$ at the output node. Once $N_i$ has been computed, the trial function $\\psi_{ti}$ is computed. To compute the value of $G_i$ (and thus $E$), we also need the gradient of the trial function $\\vec \\nabla \\psi_{ti}$."
   ]
  },
  {
   "cell_type": "markdown",
   "metadata": {},
   "source": [
    "\\begin{equation}\n",
    "\\vec \\nabla \\psi_{ti} = \\vec \\nabla (A_i + P_i N_i)\n",
    "\\end{equation}"
   ]
  },
  {
   "cell_type": "markdown",
   "metadata": {},
   "source": [
    "Each component $j$ of this gradient may be written as:"
   ]
  },
  {
   "cell_type": "markdown",
   "metadata": {},
   "source": [
    "\\begin{equation}\n",
    "\\frac {\\partial \\psi_{ti}}{\\partial x_{ij}} =\n",
    "\\frac {\\partial A_i}{\\partial x_{ij}} + P_i \\frac {\\partial N_i}{\\partial x_{ij}} + \\frac {\\partial P_i}{\\partial x_{ij}} N_i\n",
    "\\end{equation}"
   ]
  },
  {
   "cell_type": "markdown",
   "metadata": {},
   "source": [
    "The functional forms of the derivatives of $A_i$ and $P_i$ with respect to $x_{ij}$ are computed $\\it a \\ priori$ from their known analytical forms, which may vary based on the problem under investigation. The values of the network output derivatives $\\frac {\\partial N_i}{\\partial x_{ij}}$ are computed analytically using the known form of the network and its weights and biases."
   ]
  },
  {
   "cell_type": "markdown",
   "metadata": {},
   "source": [
    "\\begin{equation}\n",
    "\\frac {\\partial N_i}{\\partial x_{ij}} =\n",
    "\\frac {\\partial}{\\partial x_{ij}} \\sum_{k=1}^{H} v_k \\sigma_{ik} =\n",
    "\\sum_{k=1}^{H} v_k \\frac {\\partial \\sigma_{ik}}{\\partial x_{ij}} =\n",
    "\\sum_{k=1}^{H} v_k \\frac {\\partial \\sigma_{ik}}{\\partial z_{ik}} \\frac {\\partial z_{ik}}{\\partial x_{ij}} = \\sum_{k=1}^{H} v_k \\sigma_{ik}^{(1)} w_{jk}\n",
    "\\end{equation}"
   ]
  },
  {
   "cell_type": "markdown",
   "metadata": {},
   "source": [
    "where the derivatives of $\\sigma$ are given by:"
   ]
  },
  {
   "cell_type": "markdown",
   "metadata": {},
   "source": [
    "\\begin{equation}\n",
    "\\sigma^{(k)} = \\frac {d^k \\sigma}{dz^k}\n",
    "\\end{equation}"
   ]
  },
  {
   "cell_type": "markdown",
   "metadata": {},
   "source": [
    "With the values of $\\psi_{ti}$ and $\\vec \\nabla \\psi_{ti}$, we can now compute the values of $G_i$, and then the error function $E$ for the current epoch."
   ]
  },
  {
   "cell_type": "markdown",
   "metadata": {},
   "source": [
    "## Updating the network parameters"
   ]
  },
  {
   "cell_type": "markdown",
   "metadata": {},
   "source": [
    "The network parameters are the weights and biases of the hidden and output nodes. For an $m$-dimensional input point $\\vec x_i$, and a set of $H$ hidden nodes, we have a total of $N_p = (m+2)H$ parameters in total: a weight for each $x_{ij}$ for each hidden node, a bias for each hidden node, and an output weight for each hidden node."
   ]
  },
  {
   "cell_type": "markdown",
   "metadata": {},
   "source": [
    "Since the objective function to minimize is the error $E$, the value of each network parameter $p$ (where $p$ represents $v_k$, $u_k$, or $w_{jk}$) is updated using a scaled Newton's method:"
   ]
  },
  {
   "cell_type": "markdown",
   "metadata": {},
   "source": [
    "\\begin{equation}\n",
    "p_{new}=p - \\eta \\frac {\\frac {\\partial E}{\\partial p}} {\\frac {\\partial^2 E}{\\partial p^2}}\n",
    "\\end{equation}"
   ]
  },
  {
   "cell_type": "markdown",
   "metadata": {},
   "source": [
    "where $\\eta$ is the *learning rate* (usually $\\eta < 1$). The learning rate is used to reduce the chance of solution instability due to large values of the correction factor in Newton's method. The derivatives of $E$ are computed using the known form of $G_i$, the network, and the network parameters."
   ]
  },
  {
   "cell_type": "markdown",
   "metadata": {},
   "source": [
    "This process of parameter updates is repeated until the specified maximum number of training epochs has been applied. Note that the same set of training points is presented during each epoch."
   ]
  },
  {
   "cell_type": "markdown",
   "metadata": {},
   "source": [
    "## Computing the derivatives of $E$"
   ]
  },
  {
   "cell_type": "markdown",
   "metadata": {},
   "source": [
    "The partial derivatives of $E$ with respect to any network parameter $p$ are given by:"
   ]
  },
  {
   "cell_type": "markdown",
   "metadata": {},
   "source": [
    "\\begin{equation}\n",
    "\\frac {\\partial E}{\\partial p} =\n",
    "2 \\sum_{i=1}^n G_i \\frac {\\partial G_i}{\\partial p}\n",
    "\\end{equation}"
   ]
  },
  {
   "cell_type": "markdown",
   "metadata": {},
   "source": [
    "\\begin{equation}\n",
    "\\frac {\\partial^2 E}{\\partial p^2} =\n",
    "2 \\sum_{i=1}^n \\left[G_i \\frac {\\partial^2 G_i}{\\partial p^2} + \\left(\\frac {\\partial G_i}{\\partial p} \\right)^2 \\right]\n",
    "\\end{equation}"
   ]
  },
  {
   "cell_type": "markdown",
   "metadata": {},
   "source": [
    "## Computing the derivatives of $G_i$"
   ]
  },
  {
   "cell_type": "markdown",
   "metadata": {},
   "source": [
    "The partial derivatives of $G_i$ with respect to $x_{ij}$, $\\psi_{ti}$, and $\\frac {\\partial \\psi_{ti}} {\\partial x_{ij}}$ are determined $\\it a\\ priori$ from the analytical form of $G$. Note also that $\\frac {\\partial x_{ij}} {\\partial p_{hk}} = 0$. The remaining partial derivatives of $G_i$ are:"
   ]
  },
  {
   "cell_type": "markdown",
   "metadata": {},
   "source": [
    "\\begin{equation}\n",
    "\\frac {\\partial G_i}{\\partial p} =\n",
    "\\frac {\\partial G_i}{\\partial \\psi_{ti}} \\frac {\\partial \\psi_{ti}}{\\partial p} +\n",
    "\\sum_{j=1}^m \\frac {\\partial G_i}{\\partial \\left(\\frac {\\partial \\psi_{ti}}{\\partial x_{ij}}\\right)}\n",
    "\\frac {\\partial^2 \\psi_{ti}}{\\partial p \\partial x_{ij}}\n",
    "\\end{equation}"
   ]
  },
  {
   "cell_type": "markdown",
   "metadata": {},
   "source": [
    "\\begin{equation}\n",
    "\\frac {\\partial^2 G_i}{\\partial p^2} =\n",
    "\\frac {\\partial G_i}{\\partial \\psi_{ti}}\n",
    "\\frac {\\partial^2 \\psi_{ti}}{\\partial p^2} +\n",
    "\\frac {\\partial} {\\partial p} \\left ( \\frac {\\partial G_i} {\\partial \\psi_{ti}} \\right ) \\frac {\\partial \\psi_{ti}} {\\partial p} +\n",
    "\\sum_{j=1}^m\n",
    "\\left [\n",
    "\\frac {\\partial G_i} {\\partial \\left ( \\frac {\\partial \\psi_{ti}} {\\partial x_{ij}} \\right ) }\n",
    "\\frac {\\partial \\psi_{ti}^3} {\\partial p^2 \\partial x_{ij}} +\n",
    "\\frac {\\partial} {\\partial p} \\left ( \\frac {\\partial G_i} {\\partial \\frac {\\partial \\psi_{ti}} {\\partial x_{ij}}} \\right )\n",
    "\\frac {\\partial \\psi_{ti}^2} {\\partial p \\partial x_{ij}}\n",
    "\\right ]\n",
    "\\end{equation}"
   ]
  },
  {
   "cell_type": "markdown",
   "metadata": {},
   "source": [
    "Note that the partials of $G_i$ by $\\vec x$, $\\psi$, and $\\vec \\nabla \\psi$ must be supplied in anaytical form, since the analytical form of $G_i(\\vec x,\\psi,\\vec \\nabla \\psi)$ is known. Partials of these partials by parameters $p$ are found using the chain rule, as they are for $G_i$ itself."
   ]
  },
  {
   "cell_type": "markdown",
   "metadata": {},
   "source": [
    "## Computing the derivatives of $\\psi_{ti}$"
   ]
  },
  {
   "cell_type": "markdown",
   "metadata": {},
   "source": [
    " The derivatives of the trial solution $\\psi_{t}$ are given by:"
   ]
  },
  {
   "cell_type": "markdown",
   "metadata": {},
   "source": [
    "\\begin{equation}\n",
    "\\frac {\\partial \\psi_{ti}} {\\partial p} = \\\n",
    "P_i \\frac {\\partial N_i} {\\partial p}\n",
    "\\end{equation}"
   ]
  },
  {
   "cell_type": "markdown",
   "metadata": {},
   "source": [
    "\\begin{equation}\n",
    "\\frac {\\partial^2 \\psi_{ti}} {\\partial p^2} = \\\n",
    "P_i \\frac {\\partial^2 N_i} {\\partial p^2}\n",
    "\\end{equation}"
   ]
  },
  {
   "cell_type": "markdown",
   "metadata": {},
   "source": [
    "\\begin{equation}\n",
    "\\frac {\\partial^2 \\psi_{ti}} {\\partial p \\partial x_{ij}} = \\\n",
    "P_i \\frac {\\partial^2 N_i} {\\partial p \\partial x_{ij}} + \\\n",
    "\\frac {\\partial P_i} {\\partial x_{ij}} \\frac {\\partial N_i} {\\partial p}\n",
    "\\end{equation}"
   ]
  },
  {
   "cell_type": "markdown",
   "metadata": {},
   "source": [
    "\\begin{equation}\n",
    "\\frac {\\partial^3 \\psi_{ti}} {\\partial p^2 \\partial x_{ij}} = \\\n",
    "P_i \\frac {\\partial^3 N_i} {\\partial p^2 \\partial x_{ij}} + \\\n",
    "\\frac {\\partial P_i} {\\partial x_{ij}} \\frac {\\partial^2 N_i} {\\partial p^2}\n",
    "\\end{equation}"
   ]
  },
  {
   "cell_type": "markdown",
   "metadata": {},
   "source": [
    "Note that $A_i$ and $P_i$ are independent of the network parameters $p$."
   ]
  },
  {
   "cell_type": "markdown",
   "metadata": {},
   "source": [
    "## Computing the derivatives of $N_i$"
   ]
  },
  {
   "cell_type": "markdown",
   "metadata": {},
   "source": [
    "The partial derivatives of $N_i$ are:"
   ]
  },
  {
   "cell_type": "markdown",
   "metadata": {},
   "source": [
    "\\begin{equation}\n",
    "\\frac {\\partial N_i} {\\partial x_{ij}} = \\sum_{k=1}^H v_k \\sigma_{ik}^{(1)} w_{jk}\n",
    "\\end{equation}"
   ]
  },
  {
   "cell_type": "markdown",
   "metadata": {},
   "source": [
    "\\begin{equation}\n",
    "\\frac {\\partial N_i} {\\partial p} =\n",
    "\\sum_{k=1}^H \\left ( v_k \\sigma_{ik}^{(1)} \\frac {\\partial z_{ik}} {\\partial p} +\n",
    "\\frac {\\partial v_k} {\\partial p} \\sigma_{ik} \\right )\n",
    "\\end{equation}"
   ]
  },
  {
   "cell_type": "markdown",
   "metadata": {},
   "source": [
    "\\begin{equation}\n",
    "\\frac {\\partial^2 N_i}{\\partial p^2} =\n",
    "\\sum_{k=1}^H \\left(\n",
    "v_k \\sigma_{ik}^{(2)} \\left( \\frac {\\partial z_{ik}}{\\partial p} \\right)^2 +\n",
    "2 \\frac {\\partial v_k}{\\partial p} \\sigma_{ik}^{(1)} \\frac {\\partial z_{ik}}{\\partial p} \n",
    "\\right)\n",
    "\\end{equation}"
   ]
  },
  {
   "cell_type": "markdown",
   "metadata": {},
   "source": [
    "\\begin{equation}\n",
    "\\frac {\\partial^2 N_i}{\\partial p \\partial x_{ij}} =\n",
    "\\sum_{k=1}^{H} \\left(\n",
    "v_k \\sigma_{ik}^{(1)} \\frac {\\partial w_{jk}} {\\partial p} + \\\n",
    "v_k \\sigma_{ik}^{(2)} \\frac {\\partial z_{ik}} {\\partial p} w_{jk} + \\\n",
    "\\frac {\\partial v_k} {\\partial p} \\sigma_{ik}^{(1)} w_{jk}\n",
    "\\right)\n",
    "\\end{equation}"
   ]
  },
  {
   "cell_type": "markdown",
   "metadata": {},
   "source": [
    "\\begin{equation}\n",
    "\\frac {\\partial^3 N_i}{\\partial p^2 \\partial x_i} =\n",
    "\\sum_{k=1}^H\n",
    "\\left(\n",
    "v_k \\sigma_{ik}^{(2)} \\frac {\\partial z_{ik}} {\\partial p} \\frac {\\partial w_{jk}} {\\partial p} +\n",
    "\\frac {\\partial v_k} {\\partial p} \\sigma_{ik}^{(1)} \\frac {\\partial w_{jk}} {\\partial p} +\n",
    "v_k \\sigma_{ik}^{(2)} \\frac {\\partial z_{ik}} {\\partial p} \\frac {\\partial w_{jk}} {\\partial p} +\n",
    "v_k \\sigma_{ik}^{(3)} \\left( \\frac {\\partial z_{ik}} {\\partial p} \\right)^2 w_{jk} +\n",
    "\\frac {\\partial v_k} {\\partial p} \\sigma_{ik}^{(2)} \\frac {\\partial z_{ik}} {\\partial p} w_{jk} +\n",
    "\\frac {\\partial v_k} {\\partial p} \\sigma_{ik}^{(1)} \\frac {\\partial w_{jk}} {\\partial p} +\n",
    "\\frac {\\partial v_k} {\\partial p} \\sigma_{ik}^{(2)} \\frac {\\partial z_{ik}} {\\partial p} w_{jlk}\n",
    "\\right)\n",
    "\\end{equation}"
   ]
  },
  {
   "cell_type": "markdown",
   "metadata": {},
   "source": [
    "Most of these expressions can now be simplified using the following relations between the network parameters ($*$ means any index or combination of indices):"
   ]
  },
  {
   "cell_type": "markdown",
   "metadata": {},
   "source": [
    "\\begin{equation}\n",
    "\\frac {\\partial v_k}{\\partial v_l} = \\delta_{kl},\n",
    "\\frac {\\partial v_k}{\\partial w_*} = \\frac {\\partial v_k}{\\partial u_*} = 0\n",
    "\\end{equation}\n"
   ]
  },
  {
   "cell_type": "markdown",
   "metadata": {},
   "source": [
    "\\begin{equation}\n",
    "\\frac {\\partial u_k}{\\partial u_l} = \\delta_{kl},\n",
    "\\frac {\\partial u_k}{\\partial v_*} = \\frac {\\partial u_k}{\\partial w_*} = 0\n",
    "\\end{equation}"
   ]
  },
  {
   "cell_type": "markdown",
   "metadata": {},
   "source": [
    "\\begin{equation}\n",
    "\\frac {\\partial w_{jk}}{\\partial w_{hl}} = \\delta_{jh} \\delta_{kl},\n",
    "\\frac {\\partial w_{jk}}{\\partial v_*} = \\frac {\\partial w_{jk}}{\\partial u_*} = 0\n",
    "\\end{equation}"
   ]
  },
  {
   "cell_type": "markdown",
   "metadata": {},
   "source": [
    "\\begin{equation}\n",
    "\\frac {\\partial z_{ik}}{\\partial v_*} = 0,\n",
    "\\frac {\\partial z_{ik}}{\\partial w_{jl}} = x_{ij} \\delta_{kl},\n",
    "\\frac {\\partial z_{ik}}{\\partial u_l} = \\delta_{kl},\n",
    "\\end{equation}"
   ]
  },
  {
   "cell_type": "markdown",
   "metadata": {},
   "source": [
    "# Walking through an example problem"
   ]
  },
  {
   "cell_type": "markdown",
   "metadata": {},
   "source": [
    "Consider the simple 1st-order partial differential equation:"
   ]
  },
  {
   "cell_type": "markdown",
   "metadata": {},
   "source": [
    "\\begin{equation}\n",
    "G(\\vec x, \\psi, \\vec \\nabla \\psi) = xy + 1 - \\psi = 0\n",
    "\\end{equation}"
   ]
  },
  {
   "cell_type": "markdown",
   "metadata": {},
   "source": [
    "In Python form:"
   ]
  },
  {
   "cell_type": "code",
   "execution_count": 4,
   "metadata": {},
   "outputs": [],
   "source": [
    "def Gf(xy, psi, del_psi):\n",
    "    (x, y) = xy\n",
    "    (dpsi_dx, dpsi_dy) = del_psi\n",
    "    return x*y + 1 - psi"
   ]
  },
  {
   "cell_type": "markdown",
   "metadata": {},
   "source": [
    "The analytical solution to this PDE is:"
   ]
  },
  {
   "cell_type": "markdown",
   "metadata": {},
   "source": [
    "\\begin{equation}\n",
    "\\psi(x,y) = xy + 1\n",
    "\\end{equation}"
   ]
  },
  {
   "cell_type": "markdown",
   "metadata": {},
   "source": [
    "This function is plotted in the following figure:"
   ]
  },
  {
   "cell_type": "code",
   "execution_count": 5,
   "metadata": {},
   "outputs": [
    {
     "data": {
      "image/png": "[encoded data removed]",
      "text/plain": [
       "<Figure size 432x288 with 1 Axes>"
      ]
     },
     "metadata": {},
     "output_type": "display_data"
    }
   ],
   "source": [
    "fig = plt.figure()\n",
    "ax = fig.gca(projection = '3d')\n",
    "x = np.linspace(0,1,101)\n",
    "y = np.linspace(0,1,101)\n",
    "x,y = np.meshgrid(x,y)\n",
    "psi = x*y + 1\n",
    "z = psi.reshape(x.shape)\n",
    "surf = ax.plot_surface(x, y, z)\n",
    "ax.set_xlabel('$x$')\n",
    "ax.set_ylabel('$y$')\n",
    "ax.set_zlim3d(0, 2)\n",
    "ax.set_zlabel('$\\psi(x,y)$');"
   ]
  },
  {
   "cell_type": "markdown",
   "metadata": {},
   "source": [
    "We need to specify quite a few derivatives, but most of them vanish. To begin, the first partials of $G(\\vec x,\\psi,\\vec \\nabla \\psi)$:"
   ]
  },
  {
   "cell_type": "markdown",
   "metadata": {},
   "source": [
    "\\begin{equation}\n",
    "\\frac {\\partial G} {\\partial x} = y\n",
    "\\end{equation}"
   ]
  },
  {
   "cell_type": "markdown",
   "metadata": {},
   "source": [
    "\\begin{equation}\n",
    "\\frac {\\partial G} {\\partial y} = x\n",
    "\\end{equation}"
   ]
  },
  {
   "cell_type": "markdown",
   "metadata": {},
   "source": [
    "In Python form, these equations are (unused arguments are ignored):"
   ]
  },
  {
   "cell_type": "code",
   "execution_count": 6,
   "metadata": {},
   "outputs": [],
   "source": [
    "def dG_dxf(xy,psi,del_psi):\n",
    "    (x,y) = xy\n",
    "    return y"
   ]
  },
  {
   "cell_type": "code",
   "execution_count": 7,
   "metadata": {},
   "outputs": [],
   "source": [
    "def dG_dyf(xy, psi, del_psi):\n",
    "    (x, y) = xy\n",
    "    return x"
   ]
  },
  {
   "cell_type": "code",
   "execution_count": 8,
   "metadata": {},
   "outputs": [],
   "source": [
    "del_Gf = (dG_dxf,dG_dyf)"
   ]
  },
  {
   "cell_type": "markdown",
   "metadata": {},
   "source": [
    "\\begin{equation}\n",
    "\\frac {\\partial G} {\\partial \\psi} = -1\n",
    "\\end{equation}"
   ]
  },
  {
   "cell_type": "markdown",
   "metadata": {},
   "source": [
    "In Python form:"
   ]
  },
  {
   "cell_type": "code",
   "execution_count": 9,
   "metadata": {},
   "outputs": [],
   "source": [
    "def dG_dpsif(xy, psi, del_psi):\n",
    "    return -1"
   ]
  },
  {
   "cell_type": "markdown",
   "metadata": {},
   "source": [
    "\\begin{equation}\n",
    "\\frac {\\partial G} {\\partial \\left ( \\frac {\\partial \\psi} {\\partial x} \\right )} = 0\n",
    "\\end{equation}"
   ]
  },
  {
   "cell_type": "markdown",
   "metadata": {},
   "source": [
    "\\begin{equation}\n",
    "\\frac {\\partial G} {\\partial \\left ( \\frac {\\partial \\psi} {\\partial y} \\right )} = 0\n",
    "\\end{equation}"
   ]
  },
  {
   "cell_type": "markdown",
   "metadata": {},
   "source": [
    "In Python form:"
   ]
  },
  {
   "cell_type": "code",
   "execution_count": 10,
   "metadata": {},
   "outputs": [],
   "source": [
    "def dG_dpsi_dxf(xy, psi, del_psi):\n",
    "    (dpsi_dx, dpsi_dy) = del_psi\n",
    "    return 0"
   ]
  },
  {
   "cell_type": "code",
   "execution_count": 11,
   "metadata": {},
   "outputs": [],
   "source": [
    "def dG_dpsi_dyf(xy, psi, del_psi):\n",
    "    (dpsi_dx, dpsi_dy) = del_psi\n",
    "    return 0"
   ]
  },
  {
   "cell_type": "code",
   "execution_count": 12,
   "metadata": {},
   "outputs": [],
   "source": [
    "dG_ddel_psif = (dG_dpsi_dxf,dG_dpsi_dyf)"
   ]
  },
  {
   "cell_type": "markdown",
   "metadata": {},
   "source": [
    "The required second partials are:"
   ]
  },
  {
   "cell_type": "markdown",
   "metadata": {},
   "source": [
    "\\begin{equation}\n",
    "\\frac {\\partial^2 G} {\\partial \\psi^2} = 0\n",
    "\\end{equation}"
   ]
  },
  {
   "cell_type": "code",
   "execution_count": 13,
   "metadata": {},
   "outputs": [],
   "source": [
    "def d2G_dpsi2f(xy, psi, del_psi):\n",
    "    return 0"
   ]
  },
  {
   "cell_type": "markdown",
   "metadata": {},
   "source": [
    "\\begin{equation}\n",
    "\\frac {\\partial^2 G} {\\partial \\left ( \\frac {\\partial \\psi} {\\partial x} \\right ) \\partial \\psi} = 0\n",
    "\\end{equation}"
   ]
  },
  {
   "cell_type": "markdown",
   "metadata": {},
   "source": [
    "\\begin{equation}\n",
    "\\frac {\\partial^2 G} {\\partial \\left ( \\frac {\\partial \\psi} {\\partial y} \\right ) \\partial \\psi} = 0\n",
    "\\end{equation}"
   ]
  },
  {
   "cell_type": "code",
   "execution_count": 14,
   "metadata": {},
   "outputs": [],
   "source": [
    "def d2G_ddxdpsif(xy, psi, del_psi):\n",
    "    return 0"
   ]
  },
  {
   "cell_type": "code",
   "execution_count": 15,
   "metadata": {},
   "outputs": [],
   "source": [
    "def d2G_ddydpsif(xy, psi, del_psi):\n",
    "    return 0"
   ]
  },
  {
   "cell_type": "code",
   "execution_count": 16,
   "metadata": {},
   "outputs": [],
   "source": [
    "d2G_ddel_psi_dpsif = (d2G_ddxdpsif, d2G_ddydpsif)"
   ]
  },
  {
   "cell_type": "markdown",
   "metadata": {},
   "source": [
    "\\begin{equation}\n",
    "\\frac {\\partial^2 G} { \\partial \\psi \\partial \\left ( \\frac {\\partial \\psi} {\\partial x} \\right )} = 0\n",
    "\\end{equation}"
   ]
  },
  {
   "cell_type": "markdown",
   "metadata": {},
   "source": [
    "\\begin{equation}\n",
    "\\frac {\\partial^2 G} { \\partial \\psi \\partial \\left ( \\frac {\\partial \\psi} {\\partial y} \\right )} = 0\n",
    "\\end{equation}"
   ]
  },
  {
   "cell_type": "code",
   "execution_count": 17,
   "metadata": {},
   "outputs": [],
   "source": [
    "def d2G_dpsiddx(xy, psi, del_psi):\n",
    "    return 0"
   ]
  },
  {
   "cell_type": "code",
   "execution_count": 18,
   "metadata": {},
   "outputs": [],
   "source": [
    "def d2G_dpsiddy(xy, psi, del_psi):\n",
    "    return 0"
   ]
  },
  {
   "cell_type": "code",
   "execution_count": 19,
   "metadata": {},
   "outputs": [],
   "source": [
    "d2G_dpsi_ddel_psif = (d2G_dpsiddx, d2G_dpsiddy)"
   ]
  },
  {
   "cell_type": "markdown",
   "metadata": {},
   "source": [
    "\\begin{equation}\n",
    "\\frac {\\partial^2 G} { \\partial \\left ( \\frac {\\partial \\psi} {\\partial x} \\right )^2} = 0\n",
    "\\end{equation}"
   ]
  },
  {
   "cell_type": "markdown",
   "metadata": {},
   "source": [
    "\\begin{equation}\n",
    "\\frac {\\partial^2 G} { \\partial \\left ( \\frac {\\partial \\psi} {\\partial y} \\right )^2} = 0\n",
    "\\end{equation}"
   ]
  },
  {
   "cell_type": "code",
   "execution_count": 20,
   "metadata": {},
   "outputs": [],
   "source": [
    "def d2G_ddx2f(xy, psi, del_psi):\n",
    "    return 0"
   ]
  },
  {
   "cell_type": "code",
   "execution_count": 21,
   "metadata": {},
   "outputs": [],
   "source": [
    "def d2G_ddy2f(xy, psi, del_psi):\n",
    "    return 0"
   ]
  },
  {
   "cell_type": "code",
   "execution_count": 22,
   "metadata": {},
   "outputs": [],
   "source": [
    "d2G_ddel_psi2f = (d2G_ddx2f, d2G_ddy2f)"
   ]
  },
  {
   "cell_type": "markdown",
   "metadata": {},
   "source": [
    "The boundary condition functions and their required derivatives are:"
   ]
  },
  {
   "cell_type": "markdown",
   "metadata": {},
   "source": [
    "\\begin{equation}\n",
    "f_0(y)=1\n",
    "\\end{equation}"
   ]
  },
  {
   "cell_type": "markdown",
   "metadata": {},
   "source": [
    "\\begin{equation}\n",
    "g_0(x)=1\n",
    "\\end{equation}"
   ]
  },
  {
   "cell_type": "code",
   "execution_count": 23,
   "metadata": {},
   "outputs": [],
   "source": [
    "def f0f(y):\n",
    "    return 1"
   ]
  },
  {
   "cell_type": "code",
   "execution_count": 24,
   "metadata": {},
   "outputs": [],
   "source": [
    "def g0f(x):\n",
    "    return 1"
   ]
  },
  {
   "cell_type": "code",
   "execution_count": 25,
   "metadata": {},
   "outputs": [],
   "source": [
    "bcf = (f0f,g0f)"
   ]
  },
  {
   "cell_type": "markdown",
   "metadata": {},
   "source": [
    "\\begin{equation}\n",
    "\\frac {\\partial f_0} {\\partial y} = 0\n",
    "\\end{equation}"
   ]
  },
  {
   "cell_type": "markdown",
   "metadata": {},
   "source": [
    "\\begin{equation}\n",
    "\\frac {\\partial g_0} {\\partial x} = 0\n",
    "\\end{equation}"
   ]
  },
  {
   "cell_type": "code",
   "execution_count": 26,
   "metadata": {},
   "outputs": [],
   "source": [
    "def df0_dyf(y):\n",
    "    return 0"
   ]
  },
  {
   "cell_type": "code",
   "execution_count": 27,
   "metadata": {},
   "outputs": [],
   "source": [
    "def dg0_dxf(x):\n",
    "    return 0"
   ]
  },
  {
   "cell_type": "code",
   "execution_count": 28,
   "metadata": {},
   "outputs": [],
   "source": [
    "bcdf = (df0_dyf, dg0_dxf)"
   ]
  },
  {
   "cell_type": "markdown",
   "metadata": {},
   "source": [
    "Now that we have the forms for all of these derivatives and boundary conditions, we can create the training points. Use an evenly-spaced grid of 25 points."
   ]
  },
  {
   "cell_type": "code",
   "execution_count": 29,
   "metadata": {},
   "outputs": [],
   "source": [
    "nxy = 5\n",
    "dxy = 1 / nxy\n",
    "x = np.zeros((nxy**2, 2))\n",
    "for j in range(nxy):\n",
    "    for i in range(nxy):\n",
    "        k = j * nxy + i\n",
    "        x[k][0] = i * dxy\n",
    "        x[k][1] = j * dxy"
   ]
  },
  {
   "cell_type": "markdown",
   "metadata": {},
   "source": [
    "Call the function which solves the ODE. Use 10 nodes in the hidden layer, and 1000 training epochs, a learning rate of 0.01, and activate verbose output."
   ]
  },
  {
   "cell_type": "code",
   "execution_count": 30,
   "metadata": {},
   "outputs": [
    {
     "name": "stdout",
     "output_type": "stream",
     "text": [
      "0 14.366940681920905\n",
      "1 12.903942855394568\n",
      "2 11.131235523709408\n",
      "3 9.585595548555386\n",
      "4 8.263130127143333\n",
      "5 7.140251961827375\n",
      "6 6.190020438303888\n",
      "7 5.3868389182633605\n",
      "8 4.70789395647287\n",
      "9 4.133446139081688\n",
      "10 3.646683932377524\n",
      "11 3.2334195138229074\n",
      "12 2.8817445720633152\n",
      "13 2.58169678981726\n",
      "14 2.3249575452597284\n",
      "15 2.1045873343544814\n",
      "16 1.9147988872926627\n",
      "17 1.7507650615074555\n",
      "18 1.6084575048185257\n",
      "19 1.4845118829237651\n",
      "20 1.3761156891767348\n",
      "21 1.2809150592199434\n",
      "22 1.1969374732034628\n",
      "23 1.1225276808101237\n",
      "24 1.0562945994799107\n",
      "25 0.9970673025096792\n",
      "26 0.9438585290999885\n",
      "27 0.8958344157416217\n",
      "28 0.8522893725467822\n",
      "29 0.812625214887428\n",
      "30 0.7763338155682385\n",
      "31 0.7429826708263705\n",
      "32 0.7122028791857586\n",
      "33 0.6836791194252203\n",
      "34 0.6571412858655397\n",
      "35 0.6323574985208891\n",
      "36 0.6091282546119643\n",
      "37 0.5872815283305679\n",
      "38 0.5666686590834841\n",
      "39 0.5471608959664216\n",
      "40 0.5286464889462277\n",
      "41 0.5110282360015874\n",
      "42 0.49422141098111066\n",
      "43 0.47815200975380606\n",
      "44 0.4627552628210994\n",
      "45 0.4479743713201145\n",
      "46 0.43375943059519273\n",
      "47 0.420066511512906\n",
      "48 0.4068568746630601\n",
      "49 0.3940962967042224\n",
      "50 0.3817544915253994\n",
      "51 0.3698046117278734\n",
      "52 0.35822281828372726\n",
      "53 0.34698790818331615\n",
      "54 0.3360809915114773\n",
      "55 0.3254852107480707\n",
      "56 0.3151854962192382\n",
      "57 0.30516835256993824\n",
      "58 0.2954216719177434\n",
      "59 0.28593457000875966\n",
      "60 0.27669724225056497\n",
      "61 0.2677008369622229\n",
      "62 0.25893734357258014\n",
      "63 0.2503994938274896\n",
      "64 0.2420806743445436\n",
      "65 0.23397484908886945\n",
      "66 0.22607649054250645\n",
      "67 0.21838051850878964\n",
      "68 0.21088224563684682\n",
      "69 0.20357732887385696\n",
      "70 0.19646172615750626\n",
      "71 0.18953165775095757\n",
      "72 0.1827835716999436\n",
      "73 0.17621411295830142\n",
      "74 0.1698200957859901\n",
      "75 0.16359847907374786\n",
      "76 0.1575463442921245\n",
      "77 0.1516608758006579\n",
      "78 0.14593934328611624\n",
      "79 0.14037908612769012\n",
      "80 0.134977499512256\n",
      "81 0.1297320221447501\n",
      "82 0.12464012541768837\n",
      "83 0.11969930392014368\n",
      "84 0.11490706718040761\n",
      "85 0.11026093254824873\n",
      "86 0.1057584191324335\n",
      "87 0.10139704271714123\n",
      "88 0.09717431158733411\n",
      "89 0.09308772319821873\n",
      "90 0.08913476162787068\n",
      "91 0.08531289575508828\n",
      "92 0.08161957810679824\n",
      "93 0.07805224432103777\n",
      "94 0.07460831317285105\n",
      "95 0.07128518711153561\n",
      "96 0.06808025325865938\n",
      "97 0.0649908848172832\n",
      "98 0.06201444284392038\n",
      "99 0.059148278336028856\n",
      "100 0.05638973458928062\n",
      "101 0.05373614978052283\n",
      "102 0.05118485973422125\n",
      "103 0.0487332008322567\n",
      "104 0.04637851302919828\n",
      "105 0.04411814293758646\n",
      "106 0.04194944695026852\n",
      "107 0.03986979436942975\n",
      "108 0.03787657051460176\n",
      "109 0.03596717978457367\n",
      "110 0.03413904865076517\n",
      "111 0.03238962856219765\n",
      "112 0.030716398744713165\n",
      "113 0.02911686887950448\n",
      "114 0.027588581648341638\n",
      "115 0.026129115135064055\n",
      "116 0.024736085074981106\n",
      "117 0.023407146945746776\n",
      "118 0.022139997895066366\n",
      "119 0.020932378502238894\n",
      "120 0.019782074372039625\n",
      "121 0.018686917560813705\n",
      "122 0.017644787835869504\n",
      "123 0.016653613770353605\n",
      "124 0.015711373676743065\n",
      "125 0.01481609638292898\n",
      "126 0.013965861855580042\n",
      "127 0.013158801676083402\n",
      "128 0.01239309937486113\n",
      "129 0.011666990630274333\n",
      "130 0.010978763338641923\n",
      "131 0.010326757562145558\n",
      "132 0.009709365361559762\n",
      "133 0.009125030520848157\n",
      "134 0.008572248170711123\n",
      "135 0.008049564318163314\n",
      "136 0.007555575289165305\n",
      "137 0.007088927091240849\n",
      "138 0.006648314702883643\n",
      "139 0.006232481296399523\n",
      "140 0.005840217400649671\n",
      "141 0.005470360009954302\n",
      "142 0.005121791645199874\n",
      "143 0.004793439372955877\n",
      "144 0.004484273788164625\n",
      "145 0.004193307965713908\n",
      "146 0.003919596385945309\n",
      "147 0.003662233838888946\n",
      "148 0.003420354311752282\n",
      "149 0.00319312986392898\n",
      "150 0.002979769493531431\n",
      "151 0.002779517999193485\n",
      "152 0.002591654840635402\n",
      "153 0.002415493001233547\n",
      "154 0.0022503778555954613\n",
      "155 0.002095686044902504\n",
      "156 0.0019508243625542343\n",
      "157 0.0018152286524260155\n",
      "158 0.0016883627218372637\n",
      "159 0.0015697172711233707\n",
      "160 0.0014588088415060036\n",
      "161 0.0013551787827691304\n",
      "162 0.001258392242069378\n",
      "163 0.0011680371750376136\n",
      "164 0.0010837233801692069\n",
      "165 0.0010050815573466394\n",
      "166 0.0009317623911954866\n",
      "167 0.0008634356598399985\n",
      "168 0.0007997893694986274\n",
      "169 0.0007405289152418816\n",
      "170 0.0006853762681262197\n",
      "171 0.0006340691888159749\n",
      "172 0.0005863604677124877\n",
      "173 0.0005420171915231346\n",
      "174 0.0005008200361247115\n",
      "175 0.00046256258550464875\n",
      "176 0.0004270506764976226\n",
      "177 0.0003941017689777491\n",
      "178 0.00036354434111392773\n",
      "179 0.00033521730924934755\n",
      "180 0.00030896947192567245\n",
      "181 0.00028465897753636227\n",
      "182 0.000262152815063133\n",
      "183 0.00024132632732311107\n",
      "184 0.0002220627461327138\n",
      "185 0.00020425274877642583\n",
      "186 0.00018779403515429297\n",
      "187 0.0001725909249719064\n",
      "188 0.00015855397432883693\n",
      "189 0.00014559961105751156\n",
      "190 0.00013364978816229265\n",
      "191 0.00012263165471005087\n",
      "192 0.0001124772435257824\n",
      "193 0.00010312317505248152\n",
      "194 9.451037674108597e-05\n",
      "195 8.658381734485385e-05\n",
      "196 7.929225550270096e-05\n",
      "197 7.258800200694914e-05\n",
      "198 6.642669516364124e-05\n",
      "199 6.0767088666561414e-05\n",
      "200 5.5570851420582805e-05\n",
      "201 5.080237876436757e-05\n",
      "202 4.64286145582831e-05\n",
      "203 4.241888361873848e-05\n",
      "204 3.874473399674276e-05\n",
      "205 3.537978861452179e-05\n",
      "206 3.22996057909098e-05\n",
      "207 2.9481548202622692e-05\n",
      "208 2.6904659845317287e-05\n",
      "209 2.454955057486421e-05\n",
      "210 2.2398287825764167e-05\n",
      "211 2.043429511986894e-05\n",
      "212 1.864225699469363e-05\n",
      "213 1.700802999645812e-05\n",
      "214 1.5518559398373675e-05\n",
      "215 1.4161801320054628e-05\n",
      "216 1.2926649938658768e-05\n",
      "217 1.180286949684373e-05\n",
      "218 1.0781030826738595e-05\n",
      "219 9.852452122720694e-06\n",
      "220 9.009143709045685e-06\n",
      "221 8.24375656121141e-06\n",
      "222 7.549534352229419e-06\n",
      "223 6.920268806917465e-06\n",
      "224 6.35025815882194e-06\n",
      "225 5.8342685153186695e-06\n",
      "226 5.367497947092908e-06\n",
      "227 4.945543128243614e-06\n",
      "228 4.564368362987739e-06\n",
      "229 4.22027684417925e-06\n",
      "230 3.909883997646784e-06\n",
      "231 3.6300927748091312e-06\n",
      "232 3.3780707639811376e-06\n",
      "233 3.1512289984036183e-06\n",
      "234 2.947202346260666e-06\n",
      "235 2.763831374777101e-06\n",
      "236 2.5991455870117853e-06\n",
      "237 2.4513479361126613e-06\n",
      "238 2.3188005276429315e-06\n",
      "239 2.2000114261167286e-06\n",
      "240 2.093622487130458e-06\n",
      "241 1.99839814143207e-06\n",
      "242 1.9132150619763084e-06\n",
      "243 1.837052649458631e-06\n",
      "244 1.7689842760358418e-06\n",
      "245 1.7081692309232729e-06\n",
      "246 1.653845315327693e-06\n",
      "247 1.60532203772454e-06\n",
      "248 1.5619743638606127e-06\n",
      "249 1.5232369790205597e-06\n",
      "250 1.4885990230734085e-06\n",
      "251 1.4575992616359746e-06\n",
      "252 1.4298216593061539e-06\n",
      "253 1.4048913233958772e-06\n",
      "254 1.3824707889172014e-06\n",
      "255 1.3622566177096465e-06\n",
      "256 1.3439762866488155e-06\n",
      "257 1.3273853417379405e-06\n",
      "258 1.3122647966439467e-06\n",
      "259 1.2984187558760028e-06\n",
      "260 1.2856722443077037e-06\n",
      "261 1.2738692261814573e-06\n",
      "262 1.262870797997856e-06\n",
      "263 1.252553540947059e-06\n",
      "264 1.2428080196323801e-06\n",
      "265 1.2335374148952417e-06\n",
      "266 1.2246562794964534e-06\n",
      "267 1.216089406314147e-06\n",
      "268 1.2077707995319784e-06\n",
      "269 1.1996427400597338e-06\n",
      "270 1.19165493712743e-06\n",
      "271 1.1837637586390932e-06\n",
      "272 1.1759315334882014e-06\n",
      "273 1.1681259195718883e-06\n",
      "274 1.1603193317661803e-06\n",
      "275 1.1524884245852279e-06\n",
      "276 1.1446136246952744e-06\n",
      "277 1.1366787088396605e-06\n",
      "278 1.1286704231115852e-06\n",
      "279 1.1205781398495136e-06\n",
      "280 1.1123935487427465e-06\n",
      "281 1.1041103790133685e-06\n",
      "282 1.0957241498343046e-06\n",
      "283 1.087231946353162e-06\n",
      "284 1.0786322189353676e-06\n",
      "285 1.0699246034508957e-06\n",
      "286 1.0611097606058762e-06\n",
      "287 1.052189232497294e-06\n",
      "288 1.0431653147411047e-06\n",
      "289 1.0340409426555699e-06\n",
      "290 1.0248195901262518e-06\n",
      "291 1.0155051798980452e-06\n",
      "292 1.006102004157757e-06\n",
      "293 9.966146543702338e-07\n",
      "294 9.870479594252796e-07\n",
      "295 9.77406931245047e-07\n",
      "296 9.676967170831332e-07\n",
      "297 9.579225578007542e-07\n",
      "298 9.480897514993243e-07\n",
      "299 9.382036219300839e-07\n",
      "300 9.282694911591024e-07\n",
      "301 9.182926560304612e-07\n",
      "302 9.082783679904204e-07\n",
      "303 8.982318159090316e-07\n",
      "304 8.881581115437022e-07\n",
      "305 8.780622773440294e-07\n",
      "306 8.679492363247777e-07\n",
      "307 8.578238037495004e-07\n",
      "308 8.476906804145363e-07\n",
      "309 8.375544473281473e-07\n",
      "310 8.274195616115418e-07\n",
      "311 8.172903534592919e-07\n",
      "312 8.07171024026836e-07\n",
      "313 7.970656441085172e-07\n",
      "314 7.869781535108361e-07\n",
      "315 7.769123610039863e-07\n",
      "316 7.668719447810731e-07\n",
      "317 7.568604533421744e-07\n",
      "318 7.468813067327811e-07\n",
      "319 7.369377980828329e-07\n",
      "320 7.270330953863745e-07\n",
      "321 7.171702434941677e-07\n",
      "322 7.073521662541776e-07\n",
      "323 6.975816687877314e-07\n",
      "324 6.87861439859537e-07\n",
      "325 6.781940543223024e-07\n",
      "326 6.685819756087686e-07\n",
      "327 6.590275582556946e-07\n",
      "328 6.495330504463123e-07\n",
      "329 6.401005965493573e-07\n",
      "330 6.307322396552246e-07\n",
      "331 6.214299240894627e-07\n",
      "332 6.121954979031191e-07\n",
      "333 6.030307153258302e-07\n",
      "334 5.93937239193643e-07\n"
     ]
    },
    {
     "name": "stdout",
     "output_type": "stream",
     "text": [
      "335 5.849166433217532e-07\n",
      "336 5.759704148454168e-07\n",
      "337 5.670999565076795e-07\n",
      "338 5.583065889054163e-07\n",
      "339 5.495915526853001e-07\n",
      "340 5.409560106918601e-07\n",
      "341 5.324010500690167e-07\n",
      "342 5.239276843119409e-07\n",
      "343 5.155368552765347e-07\n",
      "344 5.072294351365999e-07\n",
      "345 4.990062283033888e-07\n",
      "346 4.90867973296645e-07\n",
      "347 4.828153445754757e-07\n",
      "348 4.748489543282473e-07\n",
      "349 4.669693542230652e-07\n",
      "350 4.5917703712019515e-07\n",
      "351 4.5147243874640343e-07\n",
      "352 4.438559393374909e-07\n",
      "353 4.3632786524272415e-07\n",
      "354 4.288884905003831e-07\n",
      "355 4.21538038378772e-07\n",
      "356 4.142766828894723e-07\n",
      "357 4.0710455027010676e-07\n",
      "358 4.000217204412742e-07\n",
      "359 3.930282284325749e-07\n",
      "360 3.8612406578634933e-07\n",
      "361 3.793091819362939e-07\n",
      "362 3.7258348555887573e-07\n",
      "363 3.659468459035004e-07\n",
      "364 3.5939909409952404e-07\n",
      "365 3.5294002444036355e-07\n",
      "366 3.465693956480241e-07\n",
      "367 3.4028693211283906e-07\n",
      "368 3.340923251163838e-07\n",
      "369 3.2798523403180115e-07\n",
      "370 3.2196528750491874e-07\n",
      "371 3.160320846166433e-07\n",
      "372 3.101851960236984e-07\n",
      "373 3.044241650842881e-07\n",
      "374 2.987485089598757e-07\n",
      "375 2.931577197044169e-07\n",
      "376 2.876512653278341e-07\n",
      "377 2.8222859084830644e-07\n",
      "378 2.7688911932211124e-07\n",
      "379 2.7163225285496977e-07\n",
      "380 2.6645737359804784e-07\n",
      "381 2.613638447232382e-07\n",
      "382 2.5635101138219403e-07\n",
      "383 2.5141820164500494e-07\n",
      "384 2.4656472742428203e-07\n",
      "385 2.4178988537785854e-07\n",
      "386 2.3709295779564483e-07\n",
      "387 2.3247321346556057e-07\n",
      "388 2.2792990852632514e-07\n",
      "389 2.2346228729682547e-07\n",
      "390 2.1906958309061525e-07\n",
      "391 2.1475101901084878e-07\n",
      "392 2.1050580872817764e-07\n",
      "393 2.0633315724006733e-07\n",
      "394 2.0223226161066684e-07\n",
      "395 1.9820231169434476e-07\n",
      "396 1.9424249084147345e-07\n",
      "397 1.9035197658310571e-07\n",
      "398 1.8652994130083017e-07\n",
      "399 1.8277555287773422e-07\n",
      "400 1.7908797532958747e-07\n",
      "401 1.7546636942142576e-07\n",
      "402 1.7190989326214044e-07\n",
      "403 1.684177028859258e-07\n",
      "404 1.6498895281155408e-07\n",
      "405 1.6162279658832862e-07\n",
      "406 1.5831838732068408e-07\n",
      "407 1.5507487817793432e-07\n",
      "408 1.5189142288704783e-07\n",
      "409 1.4876717620578782e-07\n",
      "410 1.457012943818164e-07\n",
      "411 1.4269293559367284e-07\n",
      "412 1.3974126037514917e-07\n",
      "413 1.3684543202365491e-07\n",
      "414 1.3400461699280986e-07\n",
      "415 1.3121798526759245e-07\n",
      "416 1.2848471072596934e-07\n",
      "417 1.2580397148247442e-07\n",
      "418 1.231749502187051e-07\n",
      "419 1.2059683449756212e-07\n",
      "420 1.1806881706271247e-07\n",
      "421 1.15590096124201e-07\n",
      "422 1.1315987562905329e-07\n",
      "423 1.1077736551787012e-07\n",
      "424 1.0844178196816113e-07\n",
      "425 1.0615234762412529e-07\n",
      "426 1.039082918128401e-07\n",
      "427 1.0170885074741155e-07\n",
      "428 9.95532677186641e-08\n",
      "429 9.744079327306505e-08\n",
      "430 9.537068537910845e-08\n",
      "431 9.334220958298503e-08\n",
      "432 9.135463915137907e-08\n",
      "433 8.940725520347302e-08\n",
      "434 8.749934683266956e-08\n",
      "435 8.563021121815963e-08\n",
      "436 8.379915372447437e-08\n",
      "437 8.200548799325708e-08\n",
      "438 8.02485360240727e-08\n",
      "439 7.852762824627667e-08\n",
      "440 7.684210358236683e-08\n",
      "441 7.519130950143334e-08\n",
      "442 7.357460206585233e-08\n",
      "443 7.199134596857698e-08\n",
      "444 7.044091456340503e-08\n",
      "445 6.892268988664529e-08\n",
      "446 6.743606267331379e-08\n",
      "447 6.598043236465599e-08\n",
      "448 6.455520710971826e-08\n",
      "449 6.315980376079924e-08\n",
      "450 6.179364786253636e-08\n",
      "451 6.045617363467537e-08\n",
      "452 5.9146823950053356e-08\n",
      "453 5.786505030651354e-08\n",
      "454 5.6610312794309715e-08\n",
      "455 5.538208005839953e-08\n",
      "456 5.417982925576472e-08\n",
      "457 5.300304600931942e-08\n",
      "458 5.185122435668527e-08\n",
      "459 5.072386669567741e-08\n",
      "460 4.9620483725886115e-08\n",
      "461 4.854059438673746e-08\n",
      "462 4.748372579250927e-08\n",
      "463 4.6449413163938274e-08\n",
      "464 4.543719975746405e-08\n",
      "465 4.444663679094363e-08\n",
      "466 4.3477283368140385e-08\n",
      "467 4.252870639936951e-08\n",
      "468 4.160048052169034e-08\n",
      "469 4.0692188015591645e-08\n",
      "470 3.980341872085618e-08\n",
      "471 3.8933769950167354e-08\n",
      "472 3.808284640215185e-08\n",
      "473 3.725026007145025e-08\n",
      "474 3.643563015954883e-08\n",
      "475 3.5638582983026785e-08\n",
      "476 3.4858751881179894e-08\n",
      "477 3.409577712371377e-08\n",
      "478 3.334930581633053e-08\n",
      "479 3.2618991806867965e-08\n",
      "480 3.1904495590463645e-08\n",
      "481 3.120548421427136e-08\n",
      "482 3.052163118225927e-08\n",
      "483 2.985261635963046e-08\n",
      "484 2.9198125876713572e-08\n",
      "485 2.8557852034269033e-08\n",
      "486 2.7931493206831644e-08\n",
      "487 2.731875374800657e-08\n",
      "488 2.671934389512417e-08\n",
      "489 2.613297967449898e-08\n",
      "490 2.5559382806444293e-08\n",
      "491 2.4998280611969578e-08\n",
      "492 2.4449405918585764e-08\n",
      "493 2.39124969678857e-08\n",
      "494 2.3387297322729537e-08\n",
      "495 2.2873555775613456e-08\n",
      "496 2.2371026257753142e-08\n",
      "497 2.1879467748783912e-08\n",
      "498 2.1398644187027887e-08\n",
      "499 2.092832438111046e-08\n",
      "500 2.0468281922067776e-08\n",
      "501 2.0018295096137666e-08\n",
      "502 1.9578146799022963e-08\n",
      "503 1.9147624450877897e-08\n",
      "504 1.8726519911683847e-08\n",
      "505 1.8314629398730807e-08\n",
      "506 1.7911753404035072e-08\n",
      "507 1.7517696613490466e-08\n",
      "508 1.7132267826577353e-08\n",
      "509 1.6755279877764447e-08\n",
      "510 1.6386549558037645e-08\n",
      "511 1.6025897538482903e-08\n",
      "512 1.5673148294140574e-08\n",
      "513 1.532813002972249e-08\n",
      "514 1.4990674605671905e-08\n",
      "515 1.4660617465927147e-08\n",
      "516 1.4337797566334996e-08\n",
      "517 1.4022057304584782e-08\n",
      "518 1.3713242451026244e-08\n",
      "519 1.341120208038813e-08\n",
      "520 1.3115788505172187e-08\n",
      "521 1.2826857209649555e-08\n",
      "522 1.2544266785144219e-08\n",
      "523 1.226787886630449e-08\n",
      "524 1.19975580687206e-08\n",
      "525 1.173317192736811e-08\n",
      "526 1.1474590836246434e-08\n",
      "527 1.1221687988985211e-08\n",
      "528 1.0974339320744447e-08\n",
      "529 1.0732423450894111e-08\n",
      "530 1.0495821626998321e-08\n",
      "531 1.0264417669415992e-08\n",
      "532 1.0038097917528645e-08\n",
      "533 9.816751176409846e-09\n",
      "534 9.600268664986723e-09\n",
      "535 9.388543964612753e-09\n",
      "536 9.181472969428207e-09\n",
      "537 8.978953836602311e-09\n",
      "538 8.780886938870357e-09\n",
      "539 8.587174816628285e-09\n",
      "540 8.397722131987512e-09\n",
      "541 8.212435623300488e-09\n",
      "542 8.031224060710002e-09\n",
      "543 7.853998202427155e-09\n",
      "544 7.680670751991478e-09\n",
      "545 7.511156316622008e-09\n",
      "546 7.345371366075819e-09\n",
      "547 7.183234192242925e-09\n",
      "548 7.024664870314249e-09\n",
      "549 6.86958521972647e-09\n",
      "550 6.717918766766843e-09\n",
      "551 6.569590707339339e-09\n",
      "552 6.424527871075144e-09\n",
      "553 6.282658685526322e-09\n",
      "554 6.143913141900486e-09\n",
      "555 6.008222760677243e-09\n",
      "556 5.875520558679119e-09\n",
      "557 5.745741016298469e-09\n",
      "558 5.6188200459003674e-09\n",
      "559 5.494694960334501e-09\n",
      "560 5.373304442625906e-09\n",
      "561 5.254588516017873e-09\n",
      "562 5.138488514945919e-09\n",
      "563 5.024947056170837e-09\n",
      "564 4.913908010890005e-09\n",
      "565 4.805316477466612e-09\n",
      "566 4.699118754555994e-09\n",
      "567 4.595262314796031e-09\n",
      "568 4.4936957793962265e-09\n",
      "569 4.39436889289345e-09\n",
      "570 4.297232498601248e-09\n",
      "571 4.202238514681814e-09\n",
      "572 4.109339910544712e-09\n",
      "573 4.0184906840739145e-09\n",
      "574 3.9296458388678015e-09\n",
      "575 3.84276136253008e-09\n",
      "576 3.757794205002216e-09\n",
      "577 3.6747022575042636e-09\n",
      "578 3.593444332102326e-09\n",
      "579 3.513980141478769e-09\n",
      "580 3.4362702792794684e-09\n",
      "581 3.360276200859893e-09\n",
      "582 3.285960204380729e-09\n",
      "583 3.213285412551098e-09\n",
      "584 3.1422157544590828e-09\n",
      "585 3.0727159479806136e-09\n",
      "586 3.0047514826353664e-09\n",
      "587 2.938288602638934e-09\n",
      "588 2.8732942904709065e-09\n",
      "589 2.809736250678677e-09\n",
      "590 2.7475828941990132e-09\n",
      "591 2.6868033228456347e-09\n",
      "592 2.6273673143538383e-09\n",
      "593 2.569245307409207e-09\n",
      "594 2.512408387488067e-09\n",
      "595 2.4568282725340534e-09\n",
      "596 2.4024772992117375e-09\n",
      "597 2.3493284094649154e-09\n",
      "598 2.2973551372476776e-09\n",
      "599 2.2465315955869437e-09\n",
      "600 2.196832464075745e-09\n",
      "601 2.148232976337777e-09\n",
      "602 2.10070890811837e-09\n",
      "603 2.0542365653391817e-09\n",
      "604 2.0087927726086962e-09\n",
      "605 1.964354861892825e-09\n",
      "606 1.9209006613832303e-09\n",
      "607 1.878408484854272e-09\n",
      "608 1.8368571208984565e-09\n",
      "609 1.796225822705287e-09\n",
      "610 1.7564942978423454e-09\n",
      "611 1.7176426984418803e-09\n",
      "612 1.6796516114312547e-09\n",
      "613 1.642502049125196e-09\n",
      "614 1.6061754399340273e-09\n",
      "615 1.570653619291465e-09\n",
      "616 1.535918820811285e-09\n",
      "617 1.5019536675677548e-09\n",
      "618 1.4687411636394332e-09\n",
      "619 1.436264685848686e-09\n",
      "620 1.4045079755688229e-09\n",
      "621 1.3734551308530618e-09\n",
      "622 1.3430905986192717e-09\n",
      "623 1.3133991670522991e-09\n",
      "624 1.2843659581887931e-09\n",
      "625 1.2559764206485468e-09\n",
      "626 1.2282163224908415e-09\n",
      "627 1.2010717442884411e-09\n",
      "628 1.1745290722916285e-09\n",
      "629 1.148574991816451e-09\n",
      "630 1.1231964806304926e-09\n",
      "631 1.0983808027202924e-09\n",
      "632 1.0741155019197144e-09\n",
      "633 1.0503883958992387e-09\n",
      "634 1.0271875701706624e-09\n",
      "635 1.0045013721963131e-09\n",
      "636 9.823184058184359e-10\n",
      "637 9.606275254881016e-10\n",
      "638 9.394178309706221e-10\n",
      "639 9.186786618636566e-10\n",
      "640 8.983995924341352e-10\n",
      "641 8.785704265219188e-10\n",
      "642 8.591811924391301e-10\n",
      "643 8.402221381774318e-10\n",
      "644 8.216837265394279e-10\n",
      "645 8.035566304848815e-10\n",
      "646 7.858317285455588e-10\n",
      "647 7.685001003300249e-10\n"
     ]
    },
    {
     "name": "stdout",
     "output_type": "stream",
     "text": [
      "648 7.515530220966845e-10\n",
      "649 7.34981962538103e-10\n",
      "650 7.187785784825323e-10\n",
      "651 7.029347108958356e-10\n",
      "652 6.874423807307226e-10\n",
      "653 6.722937850941473e-10\n",
      "654 6.57481293344932e-10\n",
      "655 6.429974433527068e-10\n",
      "656 6.288349377809504e-10\n",
      "657 6.149866405131191e-10\n",
      "658 6.014455731085879e-10\n",
      "659 5.882049113784665e-10\n",
      "660 5.752579819492249e-10\n",
      "661 5.625982590285755e-10\n",
      "662 5.502193611125143e-10\n",
      "663 5.381150478983217e-10\n",
      "664 5.262792171071676e-10\n",
      "665 5.147059015076375e-10\n",
      "666 5.03389265973915e-10\n",
      "667 4.923236045170676e-10\n",
      "668 4.81503337530266e-10\n",
      "669 4.709230089819965e-10\n",
      "670 4.605772836770252e-10\n",
      "671 4.504609446626322e-10\n",
      "672 4.4056889057064376e-10\n",
      "673 4.3089613313983317e-10\n",
      "674 4.214377946881911e-10\n",
      "675 4.121891056835471e-10\n",
      "676 4.0314540239906374e-10\n",
      "677 3.9430212454819124e-10\n",
      "678 3.856548130484123e-10\n",
      "679 3.7719910775068526e-10\n",
      "680 3.689307452983328e-10\n",
      "681 3.6084555698385254e-10\n",
      "682 3.529394666683339e-10\n",
      "683 3.4520848872638875e-10\n",
      "684 3.3764872607526637e-10\n",
      "685 3.3025636821485787e-10\n",
      "686 3.230276893129418e-10\n",
      "687 3.1595904635464825e-10\n",
      "688 3.0904687728457966e-10\n",
      "689 3.0228769926316347e-10\n",
      "690 2.9567810688336074e-10\n",
      "691 2.892147704794096e-10\n",
      "692 2.828944344434965e-10\n",
      "693 2.767139156066155e-10\n",
      "694 2.706701016178887e-10\n",
      "695 2.647599493999987e-10\n",
      "696 2.589804835971597e-10\n",
      "697 2.53328795098261e-10\n",
      "698 2.478020395599009e-10\n",
      "699 2.423974359721767e-10\n",
      "700 2.3711226525527334e-10\n",
      "701 2.3194386890637833e-10\n",
      "702 2.2688964763642438e-10\n",
      "703 2.2194706008212691e-10\n",
      "704 2.1711362148518892e-10\n",
      "705 2.123869024869029e-10\n",
      "706 2.0776452785840518e-10\n",
      "707 2.0324417532376087e-10\n",
      "708 1.9882357438776772e-10\n",
      "709 1.94500505158516e-10\n",
      "710 1.902727972667426e-10\n",
      "711 1.8613832873183534e-10\n",
      "712 1.8209502490290392e-10\n",
      "713 1.7814085741061917e-10\n",
      "714 1.7427384313171208e-10\n",
      "715 1.7049204318768358e-10\n",
      "716 1.6679356195852312e-10\n",
      "717 1.6317654612314774e-10\n",
      "718 1.596391837254932e-10\n",
      "719 1.5617970324275017e-10\n",
      "720 1.5279637268888372e-10\n",
      "721 1.494874987465452e-10\n",
      "722 1.4625142589769518e-10\n",
      "723 1.430865355736232e-10\n",
      "724 1.3999124534777704e-10\n",
      "725 1.3696400813048906e-10\n",
      "726 1.3400331135446867e-10\n",
      "727 1.3110767625323333e-10\n",
      "728 1.282756570740886e-10\n",
      "729 1.2550584034156378e-10\n",
      "730 1.2279684415641093e-10\n",
      "731 1.2014731747428408e-10\n",
      "732 1.1755593943866426e-10\n",
      "733 1.1502141867250911e-10\n",
      "734 1.1254249266703935e-10\n",
      "735 1.1011792709269845e-10\n",
      "736 1.0774651521111323e-10\n",
      "737 1.0542707720981677e-10\n",
      "738 1.0315845966707883e-10\n",
      "739 1.0093953488929985e-10\n",
      "740 9.876920040096191e-11\n",
      "741 9.66463783320995e-11\n",
      "742 9.457001490430201e-11\n",
      "743 9.253907987466982e-11\n",
      "744 9.055256600740473e-11\n",
      "745 8.860948857250622e-11\n",
      "746 8.670888482165703e-11\n",
      "747 8.484981353458108e-11\n",
      "748 8.303135449368654e-11\n",
      "749 8.125260803380287e-11\n",
      "750 7.951269460164183e-11\n",
      "751 7.781075426677928e-11\n",
      "752 7.614594631196967e-11\n",
      "753 7.451744879559745e-11\n",
      "754 7.292445813156293e-11\n",
      "755 7.136618866833136e-11\n",
      "756 6.984187230264482e-11\n",
      "757 6.835075808279411e-11\n",
      "758 6.689211182310178e-11\n",
      "759 6.546521571869791e-11\n",
      "760 6.406936799491831e-11\n",
      "761 6.270388254182131e-11\n",
      "762 6.136808855756963e-11\n",
      "763 6.006133021575991e-11\n",
      "764 5.87829663264948e-11\n",
      "765 5.753236999470779e-11\n",
      "766 5.630892832811374e-11\n",
      "767 5.5112042093520103e-11\n",
      "768 5.3941125441519704e-11\n",
      "769 5.279560557012323e-11\n",
      "770 5.167492246749579e-11\n",
      "771 5.05785286001252e-11\n",
      "772 4.950588864936812e-11\n",
      "773 4.845647922856644e-11\n",
      "774 4.742978862001704e-11\n",
      "775 4.642531650711981e-11\n",
      "776 4.544257372702804e-11\n",
      "777 4.448108201978806e-11\n",
      "778 4.354037377340565e-11\n",
      "779 4.261999180283803e-11\n",
      "780 4.1719489092385193e-11\n",
      "781 4.083842860077467e-11\n",
      "782 3.997638299894847e-11\n",
      "783 3.91329344893649e-11\n",
      "784 3.8307674558446915e-11\n",
      "785 3.7500203794889556e-11\n",
      "786 3.671013167329837e-11\n",
      "787 3.593707635755697e-11\n",
      "788 3.5180664506019413e-11\n",
      "789 3.4440531074203945e-11\n",
      "790 3.3716319150203464e-11\n",
      "791 3.3007679739359825e-11\n",
      "792 3.231427161813645e-11\n",
      "793 3.1635761141592333e-11\n",
      "794 3.0971822081262827e-11\n",
      "795 3.032213545285198e-11\n",
      "796 2.968638935689107e-11\n",
      "797 2.9064278829751556e-11\n",
      "798 2.8455505662637303e-11\n",
      "799 2.785977828192026e-11\n",
      "800 2.7276811578189163e-11\n",
      "801 2.6706326766618383e-11\n",
      "802 2.6148051251472843e-11\n",
      "803 2.5601718478666192e-11\n",
      "804 2.5067067807513402e-11\n",
      "805 2.4543844374431433e-11\n",
      "806 2.403179896521155e-11\n",
      "807 2.3530687885793252e-11\n",
      "808 2.3040272842751035e-11\n",
      "809 2.2560320822203872e-11\n",
      "810 2.209060396254343e-11\n",
      "811 2.1630899453108562e-11\n",
      "812 2.118098941467022e-11\n",
      "813 2.074066078370916e-11\n",
      "814 2.0309705211729977e-11\n",
      "815 1.9887918959185473e-11\n",
      "816 1.9475102786944476e-11\n",
      "817 1.9071061865282274e-11\n",
      "818 1.8675605665408648e-11\n",
      "819 1.8288547869114828e-11\n",
      "820 1.7909706270537805e-11\n",
      "821 1.7538902688880565e-11\n",
      "822 1.7175962873494708e-11\n",
      "823 1.68207164215106e-11\n",
      "824 1.6472996688808285e-11\n",
      "825 1.6132640702894065e-11\n",
      "826 1.5799489089048273e-11\n",
      "827 1.547338597797124e-11\n",
      "828 1.5154178941773577e-11\n",
      "829 1.4841718908502186e-11\n",
      "830 1.4535860083804334e-11\n",
      "831 1.4236459887610503e-11\n",
      "832 1.3943378875453817e-11\n",
      "833 1.3656480669571607e-11\n",
      "834 1.3375631894539558e-11\n",
      "835 1.310070210392911e-11\n",
      "836 1.2831563718226079e-11\n",
      "837 1.256809196458384e-11\n",
      "838 1.2310164804820816e-11\n",
      "839 1.2057662883982869e-11\n",
      "840 1.1810469467098787e-11\n",
      "841 1.1568470377155142e-11\n",
      "842 1.133155394670857e-11\n",
      "843 1.1099610950096288e-11\n",
      "844 1.0872534559580662e-11\n",
      "845 1.0650220289278794e-11\n",
      "846 1.0432565938970267e-11\n",
      "847 1.0219471547082645e-11\n",
      "848 1.0010839341577123e-11\n",
      "849 9.806573685012794e-12\n",
      "850 9.60658103754158e-12\n",
      "851 9.410769899959142e-12\n",
      "852 9.21905077799242e-12\n",
      "853 9.031336123670186e-12\n",
      "854 8.847540311452258e-12\n",
      "855 8.66757957529143e-12\n",
      "856 8.491371987402354e-12\n",
      "857 8.31883739811531e-12\n",
      "858 8.149897410654768e-12\n",
      "859 7.984475335391313e-12\n",
      "860 7.822496153555554e-12\n",
      "861 7.663886481487522e-12\n",
      "862 7.508574533820594e-12\n",
      "863 7.35649008421907e-12\n",
      "864 7.207564438370301e-12\n",
      "865 7.061730392963988e-12\n",
      "866 6.9189222064932614e-12\n",
      "867 6.77907556662952e-12\n",
      "868 6.642127555891359e-12\n",
      "869 6.508016626769221e-12\n",
      "870 6.3766825620411835e-12\n",
      "871 6.248066455921922e-12\n",
      "872 6.122110678483834e-12\n",
      "873 5.9987588466381024e-12\n",
      "874 5.87795580156242e-12\n",
      "875 5.7596475788081875e-12\n",
      "876 5.643781381445272e-12\n",
      "877 5.530305555730147e-12\n",
      "878 5.4191695655028086e-12\n",
      "879 5.310323964594238e-12\n",
      "880 5.203720378839266e-12\n",
      "881 5.0993114780960494e-12\n",
      "882 4.997050953839768e-12\n",
      "883 4.8968934972671905e-12\n",
      "884 4.79879477772261e-12\n",
      "885 4.702711418859879e-12\n",
      "886 4.608600981637654e-12\n",
      "887 4.516421939253876e-12\n",
      "888 4.42613366032803e-12\n",
      "889 4.337696389815547e-12\n",
      "890 4.251071224638722e-12\n",
      "891 4.166220101219147e-12\n",
      "892 4.083105773195208e-12\n",
      "893 4.001691794845694e-12\n",
      "894 3.921942503306844e-12\n",
      "895 3.8438230005735154e-12\n",
      "896 3.767299138901849e-12\n",
      "897 3.6923375027014654e-12\n",
      "898 3.618905392762686e-12\n",
      "899 3.5469708091716868e-12\n",
      "900 3.4765024397810388e-12\n",
      "901 3.4074696401184148e-12\n",
      "902 3.3398424247067166e-12\n",
      "903 3.2735914483747557e-12\n",
      "904 3.2086879918520264e-12\n",
      "905 3.1451039502610383e-12\n",
      "906 3.082811819964814e-12\n",
      "907 3.0217846850360414e-12\n",
      "908 2.961996201514174e-12\n",
      "909 2.9034205890955107e-12\n",
      "910 2.846032617230184e-12\n",
      "911 2.78980759252619e-12\n",
      "912 2.73472134689101e-12\n",
      "913 2.680750228416603e-12\n",
      "914 2.6278710869920695e-12\n",
      "915 2.5760612657025183e-12\n",
      "916 2.5252985896273338e-12\n",
      "917 2.475561353105249e-12\n",
      "918 2.426828312819345e-12\n",
      "919 2.3790786773362243e-12\n",
      "920 2.332292095253258e-12\n",
      "921 2.2864486465900443e-12\n",
      "922 2.241528832848293e-12\n",
      "923 2.1975135715775653e-12\n",
      "924 2.1543841812451033e-12\n",
      "925 2.1121223772441647e-12\n",
      "926 2.070710261421773e-12\n",
      "927 2.0301303139442777e-12\n",
      "928 1.9903653852786706e-12\n",
      "929 1.951398689033593e-12\n",
      "930 1.913213791403821e-12\n",
      "931 1.875794607876206e-12\n",
      "932 1.8391253893816406e-12\n",
      "933 1.8031907232859026e-12\n",
      "934 1.7679755190242753e-12\n",
      "935 1.7334650039446523e-12\n",
      "936 1.6996447170060657e-12\n",
      "937 1.6665005011092313e-12\n",
      "938 1.6340184969867194e-12\n",
      "939 1.6021851367534819e-12\n",
      "940 1.5709871375455575e-12\n",
      "941 1.5404114943076346e-12\n",
      "942 1.5104454767705624e-12\n",
      "943 1.4810766202534998e-12\n",
      "944 1.4522927213749476e-12\n",
      "945 1.4240818334035568e-12\n",
      "946 1.396432259008114e-12\n",
      "947 1.3693325459587736e-12\n",
      "948 1.3427714819621795e-12\n",
      "949 1.3167380885296872e-12\n",
      "950 1.2912216165721469e-12\n",
      "951 1.2662115421712543e-12\n",
      "952 1.241697560923412e-12\n",
      "953 1.2176695830074968e-12\n",
      "954 1.1941177290478237e-12\n",
      "955 1.1710323267240472e-12\n",
      "956 1.1484039034359272e-12\n",
      "957 1.1262231852554479e-12\n",
      "958 1.104481090897789e-12\n"
     ]
    },
    {
     "name": "stdout",
     "output_type": "stream",
     "text": [
      "959 1.083168727526294e-12\n",
      "960 1.0622773877915867e-12\n",
      "961 1.041798545124629e-12\n",
      "962 1.021723849051523e-12\n",
      "963 1.0020451246010537e-12\n",
      "964 9.827543646893148e-13\n",
      "965 9.638437281197607e-13\n",
      "966 9.453055374434185e-13\n",
      "967 9.271322732361319e-13\n",
      "968 9.093165722520779e-13\n",
      "969 8.9185122370389e-13\n",
      "970 8.747291655945148e-13\n",
      "971 8.579434816497771e-13\n",
      "972 8.414873993242801e-13\n",
      "973 8.253542851109413e-13\n",
      "974 8.095376432080367e-13\n",
      "975 7.940311107529668e-13\n",
      "976 7.788284574520154e-13\n",
      "977 7.639235797525913e-13\n",
      "978 7.493105015865881e-13\n",
      "979 7.349833680679984e-13\n",
      "980 7.209364464004311e-13\n",
      "981 7.071641203826049e-13\n",
      "982 6.936608902072408e-13\n",
      "983 6.804213682037539e-13\n",
      "984 6.674402781275e-13\n",
      "985 6.547124515227568e-13\n",
      "986 6.422328256732199e-13\n",
      "987 6.299964424051399e-13\n",
      "988 6.179984446499754e-13\n",
      "989 6.062340745956684e-13\n",
      "990 5.946986721628057e-13\n",
      "991 5.833876723945199e-13\n",
      "992 5.722966034178021e-13\n",
      "993 5.614210856143294e-13\n",
      "994 5.507568280929662e-13\n",
      "995 5.402996273349067e-13\n",
      "996 5.300453663014888e-13\n",
      "997 5.199900111630077e-13\n",
      "998 5.101296109018654e-13\n",
      "999 5.004602945581835e-13\n"
     ]
    }
   ],
   "source": [
    "from nnpde1 import nnpde1\n",
    "(psit,del_psi) = nnpde1(\n",
    "        Gf,             # 2-variable, 1st-order PDE IVP to solve\n",
    "        bcf,            # BC functions\n",
    "        bcdf,           # BC function derivatives\n",
    "        dG_dpsif,       # Partial of G wrt psi\n",
    "        del_Gf,         # Gradient of G\n",
    "        dG_ddel_psif,   # Partials of G wrt del psi\n",
    "        d2G_dpsi2f,     # 2nd partial wrt psi\n",
    "        d2G_ddel_psi_dpsif, # Cross-partials\n",
    "        d2G_dpsi_ddel_psif, # Cross-partials\n",
    "        d2G_ddel_psi2f, # 2nd partial wrt del psi\n",
    "        x,              # Training points as pairs\n",
    "        nhid = 10,      # Node count in hidden layer\n",
    "        maxepochs = 1000, # Max training epochs\n",
    "        eta = 0.01,     # Learning rate\n",
    "        debug = False,\n",
    "        verbose = True\n",
    "    )"
   ]
  },
  {
   "cell_type": "markdown",
   "metadata": {},
   "source": [
    "Compare the computed values with the analytical values."
   ]
  },
  {
   "cell_type": "code",
   "execution_count": 40,
   "metadata": {},
   "outputs": [],
   "source": [
    "def psiaf(xy):\n",
    "    (x, y) = xy\n",
    "    return x*y + 1"
   ]
  },
  {
   "cell_type": "code",
   "execution_count": 41,
   "metadata": {},
   "outputs": [],
   "source": [
    "def dpsia_dxf(xy):\n",
    "    (x, y) = xy\n",
    "    return y"
   ]
  },
  {
   "cell_type": "code",
   "execution_count": 42,
   "metadata": {},
   "outputs": [],
   "source": [
    "def dpsia_dyf(xy):\n",
    "    (x, y) = xy\n",
    "    return x"
   ]
  },
  {
   "cell_type": "code",
   "execution_count": 43,
   "metadata": {},
   "outputs": [],
   "source": [
    "del_psiaf = ( dpsia_dxf, dpsia_dyf )"
   ]
  },
  {
   "cell_type": "code",
   "execution_count": 44,
   "metadata": {},
   "outputs": [],
   "source": [
    "psia = np.zeros(len(x))\n",
    "for i in range(len(x)):\n",
    "    psia[i] = psiaf(x[i])"
   ]
  },
  {
   "cell_type": "code",
   "execution_count": 45,
   "metadata": {},
   "outputs": [],
   "source": [
    "del_psia = np.zeros((len(x), len(x[1])))\n",
    "for i in range(len(x)):\n",
    "    for j in range(len(x[0])):\n",
    "        del_psia[i][j] = del_psiaf[j](x[i])"
   ]
  },
  {
   "cell_type": "markdown",
   "metadata": {},
   "source": [
    "Compute the RMS error of the computed solution and its partial derivatives."
   ]
  },
  {
   "cell_type": "code",
   "execution_count": 46,
   "metadata": {},
   "outputs": [],
   "source": [
    "from math import sqrt\n",
    "psi_err = psit - psia\n",
    "rmse_psi = sqrt(sum(psi_err**2) / len(x))"
   ]
  },
  {
   "cell_type": "code",
   "execution_count": 47,
   "metadata": {},
   "outputs": [],
   "source": [
    "del_psi_err = del_psi - del_psia\n",
    "rmse_del_psi = np.zeros(len(x[0]))\n",
    "e2sum = np.zeros(len(x[0]))\n",
    "for j in range(len(x[0])):\n",
    "    for i in range(len(x)):\n",
    "        e2sum[j] += del_psi_err[i][j]**2\n",
    "    rmse_del_psi[j] = sqrt(e2sum[j] / len(x))"
   ]
  },
  {
   "cell_type": "markdown",
   "metadata": {},
   "source": [
    "Compare the results."
   ]
  },
  {
   "cell_type": "code",
   "execution_count": 48,
   "metadata": {},
   "outputs": [
    {
     "name": "stdout",
     "output_type": "stream",
     "text": [
      "    x        y      psia     psit   dpsia_dx dpsia_dy dpsit_dx dpsit_dy\n",
      "0.000000 0.000000 1.000000 1.000000 0.000000 0.000000 0.000000 0.000000\n",
      "0.200000 0.000000 1.000000 1.000000 0.000000 0.000000 0.200000 0.299179\n",
      "0.400000 0.000000 1.000000 1.000000 0.000000 0.000000 0.400000 0.399993\n",
      "0.600000 0.000000 1.000000 1.000000 0.000000 0.000000 0.600000 0.599997\n",
      "0.800000 0.000000 1.000000 1.000000 0.000000 0.000000 0.800000 0.800000\n",
      "0.000000 0.200000 1.000000 1.000000 0.200000 0.270528 0.000000 0.000000\n",
      "0.200000 0.200000 1.040000 1.039999 0.200000 0.199972 0.200000 0.199972\n",
      "0.400000 0.200000 1.080000 1.080000 0.200000 0.200003 0.400000 0.400002\n",
      "0.600000 0.200000 1.120000 1.120000 0.200000 0.200000 0.600000 0.600000\n",
      "0.800000 0.200000 1.160000 1.160000 0.200000 0.200000 0.800000 0.800000\n",
      "0.000000 0.400000 1.000000 1.000000 0.400000 0.399996 0.000000 0.000000\n",
      "0.200000 0.400000 1.080000 1.080000 0.400000 0.400001 0.200000 0.200002\n",
      "0.400000 0.400000 1.160000 1.160000 0.400000 0.400000 0.400000 0.400000\n",
      "0.600000 0.400000 1.240000 1.240000 0.400000 0.400000 0.600000 0.600000\n",
      "0.800000 0.400000 1.320000 1.320000 0.400000 0.400000 0.800000 0.800000\n",
      "0.000000 0.600000 1.000000 1.000000 0.600000 0.599999 0.000000 0.000000\n",
      "0.200000 0.600000 1.120000 1.120000 0.600000 0.600000 0.200000 0.200000\n",
      "0.400000 0.600000 1.240000 1.240000 0.600000 0.600000 0.400000 0.400000\n",
      "0.600000 0.600000 1.360000 1.360000 0.600000 0.600000 0.600000 0.600000\n",
      "0.800000 0.600000 1.480000 1.480000 0.600000 0.600000 0.800000 0.800000\n",
      "0.000000 0.800000 1.000000 1.000000 0.800000 0.800000 0.000000 0.000000\n",
      "0.200000 0.800000 1.160000 1.160000 0.800000 0.800000 0.200000 0.200000\n",
      "0.400000 0.800000 1.320000 1.320000 0.800000 0.800000 0.400000 0.400000\n",
      "0.600000 0.800000 1.480000 1.480000 0.800000 0.800000 0.600000 0.600000\n",
      "0.800000 0.800000 1.640000 1.640000 0.800000 0.800000 0.800000 0.800000\n",
      "RMSE      0.000000          0.014106     0.019836\n"
     ]
    }
   ],
   "source": [
    "print('    x        y      psia     psit   dpsia_dx dpsia_dy dpsit_dx dpsit_dy')\n",
    "for i in range(len(psia)):\n",
    "    print('%.6f %.6f %.6f %.6f %.6f %.6f %.6f %.6f' %\n",
    "          (x[i][0], x[i][1],\n",
    "           psia[i], psit[i],\n",
    "           del_psia[i][0], del_psi[i][0],\n",
    "           del_psia[i][1], del_psi[i][1])\n",
    "        )\n",
    "print('RMSE      %f          %f     %f' % \n",
    "      (rmse_psi, rmse_del_psi[0], rmse_del_psi[1]))"
   ]
  },
  {
   "cell_type": "code",
   "execution_count": null,
   "metadata": {},
   "outputs": [],
   "source": []
  }
 ],
 "metadata": {
  "kernelspec": {
   "display_name": "Python 3",
   "language": "python",
   "name": "python3"
  },
  "language_info": {
   "codemirror_mode": {
    "name": "ipython",
    "version": 3
   },
   "file_extension": ".py",
   "mimetype": "text/x-python",
   "name": "python",
   "nbconvert_exporter": "python",
   "pygments_lexer": "ipython3",
   "version": "3.6.4"
  }
 },
 "nbformat": 4,
 "nbformat_minor": 2
}
